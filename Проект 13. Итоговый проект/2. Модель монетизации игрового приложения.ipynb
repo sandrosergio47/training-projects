{
 "cells": [
  {
   "cell_type": "markdown",
   "id": "3edbb2fc",
   "metadata": {
    "toc": true
   },
   "source": [
    "<h1>Содержание<span class=\"tocSkip\"></span></h1>\n",
    "<div class=\"toc\"><ul class=\"toc-item\"><li><span><a href=\"#Загрузка-данных\" data-toc-modified-id=\"Загрузка-данных-1\"><span class=\"toc-item-num\">1&nbsp;&nbsp;</span>Загрузка данных</a></span></li><li><span><a href=\"#Предобработка-данных\" data-toc-modified-id=\"Предобработка-данных-2\"><span class=\"toc-item-num\">2&nbsp;&nbsp;</span>Предобработка данных</a></span><ul class=\"toc-item\"><li><span><a href=\"#Обработка-пропущенных-значений\" data-toc-modified-id=\"Обработка-пропущенных-значений-2.1\"><span class=\"toc-item-num\">2.1&nbsp;&nbsp;</span>Обработка пропущенных значений</a></span></li><li><span><a href=\"#Преобразование-значений\" data-toc-modified-id=\"Преобразование-значений-2.2\"><span class=\"toc-item-num\">2.2&nbsp;&nbsp;</span>Преобразование значений</a></span></li><li><span><a href=\"#Преобразование-типов-данных\" data-toc-modified-id=\"Преобразование-типов-данных-2.3\"><span class=\"toc-item-num\">2.3&nbsp;&nbsp;</span>Преобразование типов данных</a></span></li><li><span><a href=\"#Проверка-на-явные-дубликаты\" data-toc-modified-id=\"Проверка-на-явные-дубликаты-2.4\"><span class=\"toc-item-num\">2.4&nbsp;&nbsp;</span>Проверка на явные дубликаты</a></span></li></ul></li><li><span><a href=\"#Исследовательский-анализ\" data-toc-modified-id=\"Исследовательский-анализ-3\"><span class=\"toc-item-num\">3&nbsp;&nbsp;</span>Исследовательский анализ</a></span><ul class=\"toc-item\"><li><span><a href=\"#Создание-пользовательских-профилей\" data-toc-modified-id=\"Создание-пользовательских-профилей-3.1\"><span class=\"toc-item-num\">3.1&nbsp;&nbsp;</span>Создание пользовательских профилей</a></span></li><li><span><a href=\"#Расчет-стоимости-привлечения-пользователей\" data-toc-modified-id=\"Расчет-стоимости-привлечения-пользователей-3.2\"><span class=\"toc-item-num\">3.2&nbsp;&nbsp;</span>Расчет стоимости привлечения пользователей</a></span></li><li><span><a href=\"#Категорирование-пользователей\" data-toc-modified-id=\"Категорирование-пользователей-3.3\"><span class=\"toc-item-num\">3.3&nbsp;&nbsp;</span>Категорирование пользователей</a></span></li><li><span><a href=\"#Расчет-оттока-пользователей\" data-toc-modified-id=\"Расчет-оттока-пользователей-3.4\"><span class=\"toc-item-num\">3.4&nbsp;&nbsp;</span>Расчет оттока пользователей</a></span></li><li><span><a href=\"#Анализ-влияния-событий-на-совершение-целевого-события\" data-toc-modified-id=\"Анализ-влияния-событий-на-совершение-целевого-события-3.5\"><span class=\"toc-item-num\">3.5&nbsp;&nbsp;</span>Анализ влияния событий на совершение целевого события</a></span></li></ul></li><li><span><a href=\"#Проверка-гипотез\" data-toc-modified-id=\"Проверка-гипотез-4\"><span class=\"toc-item-num\">4&nbsp;&nbsp;</span>Проверка гипотез</a></span><ul class=\"toc-item\"><li><span><a href=\"#Гипотеза-1\" data-toc-modified-id=\"Гипотеза-1-4.1\"><span class=\"toc-item-num\">4.1&nbsp;&nbsp;</span>Гипотеза 1</a></span></li><li><span><a href=\"#Гипотеза-2\" data-toc-modified-id=\"Гипотеза-2-4.2\"><span class=\"toc-item-num\">4.2&nbsp;&nbsp;</span>Гипотеза 2</a></span></li></ul></li><li><span><a href=\"#Модель-монетизации-игрового-приложения\" data-toc-modified-id=\"Модель-монетизации-игрового-приложения-5\"><span class=\"toc-item-num\">5&nbsp;&nbsp;</span>Модель монетизации игрового приложения</a></span><ul class=\"toc-item\"><li><span><a href=\"#Расчет-модели-монетизации-игрового-приложения\" data-toc-modified-id=\"Расчет-модели-монетизации-игрового-приложения-5.1\"><span class=\"toc-item-num\">5.1&nbsp;&nbsp;</span>Расчет модели монетизации игрового приложения</a></span></li></ul></li><li><span><a href=\"#Итоговый-вывод\" data-toc-modified-id=\"Итоговый-вывод-6\"><span class=\"toc-item-num\">6&nbsp;&nbsp;</span>Итоговый вывод</a></span></li></ul></div>"
   ]
  },
  {
   "cell_type": "markdown",
   "id": "48ef208b",
   "metadata": {},
   "source": [
    "# Задачи проекта"
   ]
  },
  {
   "cell_type": "markdown",
   "id": "a598f496",
   "metadata": {},
   "source": [
    "- На основе предоставленных данных необходимо сформировать модель монетизации игрового приложения. \n",
    "- Выбрать оптимальное время для показа рекламы. \n",
    "\n",
    "Цель модели: **окупить затраты на рекламу**. Прибыль с одного показа рекламы составляет **0.07**."
   ]
  },
  {
   "cell_type": "markdown",
   "id": "7fa8a3fe",
   "metadata": {},
   "source": [
    "# Материалы"
   ]
  },
  {
   "cell_type": "markdown",
   "id": "14aebf66",
   "metadata": {},
   "source": [
    "[Презентация](https://disk.yandex.ru/i/_NLIVHPjC618ag)\n",
    "\n",
    "[Дашборд](https://public.tableau.com/views/additiontotheproject_16918672799590/additiontotheproject?:language=en-US&publish=yes&:display_count=n&:origin=viz_share_link)"
   ]
  },
  {
   "cell_type": "markdown",
   "id": "9ae0260f",
   "metadata": {},
   "source": [
    "## Загрузка данных"
   ]
  },
  {
   "cell_type": "markdown",
   "id": "55c6373a",
   "metadata": {},
   "source": [
    "Первоначально импортируем необходимые библиотеки, сохраняем их в переменные, улучшаем качество изображения графиков и т.д."
   ]
  },
  {
   "cell_type": "code",
   "execution_count": 1,
   "id": "42ff09ae",
   "metadata": {},
   "outputs": [],
   "source": [
    "import pandas as pd\n",
    "import numpy as np\n",
    "import matplotlib.pyplot as plt\n",
    "from datetime import datetime, timedelta\n",
    "from scipy import stats as st\n",
    "\n",
    "import warnings\n",
    "\n",
    "def fxn():\n",
    "    warnings.warn(\"deprecated\", DeprecationWarning)\n",
    "\n",
    "with warnings.catch_warnings():\n",
    "    warnings.simplefilter(\"ignore\")\n",
    "    fxn() # убираем предупреждения\n",
    "    \n",
    "%config InlineBackend.figure_format = 'retina' # улучшение четкости изображения\n",
    "\n",
    "pd.set_option('display.max_columns', None) # уберем ограничение на вывод количества столбцов\n",
    "pd.set_option(\"max_colwidth\", 110) # установим максимальную ширину символов в столбце"
   ]
  },
  {
   "cell_type": "markdown",
   "id": "44f36650",
   "metadata": {},
   "source": [
    "Сохраним в переменные и выведем первые десять строк датафреймов."
   ]
  },
  {
   "cell_type": "code",
   "execution_count": 2,
   "id": "7dd9e43b",
   "metadata": {},
   "outputs": [
    {
     "data": {
      "text/html": [
       "<div>\n",
       "<style scoped>\n",
       "    .dataframe tbody tr th:only-of-type {\n",
       "        vertical-align: middle;\n",
       "    }\n",
       "\n",
       "    .dataframe tbody tr th {\n",
       "        vertical-align: top;\n",
       "    }\n",
       "\n",
       "    .dataframe thead th {\n",
       "        text-align: right;\n",
       "    }\n",
       "</style>\n",
       "<table border=\"1\" class=\"dataframe\">\n",
       "  <thead>\n",
       "    <tr style=\"text-align: right;\">\n",
       "      <th></th>\n",
       "      <th>event_datetime</th>\n",
       "      <th>event</th>\n",
       "      <th>building_type</th>\n",
       "      <th>user_id</th>\n",
       "      <th>project_type</th>\n",
       "    </tr>\n",
       "  </thead>\n",
       "  <tbody>\n",
       "    <tr>\n",
       "      <td>0</td>\n",
       "      <td>2020-05-04 00:00:01</td>\n",
       "      <td>building</td>\n",
       "      <td>assembly_shop</td>\n",
       "      <td>55e92310-cb8e-4754-b622-597e124b03de</td>\n",
       "      <td>NaN</td>\n",
       "    </tr>\n",
       "    <tr>\n",
       "      <td>1</td>\n",
       "      <td>2020-05-04 00:00:03</td>\n",
       "      <td>building</td>\n",
       "      <td>assembly_shop</td>\n",
       "      <td>c07b1c10-f477-44dc-81dc-ec82254b1347</td>\n",
       "      <td>NaN</td>\n",
       "    </tr>\n",
       "    <tr>\n",
       "      <td>2</td>\n",
       "      <td>2020-05-04 00:00:16</td>\n",
       "      <td>building</td>\n",
       "      <td>assembly_shop</td>\n",
       "      <td>6edd42cc-e753-4ff6-a947-2107cd560710</td>\n",
       "      <td>NaN</td>\n",
       "    </tr>\n",
       "    <tr>\n",
       "      <td>3</td>\n",
       "      <td>2020-05-04 00:00:16</td>\n",
       "      <td>building</td>\n",
       "      <td>assembly_shop</td>\n",
       "      <td>92c69003-d60a-444a-827f-8cc51bf6bf4c</td>\n",
       "      <td>NaN</td>\n",
       "    </tr>\n",
       "    <tr>\n",
       "      <td>4</td>\n",
       "      <td>2020-05-04 00:00:35</td>\n",
       "      <td>building</td>\n",
       "      <td>assembly_shop</td>\n",
       "      <td>cdc6bb92-0ccb-4490-9866-ef142f09139d</td>\n",
       "      <td>NaN</td>\n",
       "    </tr>\n",
       "    <tr>\n",
       "      <td>5</td>\n",
       "      <td>2020-05-04 00:00:36</td>\n",
       "      <td>building</td>\n",
       "      <td>assembly_shop</td>\n",
       "      <td>06c592ca-902d-42bb-bac3-75ce84cca159</td>\n",
       "      <td>NaN</td>\n",
       "    </tr>\n",
       "    <tr>\n",
       "      <td>6</td>\n",
       "      <td>2020-05-04 00:00:36</td>\n",
       "      <td>building</td>\n",
       "      <td>assembly_shop</td>\n",
       "      <td>4fe0f101-694b-4e31-9740-d1d87f7208ea</td>\n",
       "      <td>NaN</td>\n",
       "    </tr>\n",
       "    <tr>\n",
       "      <td>7</td>\n",
       "      <td>2020-05-04 00:00:38</td>\n",
       "      <td>building</td>\n",
       "      <td>assembly_shop</td>\n",
       "      <td>beb8ca15-33a9-465d-b47b-89aa96f89c9a</td>\n",
       "      <td>NaN</td>\n",
       "    </tr>\n",
       "    <tr>\n",
       "      <td>8</td>\n",
       "      <td>2020-05-04 00:00:44</td>\n",
       "      <td>building</td>\n",
       "      <td>assembly_shop</td>\n",
       "      <td>65a92713-5969-48b1-8945-bfefa5063887</td>\n",
       "      <td>NaN</td>\n",
       "    </tr>\n",
       "    <tr>\n",
       "      <td>9</td>\n",
       "      <td>2020-05-04 00:01:33</td>\n",
       "      <td>building</td>\n",
       "      <td>assembly_shop</td>\n",
       "      <td>fa352362-d258-472c-b295-2796ccc39fa3</td>\n",
       "      <td>NaN</td>\n",
       "    </tr>\n",
       "  </tbody>\n",
       "</table>\n",
       "</div>"
      ],
      "text/plain": [
       "        event_datetime     event  building_type  \\\n",
       "0  2020-05-04 00:00:01  building  assembly_shop   \n",
       "1  2020-05-04 00:00:03  building  assembly_shop   \n",
       "2  2020-05-04 00:00:16  building  assembly_shop   \n",
       "3  2020-05-04 00:00:16  building  assembly_shop   \n",
       "4  2020-05-04 00:00:35  building  assembly_shop   \n",
       "5  2020-05-04 00:00:36  building  assembly_shop   \n",
       "6  2020-05-04 00:00:36  building  assembly_shop   \n",
       "7  2020-05-04 00:00:38  building  assembly_shop   \n",
       "8  2020-05-04 00:00:44  building  assembly_shop   \n",
       "9  2020-05-04 00:01:33  building  assembly_shop   \n",
       "\n",
       "                                user_id project_type  \n",
       "0  55e92310-cb8e-4754-b622-597e124b03de          NaN  \n",
       "1  c07b1c10-f477-44dc-81dc-ec82254b1347          NaN  \n",
       "2  6edd42cc-e753-4ff6-a947-2107cd560710          NaN  \n",
       "3  92c69003-d60a-444a-827f-8cc51bf6bf4c          NaN  \n",
       "4  cdc6bb92-0ccb-4490-9866-ef142f09139d          NaN  \n",
       "5  06c592ca-902d-42bb-bac3-75ce84cca159          NaN  \n",
       "6  4fe0f101-694b-4e31-9740-d1d87f7208ea          NaN  \n",
       "7  beb8ca15-33a9-465d-b47b-89aa96f89c9a          NaN  \n",
       "8  65a92713-5969-48b1-8945-bfefa5063887          NaN  \n",
       "9  fa352362-d258-472c-b295-2796ccc39fa3          NaN  "
      ]
     },
     "metadata": {},
     "output_type": "display_data"
    },
    {
     "name": "stdout",
     "output_type": "stream",
     "text": [
      "<class 'pandas.core.frame.DataFrame'>\n",
      "RangeIndex: 135640 entries, 0 to 135639\n",
      "Data columns (total 5 columns):\n",
      "event_datetime    135640 non-null object\n",
      "event             135640 non-null object\n",
      "building_type     127957 non-null object\n",
      "user_id           135640 non-null object\n",
      "project_type      1866 non-null object\n",
      "dtypes: object(5)\n",
      "memory usage: 5.2+ MB\n"
     ]
    }
   ],
   "source": [
    "# чтение файла с данными и сохранение в переменную 'game_actions'\n",
    "try:\n",
    "    game_actions = pd.read_csv('/datasets/game_actions.csv') \n",
    "except:\n",
    "    game_actions = pd.read_csv(r'D:/datasets/game_actions.csv')\n",
    "\n",
    "display(game_actions.head(10))\n",
    "\n",
    "game_actions.info()"
   ]
  },
  {
   "cell_type": "code",
   "execution_count": 3,
   "id": "e07618c1",
   "metadata": {},
   "outputs": [
    {
     "data": {
      "text/html": [
       "<div>\n",
       "<style scoped>\n",
       "    .dataframe tbody tr th:only-of-type {\n",
       "        vertical-align: middle;\n",
       "    }\n",
       "\n",
       "    .dataframe tbody tr th {\n",
       "        vertical-align: top;\n",
       "    }\n",
       "\n",
       "    .dataframe thead th {\n",
       "        text-align: right;\n",
       "    }\n",
       "</style>\n",
       "<table border=\"1\" class=\"dataframe\">\n",
       "  <thead>\n",
       "    <tr style=\"text-align: right;\">\n",
       "      <th></th>\n",
       "      <th>user_id</th>\n",
       "      <th>source</th>\n",
       "    </tr>\n",
       "  </thead>\n",
       "  <tbody>\n",
       "    <tr>\n",
       "      <td>0</td>\n",
       "      <td>0001f83c-c6ac-4621-b7f0-8a28b283ac30</td>\n",
       "      <td>facebook_ads</td>\n",
       "    </tr>\n",
       "    <tr>\n",
       "      <td>1</td>\n",
       "      <td>00151b4f-ba38-44a8-a650-d7cf130a0105</td>\n",
       "      <td>yandex_direct</td>\n",
       "    </tr>\n",
       "    <tr>\n",
       "      <td>2</td>\n",
       "      <td>001aaea6-3d14-43f1-8ca8-7f48820f17aa</td>\n",
       "      <td>youtube_channel_reklama</td>\n",
       "    </tr>\n",
       "    <tr>\n",
       "      <td>3</td>\n",
       "      <td>001d39dc-366c-4021-9604-6a3b9ff01e25</td>\n",
       "      <td>instagram_new_adverts</td>\n",
       "    </tr>\n",
       "    <tr>\n",
       "      <td>4</td>\n",
       "      <td>002f508f-67b6-479f-814b-b05f00d4e995</td>\n",
       "      <td>facebook_ads</td>\n",
       "    </tr>\n",
       "    <tr>\n",
       "      <td>5</td>\n",
       "      <td>003b80c6-4164-4157-bb2a-03d0181d39c4</td>\n",
       "      <td>yandex_direct</td>\n",
       "    </tr>\n",
       "    <tr>\n",
       "      <td>6</td>\n",
       "      <td>003ee7e8-6356-4286-a715-62f22a18d2a1</td>\n",
       "      <td>instagram_new_adverts</td>\n",
       "    </tr>\n",
       "    <tr>\n",
       "      <td>7</td>\n",
       "      <td>004074f8-251a-4776-922c-8348dca1a2f6</td>\n",
       "      <td>facebook_ads</td>\n",
       "    </tr>\n",
       "    <tr>\n",
       "      <td>8</td>\n",
       "      <td>00440efd-aa50-4b4b-aae8-ffcd1782729d</td>\n",
       "      <td>facebook_ads</td>\n",
       "    </tr>\n",
       "    <tr>\n",
       "      <td>9</td>\n",
       "      <td>00464e5e-28ed-4be6-bf44-517ef7b3937b</td>\n",
       "      <td>yandex_direct</td>\n",
       "    </tr>\n",
       "  </tbody>\n",
       "</table>\n",
       "</div>"
      ],
      "text/plain": [
       "                                user_id                   source\n",
       "0  0001f83c-c6ac-4621-b7f0-8a28b283ac30             facebook_ads\n",
       "1  00151b4f-ba38-44a8-a650-d7cf130a0105            yandex_direct\n",
       "2  001aaea6-3d14-43f1-8ca8-7f48820f17aa  youtube_channel_reklama\n",
       "3  001d39dc-366c-4021-9604-6a3b9ff01e25    instagram_new_adverts\n",
       "4  002f508f-67b6-479f-814b-b05f00d4e995             facebook_ads\n",
       "5  003b80c6-4164-4157-bb2a-03d0181d39c4            yandex_direct\n",
       "6  003ee7e8-6356-4286-a715-62f22a18d2a1    instagram_new_adverts\n",
       "7  004074f8-251a-4776-922c-8348dca1a2f6             facebook_ads\n",
       "8  00440efd-aa50-4b4b-aae8-ffcd1782729d             facebook_ads\n",
       "9  00464e5e-28ed-4be6-bf44-517ef7b3937b            yandex_direct"
      ]
     },
     "metadata": {},
     "output_type": "display_data"
    },
    {
     "name": "stdout",
     "output_type": "stream",
     "text": [
      "<class 'pandas.core.frame.DataFrame'>\n",
      "RangeIndex: 13576 entries, 0 to 13575\n",
      "Data columns (total 2 columns):\n",
      "user_id    13576 non-null object\n",
      "source     13576 non-null object\n",
      "dtypes: object(2)\n",
      "memory usage: 212.2+ KB\n"
     ]
    }
   ],
   "source": [
    "# чтение файла с данными и сохранение в переменную 'user_source'\n",
    "try:\n",
    "    user_source = pd.read_csv('/datasets/user_source.csv') \n",
    "except:\n",
    "    user_source = pd.read_csv(r'D:/datasets/user_source.csv')\n",
    "\n",
    "display(user_source.head(10))\n",
    "\n",
    "user_source.info()"
   ]
  },
  {
   "cell_type": "code",
   "execution_count": 4,
   "id": "9895a4be",
   "metadata": {},
   "outputs": [
    {
     "data": {
      "text/html": [
       "<div>\n",
       "<style scoped>\n",
       "    .dataframe tbody tr th:only-of-type {\n",
       "        vertical-align: middle;\n",
       "    }\n",
       "\n",
       "    .dataframe tbody tr th {\n",
       "        vertical-align: top;\n",
       "    }\n",
       "\n",
       "    .dataframe thead th {\n",
       "        text-align: right;\n",
       "    }\n",
       "</style>\n",
       "<table border=\"1\" class=\"dataframe\">\n",
       "  <thead>\n",
       "    <tr style=\"text-align: right;\">\n",
       "      <th></th>\n",
       "      <th>source</th>\n",
       "      <th>day</th>\n",
       "      <th>cost</th>\n",
       "    </tr>\n",
       "  </thead>\n",
       "  <tbody>\n",
       "    <tr>\n",
       "      <td>0</td>\n",
       "      <td>facebook_ads</td>\n",
       "      <td>2020-05-03</td>\n",
       "      <td>935.882786</td>\n",
       "    </tr>\n",
       "    <tr>\n",
       "      <td>1</td>\n",
       "      <td>facebook_ads</td>\n",
       "      <td>2020-05-04</td>\n",
       "      <td>548.354480</td>\n",
       "    </tr>\n",
       "    <tr>\n",
       "      <td>2</td>\n",
       "      <td>facebook_ads</td>\n",
       "      <td>2020-05-05</td>\n",
       "      <td>260.185754</td>\n",
       "    </tr>\n",
       "    <tr>\n",
       "      <td>3</td>\n",
       "      <td>facebook_ads</td>\n",
       "      <td>2020-05-06</td>\n",
       "      <td>177.982200</td>\n",
       "    </tr>\n",
       "    <tr>\n",
       "      <td>4</td>\n",
       "      <td>facebook_ads</td>\n",
       "      <td>2020-05-07</td>\n",
       "      <td>111.766796</td>\n",
       "    </tr>\n",
       "    <tr>\n",
       "      <td>5</td>\n",
       "      <td>facebook_ads</td>\n",
       "      <td>2020-05-08</td>\n",
       "      <td>68.009276</td>\n",
       "    </tr>\n",
       "    <tr>\n",
       "      <td>6</td>\n",
       "      <td>facebook_ads</td>\n",
       "      <td>2020-05-09</td>\n",
       "      <td>38.723350</td>\n",
       "    </tr>\n",
       "    <tr>\n",
       "      <td>7</td>\n",
       "      <td>instagram_new_adverts</td>\n",
       "      <td>2020-05-03</td>\n",
       "      <td>943.204717</td>\n",
       "    </tr>\n",
       "    <tr>\n",
       "      <td>8</td>\n",
       "      <td>instagram_new_adverts</td>\n",
       "      <td>2020-05-04</td>\n",
       "      <td>502.925451</td>\n",
       "    </tr>\n",
       "    <tr>\n",
       "      <td>9</td>\n",
       "      <td>instagram_new_adverts</td>\n",
       "      <td>2020-05-05</td>\n",
       "      <td>313.970984</td>\n",
       "    </tr>\n",
       "  </tbody>\n",
       "</table>\n",
       "</div>"
      ],
      "text/plain": [
       "                  source         day        cost\n",
       "0           facebook_ads  2020-05-03  935.882786\n",
       "1           facebook_ads  2020-05-04  548.354480\n",
       "2           facebook_ads  2020-05-05  260.185754\n",
       "3           facebook_ads  2020-05-06  177.982200\n",
       "4           facebook_ads  2020-05-07  111.766796\n",
       "5           facebook_ads  2020-05-08   68.009276\n",
       "6           facebook_ads  2020-05-09   38.723350\n",
       "7  instagram_new_adverts  2020-05-03  943.204717\n",
       "8  instagram_new_adverts  2020-05-04  502.925451\n",
       "9  instagram_new_adverts  2020-05-05  313.970984"
      ]
     },
     "metadata": {},
     "output_type": "display_data"
    },
    {
     "name": "stdout",
     "output_type": "stream",
     "text": [
      "<class 'pandas.core.frame.DataFrame'>\n",
      "RangeIndex: 28 entries, 0 to 27\n",
      "Data columns (total 3 columns):\n",
      "source    28 non-null object\n",
      "day       28 non-null object\n",
      "cost      28 non-null float64\n",
      "dtypes: float64(1), object(2)\n",
      "memory usage: 800.0+ bytes\n"
     ]
    }
   ],
   "source": [
    "# чтение файла с данными и сохранение в переменную 'ad_costs'\n",
    "try:\n",
    "    ad_costs = pd.read_csv('/datasets/ad_costs.csv') \n",
    "except:\n",
    "    ad_costs = pd.read_csv(r'D:/datasets/ad_costs.csv')\n",
    "\n",
    "display(ad_costs.head(10))\n",
    "\n",
    "ad_costs.info()"
   ]
  },
  {
   "cell_type": "markdown",
   "id": "fefb207d",
   "metadata": {},
   "source": [
    "**Описание данных**\n",
    "\n",
    "**Таблица game_actions:**\n",
    "- `event_datetime` — время события;\n",
    "- `event` — одно из трёх событий: `building` - объект построен, `finished_stage_1` - первый уровень завершён, `project` - проект завершен;\n",
    "- `building_type` — один из трёх типов здания: `assembly_shop` - сборочный цех, `spaceport` - космопорт, `research_center` - исследовательский центр;\n",
    "- `user_id` — идентификатор пользователя;\n",
    "- `project_type` —  тип реализованного проекта.\n",
    "\n",
    "**Два датасета с информацией о рекламных активностях:**\n",
    "\n",
    "**user_source:**\n",
    "- `user_id` — идентификатор пользователя;\n",
    "- `source` — источников, с которого пришёл пользователь, установивший приложение.\n",
    "\n",
    "**ad_cost.csv:**\n",
    "- `day` — день, в который был совершен клик по объявлению;\n",
    "- `source` — источник трафика;\n",
    "- `cost` — стоимость кликов."
   ]
  },
  {
   "cell_type": "markdown",
   "id": "0d5a81e2",
   "metadata": {},
   "source": [
    "## Предобработка данных"
   ]
  },
  {
   "cell_type": "markdown",
   "id": "d6cc492c",
   "metadata": {},
   "source": [
    "### Обработка пропущенных значений"
   ]
  },
  {
   "cell_type": "markdown",
   "id": "5ee06961",
   "metadata": {},
   "source": [
    "В таблице **game_actions** есть столбцы с пропущенными значениями, посмотрим на процент пропусков."
   ]
  },
  {
   "cell_type": "code",
   "execution_count": 5,
   "id": "8507cc07",
   "metadata": {},
   "outputs": [
    {
     "data": {
      "text/html": [
       "<style  type=\"text/css\" >\n",
       "    #T_f8cc5cfa_e5d5_11ec_ada6_c858c04a58f2row0_col0 {\n",
       "            background-color:  #fff7fb;\n",
       "            color:  #000000;\n",
       "        }    #T_f8cc5cfa_e5d5_11ec_ada6_c858c04a58f2row1_col0 {\n",
       "            background-color:  #023858;\n",
       "            color:  #f1f1f1;\n",
       "        }</style><table id=\"T_f8cc5cfa_e5d5_11ec_ada6_c858c04a58f2\" ><thead>    <tr>        <th class=\"blank level0\" ></th>        <th class=\"col_heading level0 col0\" >0</th>    </tr></thead><tbody>\n",
       "                <tr>\n",
       "                        <th id=\"T_f8cc5cfa_e5d5_11ec_ada6_c858c04a58f2level0_row0\" class=\"row_heading level0 row0\" >building_type</th>\n",
       "                        <td id=\"T_f8cc5cfa_e5d5_11ec_ada6_c858c04a58f2row0_col0\" class=\"data row0 col0\" >5.66</td>\n",
       "            </tr>\n",
       "            <tr>\n",
       "                        <th id=\"T_f8cc5cfa_e5d5_11ec_ada6_c858c04a58f2level0_row1\" class=\"row_heading level0 row1\" >project_type</th>\n",
       "                        <td id=\"T_f8cc5cfa_e5d5_11ec_ada6_c858c04a58f2row1_col0\" class=\"data row1 col0\" >98.62</td>\n",
       "            </tr>\n",
       "    </tbody></table>"
      ],
      "text/plain": [
       "<pandas.io.formats.style.Styler at 0x27cc3a71088>"
      ]
     },
     "execution_count": 5,
     "metadata": {},
     "output_type": "execute_result"
    }
   ],
   "source": [
    "pd.DataFrame(round((game_actions[['building_type', 'project_type']].isna().mean()*100),2)).style.background_gradient()\n",
    "# посмотрим процент пропущенных значений в столбцах 'building_type' и 'project_type'"
   ]
  },
  {
   "cell_type": "markdown",
   "id": "405be7d1",
   "metadata": {},
   "source": [
    "**5.66%** пропущенных значений в столбце **building_type** и **98.62%** пропущенных значений в столбце **project_type**. Попробуем найти закономерность пропусков и заполнить их.\n",
    "\n",
    "Первоначально сгруппируем по столбцу **event** и посчитаем количество значений в столбцах **event** и **project_type**."
   ]
  },
  {
   "cell_type": "code",
   "execution_count": 6,
   "id": "dd8857bd",
   "metadata": {},
   "outputs": [
    {
     "data": {
      "text/html": [
       "<div>\n",
       "<style scoped>\n",
       "    .dataframe tbody tr th:only-of-type {\n",
       "        vertical-align: middle;\n",
       "    }\n",
       "\n",
       "    .dataframe tbody tr th {\n",
       "        vertical-align: top;\n",
       "    }\n",
       "\n",
       "    .dataframe thead th {\n",
       "        text-align: right;\n",
       "    }\n",
       "</style>\n",
       "<table border=\"1\" class=\"dataframe\">\n",
       "  <thead>\n",
       "    <tr style=\"text-align: right;\">\n",
       "      <th></th>\n",
       "      <th>event</th>\n",
       "      <th>project_type</th>\n",
       "    </tr>\n",
       "    <tr>\n",
       "      <th>event</th>\n",
       "      <th></th>\n",
       "      <th></th>\n",
       "    </tr>\n",
       "  </thead>\n",
       "  <tbody>\n",
       "    <tr>\n",
       "      <td>building</td>\n",
       "      <td>127957</td>\n",
       "      <td>0</td>\n",
       "    </tr>\n",
       "    <tr>\n",
       "      <td>finished_stage_1</td>\n",
       "      <td>5817</td>\n",
       "      <td>0</td>\n",
       "    </tr>\n",
       "    <tr>\n",
       "      <td>project</td>\n",
       "      <td>1866</td>\n",
       "      <td>1866</td>\n",
       "    </tr>\n",
       "  </tbody>\n",
       "</table>\n",
       "</div>"
      ],
      "text/plain": [
       "                   event  project_type\n",
       "event                                 \n",
       "building          127957             0\n",
       "finished_stage_1    5817             0\n",
       "project             1866          1866"
      ]
     },
     "execution_count": 6,
     "metadata": {},
     "output_type": "execute_result"
    }
   ],
   "source": [
    "game_actions.groupby('event')[['event', 'project_type']].count() # сгруппируем"
   ]
  },
  {
   "cell_type": "markdown",
   "id": "335263c0",
   "metadata": {},
   "source": [
    "**1866** значений в столбце **project_type** заполнены только тогда, когда значение столбца **event** равно **project**. Из-за чего мы можем сделать вывод, что события **building** и **finished_stage_1** означает, что проект не закончен и мы можем заменить все пропущенные значения в столбце **project_type** на **not_finished**."
   ]
  },
  {
   "cell_type": "code",
   "execution_count": 7,
   "id": "253dbcba",
   "metadata": {},
   "outputs": [],
   "source": [
    "game_actions['project_type'] = game_actions['project_type'].fillna('not_finished') # заменим"
   ]
  },
  {
   "cell_type": "markdown",
   "id": "0df6c6ae",
   "metadata": {},
   "source": [
    "Попробуем найти закономерность пропусков в столбце **event**. Сгруппируем по столбцу **event** и посчитаем количество значений в столбцах **event** и **bulding_type**."
   ]
  },
  {
   "cell_type": "code",
   "execution_count": 8,
   "id": "55b92876",
   "metadata": {},
   "outputs": [
    {
     "data": {
      "text/html": [
       "<div>\n",
       "<style scoped>\n",
       "    .dataframe tbody tr th:only-of-type {\n",
       "        vertical-align: middle;\n",
       "    }\n",
       "\n",
       "    .dataframe tbody tr th {\n",
       "        vertical-align: top;\n",
       "    }\n",
       "\n",
       "    .dataframe thead th {\n",
       "        text-align: right;\n",
       "    }\n",
       "</style>\n",
       "<table border=\"1\" class=\"dataframe\">\n",
       "  <thead>\n",
       "    <tr style=\"text-align: right;\">\n",
       "      <th></th>\n",
       "      <th>event</th>\n",
       "      <th>building_type</th>\n",
       "    </tr>\n",
       "    <tr>\n",
       "      <th>event</th>\n",
       "      <th></th>\n",
       "      <th></th>\n",
       "    </tr>\n",
       "  </thead>\n",
       "  <tbody>\n",
       "    <tr>\n",
       "      <td>building</td>\n",
       "      <td>127957</td>\n",
       "      <td>127957</td>\n",
       "    </tr>\n",
       "    <tr>\n",
       "      <td>finished_stage_1</td>\n",
       "      <td>5817</td>\n",
       "      <td>0</td>\n",
       "    </tr>\n",
       "    <tr>\n",
       "      <td>project</td>\n",
       "      <td>1866</td>\n",
       "      <td>0</td>\n",
       "    </tr>\n",
       "  </tbody>\n",
       "</table>\n",
       "</div>"
      ],
      "text/plain": [
       "                   event  building_type\n",
       "event                                  \n",
       "building          127957         127957\n",
       "finished_stage_1    5817              0\n",
       "project             1866              0"
      ]
     },
     "execution_count": 8,
     "metadata": {},
     "output_type": "execute_result"
    }
   ],
   "source": [
    "game_actions.groupby('event')[['event', 'building_type']].count() # сгруппируем"
   ]
  },
  {
   "cell_type": "markdown",
   "id": "bfd0c4ff",
   "metadata": {},
   "source": [
    "Посмотрим на количество пропущенных значений в столбце **building_type**."
   ]
  },
  {
   "cell_type": "code",
   "execution_count": 9,
   "id": "5e69f25c",
   "metadata": {},
   "outputs": [
    {
     "data": {
      "text/plain": [
       "7683"
      ]
     },
     "execution_count": 9,
     "metadata": {},
     "output_type": "execute_result"
    }
   ],
   "source": [
    "game_actions['building_type'].isna().sum() # посчитаем количество пропущенных значений"
   ]
  },
  {
   "cell_type": "markdown",
   "id": "a9cba58d",
   "metadata": {},
   "source": [
    "**7683** пропущенных значений, если мы просуммируем количество значений **finished_stage_1** и **project** в столбце **event** мы получим так же **7683** значений. Из-за чего мы можем сделать вывод, что пропущенные значения в столбце **building_type** появляются, когда в строке значения столбца **event** соответствуют **finished_stage_1** или **project**. Заменим пропущенные значения столбца **building_type** на **without_construction**."
   ]
  },
  {
   "cell_type": "code",
   "execution_count": 10,
   "id": "d207dbc0",
   "metadata": {},
   "outputs": [
    {
     "data": {
      "text/html": [
       "<style  type=\"text/css\" >\n",
       "    #T_f8e0075e_e5d5_11ec_839b_c858c04a58f2row0_col0 {\n",
       "            background-color:  #fff7fb;\n",
       "            color:  #000000;\n",
       "        }    #T_f8e0075e_e5d5_11ec_839b_c858c04a58f2row1_col0 {\n",
       "            background-color:  #fff7fb;\n",
       "            color:  #000000;\n",
       "        }</style><table id=\"T_f8e0075e_e5d5_11ec_839b_c858c04a58f2\" ><thead>    <tr>        <th class=\"blank level0\" ></th>        <th class=\"col_heading level0 col0\" >0</th>    </tr></thead><tbody>\n",
       "                <tr>\n",
       "                        <th id=\"T_f8e0075e_e5d5_11ec_839b_c858c04a58f2level0_row0\" class=\"row_heading level0 row0\" >building_type</th>\n",
       "                        <td id=\"T_f8e0075e_e5d5_11ec_839b_c858c04a58f2row0_col0\" class=\"data row0 col0\" >0</td>\n",
       "            </tr>\n",
       "            <tr>\n",
       "                        <th id=\"T_f8e0075e_e5d5_11ec_839b_c858c04a58f2level0_row1\" class=\"row_heading level0 row1\" >project_type</th>\n",
       "                        <td id=\"T_f8e0075e_e5d5_11ec_839b_c858c04a58f2row1_col0\" class=\"data row1 col0\" >0</td>\n",
       "            </tr>\n",
       "    </tbody></table>"
      ],
      "text/plain": [
       "<pandas.io.formats.style.Styler at 0x27cd6e9f948>"
      ]
     },
     "execution_count": 10,
     "metadata": {},
     "output_type": "execute_result"
    }
   ],
   "source": [
    "game_actions['building_type'] = game_actions['building_type'].fillna('without_construction') # заменим\n",
    "\n",
    "pd.DataFrame(round((game_actions[['building_type', 'project_type']].isna().mean()*100),2)).style.background_gradient() \n",
    "# проверим"
   ]
  },
  {
   "cell_type": "markdown",
   "id": "c9c2c005",
   "metadata": {},
   "source": [
    "### Преобразование значений"
   ]
  },
  {
   "cell_type": "markdown",
   "id": "10ffe0c8",
   "metadata": {},
   "source": [
    "В предыдущем пункте мы посмотрели категориальные значения в столбцах **event**, **building_type** и **project_type** таблицы **game_actions** и не обнаружили ничего подозрительного. Далее рассмотрим значения в таблицах **user_source** и **ad_costs**."
   ]
  },
  {
   "cell_type": "code",
   "execution_count": 11,
   "id": "9e41667b",
   "metadata": {},
   "outputs": [
    {
     "data": {
      "text/plain": [
       "array(['facebook_ads', 'yandex_direct', 'youtube_channel_reklama',\n",
       "       'instagram_new_adverts'], dtype=object)"
      ]
     },
     "metadata": {},
     "output_type": "display_data"
    },
    {
     "data": {
      "text/plain": [
       "array(['facebook_ads', 'instagram_new_adverts', 'yandex_direct',\n",
       "       'youtube_channel_reklama'], dtype=object)"
      ]
     },
     "metadata": {},
     "output_type": "display_data"
    },
    {
     "data": {
      "text/html": [
       "<div>\n",
       "<style scoped>\n",
       "    .dataframe tbody tr th:only-of-type {\n",
       "        vertical-align: middle;\n",
       "    }\n",
       "\n",
       "    .dataframe tbody tr th {\n",
       "        vertical-align: top;\n",
       "    }\n",
       "\n",
       "    .dataframe thead th {\n",
       "        text-align: right;\n",
       "    }\n",
       "</style>\n",
       "<table border=\"1\" class=\"dataframe\">\n",
       "  <thead>\n",
       "    <tr style=\"text-align: right;\">\n",
       "      <th></th>\n",
       "      <th>source</th>\n",
       "      <th>day</th>\n",
       "      <th>cost</th>\n",
       "    </tr>\n",
       "  </thead>\n",
       "  <tbody>\n",
       "    <tr>\n",
       "      <td>0</td>\n",
       "      <td>facebook_ads</td>\n",
       "      <td>2020-05-03</td>\n",
       "      <td>935.882786</td>\n",
       "    </tr>\n",
       "    <tr>\n",
       "      <td>1</td>\n",
       "      <td>facebook_ads</td>\n",
       "      <td>2020-05-04</td>\n",
       "      <td>548.354480</td>\n",
       "    </tr>\n",
       "    <tr>\n",
       "      <td>2</td>\n",
       "      <td>facebook_ads</td>\n",
       "      <td>2020-05-05</td>\n",
       "      <td>260.185754</td>\n",
       "    </tr>\n",
       "    <tr>\n",
       "      <td>3</td>\n",
       "      <td>facebook_ads</td>\n",
       "      <td>2020-05-06</td>\n",
       "      <td>177.982200</td>\n",
       "    </tr>\n",
       "    <tr>\n",
       "      <td>4</td>\n",
       "      <td>facebook_ads</td>\n",
       "      <td>2020-05-07</td>\n",
       "      <td>111.766796</td>\n",
       "    </tr>\n",
       "  </tbody>\n",
       "</table>\n",
       "</div>"
      ],
      "text/plain": [
       "         source         day        cost\n",
       "0  facebook_ads  2020-05-03  935.882786\n",
       "1  facebook_ads  2020-05-04  548.354480\n",
       "2  facebook_ads  2020-05-05  260.185754\n",
       "3  facebook_ads  2020-05-06  177.982200\n",
       "4  facebook_ads  2020-05-07  111.766796"
      ]
     },
     "execution_count": 11,
     "metadata": {},
     "output_type": "execute_result"
    }
   ],
   "source": [
    "display(user_source['source'].unique()) # посмотрим уникальные значения столбца 'source' таблицы 'user_source'\n",
    "\n",
    "display(ad_costs['source'].unique()) # посмотрим уникальные значения столбца 'source' таблицы 'ad_costs'\n",
    "\n",
    "ad_costs.head(5) # первые пять строк таблицы ad_cost"
   ]
  },
  {
   "cell_type": "markdown",
   "id": "8f6b1d78",
   "metadata": {},
   "source": [
    "Категориальные переменные столбцов **source** в обоих таблицах совпадают. Для простоты исчисления округлим значения в столбце **cost** таблицы **ad_costs** до сотых."
   ]
  },
  {
   "cell_type": "code",
   "execution_count": 12,
   "id": "e1e58ece",
   "metadata": {},
   "outputs": [
    {
     "data": {
      "text/html": [
       "<div>\n",
       "<style scoped>\n",
       "    .dataframe tbody tr th:only-of-type {\n",
       "        vertical-align: middle;\n",
       "    }\n",
       "\n",
       "    .dataframe tbody tr th {\n",
       "        vertical-align: top;\n",
       "    }\n",
       "\n",
       "    .dataframe thead th {\n",
       "        text-align: right;\n",
       "    }\n",
       "</style>\n",
       "<table border=\"1\" class=\"dataframe\">\n",
       "  <thead>\n",
       "    <tr style=\"text-align: right;\">\n",
       "      <th></th>\n",
       "      <th>source</th>\n",
       "      <th>day</th>\n",
       "      <th>cost</th>\n",
       "    </tr>\n",
       "  </thead>\n",
       "  <tbody>\n",
       "    <tr>\n",
       "      <td>0</td>\n",
       "      <td>facebook_ads</td>\n",
       "      <td>2020-05-03</td>\n",
       "      <td>935.88</td>\n",
       "    </tr>\n",
       "    <tr>\n",
       "      <td>1</td>\n",
       "      <td>facebook_ads</td>\n",
       "      <td>2020-05-04</td>\n",
       "      <td>548.35</td>\n",
       "    </tr>\n",
       "    <tr>\n",
       "      <td>2</td>\n",
       "      <td>facebook_ads</td>\n",
       "      <td>2020-05-05</td>\n",
       "      <td>260.19</td>\n",
       "    </tr>\n",
       "    <tr>\n",
       "      <td>3</td>\n",
       "      <td>facebook_ads</td>\n",
       "      <td>2020-05-06</td>\n",
       "      <td>177.98</td>\n",
       "    </tr>\n",
       "    <tr>\n",
       "      <td>4</td>\n",
       "      <td>facebook_ads</td>\n",
       "      <td>2020-05-07</td>\n",
       "      <td>111.77</td>\n",
       "    </tr>\n",
       "  </tbody>\n",
       "</table>\n",
       "</div>"
      ],
      "text/plain": [
       "         source         day    cost\n",
       "0  facebook_ads  2020-05-03  935.88\n",
       "1  facebook_ads  2020-05-04  548.35\n",
       "2  facebook_ads  2020-05-05  260.19\n",
       "3  facebook_ads  2020-05-06  177.98\n",
       "4  facebook_ads  2020-05-07  111.77"
      ]
     },
     "execution_count": 12,
     "metadata": {},
     "output_type": "execute_result"
    }
   ],
   "source": [
    "ad_costs['cost'] = round(ad_costs['cost'], 2) # округлим\n",
    "\n",
    "ad_costs.head(5) # проверим"
   ]
  },
  {
   "cell_type": "markdown",
   "id": "19e8a4b0",
   "metadata": {},
   "source": [
    "### Преобразование типов данных"
   ]
  },
  {
   "cell_type": "markdown",
   "id": "2ddb77e6",
   "metadata": {},
   "source": [
    "В таблицах **game_actions** и **ad_costs** для значений в столбцах **event_datetime** и **day** соответственно, необходимо изменить тип данных на **datetime**."
   ]
  },
  {
   "cell_type": "code",
   "execution_count": 13,
   "id": "7294bf03",
   "metadata": {},
   "outputs": [
    {
     "data": {
      "text/plain": [
       "(source            object\n",
       " day       datetime64[ns]\n",
       " cost             float64\n",
       " dtype: object, event_datetime    datetime64[ns]\n",
       " event                     object\n",
       " building_type             object\n",
       " user_id                   object\n",
       " project_type              object\n",
       " dtype: object)"
      ]
     },
     "execution_count": 13,
     "metadata": {},
     "output_type": "execute_result"
    }
   ],
   "source": [
    "game_actions['event_datetime'] = pd.to_datetime(game_actions['event_datetime'], format = '%Y-%m-%d %H:%M:%S') # изменим тип данных\n",
    "ad_costs['day'] = pd.to_datetime(ad_costs['day'], format = '%Y-%m-%d') # изменим тип данных\n",
    "\n",
    "ad_costs.dtypes, game_actions.dtypes # проверим"
   ]
  },
  {
   "cell_type": "markdown",
   "id": "4788e14a",
   "metadata": {},
   "source": [
    "### Проверка на явные дубликаты"
   ]
  },
  {
   "cell_type": "markdown",
   "id": "122391a1",
   "metadata": {},
   "source": [
    "Проверим данные на явные дубликаты."
   ]
  },
  {
   "cell_type": "code",
   "execution_count": 14,
   "id": "50890003",
   "metadata": {},
   "outputs": [
    {
     "name": "stdout",
     "output_type": "stream",
     "text": [
      "Дубликатов в таблице game_actions: 1\n",
      "Дубликатов в таблице user_source: 0\n",
      "Дубликатов в таблице ad_costs: 0\n"
     ]
    }
   ],
   "source": [
    "print('Дубликатов в таблице game_actions:', game_actions.duplicated().sum()) # проверим\n",
    "print('Дубликатов в таблице user_source:', user_source.duplicated().sum()) # проверим\n",
    "print('Дубликатов в таблице ad_costs:', ad_costs.duplicated().sum()) # проверим"
   ]
  },
  {
   "cell_type": "markdown",
   "id": "b1abee53",
   "metadata": {},
   "source": [
    "Удалим повторяющуюся строку в таблице **game_actions**."
   ]
  },
  {
   "cell_type": "code",
   "execution_count": 15,
   "id": "9a1577b7",
   "metadata": {},
   "outputs": [
    {
     "name": "stdout",
     "output_type": "stream",
     "text": [
      "Дубликатов в таблице game_actions: 0\n"
     ]
    }
   ],
   "source": [
    "game_actions = game_actions.drop_duplicates().reset_index() # удалим \n",
    "\n",
    "print('Дубликатов в таблице game_actions:', game_actions.duplicated().sum()) # проверим"
   ]
  },
  {
   "cell_type": "markdown",
   "id": "16d4ed32",
   "metadata": {},
   "source": [
    "**Промежуточные выводы:**\n",
    "\n",
    "- предоставленные данные оказались высокого качества. В данных отсутствуют: противоречия, аномальные значения, нарушения целостности, фиктивные значения, ошибки ввода данных и т.д."
   ]
  },
  {
   "cell_type": "markdown",
   "id": "2e42204e",
   "metadata": {},
   "source": [
    "## Исследовательский анализ"
   ]
  },
  {
   "cell_type": "markdown",
   "id": "57681ab8",
   "metadata": {},
   "source": [
    "### Создание пользовательских профилей"
   ]
  },
  {
   "cell_type": "markdown",
   "id": "4445ca06",
   "metadata": {},
   "source": [
    "Для создания пользовательских профилей с датой первого посещения на сайт напишем функцию `get_profiles()`. В ней сгруппируем значения датафрейма по **user_id** и применим функцию `first()`."
   ]
  },
  {
   "cell_type": "code",
   "execution_count": 16,
   "id": "03e9b242",
   "metadata": {},
   "outputs": [],
   "source": [
    "def get_profiles(df):\n",
    "\n",
    "    # сортируем сессии по 'user_id' пользователя и 'event_datetime'\n",
    "    # группируем по 'user_id' и находим первые значения 'event_datetime', 'event', 'building_type' и 'project_type'\n",
    "    # столбец с временем первого посещения назовём 'first_ts'\n",
    "    profiles = (\n",
    "        df.sort_values(by=['user_id', 'event_datetime' ]) \n",
    "        .groupby('user_id')\n",
    "        .agg({'event_datetime':'first', 'event':'first', 'building_type':'first', 'project_type':'first'})\n",
    "        .rename(columns={'event_datetime': 'first_ts'})\n",
    "        .reset_index()  # возвращаем 'user_id' из индекса\n",
    "    )\n",
    "\n",
    "    return profiles"
   ]
  },
  {
   "cell_type": "code",
   "execution_count": 17,
   "id": "5d3e8fa9",
   "metadata": {},
   "outputs": [
    {
     "data": {
      "text/html": [
       "<div>\n",
       "<style scoped>\n",
       "    .dataframe tbody tr th:only-of-type {\n",
       "        vertical-align: middle;\n",
       "    }\n",
       "\n",
       "    .dataframe tbody tr th {\n",
       "        vertical-align: top;\n",
       "    }\n",
       "\n",
       "    .dataframe thead th {\n",
       "        text-align: right;\n",
       "    }\n",
       "</style>\n",
       "<table border=\"1\" class=\"dataframe\">\n",
       "  <thead>\n",
       "    <tr style=\"text-align: right;\">\n",
       "      <th></th>\n",
       "      <th>user_id</th>\n",
       "      <th>first_ts</th>\n",
       "      <th>event</th>\n",
       "      <th>building_type</th>\n",
       "      <th>project_type</th>\n",
       "    </tr>\n",
       "  </thead>\n",
       "  <tbody>\n",
       "    <tr>\n",
       "      <td>0</td>\n",
       "      <td>0001f83c-c6ac-4621-b7f0-8a28b283ac30</td>\n",
       "      <td>2020-05-06 01:07:37</td>\n",
       "      <td>building</td>\n",
       "      <td>assembly_shop</td>\n",
       "      <td>not_finished</td>\n",
       "    </tr>\n",
       "    <tr>\n",
       "      <td>1</td>\n",
       "      <td>00151b4f-ba38-44a8-a650-d7cf130a0105</td>\n",
       "      <td>2020-05-06 03:09:12</td>\n",
       "      <td>building</td>\n",
       "      <td>assembly_shop</td>\n",
       "      <td>not_finished</td>\n",
       "    </tr>\n",
       "    <tr>\n",
       "      <td>2</td>\n",
       "      <td>001aaea6-3d14-43f1-8ca8-7f48820f17aa</td>\n",
       "      <td>2020-05-05 18:08:52</td>\n",
       "      <td>building</td>\n",
       "      <td>assembly_shop</td>\n",
       "      <td>not_finished</td>\n",
       "    </tr>\n",
       "    <tr>\n",
       "      <td>3</td>\n",
       "      <td>001d39dc-366c-4021-9604-6a3b9ff01e25</td>\n",
       "      <td>2020-05-05 21:02:05</td>\n",
       "      <td>building</td>\n",
       "      <td>assembly_shop</td>\n",
       "      <td>not_finished</td>\n",
       "    </tr>\n",
       "    <tr>\n",
       "      <td>4</td>\n",
       "      <td>002f508f-67b6-479f-814b-b05f00d4e995</td>\n",
       "      <td>2020-05-05 13:49:58</td>\n",
       "      <td>building</td>\n",
       "      <td>assembly_shop</td>\n",
       "      <td>not_finished</td>\n",
       "    </tr>\n",
       "    <tr>\n",
       "      <td>5</td>\n",
       "      <td>003b80c6-4164-4157-bb2a-03d0181d39c4</td>\n",
       "      <td>2020-05-04 09:10:22</td>\n",
       "      <td>building</td>\n",
       "      <td>assembly_shop</td>\n",
       "      <td>not_finished</td>\n",
       "    </tr>\n",
       "    <tr>\n",
       "      <td>6</td>\n",
       "      <td>003ee7e8-6356-4286-a715-62f22a18d2a1</td>\n",
       "      <td>2020-05-05 08:31:04</td>\n",
       "      <td>building</td>\n",
       "      <td>assembly_shop</td>\n",
       "      <td>not_finished</td>\n",
       "    </tr>\n",
       "    <tr>\n",
       "      <td>7</td>\n",
       "      <td>004074f8-251a-4776-922c-8348dca1a2f6</td>\n",
       "      <td>2020-05-04 01:07:35</td>\n",
       "      <td>building</td>\n",
       "      <td>assembly_shop</td>\n",
       "      <td>not_finished</td>\n",
       "    </tr>\n",
       "    <tr>\n",
       "      <td>8</td>\n",
       "      <td>00440efd-aa50-4b4b-aae8-ffcd1782729d</td>\n",
       "      <td>2020-05-04 07:20:40</td>\n",
       "      <td>building</td>\n",
       "      <td>assembly_shop</td>\n",
       "      <td>not_finished</td>\n",
       "    </tr>\n",
       "    <tr>\n",
       "      <td>9</td>\n",
       "      <td>00464e5e-28ed-4be6-bf44-517ef7b3937b</td>\n",
       "      <td>2020-05-04 08:35:29</td>\n",
       "      <td>building</td>\n",
       "      <td>assembly_shop</td>\n",
       "      <td>not_finished</td>\n",
       "    </tr>\n",
       "  </tbody>\n",
       "</table>\n",
       "</div>"
      ],
      "text/plain": [
       "                                user_id            first_ts     event  \\\n",
       "0  0001f83c-c6ac-4621-b7f0-8a28b283ac30 2020-05-06 01:07:37  building   \n",
       "1  00151b4f-ba38-44a8-a650-d7cf130a0105 2020-05-06 03:09:12  building   \n",
       "2  001aaea6-3d14-43f1-8ca8-7f48820f17aa 2020-05-05 18:08:52  building   \n",
       "3  001d39dc-366c-4021-9604-6a3b9ff01e25 2020-05-05 21:02:05  building   \n",
       "4  002f508f-67b6-479f-814b-b05f00d4e995 2020-05-05 13:49:58  building   \n",
       "5  003b80c6-4164-4157-bb2a-03d0181d39c4 2020-05-04 09:10:22  building   \n",
       "6  003ee7e8-6356-4286-a715-62f22a18d2a1 2020-05-05 08:31:04  building   \n",
       "7  004074f8-251a-4776-922c-8348dca1a2f6 2020-05-04 01:07:35  building   \n",
       "8  00440efd-aa50-4b4b-aae8-ffcd1782729d 2020-05-04 07:20:40  building   \n",
       "9  00464e5e-28ed-4be6-bf44-517ef7b3937b 2020-05-04 08:35:29  building   \n",
       "\n",
       "   building_type  project_type  \n",
       "0  assembly_shop  not_finished  \n",
       "1  assembly_shop  not_finished  \n",
       "2  assembly_shop  not_finished  \n",
       "3  assembly_shop  not_finished  \n",
       "4  assembly_shop  not_finished  \n",
       "5  assembly_shop  not_finished  \n",
       "6  assembly_shop  not_finished  \n",
       "7  assembly_shop  not_finished  \n",
       "8  assembly_shop  not_finished  \n",
       "9  assembly_shop  not_finished  "
      ]
     },
     "execution_count": 17,
     "metadata": {},
     "output_type": "execute_result"
    }
   ],
   "source": [
    "profiles = get_profiles(game_actions) # сохраним действия функции в переменную 'profiles'\n",
    "\n",
    "profiles.head(10) # посмотрим"
   ]
  },
  {
   "cell_type": "markdown",
   "id": "2acacc19",
   "metadata": {},
   "source": [
    "Присоединим к получившейся таблице **profiles** столбец с информацией об источнике, с которого пришел пользователь, установивший приложение."
   ]
  },
  {
   "cell_type": "code",
   "execution_count": 18,
   "id": "b6fab630",
   "metadata": {},
   "outputs": [
    {
     "data": {
      "text/html": [
       "<div>\n",
       "<style scoped>\n",
       "    .dataframe tbody tr th:only-of-type {\n",
       "        vertical-align: middle;\n",
       "    }\n",
       "\n",
       "    .dataframe tbody tr th {\n",
       "        vertical-align: top;\n",
       "    }\n",
       "\n",
       "    .dataframe thead th {\n",
       "        text-align: right;\n",
       "    }\n",
       "</style>\n",
       "<table border=\"1\" class=\"dataframe\">\n",
       "  <thead>\n",
       "    <tr style=\"text-align: right;\">\n",
       "      <th></th>\n",
       "      <th>user_id</th>\n",
       "      <th>first_ts</th>\n",
       "      <th>event</th>\n",
       "      <th>building_type</th>\n",
       "      <th>project_type</th>\n",
       "      <th>source</th>\n",
       "    </tr>\n",
       "  </thead>\n",
       "  <tbody>\n",
       "    <tr>\n",
       "      <td>0</td>\n",
       "      <td>0001f83c-c6ac-4621-b7f0-8a28b283ac30</td>\n",
       "      <td>2020-05-06 01:07:37</td>\n",
       "      <td>building</td>\n",
       "      <td>assembly_shop</td>\n",
       "      <td>not_finished</td>\n",
       "      <td>facebook_ads</td>\n",
       "    </tr>\n",
       "    <tr>\n",
       "      <td>1</td>\n",
       "      <td>00151b4f-ba38-44a8-a650-d7cf130a0105</td>\n",
       "      <td>2020-05-06 03:09:12</td>\n",
       "      <td>building</td>\n",
       "      <td>assembly_shop</td>\n",
       "      <td>not_finished</td>\n",
       "      <td>yandex_direct</td>\n",
       "    </tr>\n",
       "    <tr>\n",
       "      <td>2</td>\n",
       "      <td>001aaea6-3d14-43f1-8ca8-7f48820f17aa</td>\n",
       "      <td>2020-05-05 18:08:52</td>\n",
       "      <td>building</td>\n",
       "      <td>assembly_shop</td>\n",
       "      <td>not_finished</td>\n",
       "      <td>youtube_channel_reklama</td>\n",
       "    </tr>\n",
       "    <tr>\n",
       "      <td>3</td>\n",
       "      <td>001d39dc-366c-4021-9604-6a3b9ff01e25</td>\n",
       "      <td>2020-05-05 21:02:05</td>\n",
       "      <td>building</td>\n",
       "      <td>assembly_shop</td>\n",
       "      <td>not_finished</td>\n",
       "      <td>instagram_new_adverts</td>\n",
       "    </tr>\n",
       "    <tr>\n",
       "      <td>4</td>\n",
       "      <td>002f508f-67b6-479f-814b-b05f00d4e995</td>\n",
       "      <td>2020-05-05 13:49:58</td>\n",
       "      <td>building</td>\n",
       "      <td>assembly_shop</td>\n",
       "      <td>not_finished</td>\n",
       "      <td>facebook_ads</td>\n",
       "    </tr>\n",
       "    <tr>\n",
       "      <td>5</td>\n",
       "      <td>003b80c6-4164-4157-bb2a-03d0181d39c4</td>\n",
       "      <td>2020-05-04 09:10:22</td>\n",
       "      <td>building</td>\n",
       "      <td>assembly_shop</td>\n",
       "      <td>not_finished</td>\n",
       "      <td>yandex_direct</td>\n",
       "    </tr>\n",
       "    <tr>\n",
       "      <td>6</td>\n",
       "      <td>003ee7e8-6356-4286-a715-62f22a18d2a1</td>\n",
       "      <td>2020-05-05 08:31:04</td>\n",
       "      <td>building</td>\n",
       "      <td>assembly_shop</td>\n",
       "      <td>not_finished</td>\n",
       "      <td>instagram_new_adverts</td>\n",
       "    </tr>\n",
       "    <tr>\n",
       "      <td>7</td>\n",
       "      <td>004074f8-251a-4776-922c-8348dca1a2f6</td>\n",
       "      <td>2020-05-04 01:07:35</td>\n",
       "      <td>building</td>\n",
       "      <td>assembly_shop</td>\n",
       "      <td>not_finished</td>\n",
       "      <td>facebook_ads</td>\n",
       "    </tr>\n",
       "    <tr>\n",
       "      <td>8</td>\n",
       "      <td>00440efd-aa50-4b4b-aae8-ffcd1782729d</td>\n",
       "      <td>2020-05-04 07:20:40</td>\n",
       "      <td>building</td>\n",
       "      <td>assembly_shop</td>\n",
       "      <td>not_finished</td>\n",
       "      <td>facebook_ads</td>\n",
       "    </tr>\n",
       "    <tr>\n",
       "      <td>9</td>\n",
       "      <td>00464e5e-28ed-4be6-bf44-517ef7b3937b</td>\n",
       "      <td>2020-05-04 08:35:29</td>\n",
       "      <td>building</td>\n",
       "      <td>assembly_shop</td>\n",
       "      <td>not_finished</td>\n",
       "      <td>yandex_direct</td>\n",
       "    </tr>\n",
       "  </tbody>\n",
       "</table>\n",
       "</div>"
      ],
      "text/plain": [
       "                                user_id            first_ts     event  \\\n",
       "0  0001f83c-c6ac-4621-b7f0-8a28b283ac30 2020-05-06 01:07:37  building   \n",
       "1  00151b4f-ba38-44a8-a650-d7cf130a0105 2020-05-06 03:09:12  building   \n",
       "2  001aaea6-3d14-43f1-8ca8-7f48820f17aa 2020-05-05 18:08:52  building   \n",
       "3  001d39dc-366c-4021-9604-6a3b9ff01e25 2020-05-05 21:02:05  building   \n",
       "4  002f508f-67b6-479f-814b-b05f00d4e995 2020-05-05 13:49:58  building   \n",
       "5  003b80c6-4164-4157-bb2a-03d0181d39c4 2020-05-04 09:10:22  building   \n",
       "6  003ee7e8-6356-4286-a715-62f22a18d2a1 2020-05-05 08:31:04  building   \n",
       "7  004074f8-251a-4776-922c-8348dca1a2f6 2020-05-04 01:07:35  building   \n",
       "8  00440efd-aa50-4b4b-aae8-ffcd1782729d 2020-05-04 07:20:40  building   \n",
       "9  00464e5e-28ed-4be6-bf44-517ef7b3937b 2020-05-04 08:35:29  building   \n",
       "\n",
       "   building_type  project_type                   source  \n",
       "0  assembly_shop  not_finished             facebook_ads  \n",
       "1  assembly_shop  not_finished            yandex_direct  \n",
       "2  assembly_shop  not_finished  youtube_channel_reklama  \n",
       "3  assembly_shop  not_finished    instagram_new_adverts  \n",
       "4  assembly_shop  not_finished             facebook_ads  \n",
       "5  assembly_shop  not_finished            yandex_direct  \n",
       "6  assembly_shop  not_finished    instagram_new_adverts  \n",
       "7  assembly_shop  not_finished             facebook_ads  \n",
       "8  assembly_shop  not_finished             facebook_ads  \n",
       "9  assembly_shop  not_finished            yandex_direct  "
      ]
     },
     "execution_count": 18,
     "metadata": {},
     "output_type": "execute_result"
    }
   ],
   "source": [
    "profiles = pd.merge(profiles, user_source, on='user_id') # присоединим\n",
    "\n",
    "profiles.head(10) # проверим"
   ]
  },
  {
   "cell_type": "markdown",
   "id": "5517edaf",
   "metadata": {},
   "source": [
    "Выделим последнее посещение пользователей и присоединим к нашей таблице **profiles**."
   ]
  },
  {
   "cell_type": "code",
   "execution_count": 19,
   "id": "c77c5c3e",
   "metadata": {},
   "outputs": [
    {
     "data": {
      "text/html": [
       "<div>\n",
       "<style scoped>\n",
       "    .dataframe tbody tr th:only-of-type {\n",
       "        vertical-align: middle;\n",
       "    }\n",
       "\n",
       "    .dataframe tbody tr th {\n",
       "        vertical-align: top;\n",
       "    }\n",
       "\n",
       "    .dataframe thead th {\n",
       "        text-align: right;\n",
       "    }\n",
       "</style>\n",
       "<table border=\"1\" class=\"dataframe\">\n",
       "  <thead>\n",
       "    <tr style=\"text-align: right;\">\n",
       "      <th></th>\n",
       "      <th>user_id</th>\n",
       "      <th>first_ts</th>\n",
       "      <th>event</th>\n",
       "      <th>building_type</th>\n",
       "      <th>project_type</th>\n",
       "      <th>source</th>\n",
       "      <th>last_ts</th>\n",
       "    </tr>\n",
       "  </thead>\n",
       "  <tbody>\n",
       "    <tr>\n",
       "      <td>0</td>\n",
       "      <td>0001f83c-c6ac-4621-b7f0-8a28b283ac30</td>\n",
       "      <td>2020-05-06 01:07:37</td>\n",
       "      <td>building</td>\n",
       "      <td>assembly_shop</td>\n",
       "      <td>not_finished</td>\n",
       "      <td>facebook_ads</td>\n",
       "      <td>2020-05-20 11:26:06</td>\n",
       "    </tr>\n",
       "    <tr>\n",
       "      <td>1</td>\n",
       "      <td>00151b4f-ba38-44a8-a650-d7cf130a0105</td>\n",
       "      <td>2020-05-06 03:09:12</td>\n",
       "      <td>building</td>\n",
       "      <td>assembly_shop</td>\n",
       "      <td>not_finished</td>\n",
       "      <td>yandex_direct</td>\n",
       "      <td>2020-05-18 10:46:52</td>\n",
       "    </tr>\n",
       "    <tr>\n",
       "      <td>2</td>\n",
       "      <td>001aaea6-3d14-43f1-8ca8-7f48820f17aa</td>\n",
       "      <td>2020-05-05 18:08:52</td>\n",
       "      <td>building</td>\n",
       "      <td>assembly_shop</td>\n",
       "      <td>not_finished</td>\n",
       "      <td>youtube_channel_reklama</td>\n",
       "      <td>2020-05-14 09:21:27</td>\n",
       "    </tr>\n",
       "    <tr>\n",
       "      <td>3</td>\n",
       "      <td>001d39dc-366c-4021-9604-6a3b9ff01e25</td>\n",
       "      <td>2020-05-05 21:02:05</td>\n",
       "      <td>building</td>\n",
       "      <td>assembly_shop</td>\n",
       "      <td>not_finished</td>\n",
       "      <td>instagram_new_adverts</td>\n",
       "      <td>2020-05-12 07:40:47</td>\n",
       "    </tr>\n",
       "    <tr>\n",
       "      <td>4</td>\n",
       "      <td>002f508f-67b6-479f-814b-b05f00d4e995</td>\n",
       "      <td>2020-05-05 13:49:58</td>\n",
       "      <td>building</td>\n",
       "      <td>assembly_shop</td>\n",
       "      <td>not_finished</td>\n",
       "      <td>facebook_ads</td>\n",
       "      <td>2020-05-22 02:46:45</td>\n",
       "    </tr>\n",
       "    <tr>\n",
       "      <td>5</td>\n",
       "      <td>003b80c6-4164-4157-bb2a-03d0181d39c4</td>\n",
       "      <td>2020-05-04 09:10:22</td>\n",
       "      <td>building</td>\n",
       "      <td>assembly_shop</td>\n",
       "      <td>not_finished</td>\n",
       "      <td>yandex_direct</td>\n",
       "      <td>2020-05-12 15:23:37</td>\n",
       "    </tr>\n",
       "    <tr>\n",
       "      <td>6</td>\n",
       "      <td>003ee7e8-6356-4286-a715-62f22a18d2a1</td>\n",
       "      <td>2020-05-05 08:31:04</td>\n",
       "      <td>building</td>\n",
       "      <td>assembly_shop</td>\n",
       "      <td>not_finished</td>\n",
       "      <td>instagram_new_adverts</td>\n",
       "      <td>2020-05-17 21:47:49</td>\n",
       "    </tr>\n",
       "    <tr>\n",
       "      <td>7</td>\n",
       "      <td>004074f8-251a-4776-922c-8348dca1a2f6</td>\n",
       "      <td>2020-05-04 01:07:35</td>\n",
       "      <td>building</td>\n",
       "      <td>assembly_shop</td>\n",
       "      <td>not_finished</td>\n",
       "      <td>facebook_ads</td>\n",
       "      <td>2020-05-16 19:57:40</td>\n",
       "    </tr>\n",
       "    <tr>\n",
       "      <td>8</td>\n",
       "      <td>00440efd-aa50-4b4b-aae8-ffcd1782729d</td>\n",
       "      <td>2020-05-04 07:20:40</td>\n",
       "      <td>building</td>\n",
       "      <td>assembly_shop</td>\n",
       "      <td>not_finished</td>\n",
       "      <td>facebook_ads</td>\n",
       "      <td>2020-05-09 10:33:13</td>\n",
       "    </tr>\n",
       "    <tr>\n",
       "      <td>9</td>\n",
       "      <td>00464e5e-28ed-4be6-bf44-517ef7b3937b</td>\n",
       "      <td>2020-05-04 08:35:29</td>\n",
       "      <td>building</td>\n",
       "      <td>assembly_shop</td>\n",
       "      <td>not_finished</td>\n",
       "      <td>yandex_direct</td>\n",
       "      <td>2020-05-15 16:02:01</td>\n",
       "    </tr>\n",
       "  </tbody>\n",
       "</table>\n",
       "</div>"
      ],
      "text/plain": [
       "                                user_id            first_ts     event  \\\n",
       "0  0001f83c-c6ac-4621-b7f0-8a28b283ac30 2020-05-06 01:07:37  building   \n",
       "1  00151b4f-ba38-44a8-a650-d7cf130a0105 2020-05-06 03:09:12  building   \n",
       "2  001aaea6-3d14-43f1-8ca8-7f48820f17aa 2020-05-05 18:08:52  building   \n",
       "3  001d39dc-366c-4021-9604-6a3b9ff01e25 2020-05-05 21:02:05  building   \n",
       "4  002f508f-67b6-479f-814b-b05f00d4e995 2020-05-05 13:49:58  building   \n",
       "5  003b80c6-4164-4157-bb2a-03d0181d39c4 2020-05-04 09:10:22  building   \n",
       "6  003ee7e8-6356-4286-a715-62f22a18d2a1 2020-05-05 08:31:04  building   \n",
       "7  004074f8-251a-4776-922c-8348dca1a2f6 2020-05-04 01:07:35  building   \n",
       "8  00440efd-aa50-4b4b-aae8-ffcd1782729d 2020-05-04 07:20:40  building   \n",
       "9  00464e5e-28ed-4be6-bf44-517ef7b3937b 2020-05-04 08:35:29  building   \n",
       "\n",
       "   building_type  project_type                   source             last_ts  \n",
       "0  assembly_shop  not_finished             facebook_ads 2020-05-20 11:26:06  \n",
       "1  assembly_shop  not_finished            yandex_direct 2020-05-18 10:46:52  \n",
       "2  assembly_shop  not_finished  youtube_channel_reklama 2020-05-14 09:21:27  \n",
       "3  assembly_shop  not_finished    instagram_new_adverts 2020-05-12 07:40:47  \n",
       "4  assembly_shop  not_finished             facebook_ads 2020-05-22 02:46:45  \n",
       "5  assembly_shop  not_finished            yandex_direct 2020-05-12 15:23:37  \n",
       "6  assembly_shop  not_finished    instagram_new_adverts 2020-05-17 21:47:49  \n",
       "7  assembly_shop  not_finished             facebook_ads 2020-05-16 19:57:40  \n",
       "8  assembly_shop  not_finished             facebook_ads 2020-05-09 10:33:13  \n",
       "9  assembly_shop  not_finished            yandex_direct 2020-05-15 16:02:01  "
      ]
     },
     "execution_count": 19,
     "metadata": {},
     "output_type": "execute_result"
    }
   ],
   "source": [
    "last = (game_actions.sort_values(by=['user_id', 'event_datetime' ])\n",
    "        .groupby('user_id')\n",
    "        .agg({'event_datetime':'last'})\n",
    "        .rename(columns={'event_datetime': 'last_ts'})\n",
    "        .reset_index()\n",
    "       ) # сгруппируем\n",
    "\n",
    "profiles = pd.merge(profiles, last, on='user_id') # присоединим\n",
    "\n",
    "profiles.head(10) # проверим"
   ]
  },
  {
   "cell_type": "markdown",
   "id": "8c1d8b32",
   "metadata": {},
   "source": [
    "Создадим два столбца **session_date** и **transit time**, в одном выделим день первого посещения, в другом посчитаем время, которое пользователь потратил на прохождение первого уровня."
   ]
  },
  {
   "cell_type": "code",
   "execution_count": 20,
   "id": "15a15363",
   "metadata": {},
   "outputs": [
    {
     "data": {
      "text/html": [
       "<div>\n",
       "<style scoped>\n",
       "    .dataframe tbody tr th:only-of-type {\n",
       "        vertical-align: middle;\n",
       "    }\n",
       "\n",
       "    .dataframe tbody tr th {\n",
       "        vertical-align: top;\n",
       "    }\n",
       "\n",
       "    .dataframe thead th {\n",
       "        text-align: right;\n",
       "    }\n",
       "</style>\n",
       "<table border=\"1\" class=\"dataframe\">\n",
       "  <thead>\n",
       "    <tr style=\"text-align: right;\">\n",
       "      <th></th>\n",
       "      <th>user_id</th>\n",
       "      <th>first_ts</th>\n",
       "      <th>last_ts</th>\n",
       "      <th>transit_time</th>\n",
       "      <th>session_date</th>\n",
       "      <th>source</th>\n",
       "      <th>event</th>\n",
       "      <th>building_type</th>\n",
       "      <th>project_type</th>\n",
       "    </tr>\n",
       "  </thead>\n",
       "  <tbody>\n",
       "    <tr>\n",
       "      <td>0</td>\n",
       "      <td>0001f83c-c6ac-4621-b7f0-8a28b283ac30</td>\n",
       "      <td>2020-05-06 01:07:37</td>\n",
       "      <td>2020-05-20 11:26:06</td>\n",
       "      <td>20778.0</td>\n",
       "      <td>2020-05-06</td>\n",
       "      <td>facebook_ads</td>\n",
       "      <td>building</td>\n",
       "      <td>assembly_shop</td>\n",
       "      <td>not_finished</td>\n",
       "    </tr>\n",
       "    <tr>\n",
       "      <td>1</td>\n",
       "      <td>00151b4f-ba38-44a8-a650-d7cf130a0105</td>\n",
       "      <td>2020-05-06 03:09:12</td>\n",
       "      <td>2020-05-18 10:46:52</td>\n",
       "      <td>17737.0</td>\n",
       "      <td>2020-05-06</td>\n",
       "      <td>yandex_direct</td>\n",
       "      <td>building</td>\n",
       "      <td>assembly_shop</td>\n",
       "      <td>not_finished</td>\n",
       "    </tr>\n",
       "    <tr>\n",
       "      <td>2</td>\n",
       "      <td>001aaea6-3d14-43f1-8ca8-7f48820f17aa</td>\n",
       "      <td>2020-05-05 18:08:52</td>\n",
       "      <td>2020-05-14 09:21:27</td>\n",
       "      <td>12432.0</td>\n",
       "      <td>2020-05-05</td>\n",
       "      <td>youtube_channel_reklama</td>\n",
       "      <td>building</td>\n",
       "      <td>assembly_shop</td>\n",
       "      <td>not_finished</td>\n",
       "    </tr>\n",
       "    <tr>\n",
       "      <td>3</td>\n",
       "      <td>001d39dc-366c-4021-9604-6a3b9ff01e25</td>\n",
       "      <td>2020-05-05 21:02:05</td>\n",
       "      <td>2020-05-12 07:40:47</td>\n",
       "      <td>9278.0</td>\n",
       "      <td>2020-05-05</td>\n",
       "      <td>instagram_new_adverts</td>\n",
       "      <td>building</td>\n",
       "      <td>assembly_shop</td>\n",
       "      <td>not_finished</td>\n",
       "    </tr>\n",
       "    <tr>\n",
       "      <td>4</td>\n",
       "      <td>002f508f-67b6-479f-814b-b05f00d4e995</td>\n",
       "      <td>2020-05-05 13:49:58</td>\n",
       "      <td>2020-05-22 02:46:45</td>\n",
       "      <td>23816.0</td>\n",
       "      <td>2020-05-05</td>\n",
       "      <td>facebook_ads</td>\n",
       "      <td>building</td>\n",
       "      <td>assembly_shop</td>\n",
       "      <td>not_finished</td>\n",
       "    </tr>\n",
       "  </tbody>\n",
       "</table>\n",
       "</div>"
      ],
      "text/plain": [
       "                                user_id            first_ts  \\\n",
       "0  0001f83c-c6ac-4621-b7f0-8a28b283ac30 2020-05-06 01:07:37   \n",
       "1  00151b4f-ba38-44a8-a650-d7cf130a0105 2020-05-06 03:09:12   \n",
       "2  001aaea6-3d14-43f1-8ca8-7f48820f17aa 2020-05-05 18:08:52   \n",
       "3  001d39dc-366c-4021-9604-6a3b9ff01e25 2020-05-05 21:02:05   \n",
       "4  002f508f-67b6-479f-814b-b05f00d4e995 2020-05-05 13:49:58   \n",
       "\n",
       "              last_ts  transit_time session_date                   source  \\\n",
       "0 2020-05-20 11:26:06       20778.0   2020-05-06             facebook_ads   \n",
       "1 2020-05-18 10:46:52       17737.0   2020-05-06            yandex_direct   \n",
       "2 2020-05-14 09:21:27       12432.0   2020-05-05  youtube_channel_reklama   \n",
       "3 2020-05-12 07:40:47        9278.0   2020-05-05    instagram_new_adverts   \n",
       "4 2020-05-22 02:46:45       23816.0   2020-05-05             facebook_ads   \n",
       "\n",
       "      event  building_type  project_type  \n",
       "0  building  assembly_shop  not_finished  \n",
       "1  building  assembly_shop  not_finished  \n",
       "2  building  assembly_shop  not_finished  \n",
       "3  building  assembly_shop  not_finished  \n",
       "4  building  assembly_shop  not_finished  "
      ]
     },
     "execution_count": 20,
     "metadata": {},
     "output_type": "execute_result"
    }
   ],
   "source": [
    "profiles['session_date'] = profiles['first_ts'].astype('datetime64[D]') # выделяем день из первого посещения\n",
    "\n",
    "profiles['transit_time'] = profiles['last_ts'] - profiles['first_ts'] # посчитаем разницу\n",
    "\n",
    "profiles['transit_time'] = profiles['transit_time'].astype('timedelta64[m]') # преобразуем в минуты\n",
    "\n",
    "profiles = profiles.reindex(\n",
    "    columns=['user_id', 'first_ts', 'last_ts', 'transit_time', 'session_date', 'source', 'event', 'building_type',  'project_type'])\n",
    "# поменяем местами столбцы\n",
    "\n",
    "profiles.head() # проверим"
   ]
  },
  {
   "cell_type": "markdown",
   "id": "7ee36ec5",
   "metadata": {},
   "source": [
    "Построим график, отображающий динамику привлечения новых пользователей по каждому из рекламных каналов. Применим метод `plot()`."
   ]
  },
  {
   "cell_type": "code",
   "execution_count": 21,
   "id": "7c3aab57",
   "metadata": {},
   "outputs": [
    {
     "data": {
      "image/png": "[encoded data removed]",
      "text/plain": [
       "<Figure size 1080x504 with 1 Axes>"
      ]
     },
     "metadata": {
      "image/png": {
       "height": 447,
       "width": 890
      },
      "needs_background": "light"
     },
     "output_type": "display_data"
    }
   ],
   "source": [
    "%matplotlib inline\n",
    "\n",
    "profiles.pivot_table(\n",
    "    index='session_date',\n",
    "    columns='source',\n",
    "    values='user_id',\n",
    "    aggfunc='nunique'\n",
    ").plot(figsize=(15, 7), grid=True)\n",
    "\n",
    "plt.show()"
   ]
  },
  {
   "cell_type": "markdown",
   "id": "92d3fbdb",
   "metadata": {},
   "source": [
    "**Промежуточные выводы:**\n",
    "\n",
    "- график показал, что со временем количество пользователей, попавших в тестовую когорту **уменьшается**;\n",
    "- больше всего пользователей привел канал **yandex_direct**."
   ]
  },
  {
   "cell_type": "markdown",
   "id": "fa1f3849",
   "metadata": {},
   "source": [
    "### Расчет стоимости привлечения пользователей"
   ]
  },
  {
   "cell_type": "markdown",
   "id": "af226925",
   "metadata": {},
   "source": [
    "Рассчитаем какое количество пользователей приходило ежедневно и сколько стоило привлечение одного пользователя по каждому рекламному каналу. \n",
    "\n",
    "Первоначально сгруппируем таблицу **profiles**, добавим к ней данные о количестве вложенных средств в рекламу."
   ]
  },
  {
   "cell_type": "code",
   "execution_count": 22,
   "id": "492db3b8",
   "metadata": {},
   "outputs": [
    {
     "data": {
      "text/html": [
       "<div>\n",
       "<style scoped>\n",
       "    .dataframe tbody tr th:only-of-type {\n",
       "        vertical-align: middle;\n",
       "    }\n",
       "\n",
       "    .dataframe tbody tr th {\n",
       "        vertical-align: top;\n",
       "    }\n",
       "\n",
       "    .dataframe thead th {\n",
       "        text-align: right;\n",
       "    }\n",
       "</style>\n",
       "<table border=\"1\" class=\"dataframe\">\n",
       "  <thead>\n",
       "    <tr style=\"text-align: right;\">\n",
       "      <th></th>\n",
       "      <th>source</th>\n",
       "      <th>session_date</th>\n",
       "      <th>count</th>\n",
       "      <th>cost</th>\n",
       "    </tr>\n",
       "  </thead>\n",
       "  <tbody>\n",
       "    <tr>\n",
       "      <td>0</td>\n",
       "      <td>facebook_ads</td>\n",
       "      <td>2020-05-04</td>\n",
       "      <td>1184</td>\n",
       "      <td>935.88</td>\n",
       "    </tr>\n",
       "    <tr>\n",
       "      <td>1</td>\n",
       "      <td>facebook_ads</td>\n",
       "      <td>2020-05-05</td>\n",
       "      <td>694</td>\n",
       "      <td>548.35</td>\n",
       "    </tr>\n",
       "    <tr>\n",
       "      <td>2</td>\n",
       "      <td>facebook_ads</td>\n",
       "      <td>2020-05-06</td>\n",
       "      <td>345</td>\n",
       "      <td>260.19</td>\n",
       "    </tr>\n",
       "    <tr>\n",
       "      <td>3</td>\n",
       "      <td>facebook_ads</td>\n",
       "      <td>2020-05-07</td>\n",
       "      <td>224</td>\n",
       "      <td>177.98</td>\n",
       "    </tr>\n",
       "    <tr>\n",
       "      <td>4</td>\n",
       "      <td>facebook_ads</td>\n",
       "      <td>2020-05-08</td>\n",
       "      <td>139</td>\n",
       "      <td>111.77</td>\n",
       "    </tr>\n",
       "  </tbody>\n",
       "</table>\n",
       "</div>"
      ],
      "text/plain": [
       "         source session_date  count    cost\n",
       "0  facebook_ads   2020-05-04   1184  935.88\n",
       "1  facebook_ads   2020-05-05    694  548.35\n",
       "2  facebook_ads   2020-05-06    345  260.19\n",
       "3  facebook_ads   2020-05-07    224  177.98\n",
       "4  facebook_ads   2020-05-08    139  111.77"
      ]
     },
     "execution_count": 22,
     "metadata": {},
     "output_type": "execute_result"
    }
   ],
   "source": [
    "ad = profiles.groupby(['source', 'session_date']).agg({'user_id':'count'}).reset_index().rename(columns={'user_id':'count'})\n",
    "# сгруппируем\n",
    "\n",
    "ad_costs['session_date'] = ad_costs['day'] + pd.Timedelta('1 day') # добавим новый столбец\n",
    "\n",
    "ad = pd.merge(ad, ad_costs, on=['source', 'session_date']).drop(columns=['day']) # присоединим и удалим столбец с датой рекламы\n",
    "\n",
    "ad.head() # посмотрим"
   ]
  },
  {
   "cell_type": "markdown",
   "id": "93d9b987",
   "metadata": {},
   "source": [
    "Посчитаем сколько стоило привлечь каждого пользователя."
   ]
  },
  {
   "cell_type": "code",
   "execution_count": 23,
   "id": "55e6b130",
   "metadata": {},
   "outputs": [
    {
     "data": {
      "text/html": [
       "<div>\n",
       "<style scoped>\n",
       "    .dataframe tbody tr th:only-of-type {\n",
       "        vertical-align: middle;\n",
       "    }\n",
       "\n",
       "    .dataframe tbody tr th {\n",
       "        vertical-align: top;\n",
       "    }\n",
       "\n",
       "    .dataframe thead th {\n",
       "        text-align: right;\n",
       "    }\n",
       "</style>\n",
       "<table border=\"1\" class=\"dataframe\">\n",
       "  <thead>\n",
       "    <tr style=\"text-align: right;\">\n",
       "      <th></th>\n",
       "      <th>source</th>\n",
       "      <th>session_date</th>\n",
       "      <th>count</th>\n",
       "      <th>cost</th>\n",
       "      <th>per_user</th>\n",
       "    </tr>\n",
       "  </thead>\n",
       "  <tbody>\n",
       "    <tr>\n",
       "      <td>0</td>\n",
       "      <td>facebook_ads</td>\n",
       "      <td>2020-05-04</td>\n",
       "      <td>1184</td>\n",
       "      <td>935.88</td>\n",
       "      <td>0.790439</td>\n",
       "    </tr>\n",
       "    <tr>\n",
       "      <td>1</td>\n",
       "      <td>facebook_ads</td>\n",
       "      <td>2020-05-05</td>\n",
       "      <td>694</td>\n",
       "      <td>548.35</td>\n",
       "      <td>0.790130</td>\n",
       "    </tr>\n",
       "    <tr>\n",
       "      <td>2</td>\n",
       "      <td>facebook_ads</td>\n",
       "      <td>2020-05-06</td>\n",
       "      <td>345</td>\n",
       "      <td>260.19</td>\n",
       "      <td>0.754174</td>\n",
       "    </tr>\n",
       "    <tr>\n",
       "      <td>3</td>\n",
       "      <td>facebook_ads</td>\n",
       "      <td>2020-05-07</td>\n",
       "      <td>224</td>\n",
       "      <td>177.98</td>\n",
       "      <td>0.794554</td>\n",
       "    </tr>\n",
       "    <tr>\n",
       "      <td>4</td>\n",
       "      <td>facebook_ads</td>\n",
       "      <td>2020-05-08</td>\n",
       "      <td>139</td>\n",
       "      <td>111.77</td>\n",
       "      <td>0.804101</td>\n",
       "    </tr>\n",
       "  </tbody>\n",
       "</table>\n",
       "</div>"
      ],
      "text/plain": [
       "         source session_date  count    cost  per_user\n",
       "0  facebook_ads   2020-05-04   1184  935.88  0.790439\n",
       "1  facebook_ads   2020-05-05    694  548.35  0.790130\n",
       "2  facebook_ads   2020-05-06    345  260.19  0.754174\n",
       "3  facebook_ads   2020-05-07    224  177.98  0.794554\n",
       "4  facebook_ads   2020-05-08    139  111.77  0.804101"
      ]
     },
     "execution_count": 23,
     "metadata": {},
     "output_type": "execute_result"
    }
   ],
   "source": [
    "ad['per_user'] = ad['cost'] / ad['count'] # добавим новый столбец\n",
    "\n",
    "ad.head() # посмотрим"
   ]
  },
  {
   "cell_type": "markdown",
   "id": "699f4e91",
   "metadata": {},
   "source": [
    "Рассчитаем средние и сумму расходов на рекламу по каждому каналу."
   ]
  },
  {
   "cell_type": "code",
   "execution_count": 24,
   "id": "a92da0bf",
   "metadata": {},
   "outputs": [
    {
     "data": {
      "text/html": [
       "<div>\n",
       "<style scoped>\n",
       "    .dataframe tbody tr th:only-of-type {\n",
       "        vertical-align: middle;\n",
       "    }\n",
       "\n",
       "    .dataframe tbody tr th {\n",
       "        vertical-align: top;\n",
       "    }\n",
       "\n",
       "    .dataframe thead th {\n",
       "        text-align: right;\n",
       "    }\n",
       "</style>\n",
       "<table border=\"1\" class=\"dataframe\">\n",
       "  <thead>\n",
       "    <tr style=\"text-align: right;\">\n",
       "      <th></th>\n",
       "      <th>per_user</th>\n",
       "    </tr>\n",
       "    <tr>\n",
       "      <th>source</th>\n",
       "      <th></th>\n",
       "    </tr>\n",
       "  </thead>\n",
       "  <tbody>\n",
       "    <tr>\n",
       "      <td>facebook_ads</td>\n",
       "      <td>0.776353</td>\n",
       "    </tr>\n",
       "    <tr>\n",
       "      <td>instagram_new_adverts</td>\n",
       "      <td>0.646158</td>\n",
       "    </tr>\n",
       "    <tr>\n",
       "      <td>yandex_direct</td>\n",
       "      <td>0.463491</td>\n",
       "    </tr>\n",
       "    <tr>\n",
       "      <td>youtube_channel_reklama</td>\n",
       "      <td>0.403216</td>\n",
       "    </tr>\n",
       "  </tbody>\n",
       "</table>\n",
       "</div>"
      ],
      "text/plain": [
       "                         per_user\n",
       "source                           \n",
       "facebook_ads             0.776353\n",
       "instagram_new_adverts    0.646158\n",
       "yandex_direct            0.463491\n",
       "youtube_channel_reklama  0.403216"
      ]
     },
     "execution_count": 24,
     "metadata": {},
     "output_type": "execute_result"
    }
   ],
   "source": [
    "ad.groupby('source').agg({'per_user':'mean'}).sort_values(by='per_user', ascending=False) # посчитаем"
   ]
  },
  {
   "cell_type": "code",
   "execution_count": 25,
   "id": "53d22ff9",
   "metadata": {},
   "outputs": [
    {
     "data": {
      "text/html": [
       "<div>\n",
       "<style scoped>\n",
       "    .dataframe tbody tr th:only-of-type {\n",
       "        vertical-align: middle;\n",
       "    }\n",
       "\n",
       "    .dataframe tbody tr th {\n",
       "        vertical-align: top;\n",
       "    }\n",
       "\n",
       "    .dataframe thead th {\n",
       "        text-align: right;\n",
       "    }\n",
       "</style>\n",
       "<table border=\"1\" class=\"dataframe\">\n",
       "  <thead>\n",
       "    <tr style=\"text-align: right;\">\n",
       "      <th></th>\n",
       "      <th>per_user</th>\n",
       "    </tr>\n",
       "    <tr>\n",
       "      <th>source</th>\n",
       "      <th></th>\n",
       "    </tr>\n",
       "  </thead>\n",
       "  <tbody>\n",
       "    <tr>\n",
       "      <td>facebook_ads</td>\n",
       "      <td>5.434469</td>\n",
       "    </tr>\n",
       "    <tr>\n",
       "      <td>instagram_new_adverts</td>\n",
       "      <td>4.523106</td>\n",
       "    </tr>\n",
       "    <tr>\n",
       "      <td>yandex_direct</td>\n",
       "      <td>3.244439</td>\n",
       "    </tr>\n",
       "    <tr>\n",
       "      <td>youtube_channel_reklama</td>\n",
       "      <td>2.822512</td>\n",
       "    </tr>\n",
       "  </tbody>\n",
       "</table>\n",
       "</div>"
      ],
      "text/plain": [
       "                         per_user\n",
       "source                           \n",
       "facebook_ads             5.434469\n",
       "instagram_new_adverts    4.523106\n",
       "yandex_direct            3.244439\n",
       "youtube_channel_reklama  2.822512"
      ]
     },
     "execution_count": 25,
     "metadata": {},
     "output_type": "execute_result"
    }
   ],
   "source": [
    "ad.groupby('source').agg({'per_user':'sum'}).sort_values(by='per_user', ascending=False) # посчитаем"
   ]
  },
  {
   "cell_type": "markdown",
   "id": "ded09b34",
   "metadata": {},
   "source": [
    "Посчитаем сколько в среднем стоило привлечение одного пользователя и сколько всего средств было вложено в рекламную компанию за исследуемый период."
   ]
  },
  {
   "cell_type": "code",
   "execution_count": 26,
   "id": "dd762aae",
   "metadata": {},
   "outputs": [
    {
     "name": "stdout",
     "output_type": "stream",
     "text": [
      "Количество средств вложенных в рекламную компанию: 0.5600743959929286\n"
     ]
    }
   ],
   "source": [
    "print('Количество средств вложенных в рекламную компанию:', (ad['cost'].sum() / ad['count'].sum())) # рассчитаем"
   ]
  },
  {
   "cell_type": "code",
   "execution_count": 27,
   "id": "3e947ecd",
   "metadata": {},
   "outputs": [
    {
     "name": "stdout",
     "output_type": "stream",
     "text": [
      "Количество средств вложенных в рекламную компанию: 7603.57\n"
     ]
    }
   ],
   "source": [
    "print('Количество средств вложенных в рекламную компанию:', ad['cost'].sum()) # рассчитаем"
   ]
  },
  {
   "cell_type": "markdown",
   "id": "e215f5fe",
   "metadata": {},
   "source": [
    "Рассчитаем какое количество пользователей привел каждый канал за исследуемый период."
   ]
  },
  {
   "cell_type": "code",
   "execution_count": 28,
   "id": "1773763a",
   "metadata": {},
   "outputs": [
    {
     "data": {
      "text/html": [
       "<div>\n",
       "<style scoped>\n",
       "    .dataframe tbody tr th:only-of-type {\n",
       "        vertical-align: middle;\n",
       "    }\n",
       "\n",
       "    .dataframe tbody tr th {\n",
       "        vertical-align: top;\n",
       "    }\n",
       "\n",
       "    .dataframe thead th {\n",
       "        text-align: right;\n",
       "    }\n",
       "</style>\n",
       "<table border=\"1\" class=\"dataframe\">\n",
       "  <thead>\n",
       "    <tr style=\"text-align: right;\">\n",
       "      <th></th>\n",
       "      <th>count</th>\n",
       "    </tr>\n",
       "    <tr>\n",
       "      <th>source</th>\n",
       "      <th></th>\n",
       "    </tr>\n",
       "  </thead>\n",
       "  <tbody>\n",
       "    <tr>\n",
       "      <td>yandex_direct</td>\n",
       "      <td>4817</td>\n",
       "    </tr>\n",
       "    <tr>\n",
       "      <td>instagram_new_adverts</td>\n",
       "      <td>3347</td>\n",
       "    </tr>\n",
       "    <tr>\n",
       "      <td>facebook_ads</td>\n",
       "      <td>2726</td>\n",
       "    </tr>\n",
       "    <tr>\n",
       "      <td>youtube_channel_reklama</td>\n",
       "      <td>2686</td>\n",
       "    </tr>\n",
       "  </tbody>\n",
       "</table>\n",
       "</div>"
      ],
      "text/plain": [
       "                         count\n",
       "source                        \n",
       "yandex_direct             4817\n",
       "instagram_new_adverts     3347\n",
       "facebook_ads              2726\n",
       "youtube_channel_reklama   2686"
      ]
     },
     "execution_count": 28,
     "metadata": {},
     "output_type": "execute_result"
    }
   ],
   "source": [
    "ad.groupby('source').agg({'count':'sum'}).sort_values(by='count', ascending=False) # рассчитаем"
   ]
  },
  {
   "cell_type": "markdown",
   "id": "69c2b96a",
   "metadata": {},
   "source": [
    "**Промежуточные выводы:**\n",
    "\n",
    "- самый дорогой и дешевый рекламные каналы оказались **facebook_ads** и **youtube_channel_reklama** соответственно, с средними значениями по стоимости привлечения одного пользователя в **0.78** и **0.4**;\n",
    "- больше всего пользователей привел рекламный канал **yandex_direct** с показателем **4817**, меньше всего пользователей привел рекламный канал **youtube_channel_reklama** с показателем **2686**;\n",
    "- больше всего средств было вложено в рекламный канал **facebook_ads** (**5.43**), меньше всего средств в **youtube_channel_reklama** (**2.82**);\n",
    "- в среднем, стоимость привлечения одного пользователя составляет **0.56**;\n",
    "- за исследуемый период в рекламную компанию было вложено **7603.57**;\n",
    "- рекомендую обратить внимание на рекламный канал **facebook_ads**: данный источник является самым дорогим (**0.78** за пользователя) и всего **2726** привлеченных пользователей. Данный канал потенциально является низкоэффективным, рекомендую провести дополнительное исследование по перераспределению рекламных средств."
   ]
  },
  {
   "cell_type": "markdown",
   "id": "ce5ab323",
   "metadata": {},
   "source": [
    "### Категорирование пользователей"
   ]
  },
  {
   "cell_type": "markdown",
   "id": "37f53212",
   "metadata": {},
   "source": [
    "Разделим пользователей на три категории. Первая категория: **не прошел первый уровень (1)**, вторая категория: **прошел первый уровень без завершения проекта (2)** и третья категория: **прошел первый уровень с завершением проекта (3)**.\n",
    "\n",
    "Для этого нам необходимо выделить пользователей по данных признакам и присоединить их к таблице **profiles**."
   ]
  },
  {
   "cell_type": "code",
   "execution_count": 29,
   "id": "9262ec3b",
   "metadata": {},
   "outputs": [],
   "source": [
    "# выделим пользователей, которые закончили уровень\n",
    "finished_level = finish_stage = game_actions[game_actions['event'] == 'finished_stage_1']\n",
    "\n",
    "# выделим пользователей, которые закончили проект\n",
    "finished_project = game_actions[game_actions['project_type'] == 'satellite_orbital_assembly']\n",
    "\n",
    "# выделим пользователей, которые закончили уровень, но не закончили проект\n",
    "not_finished_project = finished_level[~finished_level['user_id'].isin(finished_project['user_id'])]"
   ]
  },
  {
   "cell_type": "markdown",
   "id": "120de225",
   "metadata": {},
   "source": [
    "Далее создадим новый столбец **category** и присоединим информацию с категориями пользователей к таблице **profiles**."
   ]
  },
  {
   "cell_type": "code",
   "execution_count": 30,
   "id": "f292a1d8",
   "metadata": {},
   "outputs": [
    {
     "name": "stdout",
     "output_type": "stream",
     "text": [
      "<class 'pandas.core.frame.DataFrame'>\n",
      "Int64Index: 13576 entries, 0 to 13575\n",
      "Data columns (total 1 columns):\n",
      "category    5817 non-null float64\n",
      "dtypes: float64(1)\n",
      "memory usage: 212.1 KB\n"
     ]
    }
   ],
   "source": [
    "# добавим значение категорий к нашим таблицам\n",
    "finished_project.insert(6, 'category', 3)\n",
    "not_finished_project.insert(6, 'category', 2)\n",
    "\n",
    "# уберем ненужные поля\n",
    "finished_project = finished_project[['user_id', 'category']]\n",
    "not_finished_project = not_finished_project[['user_id', 'category']]\n",
    "\n",
    "# добавим информацию о категориях к таблице 'profiles'\n",
    "combined = pd.concat([finished_project, not_finished_project])\n",
    "profiles = pd.merge(profiles, combined, on = 'user_id', how = 'outer')\n",
    "\n",
    "profiles[['category']].info() # проверим"
   ]
  },
  {
   "cell_type": "markdown",
   "id": "86f59c7a",
   "metadata": {},
   "source": [
    "Пропущенные значение в столбце **category** - пользователи, которые не закончили первый уровень. Заменим пропуски на соответствующую категорию **(1)**."
   ]
  },
  {
   "cell_type": "code",
   "execution_count": 31,
   "id": "6ad27be2",
   "metadata": {},
   "outputs": [
    {
     "name": "stdout",
     "output_type": "stream",
     "text": [
      "<class 'pandas.core.frame.DataFrame'>\n",
      "Int64Index: 13576 entries, 0 to 13575\n",
      "Data columns (total 1 columns):\n",
      "category    13576 non-null float64\n",
      "dtypes: float64(1)\n",
      "memory usage: 212.1 KB\n"
     ]
    }
   ],
   "source": [
    "profiles['category'] = profiles['category'].fillna(1) # заменим\n",
    "\n",
    "profiles[['category']].info() # проверим"
   ]
  },
  {
   "cell_type": "code",
   "execution_count": 32,
   "id": "9de62321",
   "metadata": {},
   "outputs": [],
   "source": [
    "# почему то тип данных стал ‘float’ заменим на ‘int’\n",
    "profiles['category'] = profiles['category'].astype('int64')"
   ]
  },
  {
   "cell_type": "markdown",
   "id": "af993092",
   "metadata": {},
   "source": [
    "**Закрепим категории пользователей:**\n",
    "\n",
    "- **1** - пользователь не завершил первый уровень;\n",
    "- **2** - пользователь завершил первый уровень без завершенного проекта;\n",
    "- **3** - пользователь завершил первый уровень с завершенным проектом."
   ]
  },
  {
   "cell_type": "markdown",
   "id": "abd3f4ba",
   "metadata": {},
   "source": [
    "### Расчет оттока пользователей"
   ]
  },
  {
   "cell_type": "markdown",
   "id": "54a462ef",
   "metadata": {},
   "source": [
    "Посчитаем количество пользователей, которые забросили игру, и количество пользователей, которые завершили первый уровень."
   ]
  },
  {
   "cell_type": "code",
   "execution_count": 33,
   "id": "39027383",
   "metadata": {},
   "outputs": [
    {
     "data": {
      "text/html": [
       "<div>\n",
       "<style scoped>\n",
       "    .dataframe tbody tr th:only-of-type {\n",
       "        vertical-align: middle;\n",
       "    }\n",
       "\n",
       "    .dataframe tbody tr th {\n",
       "        vertical-align: top;\n",
       "    }\n",
       "\n",
       "    .dataframe thead th {\n",
       "        text-align: right;\n",
       "    }\n",
       "</style>\n",
       "<table border=\"1\" class=\"dataframe\">\n",
       "  <thead>\n",
       "    <tr style=\"text-align: right;\">\n",
       "      <th></th>\n",
       "      <th>category</th>\n",
       "    </tr>\n",
       "    <tr>\n",
       "      <th>category</th>\n",
       "      <th></th>\n",
       "    </tr>\n",
       "  </thead>\n",
       "  <tbody>\n",
       "    <tr>\n",
       "      <td>1</td>\n",
       "      <td>7759</td>\n",
       "    </tr>\n",
       "    <tr>\n",
       "      <td>2</td>\n",
       "      <td>3951</td>\n",
       "    </tr>\n",
       "    <tr>\n",
       "      <td>3</td>\n",
       "      <td>1866</td>\n",
       "    </tr>\n",
       "  </tbody>\n",
       "</table>\n",
       "</div>"
      ],
      "text/plain": [
       "          category\n",
       "category          \n",
       "1             7759\n",
       "2             3951\n",
       "3             1866"
      ]
     },
     "execution_count": 33,
     "metadata": {},
     "output_type": "execute_result"
    }
   ],
   "source": [
    "profiles.groupby('category').agg({'category':'count'}) # посчитаем"
   ]
  },
  {
   "cell_type": "markdown",
   "id": "df48f35d",
   "metadata": {},
   "source": [
    "**Промежуточные выводы:**\n",
    "\n",
    "- из **13576** пользователей, **7759** забросили игру и **5817** прошли первый уровень (из них **3951** не завершили проект и **1866** не завершили проект);\n",
    "- доля пользователей, которые **не прошли** первый уровень **0.57**;\n",
    "- доля пользователей, которые **прошли** первый уровень **0.43**."
   ]
  },
  {
   "cell_type": "markdown",
   "id": "8f4dad5f",
   "metadata": {},
   "source": [
    "### Анализ влияния событий на совершение целевого события"
   ]
  },
  {
   "cell_type": "markdown",
   "id": "3d4928ad",
   "metadata": {},
   "source": [
    "Первоначально присоединим информацию о категориях пользователей к таблице **game_actions**."
   ]
  },
  {
   "cell_type": "code",
   "execution_count": 34,
   "id": "cce1f1ec",
   "metadata": {},
   "outputs": [],
   "source": [
    "game_actions = pd.merge(game_actions, profiles[['user_id', 'category']]) # присоединим"
   ]
  },
  {
   "cell_type": "markdown",
   "id": "e10e0f7e",
   "metadata": {},
   "source": [
    "Сгруппируем данные и посчитаем какое общее количество построек совершили пользователи из каждой категории и присоединим информацию о количестве пользователей в каждой категории."
   ]
  },
  {
   "cell_type": "code",
   "execution_count": 35,
   "id": "9706d26b",
   "metadata": {},
   "outputs": [
    {
     "data": {
      "text/html": [
       "<div>\n",
       "<style scoped>\n",
       "    .dataframe tbody tr th:only-of-type {\n",
       "        vertical-align: middle;\n",
       "    }\n",
       "\n",
       "    .dataframe tbody tr th {\n",
       "        vertical-align: top;\n",
       "    }\n",
       "\n",
       "    .dataframe thead th {\n",
       "        text-align: right;\n",
       "    }\n",
       "</style>\n",
       "<table border=\"1\" class=\"dataframe\">\n",
       "  <thead>\n",
       "    <tr style=\"text-align: right;\">\n",
       "      <th></th>\n",
       "      <th>category</th>\n",
       "      <th>count_building</th>\n",
       "      <th>count_user</th>\n",
       "    </tr>\n",
       "  </thead>\n",
       "  <tbody>\n",
       "    <tr>\n",
       "      <td>0</td>\n",
       "      <td>1</td>\n",
       "      <td>67170</td>\n",
       "      <td>7759</td>\n",
       "    </tr>\n",
       "    <tr>\n",
       "      <td>1</td>\n",
       "      <td>2</td>\n",
       "      <td>37185</td>\n",
       "      <td>3951</td>\n",
       "    </tr>\n",
       "    <tr>\n",
       "      <td>2</td>\n",
       "      <td>3</td>\n",
       "      <td>23601</td>\n",
       "      <td>1866</td>\n",
       "    </tr>\n",
       "  </tbody>\n",
       "</table>\n",
       "</div>"
      ],
      "text/plain": [
       "   category  count_building  count_user\n",
       "0         1           67170        7759\n",
       "1         2           37185        3951\n",
       "2         3           23601        1866"
      ]
     },
     "execution_count": 35,
     "metadata": {},
     "output_type": "execute_result"
    }
   ],
   "source": [
    "# сгруппируем и присоединим\n",
    "building = (pd.merge(\n",
    "    \n",
    "    game_actions.loc[game_actions['event'] == 'building']\n",
    "        .groupby('category')['event']\n",
    "        .agg(['count']).reset_index(), \n",
    "    profiles.groupby('category')['category']\n",
    "        .agg(['count']).reset_index(), on = 'category')\n",
    "    .rename(columns={'count_x': 'count_building', 'count_y': 'count_user'})\n",
    ")\n",
    "\n",
    "building # посмотрим"
   ]
  },
  {
   "cell_type": "markdown",
   "id": "201cba74",
   "metadata": {},
   "source": [
    "Посчитаем сколько в среднем строительств совершает пользователь из каждой категории."
   ]
  },
  {
   "cell_type": "code",
   "execution_count": 36,
   "id": "2c59f699",
   "metadata": {},
   "outputs": [
    {
     "data": {
      "text/html": [
       "<div>\n",
       "<style scoped>\n",
       "    .dataframe tbody tr th:only-of-type {\n",
       "        vertical-align: middle;\n",
       "    }\n",
       "\n",
       "    .dataframe tbody tr th {\n",
       "        vertical-align: top;\n",
       "    }\n",
       "\n",
       "    .dataframe thead th {\n",
       "        text-align: right;\n",
       "    }\n",
       "</style>\n",
       "<table border=\"1\" class=\"dataframe\">\n",
       "  <thead>\n",
       "    <tr style=\"text-align: right;\">\n",
       "      <th></th>\n",
       "      <th>category</th>\n",
       "      <th>count_building</th>\n",
       "      <th>count_user</th>\n",
       "      <th>mean</th>\n",
       "    </tr>\n",
       "  </thead>\n",
       "  <tbody>\n",
       "    <tr>\n",
       "      <td>0</td>\n",
       "      <td>1</td>\n",
       "      <td>67170</td>\n",
       "      <td>7759</td>\n",
       "      <td>8.657043</td>\n",
       "    </tr>\n",
       "    <tr>\n",
       "      <td>1</td>\n",
       "      <td>2</td>\n",
       "      <td>37185</td>\n",
       "      <td>3951</td>\n",
       "      <td>9.411541</td>\n",
       "    </tr>\n",
       "    <tr>\n",
       "      <td>2</td>\n",
       "      <td>3</td>\n",
       "      <td>23601</td>\n",
       "      <td>1866</td>\n",
       "      <td>12.647910</td>\n",
       "    </tr>\n",
       "  </tbody>\n",
       "</table>\n",
       "</div>"
      ],
      "text/plain": [
       "   category  count_building  count_user       mean\n",
       "0         1           67170        7759   8.657043\n",
       "1         2           37185        3951   9.411541\n",
       "2         3           23601        1866  12.647910"
      ]
     },
     "execution_count": 36,
     "metadata": {},
     "output_type": "execute_result"
    }
   ],
   "source": [
    "building['mean'] = building['count_building'] / building['count_user'] # посчитаем\n",
    "\n",
    "building # посмотрим"
   ]
  },
  {
   "cell_type": "markdown",
   "id": "94a8e9dc",
   "metadata": {},
   "source": [
    "Посмотрим на распределение количества построек пользователей на столбчатых гистограммах для каждого пользователя по категориям. Создадим функцию, чтобы выделять нужную категорию пользователей."
   ]
  },
  {
   "cell_type": "code",
   "execution_count": 37,
   "id": "09736d5b",
   "metadata": {},
   "outputs": [],
   "source": [
    "def for_hist(i):\n",
    "    \n",
    "    # выделяем событие 'building' и нужную нам категорию пользователей\n",
    "    df = (\n",
    "    game_actions.loc[(game_actions['event'] == 'building')&(game_actions['category']== i)]\n",
    "        .groupby('user_id')['event']\n",
    "        .agg(['count'])\n",
    "    )\n",
    "    \n",
    "    return df"
   ]
  },
  {
   "cell_type": "markdown",
   "id": "2dab8fe2",
   "metadata": {},
   "source": [
    "Построим столбчатую гистограмму для каждой категории пользователей."
   ]
  },
  {
   "cell_type": "code",
   "execution_count": 38,
   "id": "263fec01",
   "metadata": {},
   "outputs": [
    {
     "data": {
      "image/png": "[encoded data removed]",
      "text/plain": [
       "<Figure size 648x432 with 1 Axes>"
      ]
     },
     "metadata": {
      "image/png": {
       "height": 386,
       "width": 562
      },
      "needs_background": "light"
     },
     "output_type": "display_data"
    }
   ],
   "source": [
    "df = for_hist(1)\n",
    "\n",
    "plt.figure(figsize=(9, 6))\n",
    "\n",
    "plt.hist(df['count'], bins=20)\n",
    "\n",
    "plt.grid(which='major', axis='both')\n",
    "\n",
    "plt.title('Пользователи 1 категории')\n",
    "plt.xlabel('Постройки')\n",
    "plt.ylabel('Количество')\n",
    "plt.show();"
   ]
  },
  {
   "cell_type": "code",
   "execution_count": 39,
   "id": "3420d4f3",
   "metadata": {},
   "outputs": [
    {
     "data": {
      "image/png": "[encoded data removed]",
      "text/plain": [
       "<Figure size 648x432 with 1 Axes>"
      ]
     },
     "metadata": {
      "image/png": {
       "height": 386,
       "width": 556
      },
      "needs_background": "light"
     },
     "output_type": "display_data"
    }
   ],
   "source": [
    "df = for_hist(2)\n",
    "\n",
    "plt.figure(figsize=(9, 6))\n",
    "\n",
    "plt.hist(df['count'], bins=18)\n",
    "\n",
    "plt.grid(which='major', axis='both')\n",
    "\n",
    "plt.title('Пользователи 2 категории')\n",
    "plt.xlabel('Постройки')\n",
    "plt.ylabel('Количество')\n",
    "plt.show();"
   ]
  },
  {
   "cell_type": "code",
   "execution_count": 40,
   "id": "f26b87e3",
   "metadata": {},
   "outputs": [
    {
     "data": {
      "image/png": "[encoded data removed]",
      "text/plain": [
       "<Figure size 648x432 with 1 Axes>"
      ]
     },
     "metadata": {
      "image/png": {
       "height": 386,
       "width": 556
      },
      "needs_background": "light"
     },
     "output_type": "display_data"
    }
   ],
   "source": [
    "df = for_hist(3)\n",
    "\n",
    "plt.figure(figsize=(9, 6))\n",
    "\n",
    "plt.hist(df['count'], bins=11)\n",
    "\n",
    "plt.grid(which='major', axis='both')\n",
    "\n",
    "plt.title('Пользователи 3 категории')\n",
    "plt.xlabel('Постройки')\n",
    "plt.ylabel('Количество')\n",
    "plt.show();"
   ]
  },
  {
   "cell_type": "markdown",
   "id": "3299c09f",
   "metadata": {},
   "source": [
    "**Промежуточные выводы:**\n",
    "\n",
    "- средние значения количества построек для пользователей **1**, **2** и **3** - **8,66**, **9,41** и **12,65** соответственно;\n",
    "- столбчатая гистограмма для пользователей категории **3** показала, что пользователи данной категории совершают как минимум **10** построек;\n",
    "- столбчатые гистограммы для пользователей категорий **1** и **2** показали, что идет сильное \"проседание\" по количеству пользователей, которые совершили **7** построек, соответственно факт **8** постройки может означать увлечение пользователя игрой и совершению целевого события."
   ]
  },
  {
   "cell_type": "markdown",
   "id": "0f1abe03",
   "metadata": {},
   "source": [
    "## Проверка гипотез"
   ]
  },
  {
   "cell_type": "markdown",
   "id": "cc8351eb",
   "metadata": {},
   "source": [
    "### Гипотеза 1"
   ]
  },
  {
   "cell_type": "markdown",
   "id": "622de48a",
   "metadata": {},
   "source": [
    "Сформулируем нулевую и альтернативную гипотезы.\n",
    "\n",
    "H0: среднее время прохождения уровня пользователями категории **2** равно среднему времени прохождения уровня пользователями категории **3**;\n",
    "\n",
    "H1: среднее время прохождения уровня пользователями категории **2** **не** равно среднему времени прохождения уровня пользователями категории **3**.\n",
    "\n",
    "Альтернативная гипотеза является двусторонней.\n",
    "\n",
    "Возьмем специальный метод для проверки гипотезы о равенстве среднего двух генеральных совокупностей `scipy.stats.ttest_ind()`.\n",
    "\n",
    "Параметр `equal_var` укажем как **False**, т.к. есть повод усомниться в равенстве дисперсий.\n",
    "\n",
    "Критический уровень статистической значимости укажем как **.05**."
   ]
  },
  {
   "cell_type": "code",
   "execution_count": 41,
   "id": "cdcf9491",
   "metadata": {},
   "outputs": [
    {
     "name": "stdout",
     "output_type": "stream",
     "text": [
      "p-значение: 5.713141274991641e-107\n",
      "Отвергаем нулевую гипотезу\n"
     ]
    }
   ],
   "source": [
    "alpha = 0.05 # зададим критический уровень статистической значимости\n",
    "\n",
    "results1 = st.ttest_ind(\n",
    "    profiles.loc[profiles['category'] == 2, 'transit_time'],\n",
    "    profiles.loc[profiles['category'] == 3, 'transit_time'],\n",
    "    equal_var = False\n",
    ") # проверим гипотезу о равенстве двух независимых совокупностей\n",
    "\n",
    "print('p-значение:', results1.pvalue)\n",
    "\n",
    "if results1.pvalue < alpha: # сравним получившееся p-значение с заданным уровнем статистической значимости\n",
    "    print(\"Отвергаем нулевую гипотезу\")\n",
    "else:\n",
    "    print(\"Не получилось отвергнуть нулевую гипотезу\")"
   ]
  },
  {
   "cell_type": "markdown",
   "id": "909a59d5",
   "metadata": {},
   "source": [
    "**Промежуточный вывод:**\n",
    "\n",
    "- статистическое исследование показало, что среднее время прохождения уровня пользователями категории **2** различается от среднего времени прохождения уровня пользователями категории **3**."
   ]
  },
  {
   "cell_type": "markdown",
   "id": "9ad0df3d",
   "metadata": {},
   "source": [
    "### Гипотеза 2"
   ]
  },
  {
   "cell_type": "markdown",
   "id": "71b7ca71",
   "metadata": {},
   "source": [
    "Сформулируем нулевую и альтернативную гипотезы.\n",
    "\n",
    "H0: среднее время нахождения на первом уровне пользователей категории **1** равно среднему времени нахождения на первом уровне пользователей категории **2**;\n",
    "\n",
    "H1: среднее время нахождения на первом уровне пользователей категории **1** **не** равно среднему времени нахождения на первом уровне пользователей категории **2**.\n",
    "\n",
    "Альтернативная гипотеза является двусторонней.\n",
    "\n",
    "Возьмем специальный метод для проверки гипотезы о равенстве среднего двух генеральных совокупностей `scipy.stats.ttest_ind()`.\n",
    "\n",
    "Параметр `equal_var` укажем как **False**, т.к. есть повод усомниться в равенстве дисперсий.\n",
    "\n",
    "Критический уровень статистической значимости укажем как **.05**."
   ]
  },
  {
   "cell_type": "code",
   "execution_count": 42,
   "id": "5dd0b66c",
   "metadata": {},
   "outputs": [
    {
     "name": "stdout",
     "output_type": "stream",
     "text": [
      "p-значение: 1.6625917122660234e-57\n",
      "Отвергаем нулевую гипотезу\n"
     ]
    }
   ],
   "source": [
    "alpha = 0.05 # зададим критический уровень статистической значимости\n",
    "\n",
    "results1 = st.ttest_ind(\n",
    "    profiles.loc[profiles['category'] == 1, 'transit_time'],\n",
    "    profiles.loc[profiles['category'] == 2, 'transit_time'],\n",
    "    equal_var = False\n",
    ") # проверим гипотезу о равенстве двух независимых совокупностей\n",
    "\n",
    "print('p-значение:', results1.pvalue)\n",
    "\n",
    "if results1.pvalue < alpha: # сравним получившееся p-значение с заданным уровнем статистической значимости\n",
    "    print(\"Отвергаем нулевую гипотезу\")\n",
    "else:\n",
    "    print(\"Не получилось отвергнуть нулевую гипотезу\")"
   ]
  },
  {
   "cell_type": "markdown",
   "id": "215eee7d",
   "metadata": {},
   "source": [
    "**Промежуточный вывод:**\n",
    "\n",
    "- статистическое исследование показало, что среднее время нахождение на уровне пользователями категории **1** отличается от среднего времени нахождения на уровне пользователями категории **2**."
   ]
  },
  {
   "cell_type": "markdown",
   "id": "ed06fa2a",
   "metadata": {},
   "source": [
    "## Модель монетизации игрового приложения"
   ]
  },
  {
   "cell_type": "markdown",
   "id": "c54bdae0",
   "metadata": {},
   "source": [
    "Первоначально посчитаем сколько в среднем каждый пользователь строит зданий."
   ]
  },
  {
   "cell_type": "code",
   "execution_count": 43,
   "id": "8bc0a7ae",
   "metadata": {},
   "outputs": [
    {
     "data": {
      "text/plain": [
       "9.425162050677667"
      ]
     },
     "execution_count": 43,
     "metadata": {},
     "output_type": "execute_result"
    }
   ],
   "source": [
    "game_actions[game_actions['event'] == 'building']['event'].count() / len(profiles) # посчитаем"
   ]
  },
  {
   "cell_type": "markdown",
   "id": "b9a4c2a6",
   "metadata": {},
   "source": [
    "**9.43** зданий в среднем строит пользователь приложения."
   ]
  },
  {
   "cell_type": "markdown",
   "id": "a79e73c7",
   "metadata": {},
   "source": [
    "**Соберем основную информацию из исследовательского анализа данных:**\n",
    "\n",
    "- пользователи, которые забросили игру в среднем строят **8.66** зданий;\n",
    "- пользователи, которые завершили первый уровень в среднем строят **10.45** зданий;\n",
    "- без разбиения пользователей на группы, среднее количество построек составляет **9.43**;\n",
    "- в среднем стоимость привлечения одного пользователя составляет **0.56**;\n",
    "- соотношение пользователей, которые забросили игру и которые прошли первый уровень от общего числа пользователей **0.57** и **0.43** соответственно.\n",
    "\n",
    "**Выбор оптимальной модели и времени для показа рекламы.**\n",
    "\n",
    "Цель модели: окупить затраты на рекламу. Чтобы возместить затраты на рекламу нам необходимо показать ее **8** раз. Из-за перекоса пропорции в сторону забросивших первый уровень пользователь (**0.57**) оптимальным временем показа рекламы будет являться момент **после** строительства пользователем **второго** здания. Данная рекламная модель позволит окупить затраты на рекламу и минимизирует раздражение пользователей."
   ]
  },
  {
   "cell_type": "markdown",
   "id": "0f0876b1",
   "metadata": {},
   "source": [
    "### Расчет модели монетизации игрового приложения"
   ]
  },
  {
   "cell_type": "markdown",
   "id": "6fab1bcc",
   "metadata": {},
   "source": [
    "Чтобы посчитать прибыль для рекомендуемой модели монетизации первоначально выделим строки с событием **building** и добавим столбец **profit** с значением **0.07** соответствующим прибыли с одного показа рекламы."
   ]
  },
  {
   "cell_type": "code",
   "execution_count": 44,
   "id": "30b765f4",
   "metadata": {},
   "outputs": [],
   "source": [
    "game_actions_build = game_actions.loc[game_actions['event'] == 'building'] # выделяем 'event' - 'building'\n",
    "\n",
    "game_actions_build.insert(7, 'profit', 0.07) # добавляем столбец 'profit' с значением 0.07"
   ]
  },
  {
   "cell_type": "markdown",
   "id": "a2f549d8",
   "metadata": {},
   "source": [
    "Так как после первого строительства каждого пользователя показ рекламы не будет осуществлен, первые действия пользователя будут равны нулю.\n",
    "\n",
    "Посчитаем какое количество средств принесет показ рекламы."
   ]
  },
  {
   "cell_type": "code",
   "execution_count": 45,
   "id": "64c51997",
   "metadata": {
    "scrolled": false
   },
   "outputs": [
    {
     "data": {
      "text/plain": [
       "8006.6"
      ]
     },
     "execution_count": 45,
     "metadata": {},
     "output_type": "execute_result"
    }
   ],
   "source": [
    "round(game_actions_build['profit'].sum() - 13576*0.07, 2) # посчитаем."
   ]
  },
  {
   "cell_type": "markdown",
   "id": "448ffc0e",
   "metadata": {},
   "source": [
    "Предположим, что для **5%** пользователей показ рекламы станет поводом, чтобы забросить игру. Посчитаем прибыль от показа рекламы для данного сценария."
   ]
  },
  {
   "cell_type": "code",
   "execution_count": 46,
   "id": "a5d2a261",
   "metadata": {},
   "outputs": [
    {
     "data": {
      "text/plain": [
       "7606.27"
      ]
     },
     "execution_count": 46,
     "metadata": {},
     "output_type": "execute_result"
    }
   ],
   "source": [
    "round((game_actions_build['profit'].sum() - 13576*0.07) * 0.95, 2) # посчитаем"
   ]
  },
  {
   "cell_type": "markdown",
   "id": "9738de43",
   "metadata": {},
   "source": [
    "Напомню, что суммарные затраты на привлечение пользователей составили **7603.57**.\n",
    "\n",
    "**Промежуточные выводы:**\n",
    "\n",
    "- расчеты показали, что предложенная модель монетизации игрового приложения принесла бы **8006.6**, что перекрывает первоначальные затраты на рекламу от привлечения пользователей;\n",
    "- данная модель имеет запас на отток пользователей в **5%** из-за показа рекламы. Данный сценарий принес бы **7606.27**, что так же перекроет затраты от первоначального привлечения пользователей."
   ]
  },
  {
   "cell_type": "markdown",
   "id": "abdc410d",
   "metadata": {},
   "source": [
    "## Итоговый вывод"
   ]
  },
  {
   "cell_type": "markdown",
   "id": "1b3087ce",
   "metadata": {},
   "source": [
    "**Итоговый вывод:**\n",
    "\n",
    "- рекламный канал **facebook_ads** потенциально является низкоэффективным из-за высокой стоимости привлечения одного пользователя (**0.78**) и малого количества привлеченных пользователей (**2726**). Рекомендую провести дополнительное исследование по перераспределению рекламных средств;\n",
    "- столбчатые гистограммы для пользователей **1** и **2** категорий показали, что идет \"проседание\" по количеству пользователей, которые совершили **7** построек, что может являться препятствием для преодоления первого уровня. Рекомендую провести тестирование на ошибки в механике игры в этом моменте;\n",
    "- оптимальная модель монетизации приложения: показ рекламы **после** строительства пользователем **второго** здания. Таким образом приложение заработает **8006.6**, что полностью перекроет затраты на привлечение пользователей. При этом модель имеет запас прочности в **5%**, в случаях, если часть пользователей будут прекращать играть из-за всплывающих рекламных роликов;\n",
    "- доли пользователей (от общего количества), которые завершили первый уровень и прекратили играть составляют **0.47** и **0.57** соответственно."
   ]
  }
 ],
 "metadata": {
  "ExecuteTimeLog": [
   {
    "duration": 1478,
    "start_time": "2022-05-08T09:58:58.760Z"
   },
   {
    "duration": 281,
    "start_time": "2022-05-08T09:59:00.241Z"
   },
   {
    "duration": 43,
    "start_time": "2022-05-08T09:59:00.524Z"
   },
   {
    "duration": 31,
    "start_time": "2022-05-08T09:59:00.569Z"
   },
   {
    "duration": 78,
    "start_time": "2022-05-08T09:59:00.602Z"
   },
   {
    "duration": 32,
    "start_time": "2022-05-08T09:59:00.682Z"
   },
   {
    "duration": 25,
    "start_time": "2022-05-08T09:59:00.715Z"
   },
   {
    "duration": 40,
    "start_time": "2022-05-08T09:59:00.742Z"
   },
   {
    "duration": 10,
    "start_time": "2022-05-08T09:59:00.784Z"
   },
   {
    "duration": 53,
    "start_time": "2022-05-08T09:59:00.795Z"
   },
   {
    "duration": 13,
    "start_time": "2022-05-08T09:59:00.850Z"
   },
   {
    "duration": 9,
    "start_time": "2022-05-08T09:59:00.864Z"
   },
   {
    "duration": 77,
    "start_time": "2022-05-08T09:59:00.874Z"
   },
   {
    "duration": 82,
    "start_time": "2022-05-08T09:59:00.954Z"
   },
   {
    "duration": 155,
    "start_time": "2022-05-08T09:59:01.038Z"
   },
   {
    "duration": 6,
    "start_time": "2022-05-08T09:59:01.195Z"
   },
   {
    "duration": 176,
    "start_time": "2022-05-08T09:59:01.202Z"
   },
   {
    "duration": 26,
    "start_time": "2022-05-08T09:59:01.381Z"
   },
   {
    "duration": 173,
    "start_time": "2022-05-08T09:59:01.410Z"
   },
   {
    "duration": 25,
    "start_time": "2022-05-08T09:59:01.585Z"
   },
   {
    "duration": 514,
    "start_time": "2022-05-08T09:59:01.612Z"
   },
   {
    "duration": 26,
    "start_time": "2022-05-08T09:59:02.128Z"
   },
   {
    "duration": 13,
    "start_time": "2022-05-08T09:59:02.156Z"
   },
   {
    "duration": 16,
    "start_time": "2022-05-08T09:59:02.171Z"
   },
   {
    "duration": 25,
    "start_time": "2022-05-08T09:59:02.190Z"
   },
   {
    "duration": 9,
    "start_time": "2022-05-08T09:59:02.233Z"
   },
   {
    "duration": 12,
    "start_time": "2022-05-08T09:59:02.244Z"
   },
   {
    "duration": 39,
    "start_time": "2022-05-08T09:59:02.258Z"
   },
   {
    "duration": 43,
    "start_time": "2022-05-08T09:59:02.299Z"
   },
   {
    "duration": 12,
    "start_time": "2022-05-08T09:59:02.344Z"
   },
   {
    "duration": 8,
    "start_time": "2022-05-08T09:59:02.358Z"
   },
   {
    "duration": 17,
    "start_time": "2022-05-08T09:59:02.369Z"
   },
   {
    "duration": 67,
    "start_time": "2022-05-08T09:59:02.388Z"
   },
   {
    "duration": 45,
    "start_time": "2022-05-08T09:59:02.457Z"
   },
   {
    "duration": 31,
    "start_time": "2022-05-08T09:59:02.504Z"
   },
   {
    "duration": 4,
    "start_time": "2022-05-08T09:59:02.536Z"
   },
   {
    "duration": 302,
    "start_time": "2022-05-08T09:59:02.541Z"
   },
   {
    "duration": 278,
    "start_time": "2022-05-08T09:59:02.845Z"
   },
   {
    "duration": 261,
    "start_time": "2022-05-08T09:59:03.125Z"
   },
   {
    "duration": 7,
    "start_time": "2022-05-08T09:59:03.388Z"
   },
   {
    "duration": 33,
    "start_time": "2022-05-08T09:59:03.400Z"
   },
   {
    "duration": 39,
    "start_time": "2022-05-08T09:59:03.436Z"
   },
   {
    "duration": 99,
    "start_time": "2022-05-13T08:46:03.791Z"
   },
   {
    "duration": 63,
    "start_time": "2022-05-13T08:46:04.074Z"
   },
   {
    "duration": 8,
    "start_time": "2022-05-13T08:47:05.372Z"
   },
   {
    "duration": 9,
    "start_time": "2022-05-13T08:48:44.820Z"
   },
   {
    "duration": 1356,
    "start_time": "2022-05-13T08:48:52.731Z"
   },
   {
    "duration": 316,
    "start_time": "2022-05-13T08:48:54.089Z"
   },
   {
    "duration": 57,
    "start_time": "2022-05-13T08:48:54.407Z"
   },
   {
    "duration": 30,
    "start_time": "2022-05-13T08:48:54.466Z"
   },
   {
    "duration": 109,
    "start_time": "2022-05-13T08:48:54.499Z"
   },
   {
    "duration": 54,
    "start_time": "2022-05-13T08:48:54.611Z"
   },
   {
    "duration": 16,
    "start_time": "2022-05-13T08:48:54.668Z"
   },
   {
    "duration": 45,
    "start_time": "2022-05-13T08:48:54.686Z"
   },
   {
    "duration": 14,
    "start_time": "2022-05-13T08:48:54.752Z"
   },
   {
    "duration": 41,
    "start_time": "2022-05-13T08:48:54.768Z"
   },
   {
    "duration": 50,
    "start_time": "2022-05-13T08:48:54.812Z"
   },
   {
    "duration": 12,
    "start_time": "2022-05-13T08:48:54.864Z"
   },
   {
    "duration": 85,
    "start_time": "2022-05-13T08:48:54.878Z"
   },
   {
    "duration": 124,
    "start_time": "2022-05-13T08:48:54.967Z"
   },
   {
    "duration": 226,
    "start_time": "2022-05-13T08:48:55.093Z"
   },
   {
    "duration": 6,
    "start_time": "2022-05-13T08:48:55.321Z"
   },
   {
    "duration": 233,
    "start_time": "2022-05-13T08:48:55.329Z"
   },
   {
    "duration": 32,
    "start_time": "2022-05-13T08:48:55.564Z"
   },
   {
    "duration": 229,
    "start_time": "2022-05-13T08:48:55.599Z"
   },
   {
    "duration": 38,
    "start_time": "2022-05-13T08:48:55.831Z"
   },
   {
    "duration": 737,
    "start_time": "2022-05-13T08:48:55.871Z"
   },
   {
    "duration": 34,
    "start_time": "2022-05-13T08:48:56.611Z"
   },
   {
    "duration": 16,
    "start_time": "2022-05-13T08:48:56.647Z"
   },
   {
    "duration": 16,
    "start_time": "2022-05-13T08:48:56.665Z"
   },
   {
    "duration": 16,
    "start_time": "2022-05-13T08:48:56.684Z"
   },
   {
    "duration": 14,
    "start_time": "2022-05-13T08:48:56.702Z"
   },
   {
    "duration": 34,
    "start_time": "2022-05-13T08:48:56.718Z"
   },
   {
    "duration": 14,
    "start_time": "2022-05-13T08:48:56.754Z"
   },
   {
    "duration": 31,
    "start_time": "2022-05-13T08:48:56.770Z"
   },
   {
    "duration": 62,
    "start_time": "2022-05-13T08:48:56.803Z"
   },
   {
    "duration": 15,
    "start_time": "2022-05-13T08:48:56.867Z"
   },
   {
    "duration": 13,
    "start_time": "2022-05-13T08:48:56.884Z"
   },
   {
    "duration": 19,
    "start_time": "2022-05-13T08:48:56.899Z"
   },
   {
    "duration": 89,
    "start_time": "2022-05-13T08:48:56.921Z"
   },
   {
    "duration": 80,
    "start_time": "2022-05-13T08:48:57.013Z"
   },
   {
    "duration": 10,
    "start_time": "2022-05-13T08:48:57.095Z"
   },
   {
    "duration": 6,
    "start_time": "2022-05-13T08:48:57.107Z"
   },
   {
    "duration": 487,
    "start_time": "2022-05-13T08:48:57.115Z"
   },
   {
    "duration": 451,
    "start_time": "2022-05-13T08:48:57.604Z"
   },
   {
    "duration": 413,
    "start_time": "2022-05-13T08:48:58.057Z"
   },
   {
    "duration": 9,
    "start_time": "2022-05-13T08:48:58.476Z"
   },
   {
    "duration": 9,
    "start_time": "2022-05-13T08:48:58.487Z"
   },
   {
    "duration": 8,
    "start_time": "2022-05-13T08:48:58.498Z"
   },
   {
    "duration": 45,
    "start_time": "2022-05-13T08:48:58.508Z"
   },
   {
    "duration": 35,
    "start_time": "2022-05-13T08:48:58.556Z"
   },
   {
    "duration": 58,
    "start_time": "2022-05-13T08:48:58.594Z"
   },
   {
    "duration": 11,
    "start_time": "2022-05-13T08:48:58.654Z"
   },
   {
    "duration": 7,
    "start_time": "2022-05-13T08:48:58.668Z"
   },
   {
    "duration": 8,
    "start_time": "2022-05-13T08:48:58.677Z"
   }
  ],
  "kernelspec": {
   "display_name": "Python 3 (ipykernel)",
   "language": "python",
   "name": "python3"
  },
  "language_info": {
   "codemirror_mode": {
    "name": "ipython",
    "version": 3
   },
   "file_extension": ".py",
   "mimetype": "text/x-python",
   "name": "python",
   "nbconvert_exporter": "python",
   "pygments_lexer": "ipython3",
   "version": "3.9.13"
  },
  "toc": {
   "base_numbering": 1,
   "nav_menu": {},
   "number_sections": true,
   "sideBar": true,
   "skip_h1_title": true,
   "title_cell": "Содержание",
   "title_sidebar": "Contents",
   "toc_cell": true,
   "toc_position": {
    "height": "calc(100% - 180px)",
    "left": "10px",
    "top": "150px",
    "width": "307.2px"
   },
   "toc_section_display": true,
   "toc_window_display": true
  }
 },
 "nbformat": 4,
 "nbformat_minor": 5
}
