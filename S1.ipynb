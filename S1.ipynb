{
 "cells": [
  {
   "cell_type": "code",
   "execution_count": 3,
   "id": "c04a5d9f",
   "metadata": {},
   "outputs": [
    {
     "name": "stdout",
     "output_type": "stream",
     "text": [
      "Hack the world!\n"
     ]
    }
   ],
   "source": [
    "robot_name = 'Mr. Robot'\n",
    "robot_goal = 'Hack the world!'\n",
    "robot_name = robot_goal\n",
    "print(robot_name) "
   ]
  },
  {
   "cell_type": "code",
   "execution_count": 4,
   "id": "0805915e",
   "metadata": {},
   "outputs": [
    {
     "name": "stdout",
     "output_type": "stream",
     "text": [
      "2.5\n"
     ]
    }
   ],
   "source": [
    "print(5/2)"
   ]
  },
  {
   "cell_type": "code",
   "execution_count": null,
   "id": "498d26eb",
   "metadata": {},
   "outputs": [],
   "source": []
  }
 ],
 "metadata": {
  "kernelspec": {
   "display_name": "Python 3 (ipykernel)",
   "language": "python",
   "name": "python3"
  },
  "language_info": {
   "codemirror_mode": {
    "name": "ipython",
    "version": 3
   },
   "file_extension": ".py",
   "mimetype": "text/x-python",
   "name": "python",
   "nbconvert_exporter": "python",
   "pygments_lexer": "ipython3",
   "version": "3.9.13"
  }
 },
 "nbformat": 4,
 "nbformat_minor": 5
}
