{
 "cells": [
  {
   "cell_type": "markdown",
   "id": "3daf8f63",
   "metadata": {
    "toc": true
   },
   "source": [
    "<h1>Содержание<span class=\"tocSkip\"></span></h1>\n",
    "<div class=\"toc\"><ul class=\"toc-item\"><li><span><a href=\"#Обзор-данных\" data-toc-modified-id=\"Обзор-данных-1\"><span class=\"toc-item-num\">1&nbsp;&nbsp;</span>Обзор данных</a></span></li><li><span><a href=\"#Предобработка-данных\" data-toc-modified-id=\"Предобработка-данных-2\"><span class=\"toc-item-num\">2&nbsp;&nbsp;</span>Предобработка данных</a></span><ul class=\"toc-item\"><li><span><a href=\"#Определение-и-заполнение-пропущенных-значений\" data-toc-modified-id=\"Определение-и-заполнение-пропущенных-значений-2.1\"><span class=\"toc-item-num\">2.1&nbsp;&nbsp;</span>Определение и заполнение пропущенных значений</a></span></li><li><span><a href=\"#Преобразование-типов-данных\" data-toc-modified-id=\"Преобразование-типов-данных-2.2\"><span class=\"toc-item-num\">2.2&nbsp;&nbsp;</span>Преобразование типов данных</a></span></li><li><span><a href=\"#Поиск-дубликатов\" data-toc-modified-id=\"Поиск-дубликатов-2.3\"><span class=\"toc-item-num\">2.3&nbsp;&nbsp;</span>Поиск дубликатов</a></span><ul class=\"toc-item\"><li><span><a href=\"#Ручной-поиск-дубликатов-с-учетом-регистра\" data-toc-modified-id=\"Ручной-поиск-дубликатов-с-учетом-регистра-2.3.1\"><span class=\"toc-item-num\">2.3.1&nbsp;&nbsp;</span>Ручной поиск дубликатов с учетом регистра</a></span></li><li><span><a href=\"#Ручной-поиск-и-удаление-явных-дубликатов\" data-toc-modified-id=\"Ручной-поиск-и-удаление-явных-дубликатов-2.3.2\"><span class=\"toc-item-num\">2.3.2&nbsp;&nbsp;</span>Ручной поиск и удаление явных дубликатов</a></span></li><li><span><a href=\"#Проверка-столбцов-с-категориальными-переменными\" data-toc-modified-id=\"Проверка-столбцов-с-категориальными-переменными-2.3.3\"><span class=\"toc-item-num\">2.3.3&nbsp;&nbsp;</span>Проверка столбцов с категориальными переменными</a></span></li><li><span><a href=\"#Лемматизация-данных\" data-toc-modified-id=\"Лемматизация-данных-2.3.4\"><span class=\"toc-item-num\">2.3.4&nbsp;&nbsp;</span>Лемматизация данных</a></span></li><li><span><a href=\"#Категоризация-столбца-'purpose'\" data-toc-modified-id=\"Категоризация-столбца-'purpose'-2.3.5\"><span class=\"toc-item-num\">2.3.5&nbsp;&nbsp;</span>Категоризация столбца 'purpose'</a></span></li></ul></li><li><span><a href=\"#Создание-словарей\" data-toc-modified-id=\"Создание-словарей-2.4\"><span class=\"toc-item-num\">2.4&nbsp;&nbsp;</span>Создание словарей</a></span></li></ul></li><li><span><a href=\"#Проверка-гипотез\" data-toc-modified-id=\"Проверка-гипотез-3\"><span class=\"toc-item-num\">3&nbsp;&nbsp;</span>Проверка гипотез</a></span><ul class=\"toc-item\"><li><span><a href=\"#Проверка-зависимости-между-наличием-детей-и-возвратом-кредита-в-срок\" data-toc-modified-id=\"Проверка-зависимости-между-наличием-детей-и-возвратом-кредита-в-срок-3.1\"><span class=\"toc-item-num\">3.1&nbsp;&nbsp;</span>Проверка зависимости между наличием детей и возвратом кредита в срок</a></span></li><li><span><a href=\"#Проверка-зависимости-между-семейным-положением-и-возвратом-кредита-в-срок\" data-toc-modified-id=\"Проверка-зависимости-между-семейным-положением-и-возвратом-кредита-в-срок-3.2\"><span class=\"toc-item-num\">3.2&nbsp;&nbsp;</span>Проверка зависимости между семейным положением и возвратом кредита в срок</a></span></li><li><span><a href=\"#Проверка-зависимости-между-уровнем-дохода-и-возратом-кредита-в-срок\" data-toc-modified-id=\"Проверка-зависимости-между-уровнем-дохода-и-возратом-кредита-в-срок-3.3\"><span class=\"toc-item-num\">3.3&nbsp;&nbsp;</span>Проверка зависимости между уровнем дохода и возратом кредита в срок</a></span></li><li><span><a href=\"#Проверка-завимости-целей-кредита-влияют-на-возврат-в-срок\" data-toc-modified-id=\"Проверка-завимости-целей-кредита-влияют-на-возврат-в-срок-3.4\"><span class=\"toc-item-num\">3.4&nbsp;&nbsp;</span>Проверка завимости целей кредита влияют на возврат в срок</a></span></li></ul></li><li><span><a href=\"#Итоги-исследования\" data-toc-modified-id=\"Итоги-исследования-4\"><span class=\"toc-item-num\">4&nbsp;&nbsp;</span>Итоги исследования</a></span></li></ul></div>"
   ]
  },
  {
   "cell_type": "markdown",
   "id": "5669b257",
   "metadata": {},
   "source": [
    "# Задачи проекта"
   ]
  },
  {
   "cell_type": "markdown",
   "id": "3137c1d8",
   "metadata": {},
   "source": [
    "Заказчик — кредитный отдел банка. Нужно разобраться, влияет ли семейное положение и количество детей клиента на факт погашения кредита в срок. Входные данные от банка — статистика о платежеспособности клиентов.\n",
    "\n",
    "Результаты исследования будут учтены при построении модели **кредитного скоринга** — специальной системы, которая оценивает способность потенциального заёмщика вернуть кредит банку."
   ]
  },
  {
   "cell_type": "markdown",
   "id": "035dc8a3",
   "metadata": {},
   "source": [
    "## Обзор данных"
   ]
  },
  {
   "cell_type": "markdown",
   "id": "8c891d66",
   "metadata": {},
   "source": [
    "Первоначально импортируем необходимую библиотеки и сохраним в переменную таблицу."
   ]
  },
  {
   "cell_type": "code",
   "execution_count": 1,
   "id": "d679340c",
   "metadata": {},
   "outputs": [],
   "source": [
    "# импортируем библиотеки\n",
    "import pandas as pd\n",
    "from pymystem3 import Mystem"
   ]
  },
  {
   "cell_type": "code",
   "execution_count": 2,
   "id": "e56db45c",
   "metadata": {},
   "outputs": [
    {
     "data": {
      "text/html": [
       "<div>\n",
       "<style scoped>\n",
       "    .dataframe tbody tr th:only-of-type {\n",
       "        vertical-align: middle;\n",
       "    }\n",
       "\n",
       "    .dataframe tbody tr th {\n",
       "        vertical-align: top;\n",
       "    }\n",
       "\n",
       "    .dataframe thead th {\n",
       "        text-align: right;\n",
       "    }\n",
       "</style>\n",
       "<table border=\"1\" class=\"dataframe\">\n",
       "  <thead>\n",
       "    <tr style=\"text-align: right;\">\n",
       "      <th></th>\n",
       "      <th>children</th>\n",
       "      <th>days_employed</th>\n",
       "      <th>dob_years</th>\n",
       "      <th>education</th>\n",
       "      <th>education_id</th>\n",
       "      <th>family_status</th>\n",
       "      <th>family_status_id</th>\n",
       "      <th>gender</th>\n",
       "      <th>income_type</th>\n",
       "      <th>debt</th>\n",
       "      <th>total_income</th>\n",
       "      <th>purpose</th>\n",
       "    </tr>\n",
       "  </thead>\n",
       "  <tbody>\n",
       "    <tr>\n",
       "      <td>0</td>\n",
       "      <td>1</td>\n",
       "      <td>-8437.673028</td>\n",
       "      <td>42</td>\n",
       "      <td>высшее</td>\n",
       "      <td>0</td>\n",
       "      <td>женат / замужем</td>\n",
       "      <td>0</td>\n",
       "      <td>F</td>\n",
       "      <td>сотрудник</td>\n",
       "      <td>0</td>\n",
       "      <td>253875.639453</td>\n",
       "      <td>покупка жилья</td>\n",
       "    </tr>\n",
       "    <tr>\n",
       "      <td>1</td>\n",
       "      <td>1</td>\n",
       "      <td>-4024.803754</td>\n",
       "      <td>36</td>\n",
       "      <td>среднее</td>\n",
       "      <td>1</td>\n",
       "      <td>женат / замужем</td>\n",
       "      <td>0</td>\n",
       "      <td>F</td>\n",
       "      <td>сотрудник</td>\n",
       "      <td>0</td>\n",
       "      <td>112080.014102</td>\n",
       "      <td>приобретение автомобиля</td>\n",
       "    </tr>\n",
       "    <tr>\n",
       "      <td>2</td>\n",
       "      <td>0</td>\n",
       "      <td>-5623.422610</td>\n",
       "      <td>33</td>\n",
       "      <td>Среднее</td>\n",
       "      <td>1</td>\n",
       "      <td>женат / замужем</td>\n",
       "      <td>0</td>\n",
       "      <td>M</td>\n",
       "      <td>сотрудник</td>\n",
       "      <td>0</td>\n",
       "      <td>145885.952297</td>\n",
       "      <td>покупка жилья</td>\n",
       "    </tr>\n",
       "    <tr>\n",
       "      <td>3</td>\n",
       "      <td>3</td>\n",
       "      <td>-4124.747207</td>\n",
       "      <td>32</td>\n",
       "      <td>среднее</td>\n",
       "      <td>1</td>\n",
       "      <td>женат / замужем</td>\n",
       "      <td>0</td>\n",
       "      <td>M</td>\n",
       "      <td>сотрудник</td>\n",
       "      <td>0</td>\n",
       "      <td>267628.550329</td>\n",
       "      <td>дополнительное образование</td>\n",
       "    </tr>\n",
       "    <tr>\n",
       "      <td>4</td>\n",
       "      <td>0</td>\n",
       "      <td>340266.072047</td>\n",
       "      <td>53</td>\n",
       "      <td>среднее</td>\n",
       "      <td>1</td>\n",
       "      <td>гражданский брак</td>\n",
       "      <td>1</td>\n",
       "      <td>F</td>\n",
       "      <td>пенсионер</td>\n",
       "      <td>0</td>\n",
       "      <td>158616.077870</td>\n",
       "      <td>сыграть свадьбу</td>\n",
       "    </tr>\n",
       "    <tr>\n",
       "      <td>5</td>\n",
       "      <td>0</td>\n",
       "      <td>-926.185831</td>\n",
       "      <td>27</td>\n",
       "      <td>высшее</td>\n",
       "      <td>0</td>\n",
       "      <td>гражданский брак</td>\n",
       "      <td>1</td>\n",
       "      <td>M</td>\n",
       "      <td>компаньон</td>\n",
       "      <td>0</td>\n",
       "      <td>255763.565419</td>\n",
       "      <td>покупка жилья</td>\n",
       "    </tr>\n",
       "    <tr>\n",
       "      <td>6</td>\n",
       "      <td>0</td>\n",
       "      <td>-2879.202052</td>\n",
       "      <td>43</td>\n",
       "      <td>высшее</td>\n",
       "      <td>0</td>\n",
       "      <td>женат / замужем</td>\n",
       "      <td>0</td>\n",
       "      <td>F</td>\n",
       "      <td>компаньон</td>\n",
       "      <td>0</td>\n",
       "      <td>240525.971920</td>\n",
       "      <td>операции с жильем</td>\n",
       "    </tr>\n",
       "    <tr>\n",
       "      <td>7</td>\n",
       "      <td>0</td>\n",
       "      <td>-152.779569</td>\n",
       "      <td>50</td>\n",
       "      <td>СРЕДНЕЕ</td>\n",
       "      <td>1</td>\n",
       "      <td>женат / замужем</td>\n",
       "      <td>0</td>\n",
       "      <td>M</td>\n",
       "      <td>сотрудник</td>\n",
       "      <td>0</td>\n",
       "      <td>135823.934197</td>\n",
       "      <td>образование</td>\n",
       "    </tr>\n",
       "    <tr>\n",
       "      <td>8</td>\n",
       "      <td>2</td>\n",
       "      <td>-6929.865299</td>\n",
       "      <td>35</td>\n",
       "      <td>ВЫСШЕЕ</td>\n",
       "      <td>0</td>\n",
       "      <td>гражданский брак</td>\n",
       "      <td>1</td>\n",
       "      <td>F</td>\n",
       "      <td>сотрудник</td>\n",
       "      <td>0</td>\n",
       "      <td>95856.832424</td>\n",
       "      <td>на проведение свадьбы</td>\n",
       "    </tr>\n",
       "    <tr>\n",
       "      <td>9</td>\n",
       "      <td>0</td>\n",
       "      <td>-2188.756445</td>\n",
       "      <td>41</td>\n",
       "      <td>среднее</td>\n",
       "      <td>1</td>\n",
       "      <td>женат / замужем</td>\n",
       "      <td>0</td>\n",
       "      <td>M</td>\n",
       "      <td>сотрудник</td>\n",
       "      <td>0</td>\n",
       "      <td>144425.938277</td>\n",
       "      <td>покупка жилья для семьи</td>\n",
       "    </tr>\n",
       "  </tbody>\n",
       "</table>\n",
       "</div>"
      ],
      "text/plain": [
       "   children  days_employed  dob_years education  education_id  \\\n",
       "0         1   -8437.673028         42    высшее             0   \n",
       "1         1   -4024.803754         36   среднее             1   \n",
       "2         0   -5623.422610         33   Среднее             1   \n",
       "3         3   -4124.747207         32   среднее             1   \n",
       "4         0  340266.072047         53   среднее             1   \n",
       "5         0    -926.185831         27    высшее             0   \n",
       "6         0   -2879.202052         43    высшее             0   \n",
       "7         0    -152.779569         50   СРЕДНЕЕ             1   \n",
       "8         2   -6929.865299         35    ВЫСШЕЕ             0   \n",
       "9         0   -2188.756445         41   среднее             1   \n",
       "\n",
       "      family_status  family_status_id gender income_type  debt   total_income  \\\n",
       "0   женат / замужем                 0      F   сотрудник     0  253875.639453   \n",
       "1   женат / замужем                 0      F   сотрудник     0  112080.014102   \n",
       "2   женат / замужем                 0      M   сотрудник     0  145885.952297   \n",
       "3   женат / замужем                 0      M   сотрудник     0  267628.550329   \n",
       "4  гражданский брак                 1      F   пенсионер     0  158616.077870   \n",
       "5  гражданский брак                 1      M   компаньон     0  255763.565419   \n",
       "6   женат / замужем                 0      F   компаньон     0  240525.971920   \n",
       "7   женат / замужем                 0      M   сотрудник     0  135823.934197   \n",
       "8  гражданский брак                 1      F   сотрудник     0   95856.832424   \n",
       "9   женат / замужем                 0      M   сотрудник     0  144425.938277   \n",
       "\n",
       "                      purpose  \n",
       "0               покупка жилья  \n",
       "1     приобретение автомобиля  \n",
       "2               покупка жилья  \n",
       "3  дополнительное образование  \n",
       "4             сыграть свадьбу  \n",
       "5               покупка жилья  \n",
       "6           операции с жильем  \n",
       "7                 образование  \n",
       "8       на проведение свадьбы  \n",
       "9     покупка жилья для семьи  "
      ]
     },
     "execution_count": 2,
     "metadata": {},
     "output_type": "execute_result"
    }
   ],
   "source": [
    "# чтение файла с данными с сохранение в переменную 'df'\n",
    "try:\n",
    "    df = pd.read_csv('/datasets/data.csv') \n",
    "except:\n",
    "    df = pd.read_csv('D:\\datasets\\project2_df.csv')\n",
    "    \n",
    "df.head(10) # посмотрим"
   ]
  },
  {
   "cell_type": "markdown",
   "id": "45384185",
   "metadata": {},
   "source": [
    "Применим метод info(), чтобы посмотреть общую информацию о таблице."
   ]
  },
  {
   "cell_type": "code",
   "execution_count": 3,
   "id": "0c152c01",
   "metadata": {},
   "outputs": [
    {
     "name": "stdout",
     "output_type": "stream",
     "text": [
      "<class 'pandas.core.frame.DataFrame'>\n",
      "RangeIndex: 21525 entries, 0 to 21524\n",
      "Data columns (total 12 columns):\n",
      "children            21525 non-null int64\n",
      "days_employed       19351 non-null float64\n",
      "dob_years           21525 non-null int64\n",
      "education           21525 non-null object\n",
      "education_id        21525 non-null int64\n",
      "family_status       21525 non-null object\n",
      "family_status_id    21525 non-null int64\n",
      "gender              21525 non-null object\n",
      "income_type         21525 non-null object\n",
      "debt                21525 non-null int64\n",
      "total_income        19351 non-null float64\n",
      "purpose             21525 non-null object\n",
      "dtypes: float64(2), int64(5), object(5)\n",
      "memory usage: 2.0+ MB\n"
     ]
    }
   ],
   "source": [
    "df.info() # посмотрим"
   ]
  },
  {
   "cell_type": "markdown",
   "id": "b49320e8",
   "metadata": {},
   "source": [
    "В таблице 12 столбцов, все они названы согласно змеиному_регистру. Типы данных в столбцах: **int64**, **float64**, **object**. \n",
    "\n",
    "**Согласно документации к данным:**\n",
    "- `children` — количество детей в семье;\n",
    "- `days_employed` — общий трудовой стаж в днях;\n",
    "- `dob_years` — возраст клиента в годах;\n",
    "- `education` — уровень образования клиента;\n",
    "- `education_id` — идентификатор уровня образования;\n",
    "- `family_status` — семейное положение;\n",
    "- `family_status_id` — идентификатор семейного положения;\n",
    "- `gender` — пол клиента;\n",
    "- `income_type` — тип занятости;\n",
    "- `debt` — имел ли задолженность по возврату кредитов;\n",
    "- `total_income` — ежемесячный доход;\n",
    "- `purpose` — цель получения кредита.\n",
    "\n",
    "**Наблюдения:**\n",
    "- в столбце `days_employed` встречается много отрицательных значений;\n",
    "- в столбце `education` разный стиль заполнения;\n",
    "- в значениях столбца `total_income` фигурируют 6 знаков после запятой;\n",
    "- в столбцах `days_employed` и `total_income` есть пропущенные значения;\n",
    "- строка с индексом 4: столбец `days_employed` трудовой стаж в днях - большая величина значений."
   ]
  },
  {
   "cell_type": "markdown",
   "id": "18838464",
   "metadata": {},
   "source": [
    "## Предобработка данных"
   ]
  },
  {
   "cell_type": "markdown",
   "id": "a80fca2b",
   "metadata": {},
   "source": [
    "### Определение и заполнение пропущенных значений"
   ]
  },
  {
   "cell_type": "markdown",
   "id": "35bc6d47",
   "metadata": {},
   "source": [
    "Посмотрим количество пропущенных значений."
   ]
  },
  {
   "cell_type": "code",
   "execution_count": 4,
   "id": "280ae5ca",
   "metadata": {},
   "outputs": [
    {
     "data": {
      "text/plain": [
       "children               0\n",
       "days_employed       2174\n",
       "dob_years              0\n",
       "education              0\n",
       "education_id           0\n",
       "family_status          0\n",
       "family_status_id       0\n",
       "gender                 0\n",
       "income_type            0\n",
       "debt                   0\n",
       "total_income        2174\n",
       "purpose                0\n",
       "dtype: int64"
      ]
     },
     "execution_count": 4,
     "metadata": {},
     "output_type": "execute_result"
    }
   ],
   "source": [
    "df.isna().sum() # посмотрим"
   ]
  },
  {
   "cell_type": "markdown",
   "id": "7472715c",
   "metadata": {},
   "source": [
    "**2174** пропущенных значений в столбцах **days_employed** и **total_income**. В пятой строке столбца **days_employed** значение равно **340266.072047** дням, что невозможно! Необходимо проверить количество подобных значений в этом столбце."
   ]
  },
  {
   "cell_type": "code",
   "execution_count": 5,
   "id": "66c6fc6f",
   "metadata": {
    "scrolled": false
   },
   "outputs": [
    {
     "data": {
      "text/html": [
       "<div>\n",
       "<style scoped>\n",
       "    .dataframe tbody tr th:only-of-type {\n",
       "        vertical-align: middle;\n",
       "    }\n",
       "\n",
       "    .dataframe tbody tr th {\n",
       "        vertical-align: top;\n",
       "    }\n",
       "\n",
       "    .dataframe thead th {\n",
       "        text-align: right;\n",
       "    }\n",
       "</style>\n",
       "<table border=\"1\" class=\"dataframe\">\n",
       "  <thead>\n",
       "    <tr style=\"text-align: right;\">\n",
       "      <th></th>\n",
       "      <th>children</th>\n",
       "      <th>days_employed</th>\n",
       "      <th>dob_years</th>\n",
       "      <th>education</th>\n",
       "      <th>education_id</th>\n",
       "      <th>family_status</th>\n",
       "      <th>family_status_id</th>\n",
       "      <th>gender</th>\n",
       "      <th>income_type</th>\n",
       "      <th>debt</th>\n",
       "      <th>total_income</th>\n",
       "      <th>purpose</th>\n",
       "    </tr>\n",
       "  </thead>\n",
       "  <tbody>\n",
       "    <tr>\n",
       "      <td>12</td>\n",
       "      <td>0</td>\n",
       "      <td>NaN</td>\n",
       "      <td>65</td>\n",
       "      <td>среднее</td>\n",
       "      <td>1</td>\n",
       "      <td>гражданский брак</td>\n",
       "      <td>1</td>\n",
       "      <td>M</td>\n",
       "      <td>пенсионер</td>\n",
       "      <td>0</td>\n",
       "      <td>NaN</td>\n",
       "      <td>сыграть свадьбу</td>\n",
       "    </tr>\n",
       "    <tr>\n",
       "      <td>26</td>\n",
       "      <td>0</td>\n",
       "      <td>NaN</td>\n",
       "      <td>41</td>\n",
       "      <td>среднее</td>\n",
       "      <td>1</td>\n",
       "      <td>женат / замужем</td>\n",
       "      <td>0</td>\n",
       "      <td>M</td>\n",
       "      <td>госслужащий</td>\n",
       "      <td>0</td>\n",
       "      <td>NaN</td>\n",
       "      <td>образование</td>\n",
       "    </tr>\n",
       "    <tr>\n",
       "      <td>29</td>\n",
       "      <td>0</td>\n",
       "      <td>NaN</td>\n",
       "      <td>63</td>\n",
       "      <td>среднее</td>\n",
       "      <td>1</td>\n",
       "      <td>Не женат / не замужем</td>\n",
       "      <td>4</td>\n",
       "      <td>F</td>\n",
       "      <td>пенсионер</td>\n",
       "      <td>0</td>\n",
       "      <td>NaN</td>\n",
       "      <td>строительство жилой недвижимости</td>\n",
       "    </tr>\n",
       "    <tr>\n",
       "      <td>41</td>\n",
       "      <td>0</td>\n",
       "      <td>NaN</td>\n",
       "      <td>50</td>\n",
       "      <td>среднее</td>\n",
       "      <td>1</td>\n",
       "      <td>женат / замужем</td>\n",
       "      <td>0</td>\n",
       "      <td>F</td>\n",
       "      <td>госслужащий</td>\n",
       "      <td>0</td>\n",
       "      <td>NaN</td>\n",
       "      <td>сделка с подержанным автомобилем</td>\n",
       "    </tr>\n",
       "    <tr>\n",
       "      <td>55</td>\n",
       "      <td>0</td>\n",
       "      <td>NaN</td>\n",
       "      <td>54</td>\n",
       "      <td>среднее</td>\n",
       "      <td>1</td>\n",
       "      <td>гражданский брак</td>\n",
       "      <td>1</td>\n",
       "      <td>F</td>\n",
       "      <td>пенсионер</td>\n",
       "      <td>1</td>\n",
       "      <td>NaN</td>\n",
       "      <td>сыграть свадьбу</td>\n",
       "    </tr>\n",
       "    <tr>\n",
       "      <td>65</td>\n",
       "      <td>0</td>\n",
       "      <td>NaN</td>\n",
       "      <td>21</td>\n",
       "      <td>среднее</td>\n",
       "      <td>1</td>\n",
       "      <td>Не женат / не замужем</td>\n",
       "      <td>4</td>\n",
       "      <td>M</td>\n",
       "      <td>компаньон</td>\n",
       "      <td>0</td>\n",
       "      <td>NaN</td>\n",
       "      <td>операции с коммерческой недвижимостью</td>\n",
       "    </tr>\n",
       "    <tr>\n",
       "      <td>67</td>\n",
       "      <td>0</td>\n",
       "      <td>NaN</td>\n",
       "      <td>52</td>\n",
       "      <td>высшее</td>\n",
       "      <td>0</td>\n",
       "      <td>женат / замужем</td>\n",
       "      <td>0</td>\n",
       "      <td>F</td>\n",
       "      <td>пенсионер</td>\n",
       "      <td>0</td>\n",
       "      <td>NaN</td>\n",
       "      <td>покупка жилья для семьи</td>\n",
       "    </tr>\n",
       "    <tr>\n",
       "      <td>72</td>\n",
       "      <td>1</td>\n",
       "      <td>NaN</td>\n",
       "      <td>32</td>\n",
       "      <td>высшее</td>\n",
       "      <td>0</td>\n",
       "      <td>женат / замужем</td>\n",
       "      <td>0</td>\n",
       "      <td>M</td>\n",
       "      <td>госслужащий</td>\n",
       "      <td>0</td>\n",
       "      <td>NaN</td>\n",
       "      <td>операции с коммерческой недвижимостью</td>\n",
       "    </tr>\n",
       "    <tr>\n",
       "      <td>82</td>\n",
       "      <td>2</td>\n",
       "      <td>NaN</td>\n",
       "      <td>50</td>\n",
       "      <td>высшее</td>\n",
       "      <td>0</td>\n",
       "      <td>женат / замужем</td>\n",
       "      <td>0</td>\n",
       "      <td>F</td>\n",
       "      <td>сотрудник</td>\n",
       "      <td>0</td>\n",
       "      <td>NaN</td>\n",
       "      <td>жилье</td>\n",
       "    </tr>\n",
       "    <tr>\n",
       "      <td>83</td>\n",
       "      <td>0</td>\n",
       "      <td>NaN</td>\n",
       "      <td>52</td>\n",
       "      <td>среднее</td>\n",
       "      <td>1</td>\n",
       "      <td>женат / замужем</td>\n",
       "      <td>0</td>\n",
       "      <td>M</td>\n",
       "      <td>сотрудник</td>\n",
       "      <td>0</td>\n",
       "      <td>NaN</td>\n",
       "      <td>жилье</td>\n",
       "    </tr>\n",
       "  </tbody>\n",
       "</table>\n",
       "</div>"
      ],
      "text/plain": [
       "    children  days_employed  dob_years education  education_id  \\\n",
       "12         0            NaN         65   среднее             1   \n",
       "26         0            NaN         41   среднее             1   \n",
       "29         0            NaN         63   среднее             1   \n",
       "41         0            NaN         50   среднее             1   \n",
       "55         0            NaN         54   среднее             1   \n",
       "65         0            NaN         21   среднее             1   \n",
       "67         0            NaN         52    высшее             0   \n",
       "72         1            NaN         32    высшее             0   \n",
       "82         2            NaN         50    высшее             0   \n",
       "83         0            NaN         52   среднее             1   \n",
       "\n",
       "            family_status  family_status_id gender  income_type  debt  \\\n",
       "12       гражданский брак                 1      M    пенсионер     0   \n",
       "26        женат / замужем                 0      M  госслужащий     0   \n",
       "29  Не женат / не замужем                 4      F    пенсионер     0   \n",
       "41        женат / замужем                 0      F  госслужащий     0   \n",
       "55       гражданский брак                 1      F    пенсионер     1   \n",
       "65  Не женат / не замужем                 4      M    компаньон     0   \n",
       "67        женат / замужем                 0      F    пенсионер     0   \n",
       "72        женат / замужем                 0      M  госслужащий     0   \n",
       "82        женат / замужем                 0      F    сотрудник     0   \n",
       "83        женат / замужем                 0      M    сотрудник     0   \n",
       "\n",
       "    total_income                                purpose  \n",
       "12           NaN                        сыграть свадьбу  \n",
       "26           NaN                            образование  \n",
       "29           NaN       строительство жилой недвижимости  \n",
       "41           NaN       сделка с подержанным автомобилем  \n",
       "55           NaN                        сыграть свадьбу  \n",
       "65           NaN  операции с коммерческой недвижимостью  \n",
       "67           NaN                покупка жилья для семьи  \n",
       "72           NaN  операции с коммерческой недвижимостью  \n",
       "82           NaN                                  жилье  \n",
       "83           NaN                                  жилье  "
      ]
     },
     "execution_count": 5,
     "metadata": {},
     "output_type": "execute_result"
    }
   ],
   "source": [
    "# посмотрим на строки с пропущенными значениями\n",
    "df[df.isna().any(1)].head(10)"
   ]
  },
  {
   "cell_type": "markdown",
   "id": "6c57d1e7",
   "metadata": {},
   "source": [
    "Данные в столбцах **days_employed** и **total_income** отсутствуют одновременно. Переменные в этих столбцах - количественные, для заполнения пропущенных значений подойдут среднее арифметическое или медиана.\n",
    "\n",
    "Предположим, если работать с **18** до **80** лет, максимальный рабочий стаж составляет **62** года или **22072** дня. Посчитаем количество строк с значениями, превышающими данный показатель."
   ]
  },
  {
   "cell_type": "code",
   "execution_count": 6,
   "id": "d8360697",
   "metadata": {
    "scrolled": false
   },
   "outputs": [
    {
     "name": "stdout",
     "output_type": "stream",
     "text": [
      "Количество значений в столбце \"days_employed\" больше 22072: 3445\n"
     ]
    },
    {
     "data": {
      "text/html": [
       "<div>\n",
       "<style scoped>\n",
       "    .dataframe tbody tr th:only-of-type {\n",
       "        vertical-align: middle;\n",
       "    }\n",
       "\n",
       "    .dataframe tbody tr th {\n",
       "        vertical-align: top;\n",
       "    }\n",
       "\n",
       "    .dataframe thead th {\n",
       "        text-align: right;\n",
       "    }\n",
       "</style>\n",
       "<table border=\"1\" class=\"dataframe\">\n",
       "  <thead>\n",
       "    <tr style=\"text-align: right;\">\n",
       "      <th></th>\n",
       "      <th>children</th>\n",
       "      <th>days_employed</th>\n",
       "      <th>dob_years</th>\n",
       "      <th>education</th>\n",
       "      <th>education_id</th>\n",
       "      <th>family_status</th>\n",
       "      <th>family_status_id</th>\n",
       "      <th>gender</th>\n",
       "      <th>income_type</th>\n",
       "      <th>debt</th>\n",
       "      <th>total_income</th>\n",
       "      <th>purpose</th>\n",
       "    </tr>\n",
       "  </thead>\n",
       "  <tbody>\n",
       "    <tr>\n",
       "      <td>4</td>\n",
       "      <td>0</td>\n",
       "      <td>340266.072047</td>\n",
       "      <td>53</td>\n",
       "      <td>среднее</td>\n",
       "      <td>1</td>\n",
       "      <td>гражданский брак</td>\n",
       "      <td>1</td>\n",
       "      <td>F</td>\n",
       "      <td>пенсионер</td>\n",
       "      <td>0</td>\n",
       "      <td>158616.077870</td>\n",
       "      <td>сыграть свадьбу</td>\n",
       "    </tr>\n",
       "    <tr>\n",
       "      <td>18</td>\n",
       "      <td>0</td>\n",
       "      <td>400281.136913</td>\n",
       "      <td>53</td>\n",
       "      <td>среднее</td>\n",
       "      <td>1</td>\n",
       "      <td>вдовец / вдова</td>\n",
       "      <td>2</td>\n",
       "      <td>F</td>\n",
       "      <td>пенсионер</td>\n",
       "      <td>0</td>\n",
       "      <td>56823.777243</td>\n",
       "      <td>на покупку подержанного автомобиля</td>\n",
       "    </tr>\n",
       "    <tr>\n",
       "      <td>24</td>\n",
       "      <td>1</td>\n",
       "      <td>338551.952911</td>\n",
       "      <td>57</td>\n",
       "      <td>среднее</td>\n",
       "      <td>1</td>\n",
       "      <td>Не женат / не замужем</td>\n",
       "      <td>4</td>\n",
       "      <td>F</td>\n",
       "      <td>пенсионер</td>\n",
       "      <td>0</td>\n",
       "      <td>290547.235997</td>\n",
       "      <td>операции с коммерческой недвижимостью</td>\n",
       "    </tr>\n",
       "    <tr>\n",
       "      <td>25</td>\n",
       "      <td>0</td>\n",
       "      <td>363548.489348</td>\n",
       "      <td>67</td>\n",
       "      <td>среднее</td>\n",
       "      <td>1</td>\n",
       "      <td>женат / замужем</td>\n",
       "      <td>0</td>\n",
       "      <td>M</td>\n",
       "      <td>пенсионер</td>\n",
       "      <td>0</td>\n",
       "      <td>55112.757732</td>\n",
       "      <td>покупка недвижимости</td>\n",
       "    </tr>\n",
       "    <tr>\n",
       "      <td>30</td>\n",
       "      <td>1</td>\n",
       "      <td>335581.668515</td>\n",
       "      <td>62</td>\n",
       "      <td>среднее</td>\n",
       "      <td>1</td>\n",
       "      <td>женат / замужем</td>\n",
       "      <td>0</td>\n",
       "      <td>F</td>\n",
       "      <td>пенсионер</td>\n",
       "      <td>0</td>\n",
       "      <td>171456.067993</td>\n",
       "      <td>операции с коммерческой недвижимостью</td>\n",
       "    </tr>\n",
       "    <tr>\n",
       "      <td>35</td>\n",
       "      <td>0</td>\n",
       "      <td>394021.072184</td>\n",
       "      <td>68</td>\n",
       "      <td>среднее</td>\n",
       "      <td>1</td>\n",
       "      <td>гражданский брак</td>\n",
       "      <td>1</td>\n",
       "      <td>M</td>\n",
       "      <td>пенсионер</td>\n",
       "      <td>0</td>\n",
       "      <td>77805.677436</td>\n",
       "      <td>на проведение свадьбы</td>\n",
       "    </tr>\n",
       "    <tr>\n",
       "      <td>50</td>\n",
       "      <td>0</td>\n",
       "      <td>353731.432338</td>\n",
       "      <td>63</td>\n",
       "      <td>среднее</td>\n",
       "      <td>1</td>\n",
       "      <td>женат / замужем</td>\n",
       "      <td>0</td>\n",
       "      <td>F</td>\n",
       "      <td>пенсионер</td>\n",
       "      <td>0</td>\n",
       "      <td>92342.730612</td>\n",
       "      <td>автомобили</td>\n",
       "    </tr>\n",
       "    <tr>\n",
       "      <td>56</td>\n",
       "      <td>0</td>\n",
       "      <td>370145.087237</td>\n",
       "      <td>64</td>\n",
       "      <td>среднее</td>\n",
       "      <td>1</td>\n",
       "      <td>вдовец / вдова</td>\n",
       "      <td>2</td>\n",
       "      <td>F</td>\n",
       "      <td>пенсионер</td>\n",
       "      <td>0</td>\n",
       "      <td>149141.043533</td>\n",
       "      <td>образование</td>\n",
       "    </tr>\n",
       "    <tr>\n",
       "      <td>71</td>\n",
       "      <td>0</td>\n",
       "      <td>338113.529892</td>\n",
       "      <td>62</td>\n",
       "      <td>среднее</td>\n",
       "      <td>1</td>\n",
       "      <td>женат / замужем</td>\n",
       "      <td>0</td>\n",
       "      <td>F</td>\n",
       "      <td>пенсионер</td>\n",
       "      <td>0</td>\n",
       "      <td>43929.696397</td>\n",
       "      <td>автомобили</td>\n",
       "    </tr>\n",
       "    <tr>\n",
       "      <td>78</td>\n",
       "      <td>0</td>\n",
       "      <td>359722.945074</td>\n",
       "      <td>61</td>\n",
       "      <td>высшее</td>\n",
       "      <td>0</td>\n",
       "      <td>женат / замужем</td>\n",
       "      <td>0</td>\n",
       "      <td>M</td>\n",
       "      <td>пенсионер</td>\n",
       "      <td>0</td>\n",
       "      <td>175127.646000</td>\n",
       "      <td>сделка с автомобилем</td>\n",
       "    </tr>\n",
       "  </tbody>\n",
       "</table>\n",
       "</div>"
      ],
      "text/plain": [
       "    children  days_employed  dob_years education  education_id  \\\n",
       "4          0  340266.072047         53   среднее             1   \n",
       "18         0  400281.136913         53   среднее             1   \n",
       "24         1  338551.952911         57   среднее             1   \n",
       "25         0  363548.489348         67   среднее             1   \n",
       "30         1  335581.668515         62   среднее             1   \n",
       "35         0  394021.072184         68   среднее             1   \n",
       "50         0  353731.432338         63   среднее             1   \n",
       "56         0  370145.087237         64   среднее             1   \n",
       "71         0  338113.529892         62   среднее             1   \n",
       "78         0  359722.945074         61    высшее             0   \n",
       "\n",
       "            family_status  family_status_id gender income_type  debt  \\\n",
       "4        гражданский брак                 1      F   пенсионер     0   \n",
       "18         вдовец / вдова                 2      F   пенсионер     0   \n",
       "24  Не женат / не замужем                 4      F   пенсионер     0   \n",
       "25        женат / замужем                 0      M   пенсионер     0   \n",
       "30        женат / замужем                 0      F   пенсионер     0   \n",
       "35       гражданский брак                 1      M   пенсионер     0   \n",
       "50        женат / замужем                 0      F   пенсионер     0   \n",
       "56         вдовец / вдова                 2      F   пенсионер     0   \n",
       "71        женат / замужем                 0      F   пенсионер     0   \n",
       "78        женат / замужем                 0      M   пенсионер     0   \n",
       "\n",
       "     total_income                                purpose  \n",
       "4   158616.077870                        сыграть свадьбу  \n",
       "18   56823.777243     на покупку подержанного автомобиля  \n",
       "24  290547.235997  операции с коммерческой недвижимостью  \n",
       "25   55112.757732                   покупка недвижимости  \n",
       "30  171456.067993  операции с коммерческой недвижимостью  \n",
       "35   77805.677436                  на проведение свадьбы  \n",
       "50   92342.730612                             автомобили  \n",
       "56  149141.043533                            образование  \n",
       "71   43929.696397                             автомобили  \n",
       "78  175127.646000                   сделка с автомобилем  "
      ]
     },
     "execution_count": 6,
     "metadata": {},
     "output_type": "execute_result"
    }
   ],
   "source": [
    "# уберем отрицательные значений в столбце 'days_employed'\n",
    "df['days_employed'] = df['days_employed'].abs()\n",
    "\n",
    "# посчитаем количество значений\n",
    "print('Количество значений в столбце \"days_employed\" больше 22072:',(df[df['days_employed'] > 22072]['days_employed'].count())) \n",
    "\n",
    "df[df['days_employed'] > 22072].head(10) # посмотрим"
   ]
  },
  {
   "cell_type": "markdown",
   "id": "f071c15d",
   "metadata": {},
   "source": [
    "Посмотрим уникальные значения столбца **income_type** в таблице, в которой значения столбца **days_employed** больше **22072**."
   ]
  },
  {
   "cell_type": "code",
   "execution_count": 7,
   "id": "9bec801d",
   "metadata": {},
   "outputs": [
    {
     "data": {
      "text/plain": [
       "array(['пенсионер', 'безработный'], dtype=object)"
      ]
     },
     "metadata": {},
     "output_type": "display_data"
    }
   ],
   "source": [
    "display(df[df['days_employed'] > 22072]['income_type'].unique()) # посмотрим"
   ]
  },
  {
   "cell_type": "markdown",
   "id": "a75d3a8c",
   "metadata": {},
   "source": [
    "Все аномально высокие показатели столбца **days_employed** происходят при значении столбца **income_type** **пенсионер** или **безработный**. Из-за чего я могу предположить, что существует ошибка заполнения данных, если статус человека **неработающий**.\n",
    "\n",
    "В столбце **days_employed** **2174** значений пропущены и **3445** значений с некорректным содержанием, итого: **5619** из **21525** строк датафрема (**26%**). Заполненение средним арифметическим или медианой считаю некорректным в таком искажении данных. \n",
    "\n",
    "Так как столбец **days_employed** не понадобится для проверки гипотез поставленных в задаче, считаю правильным заменить все **NaN** на ноль."
   ]
  },
  {
   "cell_type": "code",
   "execution_count": 8,
   "id": "c919c242",
   "metadata": {},
   "outputs": [
    {
     "name": "stdout",
     "output_type": "stream",
     "text": [
      "Cреднее арифметическое значение: 167422.30220817294\n",
      "Медианное значение: 145017.93753253992\n",
      "\n",
      "Минимальное значение столбца \"total_income\": 20667.26379327158\n",
      "Максимальное значение столбца \"total_income\": 2265604.028722744\n"
     ]
    }
   ],
   "source": [
    "# заменяем все 'NaN' на ноль в 'столбце days_employed'\n",
    "df['days_employed'] = df['days_employed'].fillna(0)\n",
    "\n",
    "# считаем среднее арифметическое и медиану значений столбца 'total_income'\n",
    "total_income_mean = df['total_income'].mean()\n",
    "total_income_median = df['total_income'].median()\n",
    "\n",
    "print('Cреднее арифметическое значение:', total_income_mean)\n",
    "print('Медианное значение:', total_income_median) \n",
    "print()\n",
    "# выведем на экран минимальное и максимальное значения столбца total_income\n",
    "print('Минимальное значение столбца \"total_income\":', df['total_income'].min())\n",
    "print('Максимальное значение столбца \"total_income\":', df['total_income'].max())"
   ]
  },
  {
   "cell_type": "markdown",
   "id": "a2c68a27",
   "metadata": {},
   "source": [
    "Выведем первые 10 самых больших значений столбца **total_income**."
   ]
  },
  {
   "cell_type": "code",
   "execution_count": 9,
   "id": "e0eefafa",
   "metadata": {},
   "outputs": [
    {
     "data": {
      "text/plain": [
       "12412    2.265604e+06\n",
       "19606    2.200852e+06\n",
       "9169     1.726276e+06\n",
       "20809    1.715018e+06\n",
       "17178    1.711309e+06\n",
       "17503    1.597613e+06\n",
       "18368    1.551153e+06\n",
       "18353    1.427934e+06\n",
       "15268    1.350246e+06\n",
       "11071    1.286281e+06\n",
       "Name: total_income, dtype: float64"
      ]
     },
     "execution_count": 9,
     "metadata": {},
     "output_type": "execute_result"
    }
   ],
   "source": [
    "df['total_income'].sort_values(ascending=False).head(10) # посмотрим"
   ]
  },
  {
   "cell_type": "markdown",
   "id": "88c99a0b",
   "metadata": {},
   "source": [
    "Из-за сильного перепада максимальных значений столбца **total_income** более корректно будет будет использовать медианное значение для заполнения пропусков в данном столбце."
   ]
  },
  {
   "cell_type": "code",
   "execution_count": 10,
   "id": "f7e9f1d2",
   "metadata": {
    "scrolled": true
   },
   "outputs": [
    {
     "data": {
      "text/plain": [
       "сотрудник          11119\n",
       "компаньон           5085\n",
       "пенсионер           3856\n",
       "госслужащий         1459\n",
       "безработный            2\n",
       "предприниматель        2\n",
       "студент                1\n",
       "в декрете              1\n",
       "Name: income_type, dtype: int64"
      ]
     },
     "execution_count": 10,
     "metadata": {},
     "output_type": "execute_result"
    }
   ],
   "source": [
    "# проверим  и посчитаем уникальные значения столбца 'income_type'\n",
    "df['income_type'].value_counts()"
   ]
  },
  {
   "cell_type": "markdown",
   "id": "29acbf4f",
   "metadata": {},
   "source": [
    "Мы видим, что в таблице подавляющее большинство значений столбца **income_type**: **сотрудник**, **компаньон**, **пенсионер**, **госслужащий**. Значения **предприниматель**, **безработный**, **в декрете**, **студент** в сумме встречаются всего **6** раз."
   ]
  },
  {
   "cell_type": "code",
   "execution_count": 11,
   "id": "c24a6d15",
   "metadata": {},
   "outputs": [
    {
     "data": {
      "text/plain": [
       "education            income_type    \n",
       "высшее               сотрудник          2341\n",
       "                     компаньон          1788\n",
       "                     пенсионер           577\n",
       "                     госслужащий         550\n",
       "                     предприниматель       2\n",
       "                     безработный           1\n",
       "                     студент               1\n",
       "начальное            сотрудник           145\n",
       "                     пенсионер            99\n",
       "                     компаньон            30\n",
       "                     госслужащий           8\n",
       "неоконченное высшее  сотрудник           370\n",
       "                     компаньон           281\n",
       "                     госслужащий          52\n",
       "                     пенсионер            41\n",
       "среднее              сотрудник          8260\n",
       "                     пенсионер          3137\n",
       "                     компаньон          2986\n",
       "                     госслужащий         848\n",
       "                     безработный           1\n",
       "                     в декрете             1\n",
       "ученая степень       сотрудник             3\n",
       "                     пенсионер             2\n",
       "                     госслужащий           1\n",
       "Name: income_type, dtype: int64"
      ]
     },
     "execution_count": 11,
     "metadata": {},
     "output_type": "execute_result"
    }
   ],
   "source": [
    "# преобразуем значения в столбце 'education'\n",
    "df['education'] = df['education'].str.lower()\n",
    "\n",
    "# сгруппируем по столбцу 'education' и посмотрим количество значений столбца 'income_type'\n",
    "df.groupby('education')['income_type'].value_counts()"
   ]
  },
  {
   "cell_type": "markdown",
   "id": "e14ed171",
   "metadata": {},
   "source": [
    "Для подсчета медианного значения возьмем комбинацию параметров **образование** и **профессия**. Создадим функцию, в которой заменим пропущенные значения столбца **total_income** данной комбинацией."
   ]
  },
  {
   "cell_type": "code",
   "execution_count": 12,
   "id": "6e948ff3",
   "metadata": {},
   "outputs": [
    {
     "data": {
      "text/plain": [
       "0"
      ]
     },
     "execution_count": 12,
     "metadata": {},
     "output_type": "execute_result"
    }
   ],
   "source": [
    "def all_at_once(education):\n",
    "    for i in df['income_type'].unique():\n",
    "        df.loc[(df['income_type'] == i)&(df['education'] == education)&(df['total_income'].isna()), 'total_income'] = \\\n",
    "        df.loc[(df['income_type'] == i)&(df['education'] == education), 'total_income'].median()\n",
    "\n",
    "# создадим цикл, который будет проходить по уникальным значениям 'education' и запускать функцию 'all_at_once'\n",
    "for k in df['education'].unique():\n",
    "    all_at_once(k)\n",
    "\n",
    "df['total_income'].isna().sum() # проверим"
   ]
  },
  {
   "cell_type": "markdown",
   "id": "49499d9a",
   "metadata": {},
   "source": [
    "### Преобразование типов данных"
   ]
  },
  {
   "cell_type": "markdown",
   "id": "b150fd91",
   "metadata": {},
   "source": [
    "Изменим тип данных в столбцах **days_employed** и **total_income** на **int64**."
   ]
  },
  {
   "cell_type": "code",
   "execution_count": 13,
   "id": "70bb593a",
   "metadata": {},
   "outputs": [
    {
     "data": {
      "text/plain": [
       "days_employed    int64\n",
       "total_income     int64\n",
       "dtype: object"
      ]
     },
     "execution_count": 13,
     "metadata": {},
     "output_type": "execute_result"
    }
   ],
   "source": [
    "df['days_employed'] = df['days_employed'].astype('int64')\n",
    "df['total_income'] = df['total_income'].astype('int64') # преобразуем \n",
    "\n",
    "df[['days_employed', 'total_income']].dtypes # проверим"
   ]
  },
  {
   "cell_type": "markdown",
   "id": "45b7e4ad",
   "metadata": {},
   "source": [
    "### Поиск дубликатов"
   ]
  },
  {
   "cell_type": "markdown",
   "id": "8ae1973a",
   "metadata": {},
   "source": [
    "#### Ручной поиск дубликатов с учетом регистра"
   ]
  },
  {
   "cell_type": "markdown",
   "id": "db0c886c",
   "metadata": {},
   "source": [
    "Создадим функцию **register**, которая будет считать уникальные значения конкретного столбца."
   ]
  },
  {
   "cell_type": "code",
   "execution_count": 14,
   "id": "14b776c3",
   "metadata": {},
   "outputs": [
    {
     "data": {
      "text/plain": [
       "женат / замужем          12380\n",
       "гражданский брак          4177\n",
       "Не женат / не замужем     2813\n",
       "в разводе                 1195\n",
       "вдовец / вдова             960\n",
       "Name: family_status, dtype: int64"
      ]
     },
     "execution_count": 14,
     "metadata": {},
     "output_type": "execute_result"
    }
   ],
   "source": [
    "def register(column):\n",
    "    return df[column].value_counts()\n",
    "\n",
    "register('family_status') # проверим значения столбца 'family_status'"
   ]
  },
  {
   "cell_type": "code",
   "execution_count": 15,
   "id": "5a2b222b",
   "metadata": {},
   "outputs": [
    {
     "data": {
      "text/plain": [
       "сотрудник          11119\n",
       "компаньон           5085\n",
       "пенсионер           3856\n",
       "госслужащий         1459\n",
       "безработный            2\n",
       "предприниматель        2\n",
       "студент                1\n",
       "в декрете              1\n",
       "Name: income_type, dtype: int64"
      ]
     },
     "execution_count": 15,
     "metadata": {},
     "output_type": "execute_result"
    }
   ],
   "source": [
    "register('income_type') # проверим значения столбца 'income_type'"
   ]
  },
  {
   "cell_type": "code",
   "execution_count": 16,
   "id": "b8663aae",
   "metadata": {},
   "outputs": [
    {
     "data": {
      "text/plain": [
       "свадьба                                   797\n",
       "на проведение свадьбы                     777\n",
       "сыграть свадьбу                           774\n",
       "операции с недвижимостью                  676\n",
       "покупка коммерческой недвижимости         664\n",
       "операции с жильем                         653\n",
       "покупка жилья для сдачи                   653\n",
       "операции с коммерческой недвижимостью     651\n",
       "жилье                                     647\n",
       "покупка жилья                             647\n",
       "покупка жилья для семьи                   641\n",
       "строительство собственной недвижимости    635\n",
       "недвижимость                              634\n",
       "операции со своей недвижимостью           630\n",
       "строительство жилой недвижимости          626\n",
       "покупка недвижимости                      624\n",
       "покупка своего жилья                      620\n",
       "строительство недвижимости                620\n",
       "ремонт жилью                              612\n",
       "покупка жилой недвижимости                607\n",
       "на покупку своего автомобиля              505\n",
       "заняться высшим образованием              496\n",
       "автомобиль                                495\n",
       "сделка с подержанным автомобилем          489\n",
       "свой автомобиль                           480\n",
       "на покупку подержанного автомобиля        479\n",
       "автомобили                                478\n",
       "на покупку автомобиля                     472\n",
       "приобретение автомобиля                   462\n",
       "дополнительное образование                462\n",
       "сделка с автомобилем                      455\n",
       "высшее образование                        453\n",
       "образование                               447\n",
       "получение дополнительного образования     447\n",
       "получение образования                     443\n",
       "профильное образование                    436\n",
       "получение высшего образования             426\n",
       "заняться образованием                     412\n",
       "Name: purpose, dtype: int64"
      ]
     },
     "execution_count": 16,
     "metadata": {},
     "output_type": "execute_result"
    }
   ],
   "source": [
    "register('purpose') # проверим значения столбца 'purpose'"
   ]
  },
  {
   "cell_type": "markdown",
   "id": "b65a162f",
   "metadata": {},
   "source": [
    "На основании работы функции мы обнаружили, что значения в столбце **family_status** необходимо привести к нижнему регистру. С столбцом **purpose** необходимо произвести лемматизацию. В столбце **income_type** значения не пересекаются и соответствуют нижнему регистру."
   ]
  },
  {
   "cell_type": "code",
   "execution_count": 17,
   "id": "e38abe8d",
   "metadata": {},
   "outputs": [],
   "source": [
    "df['family_status'] = df['family_status'].str.lower() # преобразуем"
   ]
  },
  {
   "cell_type": "markdown",
   "id": "a0627900",
   "metadata": {},
   "source": [
    "#### Ручной поиск и удаление явных дубликатов"
   ]
  },
  {
   "cell_type": "markdown",
   "id": "82f9343f",
   "metadata": {},
   "source": [
    "Проверим данные на явные дубликаты."
   ]
  },
  {
   "cell_type": "code",
   "execution_count": 18,
   "id": "fc70c5f0",
   "metadata": {},
   "outputs": [
    {
     "name": "stdout",
     "output_type": "stream",
     "text": [
      "Дубликатов в таблице: 71\n"
     ]
    }
   ],
   "source": [
    "print('Дубликатов в таблице:', df.duplicated().sum()) # проверим"
   ]
  },
  {
   "cell_type": "markdown",
   "id": "21a390d5",
   "metadata": {},
   "source": [
    "Необходимо удалить явные дубликаты."
   ]
  },
  {
   "cell_type": "code",
   "execution_count": 19,
   "id": "495acf5c",
   "metadata": {},
   "outputs": [
    {
     "name": "stdout",
     "output_type": "stream",
     "text": [
      "Дубликатов в таблице: 0\n"
     ]
    }
   ],
   "source": [
    "df = df.drop_duplicates().reset_index(drop=True) # удалим\n",
    "\n",
    "print('Дубликатов в таблице:', df.duplicated().sum()) # проверим"
   ]
  },
  {
   "cell_type": "markdown",
   "id": "64cd52f7",
   "metadata": {},
   "source": [
    "#### Проверка столбцов с категориальными переменными"
   ]
  },
  {
   "cell_type": "markdown",
   "id": "3dda317f",
   "metadata": {},
   "source": [
    "Обратимся к функции **register**, чтобы посмотреть сумму уникальных значений столбца **children**."
   ]
  },
  {
   "cell_type": "code",
   "execution_count": 20,
   "id": "e5f95efb",
   "metadata": {},
   "outputs": [
    {
     "data": {
      "text/plain": [
       " 0     14091\n",
       " 1      4808\n",
       " 2      2052\n",
       " 3       330\n",
       " 20       76\n",
       "-1        47\n",
       " 4        41\n",
       " 5         9\n",
       "Name: children, dtype: int64"
      ]
     },
     "execution_count": 20,
     "metadata": {},
     "output_type": "execute_result"
    }
   ],
   "source": [
    "register('children') # посмотрим"
   ]
  },
  {
   "cell_type": "markdown",
   "id": "7d6b7801",
   "metadata": {},
   "source": [
    "Выведем первые 10 строк таблицы, в которой значение столбца **children** соответствует **20**."
   ]
  },
  {
   "cell_type": "code",
   "execution_count": 21,
   "id": "bacf88c3",
   "metadata": {
    "scrolled": false
   },
   "outputs": [
    {
     "data": {
      "text/html": [
       "<div>\n",
       "<style scoped>\n",
       "    .dataframe tbody tr th:only-of-type {\n",
       "        vertical-align: middle;\n",
       "    }\n",
       "\n",
       "    .dataframe tbody tr th {\n",
       "        vertical-align: top;\n",
       "    }\n",
       "\n",
       "    .dataframe thead th {\n",
       "        text-align: right;\n",
       "    }\n",
       "</style>\n",
       "<table border=\"1\" class=\"dataframe\">\n",
       "  <thead>\n",
       "    <tr style=\"text-align: right;\">\n",
       "      <th></th>\n",
       "      <th>children</th>\n",
       "      <th>days_employed</th>\n",
       "      <th>dob_years</th>\n",
       "      <th>education</th>\n",
       "      <th>education_id</th>\n",
       "      <th>family_status</th>\n",
       "      <th>family_status_id</th>\n",
       "      <th>gender</th>\n",
       "      <th>income_type</th>\n",
       "      <th>debt</th>\n",
       "      <th>total_income</th>\n",
       "      <th>purpose</th>\n",
       "    </tr>\n",
       "  </thead>\n",
       "  <tbody>\n",
       "    <tr>\n",
       "      <td>606</td>\n",
       "      <td>20</td>\n",
       "      <td>880</td>\n",
       "      <td>21</td>\n",
       "      <td>среднее</td>\n",
       "      <td>1</td>\n",
       "      <td>женат / замужем</td>\n",
       "      <td>0</td>\n",
       "      <td>M</td>\n",
       "      <td>компаньон</td>\n",
       "      <td>0</td>\n",
       "      <td>145334</td>\n",
       "      <td>покупка жилья</td>\n",
       "    </tr>\n",
       "    <tr>\n",
       "      <td>720</td>\n",
       "      <td>20</td>\n",
       "      <td>855</td>\n",
       "      <td>44</td>\n",
       "      <td>среднее</td>\n",
       "      <td>1</td>\n",
       "      <td>женат / замужем</td>\n",
       "      <td>0</td>\n",
       "      <td>F</td>\n",
       "      <td>компаньон</td>\n",
       "      <td>0</td>\n",
       "      <td>112998</td>\n",
       "      <td>покупка недвижимости</td>\n",
       "    </tr>\n",
       "    <tr>\n",
       "      <td>1074</td>\n",
       "      <td>20</td>\n",
       "      <td>3310</td>\n",
       "      <td>56</td>\n",
       "      <td>среднее</td>\n",
       "      <td>1</td>\n",
       "      <td>женат / замужем</td>\n",
       "      <td>0</td>\n",
       "      <td>F</td>\n",
       "      <td>сотрудник</td>\n",
       "      <td>1</td>\n",
       "      <td>229518</td>\n",
       "      <td>получение образования</td>\n",
       "    </tr>\n",
       "    <tr>\n",
       "      <td>2510</td>\n",
       "      <td>20</td>\n",
       "      <td>2714</td>\n",
       "      <td>59</td>\n",
       "      <td>высшее</td>\n",
       "      <td>0</td>\n",
       "      <td>вдовец / вдова</td>\n",
       "      <td>2</td>\n",
       "      <td>F</td>\n",
       "      <td>сотрудник</td>\n",
       "      <td>0</td>\n",
       "      <td>264474</td>\n",
       "      <td>операции с коммерческой недвижимостью</td>\n",
       "    </tr>\n",
       "    <tr>\n",
       "      <td>2940</td>\n",
       "      <td>20</td>\n",
       "      <td>2161</td>\n",
       "      <td>0</td>\n",
       "      <td>среднее</td>\n",
       "      <td>1</td>\n",
       "      <td>женат / замужем</td>\n",
       "      <td>0</td>\n",
       "      <td>F</td>\n",
       "      <td>сотрудник</td>\n",
       "      <td>0</td>\n",
       "      <td>199739</td>\n",
       "      <td>на покупку автомобиля</td>\n",
       "    </tr>\n",
       "    <tr>\n",
       "      <td>3300</td>\n",
       "      <td>20</td>\n",
       "      <td>0</td>\n",
       "      <td>35</td>\n",
       "      <td>среднее</td>\n",
       "      <td>1</td>\n",
       "      <td>не женат / не замужем</td>\n",
       "      <td>4</td>\n",
       "      <td>F</td>\n",
       "      <td>госслужащий</td>\n",
       "      <td>0</td>\n",
       "      <td>136652</td>\n",
       "      <td>профильное образование</td>\n",
       "    </tr>\n",
       "    <tr>\n",
       "      <td>3394</td>\n",
       "      <td>20</td>\n",
       "      <td>0</td>\n",
       "      <td>56</td>\n",
       "      <td>высшее</td>\n",
       "      <td>0</td>\n",
       "      <td>женат / замужем</td>\n",
       "      <td>0</td>\n",
       "      <td>F</td>\n",
       "      <td>компаньон</td>\n",
       "      <td>0</td>\n",
       "      <td>201785</td>\n",
       "      <td>высшее образование</td>\n",
       "    </tr>\n",
       "    <tr>\n",
       "      <td>3669</td>\n",
       "      <td>20</td>\n",
       "      <td>913</td>\n",
       "      <td>23</td>\n",
       "      <td>среднее</td>\n",
       "      <td>1</td>\n",
       "      <td>не женат / не замужем</td>\n",
       "      <td>4</td>\n",
       "      <td>F</td>\n",
       "      <td>сотрудник</td>\n",
       "      <td>0</td>\n",
       "      <td>101255</td>\n",
       "      <td>на покупку подержанного автомобиля</td>\n",
       "    </tr>\n",
       "    <tr>\n",
       "      <td>3695</td>\n",
       "      <td>20</td>\n",
       "      <td>2907</td>\n",
       "      <td>40</td>\n",
       "      <td>среднее</td>\n",
       "      <td>1</td>\n",
       "      <td>гражданский брак</td>\n",
       "      <td>1</td>\n",
       "      <td>M</td>\n",
       "      <td>сотрудник</td>\n",
       "      <td>0</td>\n",
       "      <td>115380</td>\n",
       "      <td>на покупку подержанного автомобиля</td>\n",
       "    </tr>\n",
       "    <tr>\n",
       "      <td>3733</td>\n",
       "      <td>20</td>\n",
       "      <td>805</td>\n",
       "      <td>26</td>\n",
       "      <td>высшее</td>\n",
       "      <td>0</td>\n",
       "      <td>не женат / не замужем</td>\n",
       "      <td>4</td>\n",
       "      <td>M</td>\n",
       "      <td>сотрудник</td>\n",
       "      <td>0</td>\n",
       "      <td>137200</td>\n",
       "      <td>ремонт жилью</td>\n",
       "    </tr>\n",
       "  </tbody>\n",
       "</table>\n",
       "</div>"
      ],
      "text/plain": [
       "      children  days_employed  dob_years education  education_id  \\\n",
       "606         20            880         21   среднее             1   \n",
       "720         20            855         44   среднее             1   \n",
       "1074        20           3310         56   среднее             1   \n",
       "2510        20           2714         59    высшее             0   \n",
       "2940        20           2161          0   среднее             1   \n",
       "3300        20              0         35   среднее             1   \n",
       "3394        20              0         56    высшее             0   \n",
       "3669        20            913         23   среднее             1   \n",
       "3695        20           2907         40   среднее             1   \n",
       "3733        20            805         26    высшее             0   \n",
       "\n",
       "              family_status  family_status_id gender  income_type  debt  \\\n",
       "606         женат / замужем                 0      M    компаньон     0   \n",
       "720         женат / замужем                 0      F    компаньон     0   \n",
       "1074        женат / замужем                 0      F    сотрудник     1   \n",
       "2510         вдовец / вдова                 2      F    сотрудник     0   \n",
       "2940        женат / замужем                 0      F    сотрудник     0   \n",
       "3300  не женат / не замужем                 4      F  госслужащий     0   \n",
       "3394        женат / замужем                 0      F    компаньон     0   \n",
       "3669  не женат / не замужем                 4      F    сотрудник     0   \n",
       "3695       гражданский брак                 1      M    сотрудник     0   \n",
       "3733  не женат / не замужем                 4      M    сотрудник     0   \n",
       "\n",
       "      total_income                                purpose  \n",
       "606         145334                          покупка жилья  \n",
       "720         112998                   покупка недвижимости  \n",
       "1074        229518                  получение образования  \n",
       "2510        264474  операции с коммерческой недвижимостью  \n",
       "2940        199739                  на покупку автомобиля  \n",
       "3300        136652                 профильное образование  \n",
       "3394        201785                     высшее образование  \n",
       "3669        101255     на покупку подержанного автомобиля  \n",
       "3695        115380     на покупку подержанного автомобиля  \n",
       "3733        137200                           ремонт жилью  "
      ]
     },
     "execution_count": 21,
     "metadata": {},
     "output_type": "execute_result"
    }
   ],
   "source": [
    "df[df['children'] == 20].head(10) # посмотрим"
   ]
  },
  {
   "cell_type": "markdown",
   "id": "9e934808",
   "metadata": {},
   "source": [
    "Выведем первые 10 строк таблицы, в которой значение столбца **children** соответствует **-1**."
   ]
  },
  {
   "cell_type": "code",
   "execution_count": 22,
   "id": "216e1c63",
   "metadata": {},
   "outputs": [
    {
     "data": {
      "text/html": [
       "<div>\n",
       "<style scoped>\n",
       "    .dataframe tbody tr th:only-of-type {\n",
       "        vertical-align: middle;\n",
       "    }\n",
       "\n",
       "    .dataframe tbody tr th {\n",
       "        vertical-align: top;\n",
       "    }\n",
       "\n",
       "    .dataframe thead th {\n",
       "        text-align: right;\n",
       "    }\n",
       "</style>\n",
       "<table border=\"1\" class=\"dataframe\">\n",
       "  <thead>\n",
       "    <tr style=\"text-align: right;\">\n",
       "      <th></th>\n",
       "      <th>children</th>\n",
       "      <th>days_employed</th>\n",
       "      <th>dob_years</th>\n",
       "      <th>education</th>\n",
       "      <th>education_id</th>\n",
       "      <th>family_status</th>\n",
       "      <th>family_status_id</th>\n",
       "      <th>gender</th>\n",
       "      <th>income_type</th>\n",
       "      <th>debt</th>\n",
       "      <th>total_income</th>\n",
       "      <th>purpose</th>\n",
       "    </tr>\n",
       "  </thead>\n",
       "  <tbody>\n",
       "    <tr>\n",
       "      <td>291</td>\n",
       "      <td>-1</td>\n",
       "      <td>4417</td>\n",
       "      <td>46</td>\n",
       "      <td>среднее</td>\n",
       "      <td>1</td>\n",
       "      <td>гражданский брак</td>\n",
       "      <td>1</td>\n",
       "      <td>F</td>\n",
       "      <td>сотрудник</td>\n",
       "      <td>0</td>\n",
       "      <td>102816</td>\n",
       "      <td>профильное образование</td>\n",
       "    </tr>\n",
       "    <tr>\n",
       "      <td>705</td>\n",
       "      <td>-1</td>\n",
       "      <td>902</td>\n",
       "      <td>50</td>\n",
       "      <td>среднее</td>\n",
       "      <td>1</td>\n",
       "      <td>женат / замужем</td>\n",
       "      <td>0</td>\n",
       "      <td>F</td>\n",
       "      <td>госслужащий</td>\n",
       "      <td>0</td>\n",
       "      <td>137882</td>\n",
       "      <td>приобретение автомобиля</td>\n",
       "    </tr>\n",
       "    <tr>\n",
       "      <td>742</td>\n",
       "      <td>-1</td>\n",
       "      <td>3174</td>\n",
       "      <td>57</td>\n",
       "      <td>среднее</td>\n",
       "      <td>1</td>\n",
       "      <td>женат / замужем</td>\n",
       "      <td>0</td>\n",
       "      <td>F</td>\n",
       "      <td>сотрудник</td>\n",
       "      <td>0</td>\n",
       "      <td>64268</td>\n",
       "      <td>дополнительное образование</td>\n",
       "    </tr>\n",
       "    <tr>\n",
       "      <td>800</td>\n",
       "      <td>-1</td>\n",
       "      <td>349987</td>\n",
       "      <td>54</td>\n",
       "      <td>среднее</td>\n",
       "      <td>1</td>\n",
       "      <td>не женат / не замужем</td>\n",
       "      <td>4</td>\n",
       "      <td>F</td>\n",
       "      <td>пенсионер</td>\n",
       "      <td>0</td>\n",
       "      <td>86293</td>\n",
       "      <td>дополнительное образование</td>\n",
       "    </tr>\n",
       "    <tr>\n",
       "      <td>941</td>\n",
       "      <td>-1</td>\n",
       "      <td>0</td>\n",
       "      <td>57</td>\n",
       "      <td>среднее</td>\n",
       "      <td>1</td>\n",
       "      <td>женат / замужем</td>\n",
       "      <td>0</td>\n",
       "      <td>F</td>\n",
       "      <td>пенсионер</td>\n",
       "      <td>0</td>\n",
       "      <td>114842</td>\n",
       "      <td>на покупку своего автомобиля</td>\n",
       "    </tr>\n",
       "    <tr>\n",
       "      <td>1363</td>\n",
       "      <td>-1</td>\n",
       "      <td>1195</td>\n",
       "      <td>55</td>\n",
       "      <td>среднее</td>\n",
       "      <td>1</td>\n",
       "      <td>женат / замужем</td>\n",
       "      <td>0</td>\n",
       "      <td>F</td>\n",
       "      <td>компаньон</td>\n",
       "      <td>0</td>\n",
       "      <td>69550</td>\n",
       "      <td>профильное образование</td>\n",
       "    </tr>\n",
       "    <tr>\n",
       "      <td>1929</td>\n",
       "      <td>-1</td>\n",
       "      <td>1461</td>\n",
       "      <td>38</td>\n",
       "      <td>среднее</td>\n",
       "      <td>1</td>\n",
       "      <td>не женат / не замужем</td>\n",
       "      <td>4</td>\n",
       "      <td>M</td>\n",
       "      <td>сотрудник</td>\n",
       "      <td>0</td>\n",
       "      <td>109121</td>\n",
       "      <td>покупка жилья</td>\n",
       "    </tr>\n",
       "    <tr>\n",
       "      <td>2073</td>\n",
       "      <td>-1</td>\n",
       "      <td>2539</td>\n",
       "      <td>42</td>\n",
       "      <td>среднее</td>\n",
       "      <td>1</td>\n",
       "      <td>в разводе</td>\n",
       "      <td>3</td>\n",
       "      <td>F</td>\n",
       "      <td>компаньон</td>\n",
       "      <td>0</td>\n",
       "      <td>162638</td>\n",
       "      <td>покупка жилья</td>\n",
       "    </tr>\n",
       "    <tr>\n",
       "      <td>3812</td>\n",
       "      <td>-1</td>\n",
       "      <td>3045</td>\n",
       "      <td>26</td>\n",
       "      <td>среднее</td>\n",
       "      <td>1</td>\n",
       "      <td>гражданский брак</td>\n",
       "      <td>1</td>\n",
       "      <td>F</td>\n",
       "      <td>госслужащий</td>\n",
       "      <td>0</td>\n",
       "      <td>131892</td>\n",
       "      <td>на проведение свадьбы</td>\n",
       "    </tr>\n",
       "    <tr>\n",
       "      <td>4198</td>\n",
       "      <td>-1</td>\n",
       "      <td>901</td>\n",
       "      <td>41</td>\n",
       "      <td>среднее</td>\n",
       "      <td>1</td>\n",
       "      <td>женат / замужем</td>\n",
       "      <td>0</td>\n",
       "      <td>F</td>\n",
       "      <td>госслужащий</td>\n",
       "      <td>0</td>\n",
       "      <td>226375</td>\n",
       "      <td>операции со своей недвижимостью</td>\n",
       "    </tr>\n",
       "    <tr>\n",
       "      <td>4399</td>\n",
       "      <td>-1</td>\n",
       "      <td>398001</td>\n",
       "      <td>64</td>\n",
       "      <td>среднее</td>\n",
       "      <td>1</td>\n",
       "      <td>женат / замужем</td>\n",
       "      <td>0</td>\n",
       "      <td>F</td>\n",
       "      <td>пенсионер</td>\n",
       "      <td>0</td>\n",
       "      <td>163264</td>\n",
       "      <td>покупка недвижимости</td>\n",
       "    </tr>\n",
       "    <tr>\n",
       "      <td>4539</td>\n",
       "      <td>-1</td>\n",
       "      <td>1811</td>\n",
       "      <td>32</td>\n",
       "      <td>среднее</td>\n",
       "      <td>1</td>\n",
       "      <td>женат / замужем</td>\n",
       "      <td>0</td>\n",
       "      <td>F</td>\n",
       "      <td>сотрудник</td>\n",
       "      <td>0</td>\n",
       "      <td>160544</td>\n",
       "      <td>образование</td>\n",
       "    </tr>\n",
       "    <tr>\n",
       "      <td>5268</td>\n",
       "      <td>-1</td>\n",
       "      <td>1143</td>\n",
       "      <td>46</td>\n",
       "      <td>среднее</td>\n",
       "      <td>1</td>\n",
       "      <td>вдовец / вдова</td>\n",
       "      <td>2</td>\n",
       "      <td>F</td>\n",
       "      <td>сотрудник</td>\n",
       "      <td>0</td>\n",
       "      <td>278708</td>\n",
       "      <td>покупка недвижимости</td>\n",
       "    </tr>\n",
       "    <tr>\n",
       "      <td>6008</td>\n",
       "      <td>-1</td>\n",
       "      <td>1361</td>\n",
       "      <td>46</td>\n",
       "      <td>высшее</td>\n",
       "      <td>0</td>\n",
       "      <td>женат / замужем</td>\n",
       "      <td>0</td>\n",
       "      <td>F</td>\n",
       "      <td>сотрудник</td>\n",
       "      <td>0</td>\n",
       "      <td>143008</td>\n",
       "      <td>строительство собственной недвижимости</td>\n",
       "    </tr>\n",
       "    <tr>\n",
       "      <td>6379</td>\n",
       "      <td>-1</td>\n",
       "      <td>370215</td>\n",
       "      <td>48</td>\n",
       "      <td>среднее</td>\n",
       "      <td>1</td>\n",
       "      <td>вдовец / вдова</td>\n",
       "      <td>2</td>\n",
       "      <td>F</td>\n",
       "      <td>пенсионер</td>\n",
       "      <td>0</td>\n",
       "      <td>36052</td>\n",
       "      <td>образование</td>\n",
       "    </tr>\n",
       "    <tr>\n",
       "      <td>7184</td>\n",
       "      <td>-1</td>\n",
       "      <td>5928</td>\n",
       "      <td>34</td>\n",
       "      <td>среднее</td>\n",
       "      <td>1</td>\n",
       "      <td>женат / замужем</td>\n",
       "      <td>0</td>\n",
       "      <td>M</td>\n",
       "      <td>сотрудник</td>\n",
       "      <td>0</td>\n",
       "      <td>184315</td>\n",
       "      <td>приобретение автомобиля</td>\n",
       "    </tr>\n",
       "    <tr>\n",
       "      <td>7272</td>\n",
       "      <td>-1</td>\n",
       "      <td>526</td>\n",
       "      <td>51</td>\n",
       "      <td>среднее</td>\n",
       "      <td>1</td>\n",
       "      <td>женат / замужем</td>\n",
       "      <td>0</td>\n",
       "      <td>F</td>\n",
       "      <td>сотрудник</td>\n",
       "      <td>0</td>\n",
       "      <td>146928</td>\n",
       "      <td>операции с коммерческой недвижимостью</td>\n",
       "    </tr>\n",
       "    <tr>\n",
       "      <td>7609</td>\n",
       "      <td>-1</td>\n",
       "      <td>0</td>\n",
       "      <td>35</td>\n",
       "      <td>среднее</td>\n",
       "      <td>1</td>\n",
       "      <td>женат / замужем</td>\n",
       "      <td>0</td>\n",
       "      <td>M</td>\n",
       "      <td>сотрудник</td>\n",
       "      <td>0</td>\n",
       "      <td>136555</td>\n",
       "      <td>образование</td>\n",
       "    </tr>\n",
       "    <tr>\n",
       "      <td>7679</td>\n",
       "      <td>-1</td>\n",
       "      <td>3237</td>\n",
       "      <td>53</td>\n",
       "      <td>среднее</td>\n",
       "      <td>1</td>\n",
       "      <td>вдовец / вдова</td>\n",
       "      <td>2</td>\n",
       "      <td>F</td>\n",
       "      <td>сотрудник</td>\n",
       "      <td>0</td>\n",
       "      <td>159676</td>\n",
       "      <td>строительство жилой недвижимости</td>\n",
       "    </tr>\n",
       "    <tr>\n",
       "      <td>8220</td>\n",
       "      <td>-1</td>\n",
       "      <td>1803</td>\n",
       "      <td>54</td>\n",
       "      <td>высшее</td>\n",
       "      <td>0</td>\n",
       "      <td>женат / замужем</td>\n",
       "      <td>0</td>\n",
       "      <td>F</td>\n",
       "      <td>компаньон</td>\n",
       "      <td>0</td>\n",
       "      <td>138809</td>\n",
       "      <td>покупка недвижимости</td>\n",
       "    </tr>\n",
       "  </tbody>\n",
       "</table>\n",
       "</div>"
      ],
      "text/plain": [
       "      children  days_employed  dob_years education  education_id  \\\n",
       "291         -1           4417         46   среднее             1   \n",
       "705         -1            902         50   среднее             1   \n",
       "742         -1           3174         57   среднее             1   \n",
       "800         -1         349987         54   среднее             1   \n",
       "941         -1              0         57   среднее             1   \n",
       "1363        -1           1195         55   среднее             1   \n",
       "1929        -1           1461         38   среднее             1   \n",
       "2073        -1           2539         42   среднее             1   \n",
       "3812        -1           3045         26   среднее             1   \n",
       "4198        -1            901         41   среднее             1   \n",
       "4399        -1         398001         64   среднее             1   \n",
       "4539        -1           1811         32   среднее             1   \n",
       "5268        -1           1143         46   среднее             1   \n",
       "6008        -1           1361         46    высшее             0   \n",
       "6379        -1         370215         48   среднее             1   \n",
       "7184        -1           5928         34   среднее             1   \n",
       "7272        -1            526         51   среднее             1   \n",
       "7609        -1              0         35   среднее             1   \n",
       "7679        -1           3237         53   среднее             1   \n",
       "8220        -1           1803         54    высшее             0   \n",
       "\n",
       "              family_status  family_status_id gender  income_type  debt  \\\n",
       "291        гражданский брак                 1      F    сотрудник     0   \n",
       "705         женат / замужем                 0      F  госслужащий     0   \n",
       "742         женат / замужем                 0      F    сотрудник     0   \n",
       "800   не женат / не замужем                 4      F    пенсионер     0   \n",
       "941         женат / замужем                 0      F    пенсионер     0   \n",
       "1363        женат / замужем                 0      F    компаньон     0   \n",
       "1929  не женат / не замужем                 4      M    сотрудник     0   \n",
       "2073              в разводе                 3      F    компаньон     0   \n",
       "3812       гражданский брак                 1      F  госслужащий     0   \n",
       "4198        женат / замужем                 0      F  госслужащий     0   \n",
       "4399        женат / замужем                 0      F    пенсионер     0   \n",
       "4539        женат / замужем                 0      F    сотрудник     0   \n",
       "5268         вдовец / вдова                 2      F    сотрудник     0   \n",
       "6008        женат / замужем                 0      F    сотрудник     0   \n",
       "6379         вдовец / вдова                 2      F    пенсионер     0   \n",
       "7184        женат / замужем                 0      M    сотрудник     0   \n",
       "7272        женат / замужем                 0      F    сотрудник     0   \n",
       "7609        женат / замужем                 0      M    сотрудник     0   \n",
       "7679         вдовец / вдова                 2      F    сотрудник     0   \n",
       "8220        женат / замужем                 0      F    компаньон     0   \n",
       "\n",
       "      total_income                                 purpose  \n",
       "291         102816                  профильное образование  \n",
       "705         137882                 приобретение автомобиля  \n",
       "742          64268              дополнительное образование  \n",
       "800          86293              дополнительное образование  \n",
       "941         114842            на покупку своего автомобиля  \n",
       "1363         69550                  профильное образование  \n",
       "1929        109121                           покупка жилья  \n",
       "2073        162638                           покупка жилья  \n",
       "3812        131892                   на проведение свадьбы  \n",
       "4198        226375         операции со своей недвижимостью  \n",
       "4399        163264                    покупка недвижимости  \n",
       "4539        160544                             образование  \n",
       "5268        278708                    покупка недвижимости  \n",
       "6008        143008  строительство собственной недвижимости  \n",
       "6379         36052                             образование  \n",
       "7184        184315                 приобретение автомобиля  \n",
       "7272        146928   операции с коммерческой недвижимостью  \n",
       "7609        136555                             образование  \n",
       "7679        159676        строительство жилой недвижимости  \n",
       "8220        138809                    покупка недвижимости  "
      ]
     },
     "execution_count": 22,
     "metadata": {},
     "output_type": "execute_result"
    }
   ],
   "source": [
    "df[df['children'] == -1].head(20) # посмотрим"
   ]
  },
  {
   "cell_type": "markdown",
   "id": "a471b191",
   "metadata": {},
   "source": [
    "Из-за отсутствия закономерности, значения **20** и **-1** в столбце **children** заменим на **2** и **1** соответственно."
   ]
  },
  {
   "cell_type": "code",
   "execution_count": 23,
   "id": "a9e90d3e",
   "metadata": {},
   "outputs": [],
   "source": [
    "df.loc[df['children'] == 20,'children'] = 2 # \n",
    "df.loc[df['children'] == -1,'children'] = 1 # заменим "
   ]
  },
  {
   "cell_type": "markdown",
   "id": "17ac3026",
   "metadata": {},
   "source": [
    "Проверим значения столбца **dob_years**."
   ]
  },
  {
   "cell_type": "code",
   "execution_count": 24,
   "id": "d023550d",
   "metadata": {},
   "outputs": [
    {
     "data": {
      "text/plain": [
       "35    616\n",
       "40    607\n",
       "41    605\n",
       "34    601\n",
       "38    597\n",
       "42    596\n",
       "33    581\n",
       "39    572\n",
       "31    559\n",
       "36    554\n",
       "44    545\n",
       "29    544\n",
       "30    537\n",
       "48    536\n",
       "37    536\n",
       "50    513\n",
       "43    512\n",
       "32    509\n",
       "49    508\n",
       "28    503\n",
       "45    496\n",
       "27    493\n",
       "52    484\n",
       "56    483\n",
       "47    477\n",
       "54    476\n",
       "46    472\n",
       "53    459\n",
       "57    456\n",
       "58    454\n",
       "51    446\n",
       "55    443\n",
       "59    443\n",
       "26    408\n",
       "60    374\n",
       "25    357\n",
       "61    354\n",
       "62    348\n",
       "63    269\n",
       "24    264\n",
       "64    260\n",
       "23    252\n",
       "65    193\n",
       "22    183\n",
       "66    182\n",
       "67    167\n",
       "21    111\n",
       "0     101\n",
       "68     99\n",
       "69     85\n",
       "70     65\n",
       "71     56\n",
       "20     51\n",
       "72     33\n",
       "19     14\n",
       "73      8\n",
       "74      6\n",
       "75      1\n",
       "Name: dob_years, dtype: int64"
      ]
     },
     "execution_count": 24,
     "metadata": {},
     "output_type": "execute_result"
    }
   ],
   "source": [
    "register('dob_years') # посмотрим"
   ]
  },
  {
   "cell_type": "markdown",
   "id": "3f3e44ce",
   "metadata": {},
   "source": [
    "Выведем первые 10 строк таблицы, в которой значение столбца **dob_years** соответствует **0**."
   ]
  },
  {
   "cell_type": "code",
   "execution_count": 25,
   "id": "263cf6c2",
   "metadata": {},
   "outputs": [
    {
     "data": {
      "text/html": [
       "<div>\n",
       "<style scoped>\n",
       "    .dataframe tbody tr th:only-of-type {\n",
       "        vertical-align: middle;\n",
       "    }\n",
       "\n",
       "    .dataframe tbody tr th {\n",
       "        vertical-align: top;\n",
       "    }\n",
       "\n",
       "    .dataframe thead th {\n",
       "        text-align: right;\n",
       "    }\n",
       "</style>\n",
       "<table border=\"1\" class=\"dataframe\">\n",
       "  <thead>\n",
       "    <tr style=\"text-align: right;\">\n",
       "      <th></th>\n",
       "      <th>children</th>\n",
       "      <th>days_employed</th>\n",
       "      <th>dob_years</th>\n",
       "      <th>education</th>\n",
       "      <th>education_id</th>\n",
       "      <th>family_status</th>\n",
       "      <th>family_status_id</th>\n",
       "      <th>gender</th>\n",
       "      <th>income_type</th>\n",
       "      <th>debt</th>\n",
       "      <th>total_income</th>\n",
       "      <th>purpose</th>\n",
       "    </tr>\n",
       "  </thead>\n",
       "  <tbody>\n",
       "    <tr>\n",
       "      <td>99</td>\n",
       "      <td>0</td>\n",
       "      <td>346541</td>\n",
       "      <td>0</td>\n",
       "      <td>среднее</td>\n",
       "      <td>1</td>\n",
       "      <td>женат / замужем</td>\n",
       "      <td>0</td>\n",
       "      <td>F</td>\n",
       "      <td>пенсионер</td>\n",
       "      <td>0</td>\n",
       "      <td>71291</td>\n",
       "      <td>автомобиль</td>\n",
       "    </tr>\n",
       "    <tr>\n",
       "      <td>149</td>\n",
       "      <td>0</td>\n",
       "      <td>2664</td>\n",
       "      <td>0</td>\n",
       "      <td>среднее</td>\n",
       "      <td>1</td>\n",
       "      <td>в разводе</td>\n",
       "      <td>3</td>\n",
       "      <td>F</td>\n",
       "      <td>сотрудник</td>\n",
       "      <td>0</td>\n",
       "      <td>70176</td>\n",
       "      <td>операции с жильем</td>\n",
       "    </tr>\n",
       "    <tr>\n",
       "      <td>270</td>\n",
       "      <td>3</td>\n",
       "      <td>1872</td>\n",
       "      <td>0</td>\n",
       "      <td>среднее</td>\n",
       "      <td>1</td>\n",
       "      <td>женат / замужем</td>\n",
       "      <td>0</td>\n",
       "      <td>F</td>\n",
       "      <td>сотрудник</td>\n",
       "      <td>0</td>\n",
       "      <td>102166</td>\n",
       "      <td>ремонт жилью</td>\n",
       "    </tr>\n",
       "    <tr>\n",
       "      <td>578</td>\n",
       "      <td>0</td>\n",
       "      <td>397856</td>\n",
       "      <td>0</td>\n",
       "      <td>среднее</td>\n",
       "      <td>1</td>\n",
       "      <td>женат / замужем</td>\n",
       "      <td>0</td>\n",
       "      <td>F</td>\n",
       "      <td>пенсионер</td>\n",
       "      <td>0</td>\n",
       "      <td>97620</td>\n",
       "      <td>строительство собственной недвижимости</td>\n",
       "    </tr>\n",
       "    <tr>\n",
       "      <td>1040</td>\n",
       "      <td>0</td>\n",
       "      <td>1158</td>\n",
       "      <td>0</td>\n",
       "      <td>высшее</td>\n",
       "      <td>0</td>\n",
       "      <td>в разводе</td>\n",
       "      <td>3</td>\n",
       "      <td>F</td>\n",
       "      <td>компаньон</td>\n",
       "      <td>0</td>\n",
       "      <td>303994</td>\n",
       "      <td>свой автомобиль</td>\n",
       "    </tr>\n",
       "    <tr>\n",
       "      <td>1149</td>\n",
       "      <td>0</td>\n",
       "      <td>934</td>\n",
       "      <td>0</td>\n",
       "      <td>среднее</td>\n",
       "      <td>1</td>\n",
       "      <td>женат / замужем</td>\n",
       "      <td>0</td>\n",
       "      <td>F</td>\n",
       "      <td>компаньон</td>\n",
       "      <td>0</td>\n",
       "      <td>201852</td>\n",
       "      <td>покупка недвижимости</td>\n",
       "    </tr>\n",
       "    <tr>\n",
       "      <td>1175</td>\n",
       "      <td>0</td>\n",
       "      <td>370879</td>\n",
       "      <td>0</td>\n",
       "      <td>среднее</td>\n",
       "      <td>1</td>\n",
       "      <td>женат / замужем</td>\n",
       "      <td>0</td>\n",
       "      <td>F</td>\n",
       "      <td>пенсионер</td>\n",
       "      <td>0</td>\n",
       "      <td>313949</td>\n",
       "      <td>получение дополнительного образования</td>\n",
       "    </tr>\n",
       "    <tr>\n",
       "      <td>1386</td>\n",
       "      <td>0</td>\n",
       "      <td>5043</td>\n",
       "      <td>0</td>\n",
       "      <td>высшее</td>\n",
       "      <td>0</td>\n",
       "      <td>женат / замужем</td>\n",
       "      <td>0</td>\n",
       "      <td>M</td>\n",
       "      <td>госслужащий</td>\n",
       "      <td>0</td>\n",
       "      <td>240523</td>\n",
       "      <td>сделка с автомобилем</td>\n",
       "    </tr>\n",
       "    <tr>\n",
       "      <td>1890</td>\n",
       "      <td>0</td>\n",
       "      <td>0</td>\n",
       "      <td>0</td>\n",
       "      <td>высшее</td>\n",
       "      <td>0</td>\n",
       "      <td>не женат / не замужем</td>\n",
       "      <td>4</td>\n",
       "      <td>F</td>\n",
       "      <td>сотрудник</td>\n",
       "      <td>0</td>\n",
       "      <td>165640</td>\n",
       "      <td>жилье</td>\n",
       "    </tr>\n",
       "    <tr>\n",
       "      <td>1898</td>\n",
       "      <td>0</td>\n",
       "      <td>370144</td>\n",
       "      <td>0</td>\n",
       "      <td>среднее</td>\n",
       "      <td>1</td>\n",
       "      <td>вдовец / вдова</td>\n",
       "      <td>2</td>\n",
       "      <td>F</td>\n",
       "      <td>пенсионер</td>\n",
       "      <td>0</td>\n",
       "      <td>127400</td>\n",
       "      <td>на покупку автомобиля</td>\n",
       "    </tr>\n",
       "    <tr>\n",
       "      <td>2082</td>\n",
       "      <td>0</td>\n",
       "      <td>10689</td>\n",
       "      <td>0</td>\n",
       "      <td>среднее</td>\n",
       "      <td>1</td>\n",
       "      <td>женат / замужем</td>\n",
       "      <td>0</td>\n",
       "      <td>F</td>\n",
       "      <td>сотрудник</td>\n",
       "      <td>0</td>\n",
       "      <td>386373</td>\n",
       "      <td>операции с недвижимостью</td>\n",
       "    </tr>\n",
       "    <tr>\n",
       "      <td>2284</td>\n",
       "      <td>0</td>\n",
       "      <td>0</td>\n",
       "      <td>0</td>\n",
       "      <td>среднее</td>\n",
       "      <td>1</td>\n",
       "      <td>вдовец / вдова</td>\n",
       "      <td>2</td>\n",
       "      <td>F</td>\n",
       "      <td>пенсионер</td>\n",
       "      <td>0</td>\n",
       "      <td>114842</td>\n",
       "      <td>недвижимость</td>\n",
       "    </tr>\n",
       "    <tr>\n",
       "      <td>2469</td>\n",
       "      <td>0</td>\n",
       "      <td>794</td>\n",
       "      <td>0</td>\n",
       "      <td>среднее</td>\n",
       "      <td>1</td>\n",
       "      <td>гражданский брак</td>\n",
       "      <td>1</td>\n",
       "      <td>F</td>\n",
       "      <td>сотрудник</td>\n",
       "      <td>0</td>\n",
       "      <td>95967</td>\n",
       "      <td>сыграть свадьбу</td>\n",
       "    </tr>\n",
       "    <tr>\n",
       "      <td>2487</td>\n",
       "      <td>0</td>\n",
       "      <td>2497</td>\n",
       "      <td>0</td>\n",
       "      <td>среднее</td>\n",
       "      <td>1</td>\n",
       "      <td>женат / замужем</td>\n",
       "      <td>0</td>\n",
       "      <td>F</td>\n",
       "      <td>сотрудник</td>\n",
       "      <td>1</td>\n",
       "      <td>91367</td>\n",
       "      <td>недвижимость</td>\n",
       "    </tr>\n",
       "    <tr>\n",
       "      <td>2869</td>\n",
       "      <td>0</td>\n",
       "      <td>1875</td>\n",
       "      <td>0</td>\n",
       "      <td>среднее</td>\n",
       "      <td>1</td>\n",
       "      <td>женат / замужем</td>\n",
       "      <td>0</td>\n",
       "      <td>F</td>\n",
       "      <td>компаньон</td>\n",
       "      <td>0</td>\n",
       "      <td>167713</td>\n",
       "      <td>на покупку своего автомобиля</td>\n",
       "    </tr>\n",
       "    <tr>\n",
       "      <td>2940</td>\n",
       "      <td>2</td>\n",
       "      <td>2161</td>\n",
       "      <td>0</td>\n",
       "      <td>среднее</td>\n",
       "      <td>1</td>\n",
       "      <td>женат / замужем</td>\n",
       "      <td>0</td>\n",
       "      <td>F</td>\n",
       "      <td>сотрудник</td>\n",
       "      <td>0</td>\n",
       "      <td>199739</td>\n",
       "      <td>на покупку автомобиля</td>\n",
       "    </tr>\n",
       "    <tr>\n",
       "      <td>3043</td>\n",
       "      <td>2</td>\n",
       "      <td>2502</td>\n",
       "      <td>0</td>\n",
       "      <td>высшее</td>\n",
       "      <td>0</td>\n",
       "      <td>не женат / не замужем</td>\n",
       "      <td>4</td>\n",
       "      <td>M</td>\n",
       "      <td>сотрудник</td>\n",
       "      <td>0</td>\n",
       "      <td>292145</td>\n",
       "      <td>операции с недвижимостью</td>\n",
       "    </tr>\n",
       "    <tr>\n",
       "      <td>3146</td>\n",
       "      <td>2</td>\n",
       "      <td>906</td>\n",
       "      <td>0</td>\n",
       "      <td>высшее</td>\n",
       "      <td>0</td>\n",
       "      <td>женат / замужем</td>\n",
       "      <td>0</td>\n",
       "      <td>F</td>\n",
       "      <td>компаньон</td>\n",
       "      <td>0</td>\n",
       "      <td>215477</td>\n",
       "      <td>операции с жильем</td>\n",
       "    </tr>\n",
       "    <tr>\n",
       "      <td>3702</td>\n",
       "      <td>0</td>\n",
       "      <td>4288</td>\n",
       "      <td>0</td>\n",
       "      <td>среднее</td>\n",
       "      <td>1</td>\n",
       "      <td>в разводе</td>\n",
       "      <td>3</td>\n",
       "      <td>F</td>\n",
       "      <td>сотрудник</td>\n",
       "      <td>0</td>\n",
       "      <td>191033</td>\n",
       "      <td>автомобили</td>\n",
       "    </tr>\n",
       "    <tr>\n",
       "      <td>4062</td>\n",
       "      <td>1</td>\n",
       "      <td>0</td>\n",
       "      <td>0</td>\n",
       "      <td>среднее</td>\n",
       "      <td>1</td>\n",
       "      <td>гражданский брак</td>\n",
       "      <td>1</td>\n",
       "      <td>M</td>\n",
       "      <td>компаньон</td>\n",
       "      <td>0</td>\n",
       "      <td>159070</td>\n",
       "      <td>ремонт жилью</td>\n",
       "    </tr>\n",
       "  </tbody>\n",
       "</table>\n",
       "</div>"
      ],
      "text/plain": [
       "      children  days_employed  dob_years education  education_id  \\\n",
       "99           0         346541          0   среднее             1   \n",
       "149          0           2664          0   среднее             1   \n",
       "270          3           1872          0   среднее             1   \n",
       "578          0         397856          0   среднее             1   \n",
       "1040         0           1158          0    высшее             0   \n",
       "1149         0            934          0   среднее             1   \n",
       "1175         0         370879          0   среднее             1   \n",
       "1386         0           5043          0    высшее             0   \n",
       "1890         0              0          0    высшее             0   \n",
       "1898         0         370144          0   среднее             1   \n",
       "2082         0          10689          0   среднее             1   \n",
       "2284         0              0          0   среднее             1   \n",
       "2469         0            794          0   среднее             1   \n",
       "2487         0           2497          0   среднее             1   \n",
       "2869         0           1875          0   среднее             1   \n",
       "2940         2           2161          0   среднее             1   \n",
       "3043         2           2502          0    высшее             0   \n",
       "3146         2            906          0    высшее             0   \n",
       "3702         0           4288          0   среднее             1   \n",
       "4062         1              0          0   среднее             1   \n",
       "\n",
       "              family_status  family_status_id gender  income_type  debt  \\\n",
       "99          женат / замужем                 0      F    пенсионер     0   \n",
       "149               в разводе                 3      F    сотрудник     0   \n",
       "270         женат / замужем                 0      F    сотрудник     0   \n",
       "578         женат / замужем                 0      F    пенсионер     0   \n",
       "1040              в разводе                 3      F    компаньон     0   \n",
       "1149        женат / замужем                 0      F    компаньон     0   \n",
       "1175        женат / замужем                 0      F    пенсионер     0   \n",
       "1386        женат / замужем                 0      M  госслужащий     0   \n",
       "1890  не женат / не замужем                 4      F    сотрудник     0   \n",
       "1898         вдовец / вдова                 2      F    пенсионер     0   \n",
       "2082        женат / замужем                 0      F    сотрудник     0   \n",
       "2284         вдовец / вдова                 2      F    пенсионер     0   \n",
       "2469       гражданский брак                 1      F    сотрудник     0   \n",
       "2487        женат / замужем                 0      F    сотрудник     1   \n",
       "2869        женат / замужем                 0      F    компаньон     0   \n",
       "2940        женат / замужем                 0      F    сотрудник     0   \n",
       "3043  не женат / не замужем                 4      M    сотрудник     0   \n",
       "3146        женат / замужем                 0      F    компаньон     0   \n",
       "3702              в разводе                 3      F    сотрудник     0   \n",
       "4062       гражданский брак                 1      M    компаньон     0   \n",
       "\n",
       "      total_income                                 purpose  \n",
       "99           71291                              автомобиль  \n",
       "149          70176                       операции с жильем  \n",
       "270         102166                            ремонт жилью  \n",
       "578          97620  строительство собственной недвижимости  \n",
       "1040        303994                         свой автомобиль  \n",
       "1149        201852                    покупка недвижимости  \n",
       "1175        313949   получение дополнительного образования  \n",
       "1386        240523                    сделка с автомобилем  \n",
       "1890        165640                                   жилье  \n",
       "1898        127400                   на покупку автомобиля  \n",
       "2082        386373                операции с недвижимостью  \n",
       "2284        114842                            недвижимость  \n",
       "2469         95967                         сыграть свадьбу  \n",
       "2487         91367                            недвижимость  \n",
       "2869        167713            на покупку своего автомобиля  \n",
       "2940        199739                   на покупку автомобиля  \n",
       "3043        292145                операции с недвижимостью  \n",
       "3146        215477                       операции с жильем  \n",
       "3702        191033                              автомобили  \n",
       "4062        159070                            ремонт жилью  "
      ]
     },
     "execution_count": 25,
     "metadata": {},
     "output_type": "execute_result"
    }
   ],
   "source": [
    "df[df['dob_years'] == 0].head(20) # посмотрим"
   ]
  },
  {
   "cell_type": "markdown",
   "id": "368b1bc3",
   "metadata": {},
   "source": [
    "В столбце **dob_years** отсутствует значение **18**. Ошибочное значение **0** маловероятно является **18**, так как значение **19** повторяется в таблице **14** раз, **20** - **51** раз, **21** - **111** раз, т.е. прогрессия. Из-за отсутствия закономерности ошибки заполнения в столбце **dob_years** значения **0** оставим без изменений."
   ]
  },
  {
   "cell_type": "markdown",
   "id": "1383322e",
   "metadata": {},
   "source": [
    "Посмотрим значения в столбцах **education_id**, **family_status_id**, **debt** и **gender**."
   ]
  },
  {
   "cell_type": "code",
   "execution_count": 26,
   "id": "7ce144f8",
   "metadata": {},
   "outputs": [
    {
     "data": {
      "text/plain": [
       "1    15172\n",
       "0     5250\n",
       "2      744\n",
       "3      282\n",
       "4        6\n",
       "Name: education_id, dtype: int64"
      ]
     },
     "metadata": {},
     "output_type": "display_data"
    },
    {
     "data": {
      "text/plain": [
       "0    12339\n",
       "1     4151\n",
       "4     2810\n",
       "3     1195\n",
       "2      959\n",
       "Name: family_status_id, dtype: int64"
      ]
     },
     "metadata": {},
     "output_type": "display_data"
    },
    {
     "data": {
      "text/plain": [
       "0    19713\n",
       "1     1741\n",
       "Name: debt, dtype: int64"
      ]
     },
     "metadata": {},
     "output_type": "display_data"
    },
    {
     "data": {
      "text/plain": [
       "F      14174\n",
       "M       7279\n",
       "XNA        1\n",
       "Name: gender, dtype: int64"
      ]
     },
     "execution_count": 26,
     "metadata": {},
     "output_type": "execute_result"
    }
   ],
   "source": [
    "display(register('education_id'))\n",
    "display(register('family_status_id'))\n",
    "display(register('debt'))\n",
    "register('gender')# посмотрим"
   ]
  },
  {
   "cell_type": "markdown",
   "id": "233fdafb",
   "metadata": {},
   "source": [
    "В столбцах **education_id**, **family_status_id** и **debt** отсутсвует некорректное заполнение.\n",
    "\n",
    "В столбце **gender** одно значение `XNA`. Заменим его на **F**, так как доля **female** преобладает."
   ]
  },
  {
   "cell_type": "code",
   "execution_count": 27,
   "id": "b831474d",
   "metadata": {},
   "outputs": [],
   "source": [
    "df.loc[df['gender'] == 'XNA','gender'] = 'F' # заменим"
   ]
  },
  {
   "cell_type": "markdown",
   "id": "ded7a690",
   "metadata": {},
   "source": [
    "#### Лемматизация данных"
   ]
  },
  {
   "cell_type": "code",
   "execution_count": 28,
   "id": "a343dbac",
   "metadata": {},
   "outputs": [
    {
     "data": {
      "text/html": [
       "<div>\n",
       "<style scoped>\n",
       "    .dataframe tbody tr th:only-of-type {\n",
       "        vertical-align: middle;\n",
       "    }\n",
       "\n",
       "    .dataframe tbody tr th {\n",
       "        vertical-align: top;\n",
       "    }\n",
       "\n",
       "    .dataframe thead th {\n",
       "        text-align: right;\n",
       "    }\n",
       "</style>\n",
       "<table border=\"1\" class=\"dataframe\">\n",
       "  <thead>\n",
       "    <tr style=\"text-align: right;\">\n",
       "      <th></th>\n",
       "      <th>index</th>\n",
       "      <th>purpose</th>\n",
       "    </tr>\n",
       "  </thead>\n",
       "  <tbody>\n",
       "    <tr>\n",
       "      <td>0</td>\n",
       "      <td>свадьба</td>\n",
       "      <td>791</td>\n",
       "    </tr>\n",
       "    <tr>\n",
       "      <td>1</td>\n",
       "      <td>на проведение свадьбы</td>\n",
       "      <td>768</td>\n",
       "    </tr>\n",
       "    <tr>\n",
       "      <td>2</td>\n",
       "      <td>сыграть свадьбу</td>\n",
       "      <td>765</td>\n",
       "    </tr>\n",
       "    <tr>\n",
       "      <td>3</td>\n",
       "      <td>операции с недвижимостью</td>\n",
       "      <td>675</td>\n",
       "    </tr>\n",
       "    <tr>\n",
       "      <td>4</td>\n",
       "      <td>покупка коммерческой недвижимости</td>\n",
       "      <td>661</td>\n",
       "    </tr>\n",
       "    <tr>\n",
       "      <td>5</td>\n",
       "      <td>операции с жильем</td>\n",
       "      <td>652</td>\n",
       "    </tr>\n",
       "    <tr>\n",
       "      <td>6</td>\n",
       "      <td>покупка жилья для сдачи</td>\n",
       "      <td>651</td>\n",
       "    </tr>\n",
       "    <tr>\n",
       "      <td>7</td>\n",
       "      <td>операции с коммерческой недвижимостью</td>\n",
       "      <td>650</td>\n",
       "    </tr>\n",
       "    <tr>\n",
       "      <td>8</td>\n",
       "      <td>жилье</td>\n",
       "      <td>646</td>\n",
       "    </tr>\n",
       "    <tr>\n",
       "      <td>9</td>\n",
       "      <td>покупка жилья</td>\n",
       "      <td>646</td>\n",
       "    </tr>\n",
       "    <tr>\n",
       "      <td>10</td>\n",
       "      <td>покупка жилья для семьи</td>\n",
       "      <td>638</td>\n",
       "    </tr>\n",
       "    <tr>\n",
       "      <td>11</td>\n",
       "      <td>строительство собственной недвижимости</td>\n",
       "      <td>635</td>\n",
       "    </tr>\n",
       "    <tr>\n",
       "      <td>12</td>\n",
       "      <td>недвижимость</td>\n",
       "      <td>633</td>\n",
       "    </tr>\n",
       "    <tr>\n",
       "      <td>13</td>\n",
       "      <td>операции со своей недвижимостью</td>\n",
       "      <td>627</td>\n",
       "    </tr>\n",
       "    <tr>\n",
       "      <td>14</td>\n",
       "      <td>строительство жилой недвижимости</td>\n",
       "      <td>624</td>\n",
       "    </tr>\n",
       "    <tr>\n",
       "      <td>15</td>\n",
       "      <td>покупка недвижимости</td>\n",
       "      <td>621</td>\n",
       "    </tr>\n",
       "    <tr>\n",
       "      <td>16</td>\n",
       "      <td>покупка своего жилья</td>\n",
       "      <td>620</td>\n",
       "    </tr>\n",
       "    <tr>\n",
       "      <td>17</td>\n",
       "      <td>строительство недвижимости</td>\n",
       "      <td>619</td>\n",
       "    </tr>\n",
       "    <tr>\n",
       "      <td>18</td>\n",
       "      <td>ремонт жилью</td>\n",
       "      <td>607</td>\n",
       "    </tr>\n",
       "    <tr>\n",
       "      <td>19</td>\n",
       "      <td>покупка жилой недвижимости</td>\n",
       "      <td>606</td>\n",
       "    </tr>\n",
       "    <tr>\n",
       "      <td>20</td>\n",
       "      <td>на покупку своего автомобиля</td>\n",
       "      <td>505</td>\n",
       "    </tr>\n",
       "    <tr>\n",
       "      <td>21</td>\n",
       "      <td>заняться высшим образованием</td>\n",
       "      <td>496</td>\n",
       "    </tr>\n",
       "    <tr>\n",
       "      <td>22</td>\n",
       "      <td>автомобиль</td>\n",
       "      <td>494</td>\n",
       "    </tr>\n",
       "    <tr>\n",
       "      <td>23</td>\n",
       "      <td>сделка с подержанным автомобилем</td>\n",
       "      <td>486</td>\n",
       "    </tr>\n",
       "    <tr>\n",
       "      <td>24</td>\n",
       "      <td>автомобили</td>\n",
       "      <td>478</td>\n",
       "    </tr>\n",
       "    <tr>\n",
       "      <td>25</td>\n",
       "      <td>свой автомобиль</td>\n",
       "      <td>478</td>\n",
       "    </tr>\n",
       "    <tr>\n",
       "      <td>26</td>\n",
       "      <td>на покупку подержанного автомобиля</td>\n",
       "      <td>478</td>\n",
       "    </tr>\n",
       "    <tr>\n",
       "      <td>27</td>\n",
       "      <td>на покупку автомобиля</td>\n",
       "      <td>471</td>\n",
       "    </tr>\n",
       "    <tr>\n",
       "      <td>28</td>\n",
       "      <td>приобретение автомобиля</td>\n",
       "      <td>461</td>\n",
       "    </tr>\n",
       "    <tr>\n",
       "      <td>29</td>\n",
       "      <td>дополнительное образование</td>\n",
       "      <td>460</td>\n",
       "    </tr>\n",
       "    <tr>\n",
       "      <td>30</td>\n",
       "      <td>сделка с автомобилем</td>\n",
       "      <td>455</td>\n",
       "    </tr>\n",
       "    <tr>\n",
       "      <td>31</td>\n",
       "      <td>высшее образование</td>\n",
       "      <td>452</td>\n",
       "    </tr>\n",
       "    <tr>\n",
       "      <td>32</td>\n",
       "      <td>образование</td>\n",
       "      <td>447</td>\n",
       "    </tr>\n",
       "    <tr>\n",
       "      <td>33</td>\n",
       "      <td>получение дополнительного образования</td>\n",
       "      <td>446</td>\n",
       "    </tr>\n",
       "    <tr>\n",
       "      <td>34</td>\n",
       "      <td>получение образования</td>\n",
       "      <td>442</td>\n",
       "    </tr>\n",
       "    <tr>\n",
       "      <td>35</td>\n",
       "      <td>профильное образование</td>\n",
       "      <td>436</td>\n",
       "    </tr>\n",
       "    <tr>\n",
       "      <td>36</td>\n",
       "      <td>получение высшего образования</td>\n",
       "      <td>426</td>\n",
       "    </tr>\n",
       "    <tr>\n",
       "      <td>37</td>\n",
       "      <td>заняться образованием</td>\n",
       "      <td>408</td>\n",
       "    </tr>\n",
       "  </tbody>\n",
       "</table>\n",
       "</div>"
      ],
      "text/plain": [
       "                                     index  purpose\n",
       "0                                  свадьба      791\n",
       "1                    на проведение свадьбы      768\n",
       "2                          сыграть свадьбу      765\n",
       "3                 операции с недвижимостью      675\n",
       "4        покупка коммерческой недвижимости      661\n",
       "5                        операции с жильем      652\n",
       "6                  покупка жилья для сдачи      651\n",
       "7    операции с коммерческой недвижимостью      650\n",
       "8                                    жилье      646\n",
       "9                            покупка жилья      646\n",
       "10                 покупка жилья для семьи      638\n",
       "11  строительство собственной недвижимости      635\n",
       "12                            недвижимость      633\n",
       "13         операции со своей недвижимостью      627\n",
       "14        строительство жилой недвижимости      624\n",
       "15                    покупка недвижимости      621\n",
       "16                    покупка своего жилья      620\n",
       "17              строительство недвижимости      619\n",
       "18                            ремонт жилью      607\n",
       "19              покупка жилой недвижимости      606\n",
       "20            на покупку своего автомобиля      505\n",
       "21            заняться высшим образованием      496\n",
       "22                              автомобиль      494\n",
       "23        сделка с подержанным автомобилем      486\n",
       "24                              автомобили      478\n",
       "25                         свой автомобиль      478\n",
       "26      на покупку подержанного автомобиля      478\n",
       "27                   на покупку автомобиля      471\n",
       "28                 приобретение автомобиля      461\n",
       "29              дополнительное образование      460\n",
       "30                    сделка с автомобилем      455\n",
       "31                      высшее образование      452\n",
       "32                             образование      447\n",
       "33   получение дополнительного образования      446\n",
       "34                   получение образования      442\n",
       "35                  профильное образование      436\n",
       "36           получение высшего образования      426\n",
       "37                   заняться образованием      408"
      ]
     },
     "execution_count": 28,
     "metadata": {},
     "output_type": "execute_result"
    }
   ],
   "source": [
    "# создадим переменную, в которую сохраним сумму уникальных значений столбца 'purpose'\n",
    "credit_target = df['purpose'].value_counts().reset_index() \n",
    "\n",
    "credit_target # посмотрим"
   ]
  },
  {
   "cell_type": "markdown",
   "id": "b78bf485",
   "metadata": {},
   "source": [
    "Создадим функцию **credit_lemmatize**, которая будет производить лемматизацию."
   ]
  },
  {
   "cell_type": "code",
   "execution_count": 29,
   "id": "8b057a3a",
   "metadata": {},
   "outputs": [
    {
     "data": {
      "text/html": [
       "<div>\n",
       "<style scoped>\n",
       "    .dataframe tbody tr th:only-of-type {\n",
       "        vertical-align: middle;\n",
       "    }\n",
       "\n",
       "    .dataframe tbody tr th {\n",
       "        vertical-align: top;\n",
       "    }\n",
       "\n",
       "    .dataframe thead th {\n",
       "        text-align: right;\n",
       "    }\n",
       "</style>\n",
       "<table border=\"1\" class=\"dataframe\">\n",
       "  <thead>\n",
       "    <tr style=\"text-align: right;\">\n",
       "      <th></th>\n",
       "      <th>index</th>\n",
       "      <th>purpose</th>\n",
       "      <th>credit_lemmatize</th>\n",
       "    </tr>\n",
       "  </thead>\n",
       "  <tbody>\n",
       "    <tr>\n",
       "      <td>0</td>\n",
       "      <td>свадьба</td>\n",
       "      <td>791</td>\n",
       "      <td>[свадьба, \\n]</td>\n",
       "    </tr>\n",
       "    <tr>\n",
       "      <td>1</td>\n",
       "      <td>на проведение свадьбы</td>\n",
       "      <td>768</td>\n",
       "      <td>[на,  , проведение,  , свадьба, \\n]</td>\n",
       "    </tr>\n",
       "    <tr>\n",
       "      <td>2</td>\n",
       "      <td>сыграть свадьбу</td>\n",
       "      <td>765</td>\n",
       "      <td>[сыграть,  , свадьба, \\n]</td>\n",
       "    </tr>\n",
       "    <tr>\n",
       "      <td>3</td>\n",
       "      <td>операции с недвижимостью</td>\n",
       "      <td>675</td>\n",
       "      <td>[операция,  , с,  , недвижимость, \\n]</td>\n",
       "    </tr>\n",
       "    <tr>\n",
       "      <td>4</td>\n",
       "      <td>покупка коммерческой недвижимости</td>\n",
       "      <td>661</td>\n",
       "      <td>[покупка,  , коммерческий,  , недвижимость, \\n]</td>\n",
       "    </tr>\n",
       "    <tr>\n",
       "      <td>5</td>\n",
       "      <td>операции с жильем</td>\n",
       "      <td>652</td>\n",
       "      <td>[операция,  , с,  , жилье, \\n]</td>\n",
       "    </tr>\n",
       "    <tr>\n",
       "      <td>6</td>\n",
       "      <td>покупка жилья для сдачи</td>\n",
       "      <td>651</td>\n",
       "      <td>[покупка,  , жилье,  , для,  , сдача, \\n]</td>\n",
       "    </tr>\n",
       "    <tr>\n",
       "      <td>7</td>\n",
       "      <td>операции с коммерческой недвижимостью</td>\n",
       "      <td>650</td>\n",
       "      <td>[операция,  , с,  , коммерческий,  , недвижимо...</td>\n",
       "    </tr>\n",
       "    <tr>\n",
       "      <td>8</td>\n",
       "      <td>жилье</td>\n",
       "      <td>646</td>\n",
       "      <td>[жилье, \\n]</td>\n",
       "    </tr>\n",
       "    <tr>\n",
       "      <td>9</td>\n",
       "      <td>покупка жилья</td>\n",
       "      <td>646</td>\n",
       "      <td>[покупка,  , жилье, \\n]</td>\n",
       "    </tr>\n",
       "    <tr>\n",
       "      <td>10</td>\n",
       "      <td>покупка жилья для семьи</td>\n",
       "      <td>638</td>\n",
       "      <td>[покупка,  , жилье,  , для,  , семья, \\n]</td>\n",
       "    </tr>\n",
       "    <tr>\n",
       "      <td>11</td>\n",
       "      <td>строительство собственной недвижимости</td>\n",
       "      <td>635</td>\n",
       "      <td>[строительство,  , собственный,  , недвижимост...</td>\n",
       "    </tr>\n",
       "    <tr>\n",
       "      <td>12</td>\n",
       "      <td>недвижимость</td>\n",
       "      <td>633</td>\n",
       "      <td>[недвижимость, \\n]</td>\n",
       "    </tr>\n",
       "    <tr>\n",
       "      <td>13</td>\n",
       "      <td>операции со своей недвижимостью</td>\n",
       "      <td>627</td>\n",
       "      <td>[операция,  , со,  , свой,  , недвижимость, \\n]</td>\n",
       "    </tr>\n",
       "    <tr>\n",
       "      <td>14</td>\n",
       "      <td>строительство жилой недвижимости</td>\n",
       "      <td>624</td>\n",
       "      <td>[строительство,  , жилой,  , недвижимость, \\n]</td>\n",
       "    </tr>\n",
       "    <tr>\n",
       "      <td>15</td>\n",
       "      <td>покупка недвижимости</td>\n",
       "      <td>621</td>\n",
       "      <td>[покупка,  , недвижимость, \\n]</td>\n",
       "    </tr>\n",
       "    <tr>\n",
       "      <td>16</td>\n",
       "      <td>покупка своего жилья</td>\n",
       "      <td>620</td>\n",
       "      <td>[покупка,  , свой,  , жилье, \\n]</td>\n",
       "    </tr>\n",
       "    <tr>\n",
       "      <td>17</td>\n",
       "      <td>строительство недвижимости</td>\n",
       "      <td>619</td>\n",
       "      <td>[строительство,  , недвижимость, \\n]</td>\n",
       "    </tr>\n",
       "    <tr>\n",
       "      <td>18</td>\n",
       "      <td>ремонт жилью</td>\n",
       "      <td>607</td>\n",
       "      <td>[ремонт,  , жилье, \\n]</td>\n",
       "    </tr>\n",
       "    <tr>\n",
       "      <td>19</td>\n",
       "      <td>покупка жилой недвижимости</td>\n",
       "      <td>606</td>\n",
       "      <td>[покупка,  , жилой,  , недвижимость, \\n]</td>\n",
       "    </tr>\n",
       "    <tr>\n",
       "      <td>20</td>\n",
       "      <td>на покупку своего автомобиля</td>\n",
       "      <td>505</td>\n",
       "      <td>[на,  , покупка,  , свой,  , автомобиль, \\n]</td>\n",
       "    </tr>\n",
       "    <tr>\n",
       "      <td>21</td>\n",
       "      <td>заняться высшим образованием</td>\n",
       "      <td>496</td>\n",
       "      <td>[заниматься,  , высокий,  , образование, \\n]</td>\n",
       "    </tr>\n",
       "    <tr>\n",
       "      <td>22</td>\n",
       "      <td>автомобиль</td>\n",
       "      <td>494</td>\n",
       "      <td>[автомобиль, \\n]</td>\n",
       "    </tr>\n",
       "    <tr>\n",
       "      <td>23</td>\n",
       "      <td>сделка с подержанным автомобилем</td>\n",
       "      <td>486</td>\n",
       "      <td>[сделка,  , с,  , подержанный,  , автомобиль, \\n]</td>\n",
       "    </tr>\n",
       "    <tr>\n",
       "      <td>24</td>\n",
       "      <td>автомобили</td>\n",
       "      <td>478</td>\n",
       "      <td>[автомобиль, \\n]</td>\n",
       "    </tr>\n",
       "    <tr>\n",
       "      <td>25</td>\n",
       "      <td>свой автомобиль</td>\n",
       "      <td>478</td>\n",
       "      <td>[свой,  , автомобиль, \\n]</td>\n",
       "    </tr>\n",
       "    <tr>\n",
       "      <td>26</td>\n",
       "      <td>на покупку подержанного автомобиля</td>\n",
       "      <td>478</td>\n",
       "      <td>[на,  , покупка,  , подержать,  , автомобиль, \\n]</td>\n",
       "    </tr>\n",
       "    <tr>\n",
       "      <td>27</td>\n",
       "      <td>на покупку автомобиля</td>\n",
       "      <td>471</td>\n",
       "      <td>[на,  , покупка,  , автомобиль, \\n]</td>\n",
       "    </tr>\n",
       "    <tr>\n",
       "      <td>28</td>\n",
       "      <td>приобретение автомобиля</td>\n",
       "      <td>461</td>\n",
       "      <td>[приобретение,  , автомобиль, \\n]</td>\n",
       "    </tr>\n",
       "    <tr>\n",
       "      <td>29</td>\n",
       "      <td>дополнительное образование</td>\n",
       "      <td>460</td>\n",
       "      <td>[дополнительный,  , образование, \\n]</td>\n",
       "    </tr>\n",
       "    <tr>\n",
       "      <td>30</td>\n",
       "      <td>сделка с автомобилем</td>\n",
       "      <td>455</td>\n",
       "      <td>[сделка,  , с,  , автомобиль, \\n]</td>\n",
       "    </tr>\n",
       "    <tr>\n",
       "      <td>31</td>\n",
       "      <td>высшее образование</td>\n",
       "      <td>452</td>\n",
       "      <td>[высокий,  , образование, \\n]</td>\n",
       "    </tr>\n",
       "    <tr>\n",
       "      <td>32</td>\n",
       "      <td>образование</td>\n",
       "      <td>447</td>\n",
       "      <td>[образование, \\n]</td>\n",
       "    </tr>\n",
       "    <tr>\n",
       "      <td>33</td>\n",
       "      <td>получение дополнительного образования</td>\n",
       "      <td>446</td>\n",
       "      <td>[получение,  , дополнительный,  , образование,...</td>\n",
       "    </tr>\n",
       "    <tr>\n",
       "      <td>34</td>\n",
       "      <td>получение образования</td>\n",
       "      <td>442</td>\n",
       "      <td>[получение,  , образование, \\n]</td>\n",
       "    </tr>\n",
       "    <tr>\n",
       "      <td>35</td>\n",
       "      <td>профильное образование</td>\n",
       "      <td>436</td>\n",
       "      <td>[профильный,  , образование, \\n]</td>\n",
       "    </tr>\n",
       "    <tr>\n",
       "      <td>36</td>\n",
       "      <td>получение высшего образования</td>\n",
       "      <td>426</td>\n",
       "      <td>[получение,  , высокий,  , образование, \\n]</td>\n",
       "    </tr>\n",
       "    <tr>\n",
       "      <td>37</td>\n",
       "      <td>заняться образованием</td>\n",
       "      <td>408</td>\n",
       "      <td>[заниматься,  , образование, \\n]</td>\n",
       "    </tr>\n",
       "  </tbody>\n",
       "</table>\n",
       "</div>"
      ],
      "text/plain": [
       "                                     index  purpose  \\\n",
       "0                                  свадьба      791   \n",
       "1                    на проведение свадьбы      768   \n",
       "2                          сыграть свадьбу      765   \n",
       "3                 операции с недвижимостью      675   \n",
       "4        покупка коммерческой недвижимости      661   \n",
       "5                        операции с жильем      652   \n",
       "6                  покупка жилья для сдачи      651   \n",
       "7    операции с коммерческой недвижимостью      650   \n",
       "8                                    жилье      646   \n",
       "9                            покупка жилья      646   \n",
       "10                 покупка жилья для семьи      638   \n",
       "11  строительство собственной недвижимости      635   \n",
       "12                            недвижимость      633   \n",
       "13         операции со своей недвижимостью      627   \n",
       "14        строительство жилой недвижимости      624   \n",
       "15                    покупка недвижимости      621   \n",
       "16                    покупка своего жилья      620   \n",
       "17              строительство недвижимости      619   \n",
       "18                            ремонт жилью      607   \n",
       "19              покупка жилой недвижимости      606   \n",
       "20            на покупку своего автомобиля      505   \n",
       "21            заняться высшим образованием      496   \n",
       "22                              автомобиль      494   \n",
       "23        сделка с подержанным автомобилем      486   \n",
       "24                              автомобили      478   \n",
       "25                         свой автомобиль      478   \n",
       "26      на покупку подержанного автомобиля      478   \n",
       "27                   на покупку автомобиля      471   \n",
       "28                 приобретение автомобиля      461   \n",
       "29              дополнительное образование      460   \n",
       "30                    сделка с автомобилем      455   \n",
       "31                      высшее образование      452   \n",
       "32                             образование      447   \n",
       "33   получение дополнительного образования      446   \n",
       "34                   получение образования      442   \n",
       "35                  профильное образование      436   \n",
       "36           получение высшего образования      426   \n",
       "37                   заняться образованием      408   \n",
       "\n",
       "                                     credit_lemmatize  \n",
       "0                                       [свадьба, \\n]  \n",
       "1                 [на,  , проведение,  , свадьба, \\n]  \n",
       "2                           [сыграть,  , свадьба, \\n]  \n",
       "3               [операция,  , с,  , недвижимость, \\n]  \n",
       "4     [покупка,  , коммерческий,  , недвижимость, \\n]  \n",
       "5                      [операция,  , с,  , жилье, \\n]  \n",
       "6           [покупка,  , жилье,  , для,  , сдача, \\n]  \n",
       "7   [операция,  , с,  , коммерческий,  , недвижимо...  \n",
       "8                                         [жилье, \\n]  \n",
       "9                             [покупка,  , жилье, \\n]  \n",
       "10          [покупка,  , жилье,  , для,  , семья, \\n]  \n",
       "11  [строительство,  , собственный,  , недвижимост...  \n",
       "12                                 [недвижимость, \\n]  \n",
       "13    [операция,  , со,  , свой,  , недвижимость, \\n]  \n",
       "14     [строительство,  , жилой,  , недвижимость, \\n]  \n",
       "15                     [покупка,  , недвижимость, \\n]  \n",
       "16                   [покупка,  , свой,  , жилье, \\n]  \n",
       "17               [строительство,  , недвижимость, \\n]  \n",
       "18                             [ремонт,  , жилье, \\n]  \n",
       "19           [покупка,  , жилой,  , недвижимость, \\n]  \n",
       "20       [на,  , покупка,  , свой,  , автомобиль, \\n]  \n",
       "21       [заниматься,  , высокий,  , образование, \\n]  \n",
       "22                                   [автомобиль, \\n]  \n",
       "23  [сделка,  , с,  , подержанный,  , автомобиль, \\n]  \n",
       "24                                   [автомобиль, \\n]  \n",
       "25                          [свой,  , автомобиль, \\n]  \n",
       "26  [на,  , покупка,  , подержать,  , автомобиль, \\n]  \n",
       "27                [на,  , покупка,  , автомобиль, \\n]  \n",
       "28                  [приобретение,  , автомобиль, \\n]  \n",
       "29               [дополнительный,  , образование, \\n]  \n",
       "30                  [сделка,  , с,  , автомобиль, \\n]  \n",
       "31                      [высокий,  , образование, \\n]  \n",
       "32                                  [образование, \\n]  \n",
       "33  [получение,  , дополнительный,  , образование,...  \n",
       "34                    [получение,  , образование, \\n]  \n",
       "35                   [профильный,  , образование, \\n]  \n",
       "36        [получение,  , высокий,  , образование, \\n]  \n",
       "37                   [заниматься,  , образование, \\n]  "
      ]
     },
     "execution_count": 29,
     "metadata": {},
     "output_type": "execute_result"
    }
   ],
   "source": [
    "m = Mystem()\n",
    "\n",
    "def credit_lemmatize(i):\n",
    "    lemmas = m.lemmatize(i)\n",
    "    return lemmas\n",
    "\n",
    "credit_target['credit_lemmatize'] = credit_target['index'].apply(credit_lemmatize)\n",
    "\n",
    "credit_target # посмотрим"
   ]
  },
  {
   "cell_type": "markdown",
   "id": "52bc4083",
   "metadata": {},
   "source": [
    "По итогу лемматизации, резделим столбец **purpose** на **4** категорий:\n",
    "\n",
    "1. Проведения свадьбы\n",
    "2. Операции с недвижимостью\n",
    "3. Операции с автомобилем\n",
    "4. Получение образования"
   ]
  },
  {
   "cell_type": "markdown",
   "id": "81e24622",
   "metadata": {},
   "source": [
    "#### Категоризация столбца 'purpose'"
   ]
  },
  {
   "cell_type": "markdown",
   "id": "f4c1baed",
   "metadata": {},
   "source": [
    "Создадим функцию **credit_target** для замены значений."
   ]
  },
  {
   "cell_type": "code",
   "execution_count": 30,
   "id": "63dd3381",
   "metadata": {},
   "outputs": [
    {
     "data": {
      "text/html": [
       "<div>\n",
       "<style scoped>\n",
       "    .dataframe tbody tr th:only-of-type {\n",
       "        vertical-align: middle;\n",
       "    }\n",
       "\n",
       "    .dataframe tbody tr th {\n",
       "        vertical-align: top;\n",
       "    }\n",
       "\n",
       "    .dataframe thead th {\n",
       "        text-align: right;\n",
       "    }\n",
       "</style>\n",
       "<table border=\"1\" class=\"dataframe\">\n",
       "  <thead>\n",
       "    <tr style=\"text-align: right;\">\n",
       "      <th></th>\n",
       "      <th>purpose</th>\n",
       "      <th>credit_target</th>\n",
       "    </tr>\n",
       "  </thead>\n",
       "  <tbody>\n",
       "    <tr>\n",
       "      <td>0</td>\n",
       "      <td>покупка жилья</td>\n",
       "      <td>недвижимость</td>\n",
       "    </tr>\n",
       "    <tr>\n",
       "      <td>1</td>\n",
       "      <td>приобретение автомобиля</td>\n",
       "      <td>автомобиль</td>\n",
       "    </tr>\n",
       "    <tr>\n",
       "      <td>2</td>\n",
       "      <td>покупка жилья</td>\n",
       "      <td>недвижимость</td>\n",
       "    </tr>\n",
       "    <tr>\n",
       "      <td>3</td>\n",
       "      <td>дополнительное образование</td>\n",
       "      <td>образование</td>\n",
       "    </tr>\n",
       "    <tr>\n",
       "      <td>4</td>\n",
       "      <td>сыграть свадьбу</td>\n",
       "      <td>свадьба</td>\n",
       "    </tr>\n",
       "    <tr>\n",
       "      <td>5</td>\n",
       "      <td>покупка жилья</td>\n",
       "      <td>недвижимость</td>\n",
       "    </tr>\n",
       "    <tr>\n",
       "      <td>6</td>\n",
       "      <td>операции с жильем</td>\n",
       "      <td>недвижимость</td>\n",
       "    </tr>\n",
       "    <tr>\n",
       "      <td>7</td>\n",
       "      <td>образование</td>\n",
       "      <td>образование</td>\n",
       "    </tr>\n",
       "    <tr>\n",
       "      <td>8</td>\n",
       "      <td>на проведение свадьбы</td>\n",
       "      <td>свадьба</td>\n",
       "    </tr>\n",
       "    <tr>\n",
       "      <td>9</td>\n",
       "      <td>покупка жилья для семьи</td>\n",
       "      <td>недвижимость</td>\n",
       "    </tr>\n",
       "  </tbody>\n",
       "</table>\n",
       "</div>"
      ],
      "text/plain": [
       "                      purpose credit_target\n",
       "0               покупка жилья  недвижимость\n",
       "1     приобретение автомобиля    автомобиль\n",
       "2               покупка жилья  недвижимость\n",
       "3  дополнительное образование   образование\n",
       "4             сыграть свадьбу       свадьба\n",
       "5               покупка жилья  недвижимость\n",
       "6           операции с жильем  недвижимость\n",
       "7                 образование   образование\n",
       "8       на проведение свадьбы       свадьба\n",
       "9     покупка жилья для семьи  недвижимость"
      ]
     },
     "execution_count": 30,
     "metadata": {},
     "output_type": "execute_result"
    }
   ],
   "source": [
    "def credit_target(purpose):\n",
    "    if 'образован' in purpose:\n",
    "        return 'образование'\n",
    "    elif 'авто' in purpose:\n",
    "        return 'автомобиль'\n",
    "    elif 'свадь' in purpose:\n",
    "        return 'свадьба'\n",
    "    else:\n",
    "        return 'недвижимость'\n",
    "    \n",
    "\n",
    "df['credit_target'] = df['purpose'].apply(credit_target) # создадим столбец 'credit_target'\n",
    "\n",
    "df[['purpose', 'credit_target']].head(10) # проверим"
   ]
  },
  {
   "cell_type": "markdown",
   "id": "f52848f3",
   "metadata": {},
   "source": [
    "Создадим столбец **credit_target_id**, в котором присвоим номер категории для целей кредита."
   ]
  },
  {
   "cell_type": "code",
   "execution_count": 31,
   "id": "ff7d4ff1",
   "metadata": {},
   "outputs": [
    {
     "data": {
      "text/html": [
       "<div>\n",
       "<style scoped>\n",
       "    .dataframe tbody tr th:only-of-type {\n",
       "        vertical-align: middle;\n",
       "    }\n",
       "\n",
       "    .dataframe tbody tr th {\n",
       "        vertical-align: top;\n",
       "    }\n",
       "\n",
       "    .dataframe thead th {\n",
       "        text-align: right;\n",
       "    }\n",
       "</style>\n",
       "<table border=\"1\" class=\"dataframe\">\n",
       "  <thead>\n",
       "    <tr style=\"text-align: right;\">\n",
       "      <th></th>\n",
       "      <th>credit_target</th>\n",
       "      <th>credit_target_id</th>\n",
       "    </tr>\n",
       "  </thead>\n",
       "  <tbody>\n",
       "    <tr>\n",
       "      <td>0</td>\n",
       "      <td>недвижимость</td>\n",
       "      <td>3</td>\n",
       "    </tr>\n",
       "    <tr>\n",
       "      <td>1</td>\n",
       "      <td>автомобиль</td>\n",
       "      <td>1</td>\n",
       "    </tr>\n",
       "    <tr>\n",
       "      <td>2</td>\n",
       "      <td>недвижимость</td>\n",
       "      <td>3</td>\n",
       "    </tr>\n",
       "    <tr>\n",
       "      <td>3</td>\n",
       "      <td>образование</td>\n",
       "      <td>0</td>\n",
       "    </tr>\n",
       "    <tr>\n",
       "      <td>4</td>\n",
       "      <td>свадьба</td>\n",
       "      <td>2</td>\n",
       "    </tr>\n",
       "    <tr>\n",
       "      <td>5</td>\n",
       "      <td>недвижимость</td>\n",
       "      <td>3</td>\n",
       "    </tr>\n",
       "    <tr>\n",
       "      <td>6</td>\n",
       "      <td>недвижимость</td>\n",
       "      <td>3</td>\n",
       "    </tr>\n",
       "    <tr>\n",
       "      <td>7</td>\n",
       "      <td>образование</td>\n",
       "      <td>0</td>\n",
       "    </tr>\n",
       "    <tr>\n",
       "      <td>8</td>\n",
       "      <td>свадьба</td>\n",
       "      <td>2</td>\n",
       "    </tr>\n",
       "    <tr>\n",
       "      <td>9</td>\n",
       "      <td>недвижимость</td>\n",
       "      <td>3</td>\n",
       "    </tr>\n",
       "  </tbody>\n",
       "</table>\n",
       "</div>"
      ],
      "text/plain": [
       "  credit_target  credit_target_id\n",
       "0  недвижимость                 3\n",
       "1    автомобиль                 1\n",
       "2  недвижимость                 3\n",
       "3   образование                 0\n",
       "4       свадьба                 2\n",
       "5  недвижимость                 3\n",
       "6  недвижимость                 3\n",
       "7   образование                 0\n",
       "8       свадьба                 2\n",
       "9  недвижимость                 3"
      ]
     },
     "execution_count": 31,
     "metadata": {},
     "output_type": "execute_result"
    }
   ],
   "source": [
    "def credit_target_id(credit_target):\n",
    "    if 'образование' in credit_target:\n",
    "        return 0\n",
    "    elif 'автомобиль' in credit_target:\n",
    "        return 1\n",
    "    elif 'свадьба' in credit_target:\n",
    "        return 2\n",
    "    else:\n",
    "        return 3\n",
    "\n",
    "df['credit_target_id'] = df['credit_target'].apply(credit_target_id)\n",
    "\n",
    "df[['credit_target', 'credit_target_id']].head(10) # проверим"
   ]
  },
  {
   "cell_type": "code",
   "execution_count": 32,
   "id": "d2452bc7",
   "metadata": {},
   "outputs": [],
   "source": [
    "df.drop('purpose', axis=1, inplace=True) # удалим первоначальный столбец 'purpose'"
   ]
  },
  {
   "cell_type": "markdown",
   "id": "92716b4f",
   "metadata": {},
   "source": [
    "В результате мы изменили множественные пересекающиеся значения столбца **purpose** на **4** типа (столбец **credit_target**) и присвоили каждому типу категорию (столбец **credit_target_id**)."
   ]
  },
  {
   "cell_type": "markdown",
   "id": "36cc367d",
   "metadata": {},
   "source": [
    "### Создание словарей"
   ]
  },
  {
   "cell_type": "markdown",
   "id": "d7d5c4d7",
   "metadata": {},
   "source": [
    "Выделим и сформируем три словаря **df_dict_education**, **df_dict_family**, **df_dict_credit_target_id**. В предстоящих исследованиях обращусь к ним для проверки некоторых гитопез."
   ]
  },
  {
   "cell_type": "code",
   "execution_count": 33,
   "id": "accbaab8",
   "metadata": {},
   "outputs": [
    {
     "data": {
      "text/html": [
       "<div>\n",
       "<style scoped>\n",
       "    .dataframe tbody tr th:only-of-type {\n",
       "        vertical-align: middle;\n",
       "    }\n",
       "\n",
       "    .dataframe tbody tr th {\n",
       "        vertical-align: top;\n",
       "    }\n",
       "\n",
       "    .dataframe thead th {\n",
       "        text-align: right;\n",
       "    }\n",
       "</style>\n",
       "<table border=\"1\" class=\"dataframe\">\n",
       "  <thead>\n",
       "    <tr style=\"text-align: right;\">\n",
       "      <th></th>\n",
       "      <th>education_id</th>\n",
       "      <th>education</th>\n",
       "    </tr>\n",
       "  </thead>\n",
       "  <tbody>\n",
       "    <tr>\n",
       "      <td>0</td>\n",
       "      <td>0</td>\n",
       "      <td>высшее</td>\n",
       "    </tr>\n",
       "    <tr>\n",
       "      <td>1</td>\n",
       "      <td>1</td>\n",
       "      <td>среднее</td>\n",
       "    </tr>\n",
       "    <tr>\n",
       "      <td>2</td>\n",
       "      <td>2</td>\n",
       "      <td>неоконченное высшее</td>\n",
       "    </tr>\n",
       "    <tr>\n",
       "      <td>3</td>\n",
       "      <td>3</td>\n",
       "      <td>начальное</td>\n",
       "    </tr>\n",
       "    <tr>\n",
       "      <td>4</td>\n",
       "      <td>4</td>\n",
       "      <td>ученая степень</td>\n",
       "    </tr>\n",
       "  </tbody>\n",
       "</table>\n",
       "</div>"
      ],
      "text/plain": [
       "   education_id            education\n",
       "0             0               высшее\n",
       "1             1              среднее\n",
       "2             2  неоконченное высшее\n",
       "3             3            начальное\n",
       "4             4       ученая степень"
      ]
     },
     "metadata": {},
     "output_type": "display_data"
    },
    {
     "data": {
      "text/html": [
       "<div>\n",
       "<style scoped>\n",
       "    .dataframe tbody tr th:only-of-type {\n",
       "        vertical-align: middle;\n",
       "    }\n",
       "\n",
       "    .dataframe tbody tr th {\n",
       "        vertical-align: top;\n",
       "    }\n",
       "\n",
       "    .dataframe thead th {\n",
       "        text-align: right;\n",
       "    }\n",
       "</style>\n",
       "<table border=\"1\" class=\"dataframe\">\n",
       "  <thead>\n",
       "    <tr style=\"text-align: right;\">\n",
       "      <th></th>\n",
       "      <th>family_status_id</th>\n",
       "      <th>family_status</th>\n",
       "    </tr>\n",
       "  </thead>\n",
       "  <tbody>\n",
       "    <tr>\n",
       "      <td>0</td>\n",
       "      <td>0</td>\n",
       "      <td>женат / замужем</td>\n",
       "    </tr>\n",
       "    <tr>\n",
       "      <td>1</td>\n",
       "      <td>1</td>\n",
       "      <td>гражданский брак</td>\n",
       "    </tr>\n",
       "    <tr>\n",
       "      <td>2</td>\n",
       "      <td>2</td>\n",
       "      <td>вдовец / вдова</td>\n",
       "    </tr>\n",
       "    <tr>\n",
       "      <td>3</td>\n",
       "      <td>3</td>\n",
       "      <td>в разводе</td>\n",
       "    </tr>\n",
       "    <tr>\n",
       "      <td>4</td>\n",
       "      <td>4</td>\n",
       "      <td>не женат / не замужем</td>\n",
       "    </tr>\n",
       "  </tbody>\n",
       "</table>\n",
       "</div>"
      ],
      "text/plain": [
       "   family_status_id          family_status\n",
       "0                 0        женат / замужем\n",
       "1                 1       гражданский брак\n",
       "2                 2         вдовец / вдова\n",
       "3                 3              в разводе\n",
       "4                 4  не женат / не замужем"
      ]
     },
     "metadata": {},
     "output_type": "display_data"
    },
    {
     "data": {
      "text/html": [
       "<div>\n",
       "<style scoped>\n",
       "    .dataframe tbody tr th:only-of-type {\n",
       "        vertical-align: middle;\n",
       "    }\n",
       "\n",
       "    .dataframe tbody tr th {\n",
       "        vertical-align: top;\n",
       "    }\n",
       "\n",
       "    .dataframe thead th {\n",
       "        text-align: right;\n",
       "    }\n",
       "</style>\n",
       "<table border=\"1\" class=\"dataframe\">\n",
       "  <thead>\n",
       "    <tr style=\"text-align: right;\">\n",
       "      <th></th>\n",
       "      <th>credit_target_id</th>\n",
       "      <th>credit_target</th>\n",
       "    </tr>\n",
       "  </thead>\n",
       "  <tbody>\n",
       "    <tr>\n",
       "      <td>0</td>\n",
       "      <td>3</td>\n",
       "      <td>недвижимость</td>\n",
       "    </tr>\n",
       "    <tr>\n",
       "      <td>1</td>\n",
       "      <td>1</td>\n",
       "      <td>автомобиль</td>\n",
       "    </tr>\n",
       "    <tr>\n",
       "      <td>2</td>\n",
       "      <td>0</td>\n",
       "      <td>образование</td>\n",
       "    </tr>\n",
       "    <tr>\n",
       "      <td>3</td>\n",
       "      <td>2</td>\n",
       "      <td>свадьба</td>\n",
       "    </tr>\n",
       "  </tbody>\n",
       "</table>\n",
       "</div>"
      ],
      "text/plain": [
       "   credit_target_id credit_target\n",
       "0                 3  недвижимость\n",
       "1                 1    автомобиль\n",
       "2                 0   образование\n",
       "3                 2       свадьба"
      ]
     },
     "execution_count": 33,
     "metadata": {},
     "output_type": "execute_result"
    }
   ],
   "source": [
    "# создадим ключи для словарей\n",
    "df_keys_education = df[['education_id']] \n",
    "df_keys_family = df[['family_status_id']]\n",
    "df_keys_credit_target_id = df[['credit_target_id']]\n",
    "\n",
    "# создадим словари для 'education', 'family_status' и 'credit_target'\n",
    "df_dict_education = df[['education_id', 'education']]\n",
    "df_dict_family = df[['family_status_id', 'family_status']]\n",
    "df_dict_credit_target_id = df[['credit_target_id', 'credit_target']]\n",
    "\n",
    "# удалим дупликаты\n",
    "df_dict_education = df_dict_education.drop_duplicates().reset_index(drop=True)\n",
    "df_dict_family = df_dict_family.drop_duplicates().reset_index(drop=True) \n",
    "df_dict_credit_target_id = df_dict_credit_target_id.drop_duplicates().reset_index(drop=True) \n",
    "\n",
    "# выведем результат на экран\n",
    "display(df_dict_education)\n",
    "display(df_dict_family)\n",
    "df_dict_credit_target_id"
   ]
  },
  {
   "cell_type": "markdown",
   "id": "aba12413",
   "metadata": {},
   "source": [
    "## Проверка гипотез"
   ]
  },
  {
   "cell_type": "markdown",
   "id": "c1783b72",
   "metadata": {},
   "source": [
    "Перед нами поставлена задача — проверить 4 гипотезы:\n",
    "\n",
    "1. Есть ли зависимость между наличием детей и возвратом кредита в срок?\n",
    "2. Есть ли зависимость между семейным положением и возвратом кредита в срок?\n",
    "3. Есть ли зависимость между уровнем дохода и возвратом кредита в срок?\n",
    "4. Как разные цели кредита влияют на его возврат в срок?"
   ]
  },
  {
   "cell_type": "markdown",
   "id": "ea7a82b0",
   "metadata": {},
   "source": [
    "### Проверка зависимости между наличием детей и возвратом кредита в срок"
   ]
  },
  {
   "cell_type": "code",
   "execution_count": 34,
   "id": "0db713e9",
   "metadata": {
    "scrolled": false
   },
   "outputs": [
    {
     "data": {
      "text/html": [
       "<div>\n",
       "<style scoped>\n",
       "    .dataframe tbody tr th:only-of-type {\n",
       "        vertical-align: middle;\n",
       "    }\n",
       "\n",
       "    .dataframe tbody tr th {\n",
       "        vertical-align: top;\n",
       "    }\n",
       "\n",
       "    .dataframe thead tr th {\n",
       "        text-align: left;\n",
       "    }\n",
       "\n",
       "    .dataframe thead tr:last-of-type th {\n",
       "        text-align: right;\n",
       "    }\n",
       "</style>\n",
       "<table border=\"1\" class=\"dataframe\">\n",
       "  <thead>\n",
       "    <tr>\n",
       "      <th></th>\n",
       "      <th>count</th>\n",
       "      <th>sum</th>\n",
       "      <th>mean</th>\n",
       "    </tr>\n",
       "    <tr>\n",
       "      <th></th>\n",
       "      <th>debt</th>\n",
       "      <th>debt</th>\n",
       "      <th>debt</th>\n",
       "    </tr>\n",
       "    <tr>\n",
       "      <th>children</th>\n",
       "      <th></th>\n",
       "      <th></th>\n",
       "      <th></th>\n",
       "    </tr>\n",
       "  </thead>\n",
       "  <tbody>\n",
       "    <tr>\n",
       "      <td>0</td>\n",
       "      <td>14091</td>\n",
       "      <td>1063</td>\n",
       "      <td>0.075438</td>\n",
       "    </tr>\n",
       "    <tr>\n",
       "      <td>1</td>\n",
       "      <td>4855</td>\n",
       "      <td>445</td>\n",
       "      <td>0.091658</td>\n",
       "    </tr>\n",
       "    <tr>\n",
       "      <td>2</td>\n",
       "      <td>2128</td>\n",
       "      <td>202</td>\n",
       "      <td>0.094925</td>\n",
       "    </tr>\n",
       "    <tr>\n",
       "      <td>3</td>\n",
       "      <td>330</td>\n",
       "      <td>27</td>\n",
       "      <td>0.081818</td>\n",
       "    </tr>\n",
       "    <tr>\n",
       "      <td>4</td>\n",
       "      <td>41</td>\n",
       "      <td>4</td>\n",
       "      <td>0.097561</td>\n",
       "    </tr>\n",
       "    <tr>\n",
       "      <td>5</td>\n",
       "      <td>9</td>\n",
       "      <td>0</td>\n",
       "      <td>0.000000</td>\n",
       "    </tr>\n",
       "  </tbody>\n",
       "</table>\n",
       "</div>"
      ],
      "text/plain": [
       "          count   sum      mean\n",
       "           debt  debt      debt\n",
       "children                       \n",
       "0         14091  1063  0.075438\n",
       "1          4855   445  0.091658\n",
       "2          2128   202  0.094925\n",
       "3           330    27  0.081818\n",
       "4            41     4  0.097561\n",
       "5             9     0  0.000000"
      ]
     },
     "execution_count": 34,
     "metadata": {},
     "output_type": "execute_result"
    }
   ],
   "source": [
    "df_children = df.pivot_table(\n",
    "    index = 'children',\n",
    "    values = 'debt',\n",
    "    aggfunc = ['count', 'sum', 'mean']\n",
    ")\n",
    "\n",
    "df_children"
   ]
  },
  {
   "cell_type": "code",
   "execution_count": 35,
   "id": "19b7886e",
   "metadata": {},
   "outputs": [
    {
     "data": {
      "text/plain": [
       "debt    0.092082\n",
       "dtype: float64"
      ]
     },
     "execution_count": 35,
     "metadata": {},
     "output_type": "execute_result"
    }
   ],
   "source": [
    "(df_children['sum'].sum() - 1063) / (df_children['count'].sum() - 14091)"
   ]
  },
  {
   "cell_type": "code",
   "execution_count": 36,
   "id": "35e43306",
   "metadata": {},
   "outputs": [
    {
     "name": "stdout",
     "output_type": "stream",
     "text": [
      "Доля заемщиков с задолженностью без детей: 7.54%\n",
      "Доля заемщиков с задолженностью с детьми: 9.21%\n"
     ]
    }
   ],
   "source": [
    "print(f'Доля заемщиков с задолженностью без детей: {0.075438:.2%}') \n",
    "print(f'Доля заемщиков с задолженностью с детьми: {0.092082:.2%}')"
   ]
  },
  {
   "cell_type": "markdown",
   "id": "e21e38a3",
   "metadata": {},
   "source": [
    "**Вывод:**\n",
    "\n",
    "- процент заемщиков с задолженностью с детьми больше, чем процент заемщиков с задолженностью без детей (**9.21%** против **7.54%**)."
   ]
  },
  {
   "cell_type": "markdown",
   "id": "b4a50b9b",
   "metadata": {},
   "source": [
    "### Проверка зависимости между семейным положением и возвратом кредита в срок"
   ]
  },
  {
   "cell_type": "code",
   "execution_count": 37,
   "id": "5c7e1118",
   "metadata": {},
   "outputs": [
    {
     "data": {
      "text/html": [
       "<div>\n",
       "<style scoped>\n",
       "    .dataframe tbody tr th:only-of-type {\n",
       "        vertical-align: middle;\n",
       "    }\n",
       "\n",
       "    .dataframe tbody tr th {\n",
       "        vertical-align: top;\n",
       "    }\n",
       "\n",
       "    .dataframe thead tr th {\n",
       "        text-align: left;\n",
       "    }\n",
       "\n",
       "    .dataframe thead tr:last-of-type th {\n",
       "        text-align: right;\n",
       "    }\n",
       "</style>\n",
       "<table border=\"1\" class=\"dataframe\">\n",
       "  <thead>\n",
       "    <tr>\n",
       "      <th></th>\n",
       "      <th>count</th>\n",
       "      <th>sum</th>\n",
       "      <th>mean</th>\n",
       "    </tr>\n",
       "    <tr>\n",
       "      <th></th>\n",
       "      <th>debt</th>\n",
       "      <th>debt</th>\n",
       "      <th>debt</th>\n",
       "    </tr>\n",
       "    <tr>\n",
       "      <th>family_status</th>\n",
       "      <th></th>\n",
       "      <th></th>\n",
       "      <th></th>\n",
       "    </tr>\n",
       "  </thead>\n",
       "  <tbody>\n",
       "    <tr>\n",
       "      <td>в разводе</td>\n",
       "      <td>1195</td>\n",
       "      <td>85</td>\n",
       "      <td>0.071130</td>\n",
       "    </tr>\n",
       "    <tr>\n",
       "      <td>вдовец / вдова</td>\n",
       "      <td>959</td>\n",
       "      <td>63</td>\n",
       "      <td>0.065693</td>\n",
       "    </tr>\n",
       "    <tr>\n",
       "      <td>гражданский брак</td>\n",
       "      <td>4151</td>\n",
       "      <td>388</td>\n",
       "      <td>0.093471</td>\n",
       "    </tr>\n",
       "    <tr>\n",
       "      <td>женат / замужем</td>\n",
       "      <td>12339</td>\n",
       "      <td>931</td>\n",
       "      <td>0.075452</td>\n",
       "    </tr>\n",
       "    <tr>\n",
       "      <td>не женат / не замужем</td>\n",
       "      <td>2810</td>\n",
       "      <td>274</td>\n",
       "      <td>0.097509</td>\n",
       "    </tr>\n",
       "  </tbody>\n",
       "</table>\n",
       "</div>"
      ],
      "text/plain": [
       "                       count  sum      mean\n",
       "                        debt debt      debt\n",
       "family_status                              \n",
       "в разводе               1195   85  0.071130\n",
       "вдовец / вдова           959   63  0.065693\n",
       "гражданский брак        4151  388  0.093471\n",
       "женат / замужем        12339  931  0.075452\n",
       "не женат / не замужем   2810  274  0.097509"
      ]
     },
     "execution_count": 37,
     "metadata": {},
     "output_type": "execute_result"
    }
   ],
   "source": [
    "df.pivot_table(\n",
    "    index = 'family_status',\n",
    "    values = 'debt',\n",
    "    aggfunc = ['count', 'sum', 'mean']\n",
    ")"
   ]
  },
  {
   "cell_type": "markdown",
   "id": "39e4d9a3",
   "metadata": {},
   "source": [
    "**Вывод:**\n",
    "- гипотеза подтвердилась: есть зависимость между семейным положением и возвратом кредита в срок;\n",
    "- наше исследование показало, что самая большая доля заемщиков имеющие долги по кредитам - это **не женат / не замужем** и **гражданский брак** (**9.75%** и **9.35%** соответственно);\n",
    "- средние показатели, в рамках данного исследования, имеют заемщики **женат / замужем** и **в разводе** (**7.55%** и **7.11%** соответственно);\n",
    "- результат нашего исследования показал, что самые надежные заемщики - это люди имеющие в **family_status** **вдовец / вдова** и доля задолженности по кредитам составляет всего **6.57%**."
   ]
  },
  {
   "cell_type": "markdown",
   "id": "3dc42643",
   "metadata": {},
   "source": [
    "### Проверка зависимости между уровнем дохода и возратом кредита в срок"
   ]
  },
  {
   "cell_type": "markdown",
   "id": "403be945",
   "metadata": {},
   "source": [
    "Создадим столбец, который присваивает категорию в зависимости от значения в столбце **total_income**."
   ]
  },
  {
   "cell_type": "code",
   "execution_count": 38,
   "id": "776d2c86",
   "metadata": {},
   "outputs": [],
   "source": [
    "def income(a):\n",
    "    if a < 100000:\n",
    "        return 0\n",
    "    elif 100000 < a < 150000:\n",
    "        return 1\n",
    "    elif 150000 < a < 200000:\n",
    "        return 2\n",
    "    else:\n",
    "        return 3\n",
    "\n",
    "df['total_income_id'] = df['total_income'].apply(income) # создадим столбец"
   ]
  },
  {
   "cell_type": "code",
   "execution_count": 39,
   "id": "edd5f989",
   "metadata": {},
   "outputs": [
    {
     "data": {
      "text/html": [
       "<div>\n",
       "<style scoped>\n",
       "    .dataframe tbody tr th:only-of-type {\n",
       "        vertical-align: middle;\n",
       "    }\n",
       "\n",
       "    .dataframe tbody tr th {\n",
       "        vertical-align: top;\n",
       "    }\n",
       "\n",
       "    .dataframe thead tr th {\n",
       "        text-align: left;\n",
       "    }\n",
       "\n",
       "    .dataframe thead tr:last-of-type th {\n",
       "        text-align: right;\n",
       "    }\n",
       "</style>\n",
       "<table border=\"1\" class=\"dataframe\">\n",
       "  <thead>\n",
       "    <tr>\n",
       "      <th></th>\n",
       "      <th>count</th>\n",
       "      <th>sum</th>\n",
       "      <th>mean</th>\n",
       "    </tr>\n",
       "    <tr>\n",
       "      <th></th>\n",
       "      <th>debt</th>\n",
       "      <th>debt</th>\n",
       "      <th>debt</th>\n",
       "    </tr>\n",
       "    <tr>\n",
       "      <th>total_income_id</th>\n",
       "      <th></th>\n",
       "      <th></th>\n",
       "      <th></th>\n",
       "    </tr>\n",
       "  </thead>\n",
       "  <tbody>\n",
       "    <tr>\n",
       "      <td>0</td>\n",
       "      <td>4463</td>\n",
       "      <td>354</td>\n",
       "      <td>0.079319</td>\n",
       "    </tr>\n",
       "    <tr>\n",
       "      <td>1</td>\n",
       "      <td>6971</td>\n",
       "      <td>616</td>\n",
       "      <td>0.088366</td>\n",
       "    </tr>\n",
       "    <tr>\n",
       "      <td>2</td>\n",
       "      <td>4767</td>\n",
       "      <td>405</td>\n",
       "      <td>0.084959</td>\n",
       "    </tr>\n",
       "    <tr>\n",
       "      <td>3</td>\n",
       "      <td>5253</td>\n",
       "      <td>366</td>\n",
       "      <td>0.069674</td>\n",
       "    </tr>\n",
       "  </tbody>\n",
       "</table>\n",
       "</div>"
      ],
      "text/plain": [
       "                count  sum      mean\n",
       "                 debt debt      debt\n",
       "total_income_id                     \n",
       "0                4463  354  0.079319\n",
       "1                6971  616  0.088366\n",
       "2                4767  405  0.084959\n",
       "3                5253  366  0.069674"
      ]
     },
     "execution_count": 39,
     "metadata": {},
     "output_type": "execute_result"
    }
   ],
   "source": [
    "df.pivot_table(\n",
    "    index = 'total_income_id',\n",
    "    values = 'debt',\n",
    "    aggfunc = ['count', 'sum', 'mean']\n",
    ")"
   ]
  },
  {
   "cell_type": "markdown",
   "id": "636ee6ec",
   "metadata": {},
   "source": [
    "**Вывод:**\n",
    "- гипотеза подтвердилась: есть зависимость между уровнем дохода и возвратом кредита в срок;\n",
    "- наше исследование показало, что самая большая доля заемщиков имеющие долги по кредитам - это люди с доходом в промежутке **между 100000 и 200000** (**8.84%** и **8.5%** соответственно);\n",
    "- чуть меньше доля задолженности у заемщиков с доходом **до 100000** (**7.93%**);\n",
    "- результат нашего исследования показал, что самые надежные заемщики - это люди имеющие доход **более 200000** и доля задолженности по кредитам составляет **6.97%**."
   ]
  },
  {
   "cell_type": "markdown",
   "id": "4dca4c9f",
   "metadata": {},
   "source": [
    "### Проверка завимости целей кредита влияют на возврат в срок"
   ]
  },
  {
   "cell_type": "code",
   "execution_count": 40,
   "id": "9dff5eb8",
   "metadata": {},
   "outputs": [
    {
     "data": {
      "text/html": [
       "<div>\n",
       "<style scoped>\n",
       "    .dataframe tbody tr th:only-of-type {\n",
       "        vertical-align: middle;\n",
       "    }\n",
       "\n",
       "    .dataframe tbody tr th {\n",
       "        vertical-align: top;\n",
       "    }\n",
       "\n",
       "    .dataframe thead tr th {\n",
       "        text-align: left;\n",
       "    }\n",
       "\n",
       "    .dataframe thead tr:last-of-type th {\n",
       "        text-align: right;\n",
       "    }\n",
       "</style>\n",
       "<table border=\"1\" class=\"dataframe\">\n",
       "  <thead>\n",
       "    <tr>\n",
       "      <th></th>\n",
       "      <th>count</th>\n",
       "      <th>sum</th>\n",
       "      <th>mean</th>\n",
       "    </tr>\n",
       "    <tr>\n",
       "      <th></th>\n",
       "      <th>debt</th>\n",
       "      <th>debt</th>\n",
       "      <th>debt</th>\n",
       "    </tr>\n",
       "    <tr>\n",
       "      <th>credit_target</th>\n",
       "      <th></th>\n",
       "      <th></th>\n",
       "      <th></th>\n",
       "    </tr>\n",
       "  </thead>\n",
       "  <tbody>\n",
       "    <tr>\n",
       "      <td>автомобиль</td>\n",
       "      <td>4306</td>\n",
       "      <td>403</td>\n",
       "      <td>0.093590</td>\n",
       "    </tr>\n",
       "    <tr>\n",
       "      <td>недвижимость</td>\n",
       "      <td>10811</td>\n",
       "      <td>782</td>\n",
       "      <td>0.072334</td>\n",
       "    </tr>\n",
       "    <tr>\n",
       "      <td>образование</td>\n",
       "      <td>4013</td>\n",
       "      <td>370</td>\n",
       "      <td>0.092200</td>\n",
       "    </tr>\n",
       "    <tr>\n",
       "      <td>свадьба</td>\n",
       "      <td>2324</td>\n",
       "      <td>186</td>\n",
       "      <td>0.080034</td>\n",
       "    </tr>\n",
       "  </tbody>\n",
       "</table>\n",
       "</div>"
      ],
      "text/plain": [
       "               count  sum      mean\n",
       "                debt debt      debt\n",
       "credit_target                      \n",
       "автомобиль      4306  403  0.093590\n",
       "недвижимость   10811  782  0.072334\n",
       "образование     4013  370  0.092200\n",
       "свадьба         2324  186  0.080034"
      ]
     },
     "execution_count": 40,
     "metadata": {},
     "output_type": "execute_result"
    }
   ],
   "source": [
    "df.pivot_table(\n",
    "    index = 'credit_target',\n",
    "    values = 'debt',\n",
    "    aggfunc = ['count', 'sum', 'mean']\n",
    ")"
   ]
  },
  {
   "cell_type": "markdown",
   "id": "07350870",
   "metadata": {},
   "source": [
    "**Вывод:**\n",
    "\n",
    "- гипотеза подтвердилась: есть зависимость между разными целями и возвратом кредита в срок;\n",
    "- наше исследование показало, что самая большая доля заемщиков имеющие долги по кредитам - это люди с целью кредита **образование** и **автомобиль** (**9.22%** и **9.33%** соответственно);\n",
    "- средние показатели, в рамках данного исследования, имеют заемщики с целью кредита **свадьба** (**8%**);\n",
    "- результат нашего исследования показал, что самые надежные заемщики - это люди у которых цель кредита **недвижимость** и доля задолженности по кредитам составляет всего **7.23%**."
   ]
  },
  {
   "cell_type": "markdown",
   "id": "24ba980b",
   "metadata": {},
   "source": [
    "## Итоги исследования"
   ]
  },
  {
   "cell_type": "markdown",
   "id": "e0b82520",
   "metadata": {},
   "source": [
    "Мы проверили четыре гипотезы и установили:\n",
    "\n",
    "1. Есть ли зависимость между наличием детей и возвратом кредита в срок?\n",
    "Первая гипотеза была опровергнута. Результаты исследований показали, что существует обратная зависимость, а именно: заемщики с детьми чаще оказываются должниками нежели заемщики без детей.\n",
    "\n",
    "2. Есть ли зависимость между семейным положением и возвратом кредита в срок?\n",
    "Гипотеза полностью подтвердилась! Самая большая доля заемщиков с долгом по кредиту в статусе: **не женат / не замужем** и **гражданский брак**. Средние показатели у **женат / замужем** и **в разводе** и самые надежные заемщики имеют статус **вдовец / вдова**.\n",
    "\n",
    "3. Есть ли зависимость между уровнем дохода и возвратом кредита в срок?\n",
    "Гипотеза полностью подтвердилась! Самая большая доля заемщиков с долгом по кредиту имеет доход **от 100000 до 200000**. Средние показатели у с доходом **до 100000** и самые надежные заемщики имеют доход **более 200000**.\n",
    "\n",
    "4. Как разные цели кредита влияют на его возврат в срок?\n",
    "Самая большая доля заемщиков с долгом по кредиту брали кредит на: **образование** и **автомобиль**. Средние показатели у цели на **свадьбу** и самые надежные заемщики берут кредит на **недвижимость**.\n",
    "\n",
    "По итогу исследования мы можем составить группы заемщиков:\n",
    "\n",
    "1. В группе **семейное положение**: самые ответственные заемщики имеют статус **вдовец / вдова** и **6.57%** невозврата, а самые частые должники - **не женат / не замужем** и **9.75%** невозврата соответственно.\n",
    "2. В группе **доход**: самые ответственные заемщики имеют доход **более 200000** и **6.97%** невозврата, а самые частые должники - это люди с доходом **от 100000 до 150000** и **8.84%** невозврата соответственно.\n",
    "3. В группе **цель кредита**: самые ответственные заемщики берут кредит на **недвижимость** и **7.23%** невозврата, а самые частые должники с целью **автомобиль** и **9.33%** невозврата соответственно.\n"
   ]
  }
 ],
 "metadata": {
  "ExecuteTimeLog": [
   {
    "duration": 2876,
    "start_time": "2021-06-14T17:57:08.522Z"
   },
   {
    "duration": -1261,
    "start_time": "2021-06-14T17:57:12.667Z"
   },
   {
    "duration": -1268,
    "start_time": "2021-06-14T17:57:12.676Z"
   },
   {
    "duration": -1277,
    "start_time": "2021-06-14T17:57:12.686Z"
   },
   {
    "duration": -1284,
    "start_time": "2021-06-14T17:57:12.695Z"
   },
   {
    "duration": -1290,
    "start_time": "2021-06-14T17:57:12.702Z"
   },
   {
    "duration": -1296,
    "start_time": "2021-06-14T17:57:12.709Z"
   },
   {
    "duration": -1301,
    "start_time": "2021-06-14T17:57:12.716Z"
   },
   {
    "duration": -1312,
    "start_time": "2021-06-14T17:57:12.728Z"
   },
   {
    "duration": -1348,
    "start_time": "2021-06-14T17:57:12.765Z"
   },
   {
    "duration": -1356,
    "start_time": "2021-06-14T17:57:12.774Z"
   },
   {
    "duration": -1363,
    "start_time": "2021-06-14T17:57:12.783Z"
   },
   {
    "duration": -1383,
    "start_time": "2021-06-14T17:57:12.804Z"
   },
   {
    "duration": -1388,
    "start_time": "2021-06-14T17:57:12.810Z"
   },
   {
    "duration": -1401,
    "start_time": "2021-06-14T17:57:12.825Z"
   },
   {
    "duration": -1414,
    "start_time": "2021-06-14T17:57:12.839Z"
   },
   {
    "duration": -1423,
    "start_time": "2021-06-14T17:57:12.849Z"
   },
   {
    "duration": -1451,
    "start_time": "2021-06-14T17:57:12.878Z"
   },
   {
    "duration": -1463,
    "start_time": "2021-06-14T17:57:12.891Z"
   },
   {
    "duration": -1470,
    "start_time": "2021-06-14T17:57:12.900Z"
   },
   {
    "duration": -1478,
    "start_time": "2021-06-14T17:57:12.909Z"
   },
   {
    "duration": -1485,
    "start_time": "2021-06-14T17:57:12.917Z"
   },
   {
    "duration": -1492,
    "start_time": "2021-06-14T17:57:12.925Z"
   },
   {
    "duration": -1502,
    "start_time": "2021-06-14T17:57:12.937Z"
   },
   {
    "duration": -1515,
    "start_time": "2021-06-14T17:57:12.951Z"
   },
   {
    "duration": -1525,
    "start_time": "2021-06-14T17:57:12.963Z"
   },
   {
    "duration": -1555,
    "start_time": "2021-06-14T17:57:12.994Z"
   },
   {
    "duration": -1563,
    "start_time": "2021-06-14T17:57:13.004Z"
   },
   {
    "duration": -1591,
    "start_time": "2021-06-14T17:57:13.033Z"
   },
   {
    "duration": -1592,
    "start_time": "2021-06-14T17:57:13.046Z"
   },
   {
    "duration": -1604,
    "start_time": "2021-06-14T17:57:13.059Z"
   },
   {
    "duration": -1615,
    "start_time": "2021-06-14T17:57:13.072Z"
   },
   {
    "duration": -1626,
    "start_time": "2021-06-14T17:57:13.084Z"
   },
   {
    "duration": -1650,
    "start_time": "2021-06-14T17:57:13.109Z"
   },
   {
    "duration": -1660,
    "start_time": "2021-06-14T17:57:13.121Z"
   },
   {
    "duration": -1668,
    "start_time": "2021-06-14T17:57:13.130Z"
   },
   {
    "duration": -1677,
    "start_time": "2021-06-14T17:57:13.140Z"
   },
   {
    "duration": -1852,
    "start_time": "2021-06-14T17:57:13.317Z"
   },
   {
    "duration": -1857,
    "start_time": "2021-06-14T17:57:13.324Z"
   },
   {
    "duration": -1864,
    "start_time": "2021-06-14T17:57:13.332Z"
   },
   {
    "duration": -1873,
    "start_time": "2021-06-14T17:57:13.342Z"
   },
   {
    "duration": -1881,
    "start_time": "2021-06-14T17:57:13.352Z"
   },
   {
    "duration": -1889,
    "start_time": "2021-06-14T17:57:13.361Z"
   },
   {
    "duration": -1894,
    "start_time": "2021-06-14T17:57:13.367Z"
   },
   {
    "duration": -1903,
    "start_time": "2021-06-14T17:57:13.377Z"
   },
   {
    "duration": -1909,
    "start_time": "2021-06-14T17:57:13.385Z"
   },
   {
    "duration": -1915,
    "start_time": "2021-06-14T17:57:13.392Z"
   },
   {
    "duration": -1923,
    "start_time": "2021-06-14T17:57:13.401Z"
   },
   {
    "duration": -1931,
    "start_time": "2021-06-14T17:57:13.410Z"
   },
   {
    "duration": -1953,
    "start_time": "2021-06-14T17:57:13.434Z"
   },
   {
    "duration": -2945,
    "start_time": "2021-06-14T17:57:14.427Z"
   },
   {
    "duration": -2953,
    "start_time": "2021-06-14T17:57:14.437Z"
   },
   {
    "duration": -2960,
    "start_time": "2021-06-14T17:57:14.445Z"
   },
   {
    "duration": -2966,
    "start_time": "2021-06-14T17:57:14.452Z"
   },
   {
    "duration": -3079,
    "start_time": "2021-06-14T17:57:14.566Z"
   },
   {
    "duration": -3086,
    "start_time": "2021-06-14T17:57:14.575Z"
   },
   {
    "duration": -3098,
    "start_time": "2021-06-14T17:57:14.588Z"
   },
   {
    "duration": -3103,
    "start_time": "2021-06-14T17:57:14.594Z"
   },
   {
    "duration": -3113,
    "start_time": "2021-06-14T17:57:14.605Z"
   },
   {
    "duration": -3061,
    "start_time": "2021-06-14T17:57:14.615Z"
   },
   {
    "duration": -3068,
    "start_time": "2021-06-14T17:57:14.624Z"
   },
   {
    "duration": -3177,
    "start_time": "2021-06-14T17:57:14.734Z"
   },
   {
    "duration": -3188,
    "start_time": "2021-06-14T17:57:14.746Z"
   },
   {
    "duration": -3199,
    "start_time": "2021-06-14T17:57:14.758Z"
   },
   {
    "duration": -3313,
    "start_time": "2021-06-14T17:57:14.874Z"
   },
   {
    "duration": -3320,
    "start_time": "2021-06-14T17:57:14.882Z"
   },
   {
    "duration": -3327,
    "start_time": "2021-06-14T17:57:14.890Z"
   },
   {
    "duration": -3337,
    "start_time": "2021-06-14T17:57:14.901Z"
   },
   {
    "duration": -3347,
    "start_time": "2021-06-14T17:57:14.913Z"
   },
   {
    "duration": -3694,
    "start_time": "2021-06-14T17:57:15.261Z"
   },
   {
    "duration": -3833,
    "start_time": "2021-06-14T17:57:15.401Z"
   },
   {
    "duration": -3889,
    "start_time": "2021-06-14T17:57:15.459Z"
   },
   {
    "duration": -3900,
    "start_time": "2021-06-14T17:57:15.471Z"
   },
   {
    "duration": -3908,
    "start_time": "2021-06-14T17:57:15.480Z"
   },
   {
    "duration": -3913,
    "start_time": "2021-06-14T17:57:15.487Z"
   },
   {
    "duration": -3918,
    "start_time": "2021-06-14T17:57:15.493Z"
   },
   {
    "duration": -3927,
    "start_time": "2021-06-14T17:57:15.503Z"
   },
   {
    "duration": -3935,
    "start_time": "2021-06-14T17:57:15.512Z"
   },
   {
    "duration": -4023,
    "start_time": "2021-06-14T17:57:15.602Z"
   },
   {
    "duration": -4031,
    "start_time": "2021-06-14T17:57:15.611Z"
   },
   {
    "duration": -4039,
    "start_time": "2021-06-14T17:57:15.621Z"
   },
   {
    "duration": -4111,
    "start_time": "2021-06-14T17:57:15.694Z"
   },
   {
    "duration": -4137,
    "start_time": "2021-06-14T17:57:15.722Z"
   },
   {
    "duration": -4146,
    "start_time": "2021-06-14T17:57:15.732Z"
   },
   {
    "duration": -4157,
    "start_time": "2021-06-14T17:57:15.744Z"
   },
   {
    "duration": -4165,
    "start_time": "2021-06-14T17:57:15.753Z"
   },
   {
    "duration": -4170,
    "start_time": "2021-06-14T17:57:15.760Z"
   },
   {
    "duration": -4110,
    "start_time": "2021-06-14T17:57:15.768Z"
   },
   {
    "duration": -4117,
    "start_time": "2021-06-14T17:57:15.779Z"
   },
   {
    "duration": -4126,
    "start_time": "2021-06-14T17:57:15.789Z"
   },
   {
    "duration": -4147,
    "start_time": "2021-06-14T17:57:15.812Z"
   },
   {
    "duration": -4244,
    "start_time": "2021-06-14T17:57:15.911Z"
   },
   {
    "duration": -4255,
    "start_time": "2021-06-14T17:57:15.924Z"
   },
   {
    "duration": -4260,
    "start_time": "2021-06-14T17:57:15.931Z"
   },
   {
    "duration": -4269,
    "start_time": "2021-06-14T17:57:15.941Z"
   },
   {
    "duration": -4273,
    "start_time": "2021-06-14T17:57:15.947Z"
   },
   {
    "duration": -4283,
    "start_time": "2021-06-14T17:57:15.959Z"
   },
   {
    "duration": -4459,
    "start_time": "2021-06-14T17:57:16.136Z"
   },
   {
    "duration": -4481,
    "start_time": "2021-06-14T17:57:16.159Z"
   },
   {
    "duration": -4485,
    "start_time": "2021-06-14T17:57:16.165Z"
   },
   {
    "duration": -4498,
    "start_time": "2021-06-14T17:57:16.179Z"
   },
   {
    "duration": -4505,
    "start_time": "2021-06-14T17:57:16.188Z"
   },
   {
    "duration": -4629,
    "start_time": "2021-06-14T17:57:16.313Z"
   },
   {
    "duration": -4637,
    "start_time": "2021-06-14T17:57:16.322Z"
   },
   {
    "duration": -4644,
    "start_time": "2021-06-14T17:57:16.330Z"
   },
   {
    "duration": -4652,
    "start_time": "2021-06-14T17:57:16.340Z"
   },
   {
    "duration": -4666,
    "start_time": "2021-06-14T17:57:16.355Z"
   },
   {
    "duration": -4610,
    "start_time": "2021-06-14T17:57:16.364Z"
   },
   {
    "duration": -4617,
    "start_time": "2021-06-14T17:57:16.373Z"
   },
   {
    "duration": -4645,
    "start_time": "2021-06-14T17:57:16.402Z"
   },
   {
    "duration": -4676,
    "start_time": "2021-06-14T17:57:16.435Z"
   },
   {
    "duration": -4683,
    "start_time": "2021-06-14T17:57:16.443Z"
   },
   {
    "duration": -4691,
    "start_time": "2021-06-14T17:57:16.453Z"
   },
   {
    "duration": -4699,
    "start_time": "2021-06-14T17:57:16.462Z"
   },
   {
    "duration": -4707,
    "start_time": "2021-06-14T17:57:16.472Z"
   },
   {
    "duration": -4712,
    "start_time": "2021-06-14T17:57:16.478Z"
   },
   {
    "duration": -4728,
    "start_time": "2021-06-14T17:57:16.496Z"
   },
   {
    "duration": -4748,
    "start_time": "2021-06-14T17:57:16.517Z"
   },
   {
    "duration": -4753,
    "start_time": "2021-06-14T17:57:16.524Z"
   },
   {
    "duration": 2949,
    "start_time": "2021-06-16T08:16:49.260Z"
   },
   {
    "duration": 293,
    "start_time": "2021-06-16T08:17:11.001Z"
   },
   {
    "duration": 339,
    "start_time": "2021-06-16T08:17:13.366Z"
   },
   {
    "duration": 2033,
    "start_time": "2021-06-16T08:18:29.237Z"
   },
   {
    "duration": -1369,
    "start_time": "2021-06-16T08:18:32.647Z"
   },
   {
    "duration": -1375,
    "start_time": "2021-06-16T08:18:32.654Z"
   },
   {
    "duration": -1387,
    "start_time": "2021-06-16T08:18:32.667Z"
   },
   {
    "duration": -1397,
    "start_time": "2021-06-16T08:18:32.679Z"
   },
   {
    "duration": -1406,
    "start_time": "2021-06-16T08:18:32.689Z"
   },
   {
    "duration": -1412,
    "start_time": "2021-06-16T08:18:32.697Z"
   },
   {
    "duration": -1418,
    "start_time": "2021-06-16T08:18:32.704Z"
   },
   {
    "duration": -1424,
    "start_time": "2021-06-16T08:18:32.711Z"
   },
   {
    "duration": -1428,
    "start_time": "2021-06-16T08:18:32.717Z"
   },
   {
    "duration": -1435,
    "start_time": "2021-06-16T08:18:32.725Z"
   },
   {
    "duration": -1439,
    "start_time": "2021-06-16T08:18:32.731Z"
   },
   {
    "duration": -1445,
    "start_time": "2021-06-16T08:18:32.738Z"
   },
   {
    "duration": -1461,
    "start_time": "2021-06-16T08:18:32.755Z"
   },
   {
    "duration": -1467,
    "start_time": "2021-06-16T08:18:32.763Z"
   },
   {
    "duration": -1471,
    "start_time": "2021-06-16T08:18:32.769Z"
   },
   {
    "duration": -1478,
    "start_time": "2021-06-16T08:18:32.777Z"
   },
   {
    "duration": -1482,
    "start_time": "2021-06-16T08:18:32.783Z"
   },
   {
    "duration": -1488,
    "start_time": "2021-06-16T08:18:32.790Z"
   },
   {
    "duration": -1493,
    "start_time": "2021-06-16T08:18:32.797Z"
   },
   {
    "duration": -1499,
    "start_time": "2021-06-16T08:18:32.804Z"
   },
   {
    "duration": -1504,
    "start_time": "2021-06-16T08:18:32.810Z"
   },
   {
    "duration": -1508,
    "start_time": "2021-06-16T08:18:32.816Z"
   },
   {
    "duration": -1512,
    "start_time": "2021-06-16T08:18:32.822Z"
   },
   {
    "duration": -1517,
    "start_time": "2021-06-16T08:18:32.829Z"
   },
   {
    "duration": -1520,
    "start_time": "2021-06-16T08:18:32.834Z"
   },
   {
    "duration": -1525,
    "start_time": "2021-06-16T08:18:32.841Z"
   },
   {
    "duration": -1529,
    "start_time": "2021-06-16T08:18:32.847Z"
   },
   {
    "duration": -1543,
    "start_time": "2021-06-16T08:18:32.863Z"
   },
   {
    "duration": -1548,
    "start_time": "2021-06-16T08:18:32.870Z"
   },
   {
    "duration": -1553,
    "start_time": "2021-06-16T08:18:32.877Z"
   },
   {
    "duration": -1558,
    "start_time": "2021-06-16T08:18:32.884Z"
   },
   {
    "duration": -1565,
    "start_time": "2021-06-16T08:18:32.893Z"
   },
   {
    "duration": -1570,
    "start_time": "2021-06-16T08:18:32.900Z"
   },
   {
    "duration": -1575,
    "start_time": "2021-06-16T08:18:32.907Z"
   },
   {
    "duration": -1579,
    "start_time": "2021-06-16T08:18:32.913Z"
   },
   {
    "duration": -1583,
    "start_time": "2021-06-16T08:18:32.919Z"
   },
   {
    "duration": -1588,
    "start_time": "2021-06-16T08:18:32.926Z"
   },
   {
    "duration": -1884,
    "start_time": "2021-06-16T08:18:33.224Z"
   },
   {
    "duration": -1902,
    "start_time": "2021-06-16T08:18:33.307Z"
   },
   {
    "duration": -1914,
    "start_time": "2021-06-16T08:18:33.321Z"
   },
   {
    "duration": -2010,
    "start_time": "2021-06-16T08:18:33.420Z"
   },
   {
    "duration": -2052,
    "start_time": "2021-06-16T08:18:33.464Z"
   },
   {
    "duration": -2089,
    "start_time": "2021-06-16T08:18:33.503Z"
   },
   {
    "duration": -2121,
    "start_time": "2021-06-16T08:18:33.537Z"
   },
   {
    "duration": -2222,
    "start_time": "2021-06-16T08:18:33.640Z"
   },
   {
    "duration": -2243,
    "start_time": "2021-06-16T08:18:33.663Z"
   },
   {
    "duration": -2336,
    "start_time": "2021-06-16T08:18:33.758Z"
   },
   {
    "duration": -2352,
    "start_time": "2021-06-16T08:18:33.776Z"
   },
   {
    "duration": -2441,
    "start_time": "2021-06-16T08:18:33.867Z"
   },
   {
    "duration": -2903,
    "start_time": "2021-06-16T08:18:34.331Z"
   },
   {
    "duration": -2920,
    "start_time": "2021-06-16T08:18:34.350Z"
   },
   {
    "duration": -3000,
    "start_time": "2021-06-16T08:18:34.432Z"
   },
   {
    "duration": -3011,
    "start_time": "2021-06-16T08:18:34.445Z"
   },
   {
    "duration": -3023,
    "start_time": "2021-06-16T08:18:34.459Z"
   },
   {
    "duration": -3128,
    "start_time": "2021-06-16T08:18:34.566Z"
   },
   {
    "duration": -3071,
    "start_time": "2021-06-16T08:18:34.572Z"
   },
   {
    "duration": -3081,
    "start_time": "2021-06-16T08:18:34.584Z"
   },
   {
    "duration": -3147,
    "start_time": "2021-06-16T08:18:34.652Z"
   },
   {
    "duration": -3176,
    "start_time": "2021-06-16T08:18:34.684Z"
   },
   {
    "duration": -3211,
    "start_time": "2021-06-16T08:18:34.720Z"
   },
   {
    "duration": -3234,
    "start_time": "2021-06-16T08:18:34.746Z"
   },
   {
    "duration": -3289,
    "start_time": "2021-06-16T08:18:34.804Z"
   },
   {
    "duration": -3293,
    "start_time": "2021-06-16T08:18:34.810Z"
   },
   {
    "duration": -3297,
    "start_time": "2021-06-16T08:18:34.816Z"
   },
   {
    "duration": -3335,
    "start_time": "2021-06-16T08:18:34.856Z"
   },
   {
    "duration": -3349,
    "start_time": "2021-06-16T08:18:34.873Z"
   },
   {
    "duration": -4064,
    "start_time": "2021-06-16T08:18:35.590Z"
   },
   {
    "duration": -4069,
    "start_time": "2021-06-16T08:18:35.597Z"
   },
   {
    "duration": -4072,
    "start_time": "2021-06-16T08:18:35.602Z"
   },
   {
    "duration": -4077,
    "start_time": "2021-06-16T08:18:35.609Z"
   },
   {
    "duration": -4079,
    "start_time": "2021-06-16T08:18:35.614Z"
   },
   {
    "duration": -4100,
    "start_time": "2021-06-16T08:18:35.637Z"
   },
   {
    "duration": -4106,
    "start_time": "2021-06-16T08:18:35.645Z"
   },
   {
    "duration": -4052,
    "start_time": "2021-06-16T08:18:35.653Z"
   },
   {
    "duration": -4056,
    "start_time": "2021-06-16T08:18:35.659Z"
   },
   {
    "duration": -4061,
    "start_time": "2021-06-16T08:18:35.666Z"
   },
   {
    "duration": -4065,
    "start_time": "2021-06-16T08:18:35.672Z"
   },
   {
    "duration": -4070,
    "start_time": "2021-06-16T08:18:35.679Z"
   },
   {
    "duration": -4072,
    "start_time": "2021-06-16T08:18:35.684Z"
   },
   {
    "duration": -4077,
    "start_time": "2021-06-16T08:18:35.691Z"
   },
   {
    "duration": -4081,
    "start_time": "2021-06-16T08:18:35.697Z"
   },
   {
    "duration": -4086,
    "start_time": "2021-06-16T08:18:35.704Z"
   },
   {
    "duration": -4090,
    "start_time": "2021-06-16T08:18:35.710Z"
   },
   {
    "duration": -4094,
    "start_time": "2021-06-16T08:18:35.716Z"
   },
   {
    "duration": -4099,
    "start_time": "2021-06-16T08:18:35.722Z"
   },
   {
    "duration": -4103,
    "start_time": "2021-06-16T08:18:35.728Z"
   },
   {
    "duration": -4108,
    "start_time": "2021-06-16T08:18:35.734Z"
   },
   {
    "duration": -4125,
    "start_time": "2021-06-16T08:18:35.752Z"
   },
   {
    "duration": -4129,
    "start_time": "2021-06-16T08:18:35.758Z"
   },
   {
    "duration": -4134,
    "start_time": "2021-06-16T08:18:35.764Z"
   },
   {
    "duration": -4138,
    "start_time": "2021-06-16T08:18:35.770Z"
   },
   {
    "duration": 7,
    "start_time": "2021-06-17T17:26:49.664Z"
   },
   {
    "duration": 993,
    "start_time": "2021-06-17T17:28:54.227Z"
   },
   {
    "duration": 14,
    "start_time": "2021-06-17T17:28:55.223Z"
   },
   {
    "duration": 12,
    "start_time": "2021-06-17T17:28:55.240Z"
   },
   {
    "duration": 53,
    "start_time": "2021-06-17T17:28:55.254Z"
   },
   {
    "duration": 28,
    "start_time": "2021-06-17T17:28:55.310Z"
   },
   {
    "duration": 8,
    "start_time": "2021-06-17T17:28:55.340Z"
   },
   {
    "duration": 45,
    "start_time": "2021-06-17T17:28:55.350Z"
   },
   {
    "duration": 14,
    "start_time": "2021-06-17T17:28:55.400Z"
   },
   {
    "duration": 12,
    "start_time": "2021-06-17T17:28:55.418Z"
   },
   {
    "duration": 74,
    "start_time": "2021-06-17T17:28:55.432Z"
   },
   {
    "duration": 19,
    "start_time": "2021-06-17T17:28:55.508Z"
   },
   {
    "duration": 57,
    "start_time": "2021-06-17T17:28:55.530Z"
   },
   {
    "duration": 7,
    "start_time": "2021-06-17T17:28:55.590Z"
   },
   {
    "duration": 833,
    "start_time": "2021-06-17T17:28:55.599Z"
   },
   {
    "duration": 12,
    "start_time": "2021-06-17T17:28:56.435Z"
   },
   {
    "duration": 37,
    "start_time": "2021-06-17T17:28:56.450Z"
   },
   {
    "duration": 5,
    "start_time": "2021-06-17T17:28:56.489Z"
   },
   {
    "duration": 18,
    "start_time": "2021-06-17T17:28:56.497Z"
   },
   {
    "duration": 14,
    "start_time": "2021-06-17T17:28:56.518Z"
   },
   {
    "duration": 17,
    "start_time": "2021-06-17T17:28:56.534Z"
   },
   {
    "duration": 56,
    "start_time": "2021-06-17T17:28:56.553Z"
   },
   {
    "duration": 26,
    "start_time": "2021-06-17T17:28:56.612Z"
   },
   {
    "duration": 70,
    "start_time": "2021-06-17T17:28:56.643Z"
   },
   {
    "duration": 8,
    "start_time": "2021-06-17T17:28:56.716Z"
   },
   {
    "duration": 33,
    "start_time": "2021-06-17T17:28:56.727Z"
   },
   {
    "duration": 42,
    "start_time": "2021-06-17T17:28:56.763Z"
   },
   {
    "duration": 19,
    "start_time": "2021-06-17T17:28:56.807Z"
   },
   {
    "duration": 9,
    "start_time": "2021-06-17T17:28:56.828Z"
   },
   {
    "duration": 64,
    "start_time": "2021-06-17T17:28:56.839Z"
   },
   {
    "duration": 9,
    "start_time": "2021-06-17T17:28:56.906Z"
   },
   {
    "duration": 11,
    "start_time": "2021-06-17T17:28:56.917Z"
   },
   {
    "duration": 8,
    "start_time": "2021-06-17T17:28:56.930Z"
   },
   {
    "duration": 51,
    "start_time": "2021-06-17T17:28:56.940Z"
   },
   {
    "duration": 19,
    "start_time": "2021-06-17T17:28:56.996Z"
   },
   {
    "duration": 27,
    "start_time": "2021-06-17T17:28:57.017Z"
   },
   {
    "duration": 938,
    "start_time": "2021-06-17T17:28:57.046Z"
   },
   {
    "duration": 31,
    "start_time": "2021-06-17T17:28:57.987Z"
   },
   {
    "duration": 4,
    "start_time": "2021-06-17T17:28:58.020Z"
   },
   {
    "duration": 15,
    "start_time": "2021-06-17T17:28:58.027Z"
   },
   {
    "duration": 64,
    "start_time": "2021-06-17T17:28:58.045Z"
   },
   {
    "duration": 19,
    "start_time": "2021-06-17T17:28:58.112Z"
   },
   {
    "duration": 27,
    "start_time": "2021-06-17T17:28:58.134Z"
   },
   {
    "duration": 32,
    "start_time": "2021-06-17T17:28:58.182Z"
   },
   {
    "duration": 8,
    "start_time": "2021-06-17T17:28:58.216Z"
   },
   {
    "duration": 23,
    "start_time": "2021-06-17T17:28:58.226Z"
   },
   {
    "duration": 78,
    "start_time": "2021-06-17T17:28:58.252Z"
   },
   {
    "duration": 65,
    "start_time": "2021-06-17T17:28:58.332Z"
   },
   {
    "duration": 19,
    "start_time": "2021-06-17T17:28:58.400Z"
   },
   {
    "duration": 6,
    "start_time": "2021-06-17T17:28:58.422Z"
   },
   {
    "duration": 72,
    "start_time": "2021-06-17T17:28:58.430Z"
   },
   {
    "duration": 18,
    "start_time": "2021-06-17T17:28:58.504Z"
   },
   {
    "duration": 59,
    "start_time": "2021-06-17T17:28:58.524Z"
   },
   {
    "duration": 47,
    "start_time": "2021-06-17T17:28:58.587Z"
   },
   {
    "duration": 11,
    "start_time": "2021-06-17T17:30:05.067Z"
   },
   {
    "duration": 12,
    "start_time": "2021-06-17T17:30:17.192Z"
   },
   {
    "duration": 8,
    "start_time": "2021-06-17T17:30:25.709Z"
   },
   {
    "duration": 17,
    "start_time": "2021-06-17T17:30:39.104Z"
   },
   {
    "duration": 8,
    "start_time": "2021-06-17T17:30:53.662Z"
   },
   {
    "duration": 13,
    "start_time": "2021-06-17T17:31:12.148Z"
   },
   {
    "duration": 14,
    "start_time": "2021-06-17T17:31:45.084Z"
   },
   {
    "duration": 18,
    "start_time": "2021-06-17T17:31:55.882Z"
   },
   {
    "duration": 15,
    "start_time": "2021-06-17T17:32:32.792Z"
   },
   {
    "duration": 20,
    "start_time": "2021-06-17T17:32:57.673Z"
   },
   {
    "duration": 14,
    "start_time": "2021-06-17T17:33:13.622Z"
   },
   {
    "duration": 269,
    "start_time": "2021-06-17T17:34:31.262Z"
   },
   {
    "duration": 15,
    "start_time": "2021-06-17T17:34:31.534Z"
   },
   {
    "duration": 47,
    "start_time": "2021-06-17T17:34:31.551Z"
   },
   {
    "duration": 28,
    "start_time": "2021-06-17T17:34:31.601Z"
   },
   {
    "duration": 55,
    "start_time": "2021-06-17T17:34:31.632Z"
   },
   {
    "duration": 16,
    "start_time": "2021-06-17T17:34:31.691Z"
   },
   {
    "duration": 16,
    "start_time": "2021-06-17T17:34:31.709Z"
   },
   {
    "duration": 16,
    "start_time": "2021-06-17T17:34:31.729Z"
   },
   {
    "duration": 42,
    "start_time": "2021-06-17T17:34:31.748Z"
   },
   {
    "duration": 25,
    "start_time": "2021-06-17T17:34:31.793Z"
   },
   {
    "duration": 28,
    "start_time": "2021-06-17T17:34:31.821Z"
   },
   {
    "duration": 7,
    "start_time": "2021-06-17T17:34:31.853Z"
   },
   {
    "duration": 15,
    "start_time": "2021-06-17T17:34:31.862Z"
   },
   {
    "duration": 447,
    "start_time": "2021-06-17T17:34:31.879Z"
   },
   {
    "duration": 11,
    "start_time": "2021-06-17T17:34:32.328Z"
   },
   {
    "duration": 26,
    "start_time": "2021-06-17T17:34:32.341Z"
   },
   {
    "duration": 35,
    "start_time": "2021-06-17T17:34:32.369Z"
   },
   {
    "duration": 21,
    "start_time": "2021-06-17T17:34:32.406Z"
   },
   {
    "duration": 18,
    "start_time": "2021-06-17T17:34:32.429Z"
   },
   {
    "duration": 23,
    "start_time": "2021-06-17T17:34:32.449Z"
   },
   {
    "duration": 28,
    "start_time": "2021-06-17T17:34:32.474Z"
   },
   {
    "duration": 22,
    "start_time": "2021-06-17T17:34:32.505Z"
   },
   {
    "duration": 13,
    "start_time": "2021-06-17T17:34:32.534Z"
   },
   {
    "duration": 17,
    "start_time": "2021-06-17T17:34:32.550Z"
   },
   {
    "duration": 19,
    "start_time": "2021-06-17T17:34:32.585Z"
   },
   {
    "duration": 14,
    "start_time": "2021-06-17T17:34:32.606Z"
   },
   {
    "duration": 9,
    "start_time": "2021-06-17T17:34:32.623Z"
   },
   {
    "duration": 3,
    "start_time": "2021-06-17T17:34:32.635Z"
   },
   {
    "duration": 53,
    "start_time": "2021-06-17T17:34:32.641Z"
   },
   {
    "duration": 9,
    "start_time": "2021-06-17T17:34:32.697Z"
   },
   {
    "duration": 12,
    "start_time": "2021-06-17T17:34:32.708Z"
   },
   {
    "duration": 28,
    "start_time": "2021-06-17T17:34:32.722Z"
   },
   {
    "duration": 54,
    "start_time": "2021-06-17T17:34:32.753Z"
   },
   {
    "duration": 42,
    "start_time": "2021-06-17T17:34:32.810Z"
   },
   {
    "duration": 41,
    "start_time": "2021-06-17T17:34:32.855Z"
   },
   {
    "duration": 34,
    "start_time": "2021-06-17T17:34:32.900Z"
   },
   {
    "duration": 33,
    "start_time": "2021-06-17T17:34:32.937Z"
   },
   {
    "duration": 24,
    "start_time": "2021-06-17T17:34:32.973Z"
   },
   {
    "duration": 10,
    "start_time": "2021-06-17T17:34:32.999Z"
   },
   {
    "duration": 35,
    "start_time": "2021-06-17T17:34:33.011Z"
   },
   {
    "duration": 15,
    "start_time": "2021-06-17T17:34:33.049Z"
   },
   {
    "duration": 18,
    "start_time": "2021-06-17T17:34:33.083Z"
   },
   {
    "duration": 6,
    "start_time": "2021-06-17T17:34:33.104Z"
   },
   {
    "duration": 16,
    "start_time": "2021-06-17T17:34:33.113Z"
   },
   {
    "duration": 18,
    "start_time": "2021-06-17T17:34:33.131Z"
   },
   {
    "duration": 69,
    "start_time": "2021-06-17T17:34:33.152Z"
   },
   {
    "duration": 908,
    "start_time": "2021-06-17T17:34:33.224Z"
   },
   {
    "duration": 26,
    "start_time": "2021-06-17T17:34:34.135Z"
   },
   {
    "duration": 29,
    "start_time": "2021-06-17T17:34:34.163Z"
   },
   {
    "duration": 15,
    "start_time": "2021-06-17T17:34:34.197Z"
   },
   {
    "duration": 23,
    "start_time": "2021-06-17T17:34:34.215Z"
   },
   {
    "duration": 47,
    "start_time": "2021-06-17T17:34:34.241Z"
   },
   {
    "duration": 22,
    "start_time": "2021-06-17T17:34:34.291Z"
   },
   {
    "duration": 85,
    "start_time": "2021-06-17T17:34:34.316Z"
   },
   {
    "duration": 8,
    "start_time": "2021-06-17T17:34:34.403Z"
   },
   {
    "duration": 75,
    "start_time": "2021-06-17T17:34:34.414Z"
   },
   {
    "duration": 95,
    "start_time": "2021-06-17T17:34:34.492Z"
   },
   {
    "duration": 105,
    "start_time": "2021-06-17T17:34:34.592Z"
   },
   {
    "duration": 13,
    "start_time": "2021-06-17T17:34:34.699Z"
   },
   {
    "duration": 8,
    "start_time": "2021-06-17T17:34:34.714Z"
   },
   {
    "duration": 97,
    "start_time": "2021-06-17T17:34:34.724Z"
   },
   {
    "duration": 75,
    "start_time": "2021-06-17T17:34:34.823Z"
   },
   {
    "duration": 98,
    "start_time": "2021-06-17T17:34:34.904Z"
   },
   {
    "duration": 100,
    "start_time": "2021-06-17T17:34:35.004Z"
   },
   {
    "duration": 389,
    "start_time": "2021-06-17T17:35:18.090Z"
   },
   {
    "duration": 293,
    "start_time": "2021-06-17T17:35:33.182Z"
   },
   {
    "duration": 34,
    "start_time": "2021-06-17T17:35:48.047Z"
   },
   {
    "duration": 21,
    "start_time": "2021-06-17T17:37:30.354Z"
   },
   {
    "duration": 41,
    "start_time": "2021-06-17T17:37:51.514Z"
   },
   {
    "duration": 33,
    "start_time": "2021-06-17T17:39:40.293Z"
   },
   {
    "duration": 36,
    "start_time": "2021-06-17T17:39:45.080Z"
   },
   {
    "duration": 30,
    "start_time": "2021-06-17T17:39:59.308Z"
   },
   {
    "duration": 5,
    "start_time": "2021-06-17T17:42:14.076Z"
   },
   {
    "duration": 313,
    "start_time": "2021-06-17T17:42:37.233Z"
   },
   {
    "duration": 7445,
    "start_time": "2021-06-17T17:43:48.256Z"
   },
   {
    "duration": 5,
    "start_time": "2021-06-17T17:44:17.005Z"
   },
   {
    "duration": 5,
    "start_time": "2021-06-17T17:44:41.210Z"
   },
   {
    "duration": 7048,
    "start_time": "2021-06-17T17:49:59.238Z"
   },
   {
    "duration": 21,
    "start_time": "2021-06-17T17:59:05.004Z"
   },
   {
    "duration": 21,
    "start_time": "2021-06-17T17:59:18.742Z"
   },
   {
    "duration": 10,
    "start_time": "2021-06-17T18:00:29.956Z"
   },
   {
    "duration": 312,
    "start_time": "2021-06-17T18:01:20.480Z"
   },
   {
    "duration": 40,
    "start_time": "2021-06-17T18:01:33.825Z"
   },
   {
    "duration": 5,
    "start_time": "2021-06-17T18:07:37.526Z"
   }
  ],
  "kernelspec": {
   "display_name": "Python 3",
   "language": "python",
   "name": "python3"
  },
  "language_info": {
   "codemirror_mode": {
    "name": "ipython",
    "version": 3
   },
   "file_extension": ".py",
   "mimetype": "text/x-python",
   "name": "python",
   "nbconvert_exporter": "python",
   "pygments_lexer": "ipython3",
   "version": "3.7.10"
  },
  "toc": {
   "base_numbering": 1,
   "nav_menu": {},
   "number_sections": true,
   "sideBar": true,
   "skip_h1_title": true,
   "title_cell": "Содержание",
   "title_sidebar": "Contents",
   "toc_cell": true,
   "toc_position": {
    "height": "calc(100% - 180px)",
    "left": "10px",
    "top": "150px",
    "width": "291px"
   },
   "toc_section_display": true,
   "toc_window_display": true
  }
 },
 "nbformat": 4,
 "nbformat_minor": 5
}
