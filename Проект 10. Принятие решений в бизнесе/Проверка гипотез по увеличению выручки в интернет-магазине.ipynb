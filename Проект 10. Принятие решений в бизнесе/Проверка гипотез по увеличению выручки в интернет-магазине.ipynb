{
 "cells": [
  {
   "cell_type": "markdown",
   "id": "8ff92d22",
   "metadata": {
    "toc": true
   },
   "source": [
    "<h1>Содержание<span class=\"tocSkip\"></span></h1>\n",
    "<div class=\"toc\"><ul class=\"toc-item\"><li><span><a href=\"#Часть-1.-Приоритизация-гипотез\" data-toc-modified-id=\"Часть-1.-Приоритизация-гипотез-1\"><span class=\"toc-item-num\">1&nbsp;&nbsp;</span>Часть 1. Приоритизация гипотез</a></span><ul class=\"toc-item\"><li><span><a href=\"#Приоритизация-гипотез.-Фреймворк-ICE\" data-toc-modified-id=\"Приоритизация-гипотез.-Фреймворк-ICE-1.1\"><span class=\"toc-item-num\">1.1&nbsp;&nbsp;</span>Приоритизация гипотез. Фреймворк ICE</a></span></li><li><span><a href=\"#Приоритизация-гипотез.-Фреймворк-RICE\" data-toc-modified-id=\"Приоритизация-гипотез.-Фреймворк-RICE-1.2\"><span class=\"toc-item-num\">1.2&nbsp;&nbsp;</span>Приоритизация гипотез. Фреймворк RICE</a></span></li></ul></li><li><span><a href=\"#Часть-2.-Анализ-A/B-теста\" data-toc-modified-id=\"Часть-2.-Анализ-A/B-теста-2\"><span class=\"toc-item-num\">2&nbsp;&nbsp;</span>Часть 2. Анализ A/B-теста</a></span><ul class=\"toc-item\"><li><span><a href=\"#Поиск-явных-дубликатов\" data-toc-modified-id=\"Поиск-явных-дубликатов-2.1\"><span class=\"toc-item-num\">2.1&nbsp;&nbsp;</span>Поиск явных дубликатов</a></span></li><li><span><a href=\"#Проверка-на-пересечение-пользователей-в-группах\" data-toc-modified-id=\"Проверка-на-пересечение-пользователей-в-группах-2.2\"><span class=\"toc-item-num\">2.2&nbsp;&nbsp;</span>Проверка на пересечение пользователей в группах</a></span></li><li><span><a href=\"#Анализ-кумулятивных-метрик\" data-toc-modified-id=\"Анализ-кумулятивных-метрик-2.3\"><span class=\"toc-item-num\">2.3&nbsp;&nbsp;</span>Анализ кумулятивных метрик</a></span></li><li><span><a href=\"#Анализ-выбросов-и-всплесков\" data-toc-modified-id=\"Анализ-выбросов-и-всплесков-2.4\"><span class=\"toc-item-num\">2.4&nbsp;&nbsp;</span>Анализ выбросов и всплесков</a></span></li><li><span><a href=\"#Расчет-статистической-значимости-различий-в-конверсии-и-среднем-чеке-между-группами\" data-toc-modified-id=\"Расчет-статистической-значимости-различий-в-конверсии-и-среднем-чеке-между-группами-2.5\"><span class=\"toc-item-num\">2.5&nbsp;&nbsp;</span>Расчет статистической значимости различий в конверсии и среднем чеке между группами</a></span></li></ul></li><li><span><a href=\"#Принятие-решений-по-результатам-теста\" data-toc-modified-id=\"Принятие-решений-по-результатам-теста-3\"><span class=\"toc-item-num\">3&nbsp;&nbsp;</span>Принятие решений по результатам теста</a></span></li></ul></div>"
   ]
  },
  {
   "cell_type": "markdown",
   "id": "b3ea6aad",
   "metadata": {},
   "source": [
    "# Описание проекта"
   ]
  },
  {
   "cell_type": "markdown",
   "id": "fc916a8e",
   "metadata": {},
   "source": [
    "Заказчик исследование - крупный интернет-магазин. Вместе с отделом маркетинга для нас подготовили список гипотез для увеличения выручки.\n",
    "\n",
    "**Задачи проекта:**\n",
    "\n",
    "- приоритизировать гипотезы;\n",
    "- запустить A/B-тест и проанализировать результаты."
   ]
  },
  {
   "cell_type": "markdown",
   "id": "cd7e4701",
   "metadata": {},
   "source": [
    "## Часть 1. Приоритизация гипотез"
   ]
  },
  {
   "cell_type": "markdown",
   "id": "13ca56db",
   "metadata": {},
   "source": [
    "Первоначально импортируем необходимые библиотеки и сохраняем их в переменные, улучшаем качество изображения графиков и т.д."
   ]
  },
  {
   "cell_type": "code",
   "execution_count": 1,
   "id": "3036508f",
   "metadata": {},
   "outputs": [],
   "source": [
    "import pandas as pd\n",
    "import datetime as dt\n",
    "import numpy as np\n",
    "import matplotlib.pyplot as plt\n",
    "import scipy.stats as stats\n",
    "import warnings\n",
    "\n",
    "def fxn():\n",
    "    warnings.warn(\"deprecated\", DeprecationWarning)\n",
    "\n",
    "with warnings.catch_warnings():\n",
    "    warnings.simplefilter(\"ignore\")\n",
    "    fxn() # убираем предупреждения\n",
    "    \n",
    "%config InlineBackend.figure_format = 'retina' # улучшение четкости изображения\n",
    "\n",
    "pd.set_option('display.max_columns', None) # уберем ограничение на вывод количества столбцов\n",
    "pd.set_option(\"max_colwidth\", 110) # установим максимальную ширину символов в столбце"
   ]
  },
  {
   "cell_type": "markdown",
   "id": "ed47ba56",
   "metadata": {},
   "source": [
    "Сохраним в переменную и выведем датафрейм."
   ]
  },
  {
   "cell_type": "code",
   "execution_count": 2,
   "id": "912393a9",
   "metadata": {},
   "outputs": [
    {
     "data": {
      "text/html": [
       "<div>\n",
       "<style scoped>\n",
       "    .dataframe tbody tr th:only-of-type {\n",
       "        vertical-align: middle;\n",
       "    }\n",
       "\n",
       "    .dataframe tbody tr th {\n",
       "        vertical-align: top;\n",
       "    }\n",
       "\n",
       "    .dataframe thead th {\n",
       "        text-align: right;\n",
       "    }\n",
       "</style>\n",
       "<table border=\"1\" class=\"dataframe\">\n",
       "  <thead>\n",
       "    <tr style=\"text-align: right;\">\n",
       "      <th></th>\n",
       "      <th>Hypothesis</th>\n",
       "      <th>Reach</th>\n",
       "      <th>Impact</th>\n",
       "      <th>Confidence</th>\n",
       "      <th>Efforts</th>\n",
       "    </tr>\n",
       "  </thead>\n",
       "  <tbody>\n",
       "    <tr>\n",
       "      <td>0</td>\n",
       "      <td>Добавить два новых канала привлечения трафика, что позволит привлекать на 30% больше пользователей</td>\n",
       "      <td>3</td>\n",
       "      <td>10</td>\n",
       "      <td>8</td>\n",
       "      <td>6</td>\n",
       "    </tr>\n",
       "    <tr>\n",
       "      <td>1</td>\n",
       "      <td>Запустить собственную службу доставки, что сократит срок доставки заказов</td>\n",
       "      <td>2</td>\n",
       "      <td>5</td>\n",
       "      <td>4</td>\n",
       "      <td>10</td>\n",
       "    </tr>\n",
       "    <tr>\n",
       "      <td>2</td>\n",
       "      <td>Добавить блоки рекомендаций товаров на сайт интернет магазина, чтобы повысить конверсию и средний чек заказа</td>\n",
       "      <td>8</td>\n",
       "      <td>3</td>\n",
       "      <td>7</td>\n",
       "      <td>3</td>\n",
       "    </tr>\n",
       "    <tr>\n",
       "      <td>3</td>\n",
       "      <td>Изменить структура категорий, что увеличит конверсию, т.к. пользователи быстрее найдут нужный товар</td>\n",
       "      <td>8</td>\n",
       "      <td>3</td>\n",
       "      <td>3</td>\n",
       "      <td>8</td>\n",
       "    </tr>\n",
       "    <tr>\n",
       "      <td>4</td>\n",
       "      <td>Изменить цвет фона главной страницы, чтобы увеличить вовлеченность пользователей</td>\n",
       "      <td>3</td>\n",
       "      <td>1</td>\n",
       "      <td>1</td>\n",
       "      <td>1</td>\n",
       "    </tr>\n",
       "    <tr>\n",
       "      <td>5</td>\n",
       "      <td>Добавить страницу отзывов клиентов о магазине, что позволит увеличить количество заказов</td>\n",
       "      <td>3</td>\n",
       "      <td>2</td>\n",
       "      <td>2</td>\n",
       "      <td>3</td>\n",
       "    </tr>\n",
       "    <tr>\n",
       "      <td>6</td>\n",
       "      <td>Показать на главной странице баннеры с актуальными акциями и распродажами, чтобы увеличить конверсию</td>\n",
       "      <td>5</td>\n",
       "      <td>3</td>\n",
       "      <td>8</td>\n",
       "      <td>3</td>\n",
       "    </tr>\n",
       "    <tr>\n",
       "      <td>7</td>\n",
       "      <td>Добавить форму подписки на все основные страницы, чтобы собрать базу клиентов для email-рассылок</td>\n",
       "      <td>10</td>\n",
       "      <td>7</td>\n",
       "      <td>8</td>\n",
       "      <td>5</td>\n",
       "    </tr>\n",
       "    <tr>\n",
       "      <td>8</td>\n",
       "      <td>Запустить акцию, дающую скидку на товар в день рождения</td>\n",
       "      <td>1</td>\n",
       "      <td>9</td>\n",
       "      <td>9</td>\n",
       "      <td>5</td>\n",
       "    </tr>\n",
       "  </tbody>\n",
       "</table>\n",
       "</div>"
      ],
      "text/plain": [
       "                                                                                                     Hypothesis  \\\n",
       "0            Добавить два новых канала привлечения трафика, что позволит привлекать на 30% больше пользователей   \n",
       "1                                     Запустить собственную службу доставки, что сократит срок доставки заказов   \n",
       "2  Добавить блоки рекомендаций товаров на сайт интернет магазина, чтобы повысить конверсию и средний чек заказа   \n",
       "3           Изменить структура категорий, что увеличит конверсию, т.к. пользователи быстрее найдут нужный товар   \n",
       "4                              Изменить цвет фона главной страницы, чтобы увеличить вовлеченность пользователей   \n",
       "5                      Добавить страницу отзывов клиентов о магазине, что позволит увеличить количество заказов   \n",
       "6          Показать на главной странице баннеры с актуальными акциями и распродажами, чтобы увеличить конверсию   \n",
       "7              Добавить форму подписки на все основные страницы, чтобы собрать базу клиентов для email-рассылок   \n",
       "8                                                       Запустить акцию, дающую скидку на товар в день рождения   \n",
       "\n",
       "   Reach  Impact  Confidence  Efforts  \n",
       "0      3      10           8        6  \n",
       "1      2       5           4       10  \n",
       "2      8       3           7        3  \n",
       "3      8       3           3        8  \n",
       "4      3       1           1        1  \n",
       "5      3       2           2        3  \n",
       "6      5       3           8        3  \n",
       "7     10       7           8        5  \n",
       "8      1       9           9        5  "
      ]
     },
     "execution_count": 2,
     "metadata": {},
     "output_type": "execute_result"
    }
   ],
   "source": [
    "# чтение файла с данными и сохранение в переменную 'hypothesis'\n",
    "try:\n",
    "    hypothesis = pd.read_csv('/datasets/hypothesis.csv') \n",
    "except:\n",
    "    hypothesis = pd.read_csv(r'D:\\datasets\\hypothesis.csv')\n",
    "\n",
    "\n",
    "hypothesis # посмотрим"
   ]
  },
  {
   "cell_type": "markdown",
   "id": "5e7952ee",
   "metadata": {},
   "source": [
    "**Таблица hypothesis:**\n",
    "\n",
    "- `Hypothesis` — краткое описание гипотезы;\n",
    "- `Reach` — охват пользователей по 10-балльной шкале;\n",
    "- `Impact` — влияние на пользователей по 10-балльной шкале;\n",
    "- `Confidence` — уверенность в гипотезе по 10-балльной шкале;\n",
    "- `Efforts` — затраты ресурсов на проверку гипотезы по 10-балльной шкале (чем больше значение **Efforts**, тем дороже проверка гипотезы)."
   ]
  },
  {
   "cell_type": "code",
   "execution_count": 3,
   "id": "3a82ff2c",
   "metadata": {},
   "outputs": [
    {
     "data": {
      "text/plain": [
       "Index(['hypothesis', 'reach', 'impact', 'confidence', 'efforts'], dtype='object')"
      ]
     },
     "execution_count": 3,
     "metadata": {},
     "output_type": "execute_result"
    }
   ],
   "source": [
    "# преобразуем названия столбцов к нижнему регистру\n",
    "hypothesis = hypothesis.rename(str.lower, axis='columns')\n",
    "\n",
    "hypothesis.columns # проверим"
   ]
  },
  {
   "cell_type": "markdown",
   "id": "b721193f",
   "metadata": {},
   "source": [
    "### Приоритизация гипотез. Фреймворк ICE"
   ]
  },
  {
   "cell_type": "markdown",
   "id": "7b5e3cf8",
   "metadata": {},
   "source": [
    "Посчитаем ICE для гипотез. Для этого воспользуемся формулой:\n",
    "\n",
    "\n",
    "$$ICE = \\frac{Impact * Confidence}{Efforts}$$"
   ]
  },
  {
   "cell_type": "code",
   "execution_count": 4,
   "id": "dfb11602",
   "metadata": {},
   "outputs": [
    {
     "data": {
      "text/html": [
       "<div>\n",
       "<style scoped>\n",
       "    .dataframe tbody tr th:only-of-type {\n",
       "        vertical-align: middle;\n",
       "    }\n",
       "\n",
       "    .dataframe tbody tr th {\n",
       "        vertical-align: top;\n",
       "    }\n",
       "\n",
       "    .dataframe thead th {\n",
       "        text-align: right;\n",
       "    }\n",
       "</style>\n",
       "<table border=\"1\" class=\"dataframe\">\n",
       "  <thead>\n",
       "    <tr style=\"text-align: right;\">\n",
       "      <th></th>\n",
       "      <th>hypothesis</th>\n",
       "      <th>ice</th>\n",
       "    </tr>\n",
       "  </thead>\n",
       "  <tbody>\n",
       "    <tr>\n",
       "      <td>8</td>\n",
       "      <td>Запустить акцию, дающую скидку на товар в день рождения</td>\n",
       "      <td>16.200000</td>\n",
       "    </tr>\n",
       "    <tr>\n",
       "      <td>0</td>\n",
       "      <td>Добавить два новых канала привлечения трафика, что позволит привлекать на 30% больше пользователей</td>\n",
       "      <td>13.333333</td>\n",
       "    </tr>\n",
       "    <tr>\n",
       "      <td>7</td>\n",
       "      <td>Добавить форму подписки на все основные страницы, чтобы собрать базу клиентов для email-рассылок</td>\n",
       "      <td>11.200000</td>\n",
       "    </tr>\n",
       "    <tr>\n",
       "      <td>6</td>\n",
       "      <td>Показать на главной странице баннеры с актуальными акциями и распродажами, чтобы увеличить конверсию</td>\n",
       "      <td>8.000000</td>\n",
       "    </tr>\n",
       "    <tr>\n",
       "      <td>2</td>\n",
       "      <td>Добавить блоки рекомендаций товаров на сайт интернет магазина, чтобы повысить конверсию и средний чек заказа</td>\n",
       "      <td>7.000000</td>\n",
       "    </tr>\n",
       "    <tr>\n",
       "      <td>1</td>\n",
       "      <td>Запустить собственную службу доставки, что сократит срок доставки заказов</td>\n",
       "      <td>2.000000</td>\n",
       "    </tr>\n",
       "    <tr>\n",
       "      <td>5</td>\n",
       "      <td>Добавить страницу отзывов клиентов о магазине, что позволит увеличить количество заказов</td>\n",
       "      <td>1.333333</td>\n",
       "    </tr>\n",
       "    <tr>\n",
       "      <td>3</td>\n",
       "      <td>Изменить структура категорий, что увеличит конверсию, т.к. пользователи быстрее найдут нужный товар</td>\n",
       "      <td>1.125000</td>\n",
       "    </tr>\n",
       "    <tr>\n",
       "      <td>4</td>\n",
       "      <td>Изменить цвет фона главной страницы, чтобы увеличить вовлеченность пользователей</td>\n",
       "      <td>1.000000</td>\n",
       "    </tr>\n",
       "  </tbody>\n",
       "</table>\n",
       "</div>"
      ],
      "text/plain": [
       "                                                                                                     hypothesis  \\\n",
       "8                                                       Запустить акцию, дающую скидку на товар в день рождения   \n",
       "0            Добавить два новых канала привлечения трафика, что позволит привлекать на 30% больше пользователей   \n",
       "7              Добавить форму подписки на все основные страницы, чтобы собрать базу клиентов для email-рассылок   \n",
       "6          Показать на главной странице баннеры с актуальными акциями и распродажами, чтобы увеличить конверсию   \n",
       "2  Добавить блоки рекомендаций товаров на сайт интернет магазина, чтобы повысить конверсию и средний чек заказа   \n",
       "1                                     Запустить собственную службу доставки, что сократит срок доставки заказов   \n",
       "5                      Добавить страницу отзывов клиентов о магазине, что позволит увеличить количество заказов   \n",
       "3           Изменить структура категорий, что увеличит конверсию, т.к. пользователи быстрее найдут нужный товар   \n",
       "4                              Изменить цвет фона главной страницы, чтобы увеличить вовлеченность пользователей   \n",
       "\n",
       "         ice  \n",
       "8  16.200000  \n",
       "0  13.333333  \n",
       "7  11.200000  \n",
       "6   8.000000  \n",
       "2   7.000000  \n",
       "1   2.000000  \n",
       "5   1.333333  \n",
       "3   1.125000  \n",
       "4   1.000000  "
      ]
     },
     "execution_count": 4,
     "metadata": {},
     "output_type": "execute_result"
    }
   ],
   "source": [
    "hypothesis['ice'] = (hypothesis['impact'] * hypothesis['confidence']) / hypothesis['efforts'] # посчитаем\n",
    "\n",
    "hypothesis[['hypothesis', 'ice']].sort_values(by='ice', ascending=False) # отсортируем"
   ]
  },
  {
   "cell_type": "markdown",
   "id": "7e955580",
   "metadata": {},
   "source": [
    "**Промежуточные выводы:**\n",
    "\n",
    "- наиболее перспективные гипотезы согласно методике **ICE**: **8**, **0**, **7**."
   ]
  },
  {
   "cell_type": "markdown",
   "id": "2adcb14e",
   "metadata": {},
   "source": [
    "### Приоритизация гипотез. Фреймворк RICE"
   ]
  },
  {
   "cell_type": "markdown",
   "id": "e0ccf191",
   "metadata": {},
   "source": [
    "Посчитаем RICE для гипотез. Для этого воспользуемся формулой: \n",
    "\n",
    "$$RICE = \\frac{Rearch * Impact * Confidence}{Efforts}$$"
   ]
  },
  {
   "cell_type": "code",
   "execution_count": 5,
   "id": "8ca3978e",
   "metadata": {},
   "outputs": [
    {
     "data": {
      "text/html": [
       "<div>\n",
       "<style scoped>\n",
       "    .dataframe tbody tr th:only-of-type {\n",
       "        vertical-align: middle;\n",
       "    }\n",
       "\n",
       "    .dataframe tbody tr th {\n",
       "        vertical-align: top;\n",
       "    }\n",
       "\n",
       "    .dataframe thead th {\n",
       "        text-align: right;\n",
       "    }\n",
       "</style>\n",
       "<table border=\"1\" class=\"dataframe\">\n",
       "  <thead>\n",
       "    <tr style=\"text-align: right;\">\n",
       "      <th></th>\n",
       "      <th>hypothesis</th>\n",
       "      <th>rice</th>\n",
       "    </tr>\n",
       "  </thead>\n",
       "  <tbody>\n",
       "    <tr>\n",
       "      <td>7</td>\n",
       "      <td>Добавить форму подписки на все основные страницы, чтобы собрать базу клиентов для email-рассылок</td>\n",
       "      <td>112.0</td>\n",
       "    </tr>\n",
       "    <tr>\n",
       "      <td>2</td>\n",
       "      <td>Добавить блоки рекомендаций товаров на сайт интернет магазина, чтобы повысить конверсию и средний чек заказа</td>\n",
       "      <td>56.0</td>\n",
       "    </tr>\n",
       "    <tr>\n",
       "      <td>0</td>\n",
       "      <td>Добавить два новых канала привлечения трафика, что позволит привлекать на 30% больше пользователей</td>\n",
       "      <td>40.0</td>\n",
       "    </tr>\n",
       "    <tr>\n",
       "      <td>6</td>\n",
       "      <td>Показать на главной странице баннеры с актуальными акциями и распродажами, чтобы увеличить конверсию</td>\n",
       "      <td>40.0</td>\n",
       "    </tr>\n",
       "    <tr>\n",
       "      <td>8</td>\n",
       "      <td>Запустить акцию, дающую скидку на товар в день рождения</td>\n",
       "      <td>16.2</td>\n",
       "    </tr>\n",
       "    <tr>\n",
       "      <td>3</td>\n",
       "      <td>Изменить структура категорий, что увеличит конверсию, т.к. пользователи быстрее найдут нужный товар</td>\n",
       "      <td>9.0</td>\n",
       "    </tr>\n",
       "    <tr>\n",
       "      <td>1</td>\n",
       "      <td>Запустить собственную службу доставки, что сократит срок доставки заказов</td>\n",
       "      <td>4.0</td>\n",
       "    </tr>\n",
       "    <tr>\n",
       "      <td>5</td>\n",
       "      <td>Добавить страницу отзывов клиентов о магазине, что позволит увеличить количество заказов</td>\n",
       "      <td>4.0</td>\n",
       "    </tr>\n",
       "    <tr>\n",
       "      <td>4</td>\n",
       "      <td>Изменить цвет фона главной страницы, чтобы увеличить вовлеченность пользователей</td>\n",
       "      <td>3.0</td>\n",
       "    </tr>\n",
       "  </tbody>\n",
       "</table>\n",
       "</div>"
      ],
      "text/plain": [
       "                                                                                                     hypothesis  \\\n",
       "7              Добавить форму подписки на все основные страницы, чтобы собрать базу клиентов для email-рассылок   \n",
       "2  Добавить блоки рекомендаций товаров на сайт интернет магазина, чтобы повысить конверсию и средний чек заказа   \n",
       "0            Добавить два новых канала привлечения трафика, что позволит привлекать на 30% больше пользователей   \n",
       "6          Показать на главной странице баннеры с актуальными акциями и распродажами, чтобы увеличить конверсию   \n",
       "8                                                       Запустить акцию, дающую скидку на товар в день рождения   \n",
       "3           Изменить структура категорий, что увеличит конверсию, т.к. пользователи быстрее найдут нужный товар   \n",
       "1                                     Запустить собственную службу доставки, что сократит срок доставки заказов   \n",
       "5                      Добавить страницу отзывов клиентов о магазине, что позволит увеличить количество заказов   \n",
       "4                              Изменить цвет фона главной страницы, чтобы увеличить вовлеченность пользователей   \n",
       "\n",
       "    rice  \n",
       "7  112.0  \n",
       "2   56.0  \n",
       "0   40.0  \n",
       "6   40.0  \n",
       "8   16.2  \n",
       "3    9.0  \n",
       "1    4.0  \n",
       "5    4.0  \n",
       "4    3.0  "
      ]
     },
     "execution_count": 5,
     "metadata": {},
     "output_type": "execute_result"
    }
   ],
   "source": [
    "hypothesis['rice'] = (hypothesis['reach'] * hypothesis['impact'] * hypothesis['confidence']) / hypothesis['efforts'] # посчитаем\n",
    "\n",
    "hypothesis[['hypothesis', 'rice']].sort_values(by='rice', ascending=False) # отсортируем"
   ]
  },
  {
   "cell_type": "markdown",
   "id": "57239210",
   "metadata": {},
   "source": [
    "**Промежуточные выводы:**\n",
    "\n",
    "- наиболее перспективные гипотезы согласно **RICE**: **7**, **2**, **0**;\n",
    "- гипотеза **8** покинуло первое место при оценке методом **RICE**, так как значение охвата аудитории низок (равен **1**). При этом на втором месте появилась гипотеза **2** с высоким показателем **reach** равным **8**."
   ]
  },
  {
   "cell_type": "markdown",
   "id": "f36e0ac5",
   "metadata": {},
   "source": [
    "## Часть 2. Анализ A/B-теста"
   ]
  },
  {
   "cell_type": "markdown",
   "id": "f966bd24",
   "metadata": {},
   "source": [
    "Сохраним в переменные и выведем первые 10 строк новых датафреймов."
   ]
  },
  {
   "cell_type": "code",
   "execution_count": 6,
   "id": "e8bed59c",
   "metadata": {},
   "outputs": [
    {
     "data": {
      "text/html": [
       "<div>\n",
       "<style scoped>\n",
       "    .dataframe tbody tr th:only-of-type {\n",
       "        vertical-align: middle;\n",
       "    }\n",
       "\n",
       "    .dataframe tbody tr th {\n",
       "        vertical-align: top;\n",
       "    }\n",
       "\n",
       "    .dataframe thead th {\n",
       "        text-align: right;\n",
       "    }\n",
       "</style>\n",
       "<table border=\"1\" class=\"dataframe\">\n",
       "  <thead>\n",
       "    <tr style=\"text-align: right;\">\n",
       "      <th></th>\n",
       "      <th>transactionId</th>\n",
       "      <th>visitorId</th>\n",
       "      <th>date</th>\n",
       "      <th>revenue</th>\n",
       "      <th>group</th>\n",
       "    </tr>\n",
       "  </thead>\n",
       "  <tbody>\n",
       "    <tr>\n",
       "      <td>0</td>\n",
       "      <td>3667963787</td>\n",
       "      <td>3312258926</td>\n",
       "      <td>2019-08-15</td>\n",
       "      <td>1650</td>\n",
       "      <td>B</td>\n",
       "    </tr>\n",
       "    <tr>\n",
       "      <td>1</td>\n",
       "      <td>2804400009</td>\n",
       "      <td>3642806036</td>\n",
       "      <td>2019-08-15</td>\n",
       "      <td>730</td>\n",
       "      <td>B</td>\n",
       "    </tr>\n",
       "    <tr>\n",
       "      <td>2</td>\n",
       "      <td>2961555356</td>\n",
       "      <td>4069496402</td>\n",
       "      <td>2019-08-15</td>\n",
       "      <td>400</td>\n",
       "      <td>A</td>\n",
       "    </tr>\n",
       "    <tr>\n",
       "      <td>3</td>\n",
       "      <td>3797467345</td>\n",
       "      <td>1196621759</td>\n",
       "      <td>2019-08-15</td>\n",
       "      <td>9759</td>\n",
       "      <td>B</td>\n",
       "    </tr>\n",
       "    <tr>\n",
       "      <td>4</td>\n",
       "      <td>2282983706</td>\n",
       "      <td>2322279887</td>\n",
       "      <td>2019-08-15</td>\n",
       "      <td>2308</td>\n",
       "      <td>B</td>\n",
       "    </tr>\n",
       "    <tr>\n",
       "      <td>5</td>\n",
       "      <td>182168103</td>\n",
       "      <td>935554773</td>\n",
       "      <td>2019-08-15</td>\n",
       "      <td>2210</td>\n",
       "      <td>B</td>\n",
       "    </tr>\n",
       "    <tr>\n",
       "      <td>6</td>\n",
       "      <td>398296753</td>\n",
       "      <td>2900797465</td>\n",
       "      <td>2019-08-15</td>\n",
       "      <td>1860</td>\n",
       "      <td>B</td>\n",
       "    </tr>\n",
       "    <tr>\n",
       "      <td>7</td>\n",
       "      <td>2626614568</td>\n",
       "      <td>78758296</td>\n",
       "      <td>2019-08-15</td>\n",
       "      <td>1044</td>\n",
       "      <td>A</td>\n",
       "    </tr>\n",
       "    <tr>\n",
       "      <td>8</td>\n",
       "      <td>1576988021</td>\n",
       "      <td>295230930</td>\n",
       "      <td>2019-08-15</td>\n",
       "      <td>13710</td>\n",
       "      <td>A</td>\n",
       "    </tr>\n",
       "    <tr>\n",
       "      <td>9</td>\n",
       "      <td>1506739906</td>\n",
       "      <td>1882260405</td>\n",
       "      <td>2019-08-15</td>\n",
       "      <td>1855</td>\n",
       "      <td>B</td>\n",
       "    </tr>\n",
       "  </tbody>\n",
       "</table>\n",
       "</div>"
      ],
      "text/plain": [
       "   transactionId   visitorId        date  revenue group\n",
       "0     3667963787  3312258926  2019-08-15     1650     B\n",
       "1     2804400009  3642806036  2019-08-15      730     B\n",
       "2     2961555356  4069496402  2019-08-15      400     A\n",
       "3     3797467345  1196621759  2019-08-15     9759     B\n",
       "4     2282983706  2322279887  2019-08-15     2308     B\n",
       "5      182168103   935554773  2019-08-15     2210     B\n",
       "6      398296753  2900797465  2019-08-15     1860     B\n",
       "7     2626614568    78758296  2019-08-15     1044     A\n",
       "8     1576988021   295230930  2019-08-15    13710     A\n",
       "9     1506739906  1882260405  2019-08-15     1855     B"
      ]
     },
     "metadata": {},
     "output_type": "display_data"
    },
    {
     "name": "stdout",
     "output_type": "stream",
     "text": [
      "<class 'pandas.core.frame.DataFrame'>\n",
      "RangeIndex: 1197 entries, 0 to 1196\n",
      "Data columns (total 5 columns):\n",
      "transactionId    1197 non-null int64\n",
      "visitorId        1197 non-null int64\n",
      "date             1197 non-null object\n",
      "revenue          1197 non-null int64\n",
      "group            1197 non-null object\n",
      "dtypes: int64(3), object(2)\n",
      "memory usage: 46.9+ KB\n"
     ]
    }
   ],
   "source": [
    "# чтение файла с данными и сохранение в переменную 'orders'\n",
    "try:\n",
    "    orders = pd.read_csv('/datasets/orders.csv') \n",
    "except:\n",
    "    orders = pd.read_csv(r'D:\\datasets\\orders.csv')\n",
    "\n",
    "display(orders.head(10))\n",
    "\n",
    "orders.info()"
   ]
  },
  {
   "cell_type": "markdown",
   "id": "ef52ccf7",
   "metadata": {},
   "source": [
    "**Таблица orders:**\n",
    "\n",
    "- `transactionId` — идентификатор заказа;\n",
    "- `visitorId` — идентификатор пользователя, совершившего заказ;\n",
    "- `date` — дата, когда был совершён заказ;\n",
    "- `revenue` — выручка заказа;\n",
    "- `group` — группа A/B-теста, в которую попал заказ."
   ]
  },
  {
   "cell_type": "code",
   "execution_count": 7,
   "id": "47549141",
   "metadata": {},
   "outputs": [
    {
     "data": {
      "text/html": [
       "<div>\n",
       "<style scoped>\n",
       "    .dataframe tbody tr th:only-of-type {\n",
       "        vertical-align: middle;\n",
       "    }\n",
       "\n",
       "    .dataframe tbody tr th {\n",
       "        vertical-align: top;\n",
       "    }\n",
       "\n",
       "    .dataframe thead th {\n",
       "        text-align: right;\n",
       "    }\n",
       "</style>\n",
       "<table border=\"1\" class=\"dataframe\">\n",
       "  <thead>\n",
       "    <tr style=\"text-align: right;\">\n",
       "      <th></th>\n",
       "      <th>date</th>\n",
       "      <th>group</th>\n",
       "      <th>visitors</th>\n",
       "    </tr>\n",
       "  </thead>\n",
       "  <tbody>\n",
       "    <tr>\n",
       "      <td>0</td>\n",
       "      <td>2019-08-01</td>\n",
       "      <td>A</td>\n",
       "      <td>719</td>\n",
       "    </tr>\n",
       "    <tr>\n",
       "      <td>1</td>\n",
       "      <td>2019-08-02</td>\n",
       "      <td>A</td>\n",
       "      <td>619</td>\n",
       "    </tr>\n",
       "    <tr>\n",
       "      <td>2</td>\n",
       "      <td>2019-08-03</td>\n",
       "      <td>A</td>\n",
       "      <td>507</td>\n",
       "    </tr>\n",
       "    <tr>\n",
       "      <td>3</td>\n",
       "      <td>2019-08-04</td>\n",
       "      <td>A</td>\n",
       "      <td>717</td>\n",
       "    </tr>\n",
       "    <tr>\n",
       "      <td>4</td>\n",
       "      <td>2019-08-05</td>\n",
       "      <td>A</td>\n",
       "      <td>756</td>\n",
       "    </tr>\n",
       "    <tr>\n",
       "      <td>5</td>\n",
       "      <td>2019-08-06</td>\n",
       "      <td>A</td>\n",
       "      <td>667</td>\n",
       "    </tr>\n",
       "    <tr>\n",
       "      <td>6</td>\n",
       "      <td>2019-08-07</td>\n",
       "      <td>A</td>\n",
       "      <td>644</td>\n",
       "    </tr>\n",
       "    <tr>\n",
       "      <td>7</td>\n",
       "      <td>2019-08-08</td>\n",
       "      <td>A</td>\n",
       "      <td>610</td>\n",
       "    </tr>\n",
       "    <tr>\n",
       "      <td>8</td>\n",
       "      <td>2019-08-09</td>\n",
       "      <td>A</td>\n",
       "      <td>617</td>\n",
       "    </tr>\n",
       "    <tr>\n",
       "      <td>9</td>\n",
       "      <td>2019-08-10</td>\n",
       "      <td>A</td>\n",
       "      <td>406</td>\n",
       "    </tr>\n",
       "  </tbody>\n",
       "</table>\n",
       "</div>"
      ],
      "text/plain": [
       "         date group  visitors\n",
       "0  2019-08-01     A       719\n",
       "1  2019-08-02     A       619\n",
       "2  2019-08-03     A       507\n",
       "3  2019-08-04     A       717\n",
       "4  2019-08-05     A       756\n",
       "5  2019-08-06     A       667\n",
       "6  2019-08-07     A       644\n",
       "7  2019-08-08     A       610\n",
       "8  2019-08-09     A       617\n",
       "9  2019-08-10     A       406"
      ]
     },
     "metadata": {},
     "output_type": "display_data"
    },
    {
     "name": "stdout",
     "output_type": "stream",
     "text": [
      "<class 'pandas.core.frame.DataFrame'>\n",
      "RangeIndex: 62 entries, 0 to 61\n",
      "Data columns (total 3 columns):\n",
      "date        62 non-null object\n",
      "group       62 non-null object\n",
      "visitors    62 non-null int64\n",
      "dtypes: int64(1), object(2)\n",
      "memory usage: 1.6+ KB\n"
     ]
    }
   ],
   "source": [
    "# чтение файла с данными и сохранение в переменную 'visitors'\n",
    "try:\n",
    "    visitors = pd.read_csv('/datasets/visitors.csv') \n",
    "except:\n",
    "    visitors = pd.read_csv(r'D:\\datasets\\visitors.csv')\n",
    "\n",
    "display(visitors.head(10))\n",
    "\n",
    "visitors.info()"
   ]
  },
  {
   "cell_type": "markdown",
   "id": "55a5f30a",
   "metadata": {},
   "source": [
    "**Таблица orders:**\n",
    "\n",
    "- `date` — дата;\n",
    "- `group` — группа A/B-теста;\n",
    "- `visitors` — количество пользователей в указанную дату в указанной группе A/B-теста."
   ]
  },
  {
   "cell_type": "markdown",
   "id": "d92344b2",
   "metadata": {},
   "source": [
    "**Наблюдения:**\n",
    "\n",
    "- уберем заглавные буквы в названиях столбцов таблицы **orders**;\n",
    "- изменим тип данных в столбцах **date** таблиц **orders** и **visitors** на **datetime**."
   ]
  },
  {
   "cell_type": "code",
   "execution_count": 8,
   "id": "e6afc649",
   "metadata": {},
   "outputs": [
    {
     "name": "stdout",
     "output_type": "stream",
     "text": [
      "Index(['transactionid', 'visitorid', 'date', 'revenue', 'group'], dtype='object')\n",
      "date    datetime64[ns]\n",
      "dtype: object date    datetime64[ns]\n",
      "dtype: object\n"
     ]
    }
   ],
   "source": [
    "orders = orders.rename(str.lower, axis='columns') # уберем заглавные буквы в названиях столбцов\n",
    "\n",
    "orders['date'] = orders['date'].map(lambda x: dt.datetime.strptime(x, '%Y-%m-%d'))\n",
    "visitors['date'] = visitors['date'].map(lambda x: dt.datetime.strptime(x, '%Y-%m-%d')) # заменим формат\n",
    "\n",
    "print(orders.columns) # проверим\n",
    "\n",
    "print(orders[['date']].dtypes, visitors[['date']].dtypes) # проверим"
   ]
  },
  {
   "cell_type": "markdown",
   "id": "2b24ecd4",
   "metadata": {},
   "source": [
    "### Поиск явных дубликатов"
   ]
  },
  {
   "cell_type": "markdown",
   "id": "7a28fecf",
   "metadata": {},
   "source": [
    "Проверим на явные дубликаты таблицы **visitors** и **orders**."
   ]
  },
  {
   "cell_type": "code",
   "execution_count": 9,
   "id": "c7b36dc6",
   "metadata": {},
   "outputs": [
    {
     "name": "stdout",
     "output_type": "stream",
     "text": [
      "Количество явных дубликатов в таблице: 0\n",
      "Количество явных дубликатов в таблице: 0\n"
     ]
    }
   ],
   "source": [
    "print(f'Количество явных дубликатов в таблице: {visitors.duplicated().sum()}')\n",
    "\n",
    "print(f'Количество явных дубликатов в таблице: {orders.duplicated().sum()}')"
   ]
  },
  {
   "cell_type": "markdown",
   "id": "e93377e0",
   "metadata": {},
   "source": [
    "### Проверка на пересечение пользователей в группах"
   ]
  },
  {
   "cell_type": "markdown",
   "id": "8115bdec",
   "metadata": {},
   "source": [
    "Выделим пользователей группы **А** и группы **В** таблицы **orders** и проверим на пересечение пользователей в группах."
   ]
  },
  {
   "cell_type": "code",
   "execution_count": 10,
   "id": "f2e3bf3b",
   "metadata": {},
   "outputs": [],
   "source": [
    "users_a = orders.loc[orders['group'] == 'A', 'visitorid']\n",
    "users_b = orders.loc[orders['group'] == 'B', 'visitorid'] # выделим пользователей двух групп\n",
    "\n",
    "users_a = users_a.tolist()\n",
    "users_b = users_b.tolist() # передадим значения в список"
   ]
  },
  {
   "cell_type": "code",
   "execution_count": 11,
   "id": "de12efa5",
   "metadata": {},
   "outputs": [
    {
     "name": "stdout",
     "output_type": "stream",
     "text": [
      "89\n"
     ]
    }
   ],
   "source": [
    "c = []\n",
    "for i in users_a:\n",
    "    if i in users_b:\n",
    "        c.append(i) # проверим пересекаются ли значения в списках\n",
    "        \n",
    "print(len(c)) # посмотрим на количество пересекающихся значений"
   ]
  },
  {
   "cell_type": "markdown",
   "id": "a35440ac",
   "metadata": {},
   "source": [
    "**89** значений - как минимум **178** строк в таблице **orders** с пользователями, которые фигурируют в обеих группах. Мы не можем отнести данных пользователей к определенной группе, поскольку нет никаких признаков. Поэтому удалим данных пользователей из таблицы **orders**."
   ]
  },
  {
   "cell_type": "code",
   "execution_count": 12,
   "id": "978109b6",
   "metadata": {},
   "outputs": [
    {
     "data": {
      "text/html": [
       "<div>\n",
       "<style scoped>\n",
       "    .dataframe tbody tr th:only-of-type {\n",
       "        vertical-align: middle;\n",
       "    }\n",
       "\n",
       "    .dataframe tbody tr th {\n",
       "        vertical-align: top;\n",
       "    }\n",
       "\n",
       "    .dataframe thead th {\n",
       "        text-align: right;\n",
       "    }\n",
       "</style>\n",
       "<table border=\"1\" class=\"dataframe\">\n",
       "  <thead>\n",
       "    <tr style=\"text-align: right;\">\n",
       "      <th></th>\n",
       "      <th>transactionid</th>\n",
       "      <th>visitorid</th>\n",
       "      <th>date</th>\n",
       "      <th>revenue</th>\n",
       "      <th>group</th>\n",
       "    </tr>\n",
       "  </thead>\n",
       "  <tbody>\n",
       "    <tr>\n",
       "      <td>0</td>\n",
       "      <td>3667963787</td>\n",
       "      <td>3312258926</td>\n",
       "      <td>2019-08-15</td>\n",
       "      <td>1650</td>\n",
       "      <td>B</td>\n",
       "    </tr>\n",
       "    <tr>\n",
       "      <td>1</td>\n",
       "      <td>2804400009</td>\n",
       "      <td>3642806036</td>\n",
       "      <td>2019-08-15</td>\n",
       "      <td>730</td>\n",
       "      <td>B</td>\n",
       "    </tr>\n",
       "    <tr>\n",
       "      <td>2</td>\n",
       "      <td>3797467345</td>\n",
       "      <td>1196621759</td>\n",
       "      <td>2019-08-15</td>\n",
       "      <td>9759</td>\n",
       "      <td>B</td>\n",
       "    </tr>\n",
       "    <tr>\n",
       "      <td>3</td>\n",
       "      <td>2282983706</td>\n",
       "      <td>2322279887</td>\n",
       "      <td>2019-08-15</td>\n",
       "      <td>2308</td>\n",
       "      <td>B</td>\n",
       "    </tr>\n",
       "    <tr>\n",
       "      <td>4</td>\n",
       "      <td>182168103</td>\n",
       "      <td>935554773</td>\n",
       "      <td>2019-08-15</td>\n",
       "      <td>2210</td>\n",
       "      <td>B</td>\n",
       "    </tr>\n",
       "    <tr>\n",
       "      <td>...</td>\n",
       "      <td>...</td>\n",
       "      <td>...</td>\n",
       "      <td>...</td>\n",
       "      <td>...</td>\n",
       "      <td>...</td>\n",
       "    </tr>\n",
       "    <tr>\n",
       "      <td>1011</td>\n",
       "      <td>3592955527</td>\n",
       "      <td>608641596</td>\n",
       "      <td>2019-08-14</td>\n",
       "      <td>16490</td>\n",
       "      <td>B</td>\n",
       "    </tr>\n",
       "    <tr>\n",
       "      <td>1012</td>\n",
       "      <td>2662137336</td>\n",
       "      <td>3733762160</td>\n",
       "      <td>2019-08-14</td>\n",
       "      <td>6490</td>\n",
       "      <td>B</td>\n",
       "    </tr>\n",
       "    <tr>\n",
       "      <td>1013</td>\n",
       "      <td>2203539145</td>\n",
       "      <td>370388673</td>\n",
       "      <td>2019-08-14</td>\n",
       "      <td>3190</td>\n",
       "      <td>A</td>\n",
       "    </tr>\n",
       "    <tr>\n",
       "      <td>1014</td>\n",
       "      <td>1807773912</td>\n",
       "      <td>573423106</td>\n",
       "      <td>2019-08-14</td>\n",
       "      <td>10550</td>\n",
       "      <td>A</td>\n",
       "    </tr>\n",
       "    <tr>\n",
       "      <td>1015</td>\n",
       "      <td>3936777065</td>\n",
       "      <td>2108080724</td>\n",
       "      <td>2019-08-15</td>\n",
       "      <td>202740</td>\n",
       "      <td>B</td>\n",
       "    </tr>\n",
       "  </tbody>\n",
       "</table>\n",
       "<p>1016 rows × 5 columns</p>\n",
       "</div>"
      ],
      "text/plain": [
       "      transactionid   visitorid       date  revenue group\n",
       "0        3667963787  3312258926 2019-08-15     1650     B\n",
       "1        2804400009  3642806036 2019-08-15      730     B\n",
       "2        3797467345  1196621759 2019-08-15     9759     B\n",
       "3        2282983706  2322279887 2019-08-15     2308     B\n",
       "4         182168103   935554773 2019-08-15     2210     B\n",
       "...             ...         ...        ...      ...   ...\n",
       "1011     3592955527   608641596 2019-08-14    16490     B\n",
       "1012     2662137336  3733762160 2019-08-14     6490     B\n",
       "1013     2203539145   370388673 2019-08-14     3190     A\n",
       "1014     1807773912   573423106 2019-08-14    10550     A\n",
       "1015     3936777065  2108080724 2019-08-15   202740     B\n",
       "\n",
       "[1016 rows x 5 columns]"
      ]
     },
     "execution_count": 12,
     "metadata": {},
     "output_type": "execute_result"
    }
   ],
   "source": [
    "orders = orders[np.logical_not(orders['visitorid'].isin(c))].reset_index().drop('index', axis=1) # удаляем\n",
    "\n",
    "orders # проверим"
   ]
  },
  {
   "cell_type": "markdown",
   "id": "a2024296",
   "metadata": {},
   "source": [
    "### Анализ кумулятивных метрик"
   ]
  },
  {
   "cell_type": "markdown",
   "id": "bca3bb0a",
   "metadata": {},
   "source": [
    "Чтобы построить графики, нужно собрать кумулятивные данные. Объявим датафрейм **cumulativedata**."
   ]
  },
  {
   "cell_type": "code",
   "execution_count": 13,
   "id": "61ddd63f",
   "metadata": {},
   "outputs": [
    {
     "data": {
      "text/html": [
       "<div>\n",
       "<style scoped>\n",
       "    .dataframe tbody tr th:only-of-type {\n",
       "        vertical-align: middle;\n",
       "    }\n",
       "\n",
       "    .dataframe tbody tr th {\n",
       "        vertical-align: top;\n",
       "    }\n",
       "\n",
       "    .dataframe thead th {\n",
       "        text-align: right;\n",
       "    }\n",
       "</style>\n",
       "<table border=\"1\" class=\"dataframe\">\n",
       "  <thead>\n",
       "    <tr style=\"text-align: right;\">\n",
       "      <th></th>\n",
       "      <th>date</th>\n",
       "      <th>group</th>\n",
       "      <th>orders</th>\n",
       "      <th>buyers</th>\n",
       "      <th>revenue</th>\n",
       "      <th>visitors</th>\n",
       "    </tr>\n",
       "  </thead>\n",
       "  <tbody>\n",
       "    <tr>\n",
       "      <td>0</td>\n",
       "      <td>2019-08-01</td>\n",
       "      <td>A</td>\n",
       "      <td>23</td>\n",
       "      <td>19</td>\n",
       "      <td>142779</td>\n",
       "      <td>719</td>\n",
       "    </tr>\n",
       "    <tr>\n",
       "      <td>1</td>\n",
       "      <td>2019-08-01</td>\n",
       "      <td>B</td>\n",
       "      <td>17</td>\n",
       "      <td>17</td>\n",
       "      <td>59758</td>\n",
       "      <td>713</td>\n",
       "    </tr>\n",
       "    <tr>\n",
       "      <td>2</td>\n",
       "      <td>2019-08-02</td>\n",
       "      <td>A</td>\n",
       "      <td>42</td>\n",
       "      <td>36</td>\n",
       "      <td>234381</td>\n",
       "      <td>1338</td>\n",
       "    </tr>\n",
       "    <tr>\n",
       "      <td>3</td>\n",
       "      <td>2019-08-02</td>\n",
       "      <td>B</td>\n",
       "      <td>40</td>\n",
       "      <td>39</td>\n",
       "      <td>221801</td>\n",
       "      <td>1294</td>\n",
       "    </tr>\n",
       "    <tr>\n",
       "      <td>4</td>\n",
       "      <td>2019-08-03</td>\n",
       "      <td>A</td>\n",
       "      <td>66</td>\n",
       "      <td>60</td>\n",
       "      <td>346854</td>\n",
       "      <td>1845</td>\n",
       "    </tr>\n",
       "    <tr>\n",
       "      <td>...</td>\n",
       "      <td>...</td>\n",
       "      <td>...</td>\n",
       "      <td>...</td>\n",
       "      <td>...</td>\n",
       "      <td>...</td>\n",
       "      <td>...</td>\n",
       "    </tr>\n",
       "    <tr>\n",
       "      <td>57</td>\n",
       "      <td>2019-08-29</td>\n",
       "      <td>B</td>\n",
       "      <td>510</td>\n",
       "      <td>490</td>\n",
       "      <td>4746610</td>\n",
       "      <td>17708</td>\n",
       "    </tr>\n",
       "    <tr>\n",
       "      <td>58</td>\n",
       "      <td>2019-08-30</td>\n",
       "      <td>A</td>\n",
       "      <td>460</td>\n",
       "      <td>437</td>\n",
       "      <td>3311413</td>\n",
       "      <td>18037</td>\n",
       "    </tr>\n",
       "    <tr>\n",
       "      <td>59</td>\n",
       "      <td>2019-08-30</td>\n",
       "      <td>B</td>\n",
       "      <td>531</td>\n",
       "      <td>511</td>\n",
       "      <td>4955833</td>\n",
       "      <td>18198</td>\n",
       "    </tr>\n",
       "    <tr>\n",
       "      <td>60</td>\n",
       "      <td>2019-08-31</td>\n",
       "      <td>A</td>\n",
       "      <td>468</td>\n",
       "      <td>445</td>\n",
       "      <td>3364656</td>\n",
       "      <td>18736</td>\n",
       "    </tr>\n",
       "    <tr>\n",
       "      <td>61</td>\n",
       "      <td>2019-08-31</td>\n",
       "      <td>B</td>\n",
       "      <td>548</td>\n",
       "      <td>528</td>\n",
       "      <td>5068972</td>\n",
       "      <td>18916</td>\n",
       "    </tr>\n",
       "  </tbody>\n",
       "</table>\n",
       "<p>62 rows × 6 columns</p>\n",
       "</div>"
      ],
      "text/plain": [
       "         date group  orders  buyers  revenue  visitors\n",
       "0  2019-08-01     A      23      19   142779       719\n",
       "1  2019-08-01     B      17      17    59758       713\n",
       "2  2019-08-02     A      42      36   234381      1338\n",
       "3  2019-08-02     B      40      39   221801      1294\n",
       "4  2019-08-03     A      66      60   346854      1845\n",
       "..        ...   ...     ...     ...      ...       ...\n",
       "57 2019-08-29     B     510     490  4746610     17708\n",
       "58 2019-08-30     A     460     437  3311413     18037\n",
       "59 2019-08-30     B     531     511  4955833     18198\n",
       "60 2019-08-31     A     468     445  3364656     18736\n",
       "61 2019-08-31     B     548     528  5068972     18916\n",
       "\n",
       "[62 rows x 6 columns]"
      ]
     },
     "execution_count": 13,
     "metadata": {},
     "output_type": "execute_result"
    }
   ],
   "source": [
    "datesgroups = orders[['date','group']].drop_duplicates() # создаем массив уникальных пар значений дат и групп теста\n",
    "\n",
    "ordersaggregated = (datesgroups\n",
    "                    .apply(lambda x: orders[np.logical_and(orders['date'] <= x['date'], orders['group'] == x['group'])]\n",
    "                    .agg({'date' : 'max', 'group' : 'max', 'transactionid' : 'nunique', 'visitorid' : 'nunique', 'revenue' : 'sum'}), axis=1)\n",
    "                    .sort_values(by=['date','group']))\n",
    "# получим агрегированные кумулятивные по дням данные о заказах \n",
    "\n",
    "visitorsaggregated = (datesgroups\n",
    "                      .apply(lambda x: visitors[np.logical_and(visitors['date'] <= x['date'], visitors['group'] == x['group'])]\n",
    "                      .agg({'date' : 'max', 'group' : 'max', 'visitors' : 'sum'}), axis=1)\n",
    "                      .sort_values(by=['date','group']))\n",
    "# получим агрегированные кумулятивные по дням данные о посетителях интернет-магазина\n",
    "\n",
    "cumulativedata = ordersaggregated.merge(visitorsaggregated, left_on=['date', 'group'], right_on=['date', 'group'])\n",
    "# объединим кумулятивные данные в одной таблице\n",
    "\n",
    "cumulativedata.columns = ['date', 'group', 'orders', 'buyers', 'revenue', 'visitors']\n",
    "# переименуем названия столбцов\n",
    "\n",
    "cumulativedata # посмотрим"
   ]
  },
  {
   "cell_type": "markdown",
   "id": "78523710",
   "metadata": {},
   "source": [
    "**Таблица cumulativedata:**\n",
    "\n",
    "- `date` — дата;\n",
    "- `group` — группа A/B-теста;\n",
    "- `orders` — кумулятивное количество заказов на указанную дату в указанной группе;\n",
    "- `buyers` — кумулятивное количество пользователей, совершивших хотя бы один заказ, на указанную дату в указанной группе;;\n",
    "- `revenue` — кумулятивная выручка на указанную дату в указанной группе (средний чек);;\n",
    "- `visitors` — кумулятивное количество посетителей интернет-магазина на указанную дату в определённой группе."
   ]
  },
  {
   "cell_type": "markdown",
   "id": "ed5e2cd3",
   "metadata": {},
   "source": [
    "Сформируем два датафрейма с кумулятивным количеством заказов и кумулятивной выручкой по дням в группах А и B."
   ]
  },
  {
   "cell_type": "code",
   "execution_count": 14,
   "id": "b44247cd",
   "metadata": {},
   "outputs": [],
   "source": [
    "cumulativerevenuea = cumulativedata[cumulativedata['group']=='A'][['date','revenue', 'orders']]\n",
    "cumulativerevenueb = cumulativedata[cumulativedata['group']=='B'][['date','revenue', 'orders']]\n",
    "# датафреймы для групп А и B"
   ]
  },
  {
   "cell_type": "markdown",
   "id": "7b716647",
   "metadata": {},
   "source": [
    "Построим график кумулятивной выручки по группам и дням."
   ]
  },
  {
   "cell_type": "code",
   "execution_count": 15,
   "id": "f93df665",
   "metadata": {},
   "outputs": [
    {
     "name": "stderr",
     "output_type": "stream",
     "text": [
      "C:\\Users\\airm\\anaconda3\\envs\\praktikum\\lib\\site-packages\\pandas\\plotting\\_matplotlib\\converter.py:103: FutureWarning: Using an implicitly registered datetime converter for a matplotlib plotting method. The converter was registered by pandas on import. Future versions of pandas will require you to explicitly register matplotlib converters.\n",
      "\n",
      "To register the converters:\n",
      "\t>>> from pandas.plotting import register_matplotlib_converters\n",
      "\t>>> register_matplotlib_converters()\n",
      "  warnings.warn(msg, FutureWarning)\n"
     ]
    },
    {
     "data": {
      "image/png": "[encoded data removed]",
      "text/plain": [
       "<Figure size 936x504 with 1 Axes>"
      ]
     },
     "metadata": {
      "image/png": {
       "height": 440,
       "width": 823
      },
      "needs_background": "light"
     },
     "output_type": "display_data"
    }
   ],
   "source": [
    "plt.figure(figsize=(13, 7))\n",
    "\n",
    "plt.plot(cumulativerevenuea['date'], cumulativerevenuea['revenue'], label='A')\n",
    "plt.plot(cumulativerevenueb['date'], cumulativerevenueb['revenue'], label='B')\n",
    "\n",
    "plt.xlabel('Дата')\n",
    "plt.ylabel('Выручка')\n",
    "plt.grid(which='major', axis='both')\n",
    "plt.title('Кумулятивная выручка по группам')\n",
    "plt.legend()\n",
    "plt.show();"
   ]
  },
  {
   "cell_type": "markdown",
   "id": "61ca26a5",
   "metadata": {},
   "source": [
    "**Промежуточные выводы:**\n",
    "\n",
    "- выручка у обоих групп увеличивается в течение всего теста;\n",
    "- выручка у группы **B** **2019-08-18** резко выросла. Это может сигнализировать о всплесках числа заказов, либо появления очень дорогих заказов в выборке;\n",
    "- график показал, что выручка группы **B** больше на протяжении всего теста."
   ]
  },
  {
   "cell_type": "markdown",
   "id": "b5b072ce",
   "metadata": {},
   "source": [
    "Построим график кумулятивного среднего чека по группам."
   ]
  },
  {
   "cell_type": "code",
   "execution_count": 16,
   "id": "e632f2e9",
   "metadata": {},
   "outputs": [
    {
     "data": {
      "image/png": "[encoded data removed]",
      "text/plain": [
       "<Figure size 936x504 with 1 Axes>"
      ]
     },
     "metadata": {
      "image/png": {
       "height": 440,
       "width": 810
      },
      "needs_background": "light"
     },
     "output_type": "display_data"
    }
   ],
   "source": [
    "plt.figure(figsize=(13, 7))\n",
    "\n",
    "plt.plot(cumulativerevenuea['date'], cumulativerevenuea['revenue']/cumulativerevenuea['orders'], label='A')\n",
    "plt.plot(cumulativerevenueb['date'], cumulativerevenueb['revenue']/cumulativerevenueb['orders'], label='B')\n",
    "\n",
    "plt.xlabel('Дата')\n",
    "plt.ylabel('Средний чек')\n",
    "plt.grid(which='major', axis='both')\n",
    "plt.title('Кумулятивный средний чек по группам')\n",
    "plt.legend()\n",
    "plt.show();"
   ]
  },
  {
   "cell_type": "markdown",
   "id": "f7e051ce",
   "metadata": {},
   "source": [
    "**Промежуточные выводы:**\n",
    "\n",
    "- кумулятивная средняя выручка группы **B** растет в течение всего теста. Увеличение размера среднего чека у группы **B** повторилось и на данном графике **2019-08-18**, что сигнализирует о всплеске числа заказов или появлении очень дорогих заказов в выборке;\n",
    "- кумулятивная средняя выручка группы **А** росла до **2019-08-13**, после, на протяжении всего теста она была равна приблизительно **7000**."
   ]
  },
  {
   "cell_type": "markdown",
   "id": "500619ea",
   "metadata": {},
   "source": [
    "Построим график относительного изменения кумулятивного среднего чека группы **B** к группе **A**. Первоначально соберем данные в одной таблице."
   ]
  },
  {
   "cell_type": "code",
   "execution_count": 17,
   "id": "eb738c28",
   "metadata": {},
   "outputs": [],
   "source": [
    "mergedcumulativerevenue = (cumulativerevenuea\n",
    "                           .merge(cumulativerevenueb, \n",
    "                                  left_on='date', \n",
    "                                  right_on='date', \n",
    "                                  how='left', \n",
    "                                  suffixes=['a', 'b'])\n",
    "                          ) # соберем в одну таблицу"
   ]
  },
  {
   "cell_type": "code",
   "execution_count": 18,
   "id": "543cbc06",
   "metadata": {},
   "outputs": [
    {
     "data": {
      "image/png": "[encoded data removed]",
      "text/plain": [
       "<Figure size 936x504 with 1 Axes>"
      ]
     },
     "metadata": {
      "image/png": {
       "height": 440,
       "width": 789
      },
      "needs_background": "light"
     },
     "output_type": "display_data"
    }
   ],
   "source": [
    "plt.figure(figsize=(13, 7))\n",
    "\n",
    "plt.plot(\n",
    "    mergedcumulativerevenue['date'],\n",
    "    (mergedcumulativerevenue['revenueb']/mergedcumulativerevenue['ordersb'])\n",
    "    /(mergedcumulativerevenue['revenuea']/mergedcumulativerevenue['ordersa'])-1)\n",
    "\n",
    "plt.axhline(y=0, color='grey', linestyle='--') \n",
    "plt.xlabel('Дата')\n",
    "plt.grid(which='major', axis='both')\n",
    "plt.title('Относительное изменение среднего чека группы B к группе A')\n",
    "plt.show();"
   ]
  },
  {
   "cell_type": "markdown",
   "id": "7ccce740",
   "metadata": {},
   "source": [
    "**Промежуточные выводы:**\n",
    "\n",
    "- практически на протяжении всего теста группа **A** стабильно хуже группы **B** по среднему чеку;\n",
    "- в нескольких точках график различия между сегментами резко \"скачет\", скорее всего в данных присутствуют крупные заказы и выбросы."
   ]
  },
  {
   "cell_type": "markdown",
   "id": "f221ce8e",
   "metadata": {},
   "source": [
    "Построим график кумулятивной конверсии по группам. Первоначально посчитаем кумулятивную конверсию по группам."
   ]
  },
  {
   "cell_type": "code",
   "execution_count": 19,
   "id": "ac60f33b",
   "metadata": {},
   "outputs": [],
   "source": [
    "cumulativedata['conversion'] = cumulativedata['orders'] / cumulativedata['visitors'] # посчитаем кумулятивную конверсию\n",
    "\n",
    "cumulativedataa = cumulativedata[cumulativedata['group']=='A']\n",
    "cumulativedatab = cumulativedata[cumulativedata['group']=='B'] # отделяем данные по группам A и B"
   ]
  },
  {
   "cell_type": "code",
   "execution_count": 20,
   "id": "a10c00ee",
   "metadata": {},
   "outputs": [
    {
     "data": {
      "image/png": "[encoded data removed]",
      "text/plain": [
       "<Figure size 936x504 with 1 Axes>"
      ]
     },
     "metadata": {
      "image/png": {
       "height": 440,
       "width": 793
      },
      "needs_background": "light"
     },
     "output_type": "display_data"
    }
   ],
   "source": [
    "plt.figure(figsize=(13, 7))\n",
    "\n",
    "plt.plot(cumulativerevenuea['date'], cumulativedataa['conversion'], label='A')\n",
    "plt.plot(cumulativerevenueb['date'], cumulativedatab['conversion'], label='B')\n",
    "\n",
    "plt.axis([\"2019-08-01\", '2019-08-30', 0, 0.040]) \n",
    "\n",
    "plt.xlabel('Дата')\n",
    "plt.ylabel('Конверсия')\n",
    "plt.grid(which='major', axis='both')\n",
    "plt.title('Конверсия по группам')\n",
    "plt.legend()\n",
    "plt.show();"
   ]
  },
  {
   "cell_type": "markdown",
   "id": "0b6409ba",
   "metadata": {},
   "source": [
    "**Промежуточные выводы:**\n",
    "\n",
    "- кумулятивная конверсия группы **B** стала выше относительно группы **А** с **2019-08-06** и до конца проведения теста."
   ]
  },
  {
   "cell_type": "markdown",
   "id": "53f8e4ce",
   "metadata": {},
   "source": [
    "Построим график относительного различия кумулятивных конверсий группы **B** к группе **A**."
   ]
  },
  {
   "cell_type": "code",
   "execution_count": 21,
   "id": "90b65473",
   "metadata": {},
   "outputs": [],
   "source": [
    "mergedcumulativeconversions = (cumulativedataa[['date','conversion']]\n",
    "                               .merge(cumulativedatab[['date','conversion']], \n",
    "                                      left_on='date', \n",
    "                                      right_on='date', \n",
    "                                      how='left', \n",
    "                                      suffixes=['a', 'b'])\n",
    "                              ) # соберем данные в одну таблицу"
   ]
  },
  {
   "cell_type": "code",
   "execution_count": 22,
   "id": "91af73ba",
   "metadata": {},
   "outputs": [
    {
     "data": {
      "image/png": "[encoded data removed]",
      "text/plain": [
       "<Figure size 936x504 with 1 Axes>"
      ]
     },
     "metadata": {
      "image/png": {
       "height": 440,
       "width": 775
      },
      "needs_background": "light"
     },
     "output_type": "display_data"
    }
   ],
   "source": [
    "plt.figure(figsize=(13, 7))\n",
    "\n",
    "plt.plot(\n",
    "    mergedcumulativeconversions['date'], \n",
    "    mergedcumulativeconversions['conversionb']/mergedcumulativeconversions['conversiona']-1)\n",
    "\n",
    "\n",
    "plt.axhline(y=0, color='grey', linestyle='--')\n",
    "plt.xlabel('Дата')\n",
    "plt.grid(which='major', axis='both')\n",
    "plt.title('Относительное изменение конверсии группы B к группе A')\n",
    "plt.axis([\"2019-08-01\", '2019-08-30', -0.25, 0.25])\n",
    "plt.show();"
   ]
  },
  {
   "cell_type": "markdown",
   "id": "e8c7461e",
   "metadata": {},
   "source": [
    "**Промежуточные выводы:**\n",
    "\n",
    "- в начале теста группы были приблизительно равны, но с **2019-08-06** группа **B** вырвалась вперед."
   ]
  },
  {
   "cell_type": "markdown",
   "id": "c79626d8",
   "metadata": {},
   "source": [
    "### Анализ выбросов и всплесков"
   ]
  },
  {
   "cell_type": "markdown",
   "id": "298717d1",
   "metadata": {},
   "source": [
    "Посчитаем количество заказов по пользователям."
   ]
  },
  {
   "cell_type": "code",
   "execution_count": 23,
   "id": "95e75998",
   "metadata": {},
   "outputs": [
    {
     "data": {
      "text/html": [
       "<div>\n",
       "<style scoped>\n",
       "    .dataframe tbody tr th:only-of-type {\n",
       "        vertical-align: middle;\n",
       "    }\n",
       "\n",
       "    .dataframe tbody tr th {\n",
       "        vertical-align: top;\n",
       "    }\n",
       "\n",
       "    .dataframe thead th {\n",
       "        text-align: right;\n",
       "    }\n",
       "</style>\n",
       "<table border=\"1\" class=\"dataframe\">\n",
       "  <thead>\n",
       "    <tr style=\"text-align: right;\">\n",
       "      <th></th>\n",
       "      <th>userid</th>\n",
       "      <th>orders</th>\n",
       "    </tr>\n",
       "  </thead>\n",
       "  <tbody>\n",
       "    <tr>\n",
       "      <td>908</td>\n",
       "      <td>3967698036</td>\n",
       "      <td>3</td>\n",
       "    </tr>\n",
       "    <tr>\n",
       "      <td>55</td>\n",
       "      <td>249864742</td>\n",
       "      <td>3</td>\n",
       "    </tr>\n",
       "    <tr>\n",
       "      <td>478</td>\n",
       "      <td>2108163459</td>\n",
       "      <td>3</td>\n",
       "    </tr>\n",
       "    <tr>\n",
       "      <td>687</td>\n",
       "      <td>2988190573</td>\n",
       "      <td>3</td>\n",
       "    </tr>\n",
       "    <tr>\n",
       "      <td>890</td>\n",
       "      <td>3908431265</td>\n",
       "      <td>3</td>\n",
       "    </tr>\n",
       "    <tr>\n",
       "      <td>138</td>\n",
       "      <td>611059232</td>\n",
       "      <td>3</td>\n",
       "    </tr>\n",
       "    <tr>\n",
       "      <td>632</td>\n",
       "      <td>2742574263</td>\n",
       "      <td>3</td>\n",
       "    </tr>\n",
       "    <tr>\n",
       "      <td>157</td>\n",
       "      <td>678354126</td>\n",
       "      <td>2</td>\n",
       "    </tr>\n",
       "    <tr>\n",
       "      <td>323</td>\n",
       "      <td>1404560065</td>\n",
       "      <td>2</td>\n",
       "    </tr>\n",
       "    <tr>\n",
       "      <td>452</td>\n",
       "      <td>1985475298</td>\n",
       "      <td>2</td>\n",
       "    </tr>\n",
       "  </tbody>\n",
       "</table>\n",
       "</div>"
      ],
      "text/plain": [
       "         userid  orders\n",
       "908  3967698036       3\n",
       "55    249864742       3\n",
       "478  2108163459       3\n",
       "687  2988190573       3\n",
       "890  3908431265       3\n",
       "138   611059232       3\n",
       "632  2742574263       3\n",
       "157   678354126       2\n",
       "323  1404560065       2\n",
       "452  1985475298       2"
      ]
     },
     "metadata": {},
     "output_type": "display_data"
    }
   ],
   "source": [
    "orders_by_users = (\n",
    "    orders.groupby('visitorid', as_index=False)\n",
    "    .agg({'transactionid': pd.Series.nunique})\n",
    ") # cгруппируем по id пользователей\n",
    "\n",
    "orders_by_users.columns = ['userid', 'orders'] # переименуем столбцы\n",
    "\n",
    "display(orders_by_users.sort_values(by='orders', ascending=False).head(10)) # посмотрим первые 10 строк"
   ]
  },
  {
   "cell_type": "markdown",
   "id": "24f43357",
   "metadata": {},
   "source": [
    "Семь пользователей с тремя заказами в месяц. Построим точечную диаграмму числа заказов на одного пользователя."
   ]
  },
  {
   "cell_type": "code",
   "execution_count": 24,
   "id": "078423af",
   "metadata": {},
   "outputs": [
    {
     "data": {
      "image/png": "[encoded data removed]",
      "text/plain": [
       "<Figure size 936x504 with 1 Axes>"
      ]
     },
     "metadata": {
      "image/png": {
       "height": 440,
       "width": 782
      },
      "needs_background": "light"
     },
     "output_type": "display_data"
    }
   ],
   "source": [
    "x_values = pd.Series(range(0,len(orders_by_users)))\n",
    "\n",
    "plt.figure(figsize=(13, 7))\n",
    "plt.scatter(x_values, orders_by_users['orders'])\n",
    "\n",
    "plt.xlabel('Пользователи')\n",
    "plt.ylabel('Количество заказов')\n",
    "plt.grid(which='major', axis='both')\n",
    "plt.title('Число заказов на одного пользователя')\n",
    "plt.show();"
   ]
  },
  {
   "cell_type": "markdown",
   "id": "04c8e696",
   "metadata": {},
   "source": [
    "Далее построим точечный график стоимостей заказов."
   ]
  },
  {
   "cell_type": "code",
   "execution_count": 25,
   "id": "9309dd6b",
   "metadata": {},
   "outputs": [
    {
     "data": {
      "image/png": "[encoded data removed]",
      "text/plain": [
       "<Figure size 936x504 with 1 Axes>"
      ]
     },
     "metadata": {
      "image/png": {
       "height": 440,
       "width": 805
      },
      "needs_background": "light"
     },
     "output_type": "display_data"
    }
   ],
   "source": [
    "x_values = pd.Series(range(0,len(orders['revenue'])))\n",
    "\n",
    "plt.figure(figsize=(13, 7))\n",
    "plt.scatter(x_values, orders['revenue'])\n",
    "plt.axhline(y=50000, color='grey', linestyle='--')\n",
    "plt.xlabel('Пользователи')\n",
    "plt.ylabel('Стоимость заказов')\n",
    "plt.grid(which='major', axis='both')\n",
    "\n",
    "plt.title('Стоимость заказов пользователей')\n",
    "plt.show();"
   ]
  },
  {
   "cell_type": "markdown",
   "id": "f8a47fb8",
   "metadata": {},
   "source": [
    "**Промежуточные выводы:**\n",
    "\n",
    "- большинство пользователей с **1** заказом в месяц;\n",
    "- не так много пользователей с **2-3** заказами в месяц, далее посчитаем их точную долю;\n",
    "- по графику можно выбрать границу аномальных заказов приблизительно до **50 000**, далее посчитаем точную долю аномальных заказов;\n",
    "- фигурирует один аномальный заказ, равный приблизительно **1 300 000**."
   ]
  },
  {
   "cell_type": "markdown",
   "id": "5537426e",
   "metadata": {},
   "source": [
    "Чтобы определить 95-й и 99-й перцентили для количества заказов и стоимости заказов пользователей воспользуемся методом `percentile()`. Также я хочу посмотреть на значения 97-го и 98-го перцентилей."
   ]
  },
  {
   "cell_type": "code",
   "execution_count": 26,
   "id": "16998f7b",
   "metadata": {},
   "outputs": [
    {
     "name": "stdout",
     "output_type": "stream",
     "text": [
      "[1. 2. 2. 2.]\n"
     ]
    }
   ],
   "source": [
    "print(np.percentile(orders_by_users['orders'], [95, 97, 98, 99])) \n",
    "# посмотрим перцентили для количества заказов пользователей"
   ]
  },
  {
   "cell_type": "code",
   "execution_count": 27,
   "id": "bf771eee",
   "metadata": {},
   "outputs": [
    {
     "name": "stdout",
     "output_type": "stream",
     "text": [
      "[26785. 34792. 42353. 53904.]\n"
     ]
    }
   ],
   "source": [
    "print(np.percentile(orders['revenue'], [95, 97, 98, 99])) # посмотрим перцентили для стоимости заказов пользователей"
   ]
  },
  {
   "cell_type": "markdown",
   "id": "1b55d2fc",
   "metadata": {},
   "source": [
    "**Определение границ аномальных значений:**\n",
    "\n",
    "- для определения верхней границы пользователей мы выберем 97-ой перцентиль, или **2** заказа;\n",
    "- для определения верхней границы заказов мы также выберем 98-ой перцентиль, или значение равное **42353**."
   ]
  },
  {
   "cell_type": "markdown",
   "id": "d315fa5d",
   "metadata": {},
   "source": [
    "### Расчет статистической значимости различий в конверсии и среднем чеке между группами"
   ]
  },
  {
   "cell_type": "markdown",
   "id": "79465bfc",
   "metadata": {},
   "source": [
    "Посчитаем статистическую значимость различий в конверсии и среднем чеке между группами по «сырым» данным. Начнем с подготовки данных."
   ]
  },
  {
   "cell_type": "code",
   "execution_count": 28,
   "id": "cfb4d7af",
   "metadata": {},
   "outputs": [],
   "source": [
    "visitors_a_daily = visitors[visitors['group'] == 'A'][['date', 'visitors']]\n",
    "visitors_a_daily.columns = ['date', 'visitors_per_date_a'] # выделим из таблицы 'visitors' пользователей группы А\n",
    "\n",
    "visitors_a_cummulative = visitors_a_daily.apply(\n",
    "    lambda x: visitors_a_daily[visitors_a_daily['date'] <= x['date']].agg(\n",
    "        {'date': 'max', 'visitors_per_date_a': 'sum'}\n",
    "    ),\n",
    "    axis=1,\n",
    ")\n",
    "visitors_a_cummulative.columns = ['date', 'visitors_cummulative_a'] \n",
    "# посчитаем кумулятивное количество пользователей группы А по датам\n",
    "\n",
    "\n",
    "visitors_b_daily = visitors[visitors['group'] == 'B'][['date', 'visitors']]\n",
    "visitors_b_daily.columns = ['date', 'visitors_per_date_b'] # выделим из таблицы 'visitors' пользователей группы B\n",
    "\n",
    "visitors_b_cummulative = visitors_b_daily.apply(\n",
    "    lambda x: visitors_b_daily[visitors_b_daily['date'] <= x['date']].agg(\n",
    "        {'date': 'max', 'visitors_per_date_b': 'sum'}\n",
    "    ),\n",
    "    axis=1,\n",
    ")\n",
    "visitors_b_cummulative.columns = ['date', 'visitors_cummulative_b']\n",
    "# посчитаем кумулятивное количество пользователей группы B по датам"
   ]
  },
  {
   "cell_type": "code",
   "execution_count": 29,
   "id": "24e28cb9",
   "metadata": {},
   "outputs": [],
   "source": [
    "orders_a_daily = (\n",
    "    orders[orders['group'] == 'A'][['date', 'transactionid', 'visitorid', 'revenue']]\n",
    "    .groupby('date', as_index=False)\n",
    "    .agg({'visitorid': pd.Series.nunique, 'revenue': 'sum'})\n",
    ")\n",
    "orders_a_daily.columns = ['date', 'orders_per_date_a', 'revenue_per_date_a']\n",
    "\n",
    "orders_a_cummulative = orders_a_daily.apply(\n",
    "    lambda x: orders_a_daily[orders_a_daily['date'] <= x['date']].agg(\n",
    "        {'date': 'max', 'orders_per_date_a': 'sum', 'revenue_per_date_a': 'sum'}\n",
    "    ),\n",
    "    axis=1,\n",
    ").sort_values(by=['date'])\n",
    "orders_a_cummulative.columns = [\n",
    "    'date',\n",
    "    'orders_cummulative_a',\n",
    "    'revenue_cummulative_a',\n",
    "]\n",
    "# посчитаем кумулятивные значения заказов и выручки пользователей группы А по датам\n",
    "\n",
    "\n",
    "orders_b_daily = (\n",
    "    orders[orders['group'] == 'B'][['date', 'transactionid', 'visitorid', 'revenue']]\n",
    "    .groupby('date', as_index=False)\n",
    "    .agg({'visitorid': pd.Series.nunique, 'revenue': 'sum'})\n",
    ")\n",
    "orders_b_daily.columns = ['date', 'orders_per_date_b', 'revenue_per_date_b']\n",
    "\n",
    "orders_b_cummulative = orders_b_daily.apply(\n",
    "    lambda x: orders_b_daily[orders_b_daily['date'] <= x['date']].agg(\n",
    "        {'date': 'max', 'orders_per_date_b': 'sum', 'revenue_per_date_b': 'sum'}\n",
    "    ),\n",
    "    axis=1,\n",
    ").sort_values(by=['date'])\n",
    "orders_b_cummulative.columns = [\n",
    "    'date',\n",
    "    'orders_cummulative_b',\n",
    "    'revenue_cummulative_b',\n",
    "]\n",
    "# посчитаем кумулятивные значения заказов и выручки пользователей группы B по датам"
   ]
  },
  {
   "cell_type": "code",
   "execution_count": 30,
   "id": "b346b3db",
   "metadata": {},
   "outputs": [
    {
     "data": {
      "text/html": [
       "<div>\n",
       "<style scoped>\n",
       "    .dataframe tbody tr th:only-of-type {\n",
       "        vertical-align: middle;\n",
       "    }\n",
       "\n",
       "    .dataframe tbody tr th {\n",
       "        vertical-align: top;\n",
       "    }\n",
       "\n",
       "    .dataframe thead th {\n",
       "        text-align: right;\n",
       "    }\n",
       "</style>\n",
       "<table border=\"1\" class=\"dataframe\">\n",
       "  <thead>\n",
       "    <tr style=\"text-align: right;\">\n",
       "      <th></th>\n",
       "      <th>date</th>\n",
       "      <th>orders_per_date_a</th>\n",
       "      <th>revenue_per_date_a</th>\n",
       "      <th>orders_per_date_b</th>\n",
       "      <th>revenue_per_date_b</th>\n",
       "      <th>orders_cummulative_a</th>\n",
       "      <th>revenue_cummulative_a</th>\n",
       "      <th>orders_cummulative_b</th>\n",
       "      <th>revenue_cummulative_b</th>\n",
       "      <th>visitors_per_date_a</th>\n",
       "      <th>visitors_per_date_b</th>\n",
       "      <th>visitors_cummulative_a</th>\n",
       "      <th>visitors_cummulative_b</th>\n",
       "    </tr>\n",
       "  </thead>\n",
       "  <tbody>\n",
       "    <tr>\n",
       "      <td>0</td>\n",
       "      <td>2019-08-01</td>\n",
       "      <td>19</td>\n",
       "      <td>142779</td>\n",
       "      <td>17</td>\n",
       "      <td>59758</td>\n",
       "      <td>19</td>\n",
       "      <td>142779</td>\n",
       "      <td>17</td>\n",
       "      <td>59758</td>\n",
       "      <td>719</td>\n",
       "      <td>713</td>\n",
       "      <td>719</td>\n",
       "      <td>713</td>\n",
       "    </tr>\n",
       "    <tr>\n",
       "      <td>1</td>\n",
       "      <td>2019-08-02</td>\n",
       "      <td>18</td>\n",
       "      <td>91602</td>\n",
       "      <td>22</td>\n",
       "      <td>162043</td>\n",
       "      <td>37</td>\n",
       "      <td>234381</td>\n",
       "      <td>39</td>\n",
       "      <td>221801</td>\n",
       "      <td>619</td>\n",
       "      <td>581</td>\n",
       "      <td>1338</td>\n",
       "      <td>1294</td>\n",
       "    </tr>\n",
       "    <tr>\n",
       "      <td>2</td>\n",
       "      <td>2019-08-03</td>\n",
       "      <td>24</td>\n",
       "      <td>112473</td>\n",
       "      <td>14</td>\n",
       "      <td>67049</td>\n",
       "      <td>61</td>\n",
       "      <td>346854</td>\n",
       "      <td>53</td>\n",
       "      <td>288850</td>\n",
       "      <td>507</td>\n",
       "      <td>509</td>\n",
       "      <td>1845</td>\n",
       "      <td>1803</td>\n",
       "    </tr>\n",
       "    <tr>\n",
       "      <td>3</td>\n",
       "      <td>2019-08-04</td>\n",
       "      <td>11</td>\n",
       "      <td>41176</td>\n",
       "      <td>13</td>\n",
       "      <td>96890</td>\n",
       "      <td>72</td>\n",
       "      <td>388030</td>\n",
       "      <td>66</td>\n",
       "      <td>385740</td>\n",
       "      <td>717</td>\n",
       "      <td>770</td>\n",
       "      <td>2562</td>\n",
       "      <td>2573</td>\n",
       "    </tr>\n",
       "    <tr>\n",
       "      <td>4</td>\n",
       "      <td>2019-08-05</td>\n",
       "      <td>22</td>\n",
       "      <td>86383</td>\n",
       "      <td>21</td>\n",
       "      <td>89908</td>\n",
       "      <td>94</td>\n",
       "      <td>474413</td>\n",
       "      <td>87</td>\n",
       "      <td>475648</td>\n",
       "      <td>756</td>\n",
       "      <td>707</td>\n",
       "      <td>3318</td>\n",
       "      <td>3280</td>\n",
       "    </tr>\n",
       "    <tr>\n",
       "      <td>5</td>\n",
       "      <td>2019-08-06</td>\n",
       "      <td>12</td>\n",
       "      <td>40919</td>\n",
       "      <td>22</td>\n",
       "      <td>214842</td>\n",
       "      <td>106</td>\n",
       "      <td>515332</td>\n",
       "      <td>109</td>\n",
       "      <td>690490</td>\n",
       "      <td>667</td>\n",
       "      <td>655</td>\n",
       "      <td>3985</td>\n",
       "      <td>3935</td>\n",
       "    </tr>\n",
       "    <tr>\n",
       "      <td>6</td>\n",
       "      <td>2019-08-07</td>\n",
       "      <td>16</td>\n",
       "      <td>123248</td>\n",
       "      <td>23</td>\n",
       "      <td>219164</td>\n",
       "      <td>122</td>\n",
       "      <td>638580</td>\n",
       "      <td>132</td>\n",
       "      <td>909654</td>\n",
       "      <td>644</td>\n",
       "      <td>709</td>\n",
       "      <td>4629</td>\n",
       "      <td>4644</td>\n",
       "    </tr>\n",
       "    <tr>\n",
       "      <td>7</td>\n",
       "      <td>2019-08-08</td>\n",
       "      <td>14</td>\n",
       "      <td>88639</td>\n",
       "      <td>22</td>\n",
       "      <td>150141</td>\n",
       "      <td>136</td>\n",
       "      <td>727219</td>\n",
       "      <td>154</td>\n",
       "      <td>1059795</td>\n",
       "      <td>610</td>\n",
       "      <td>654</td>\n",
       "      <td>5239</td>\n",
       "      <td>5298</td>\n",
       "    </tr>\n",
       "    <tr>\n",
       "      <td>8</td>\n",
       "      <td>2019-08-09</td>\n",
       "      <td>11</td>\n",
       "      <td>134237</td>\n",
       "      <td>19</td>\n",
       "      <td>103166</td>\n",
       "      <td>147</td>\n",
       "      <td>861456</td>\n",
       "      <td>173</td>\n",
       "      <td>1162961</td>\n",
       "      <td>617</td>\n",
       "      <td>610</td>\n",
       "      <td>5856</td>\n",
       "      <td>5908</td>\n",
       "    </tr>\n",
       "    <tr>\n",
       "      <td>9</td>\n",
       "      <td>2019-08-10</td>\n",
       "      <td>15</td>\n",
       "      <td>152275</td>\n",
       "      <td>22</td>\n",
       "      <td>105162</td>\n",
       "      <td>162</td>\n",
       "      <td>1013731</td>\n",
       "      <td>195</td>\n",
       "      <td>1268123</td>\n",
       "      <td>406</td>\n",
       "      <td>369</td>\n",
       "      <td>6262</td>\n",
       "      <td>6277</td>\n",
       "    </tr>\n",
       "  </tbody>\n",
       "</table>\n",
       "</div>"
      ],
      "text/plain": [
       "        date  orders_per_date_a  revenue_per_date_a  orders_per_date_b  \\\n",
       "0 2019-08-01                 19              142779                 17   \n",
       "1 2019-08-02                 18               91602                 22   \n",
       "2 2019-08-03                 24              112473                 14   \n",
       "3 2019-08-04                 11               41176                 13   \n",
       "4 2019-08-05                 22               86383                 21   \n",
       "5 2019-08-06                 12               40919                 22   \n",
       "6 2019-08-07                 16              123248                 23   \n",
       "7 2019-08-08                 14               88639                 22   \n",
       "8 2019-08-09                 11              134237                 19   \n",
       "9 2019-08-10                 15              152275                 22   \n",
       "\n",
       "   revenue_per_date_b  orders_cummulative_a  revenue_cummulative_a  \\\n",
       "0               59758                    19                 142779   \n",
       "1              162043                    37                 234381   \n",
       "2               67049                    61                 346854   \n",
       "3               96890                    72                 388030   \n",
       "4               89908                    94                 474413   \n",
       "5              214842                   106                 515332   \n",
       "6              219164                   122                 638580   \n",
       "7              150141                   136                 727219   \n",
       "8              103166                   147                 861456   \n",
       "9              105162                   162                1013731   \n",
       "\n",
       "   orders_cummulative_b  revenue_cummulative_b  visitors_per_date_a  \\\n",
       "0                    17                  59758                  719   \n",
       "1                    39                 221801                  619   \n",
       "2                    53                 288850                  507   \n",
       "3                    66                 385740                  717   \n",
       "4                    87                 475648                  756   \n",
       "5                   109                 690490                  667   \n",
       "6                   132                 909654                  644   \n",
       "7                   154                1059795                  610   \n",
       "8                   173                1162961                  617   \n",
       "9                   195                1268123                  406   \n",
       "\n",
       "   visitors_per_date_b  visitors_cummulative_a  visitors_cummulative_b  \n",
       "0                  713                     719                     713  \n",
       "1                  581                    1338                    1294  \n",
       "2                  509                    1845                    1803  \n",
       "3                  770                    2562                    2573  \n",
       "4                  707                    3318                    3280  \n",
       "5                  655                    3985                    3935  \n",
       "6                  709                    4629                    4644  \n",
       "7                  654                    5239                    5298  \n",
       "8                  610                    5856                    5908  \n",
       "9                  369                    6262                    6277  "
      ]
     },
     "metadata": {},
     "output_type": "display_data"
    }
   ],
   "source": [
    "df = (\n",
    "    orders_a_daily.merge(\n",
    "        orders_b_daily, left_on='date', right_on='date', how='left'\n",
    "    )\n",
    "    .merge(orders_a_cummulative, left_on='date', right_on='date', how='left')\n",
    "    .merge(orders_b_cummulative, left_on='date', right_on='date', how='left')\n",
    "    .merge(visitors_a_daily, left_on='date', right_on='date', how='left')\n",
    "    .merge(visitors_b_daily, left_on='date', right_on='date', how='left')\n",
    "    .merge(visitors_a_cummulative, left_on='date', right_on='date', how='left')\n",
    "    .merge(visitors_b_cummulative, left_on='date', right_on='date', how='left')\n",
    ")\n",
    "# объединим предыдущие таблицы с кумулятивными данными по группам\n",
    "\n",
    "display(df.head(10)) # посмотрим"
   ]
  },
  {
   "cell_type": "markdown",
   "id": "72e50884",
   "metadata": {},
   "source": [
    "Посчитаем статистическую значимость различия в конверсии между группами."
   ]
  },
  {
   "cell_type": "code",
   "execution_count": 31,
   "id": "554af737",
   "metadata": {},
   "outputs": [],
   "source": [
    "orders_by_users_a = (\n",
    "    orders[orders['group'] == 'A']\n",
    "    .groupby('visitorid', as_index=False)\n",
    "    .agg({'transactionid': pd.Series.nunique})\n",
    ")\n",
    "orders_by_users_a.columns = ['user_id', 'orders']\n",
    "# выделим пользователей группы А, который заказывали хотя бы 1 раз\n",
    "\n",
    "orders_by_users_b = (\n",
    "    orders[orders['group'] == 'B']\n",
    "    .groupby('visitorid', as_index=False)\n",
    "    .agg({'transactionid': pd.Series.nunique})\n",
    ")\n",
    "orders_by_users_b.columns = ['user_id', 'orders']\n",
    "# выделим пользователей группы B, который заказывали хотя бы 1 раз"
   ]
  },
  {
   "cell_type": "markdown",
   "id": "68c09f27",
   "metadata": {},
   "source": [
    "Объявим переменные **sample_a** и **sample_b**, в которых пользователям из разных групп будет соответствовать количество заказов. Тем, кто ничего не заказал, будут соответствовать нули."
   ]
  },
  {
   "cell_type": "code",
   "execution_count": 32,
   "id": "e577fa23",
   "metadata": {},
   "outputs": [],
   "source": [
    "sample_a = pd.concat(\n",
    "    [\n",
    "        orders_by_users_a['orders'],\n",
    "        pd.Series(\n",
    "            0,\n",
    "            index=np.arange(\n",
    "                df['visitors_per_date_a'].sum() - len(orders_by_users_a['orders'])\n",
    "            ),\n",
    "            name='orders',\n",
    "        ),\n",
    "    ],\n",
    "    axis=0,\n",
    ")\n",
    "\n",
    "\n",
    "sample_b = pd.concat(\n",
    "    [\n",
    "        orders_by_users_b['orders'],\n",
    "        pd.Series(\n",
    "            0,\n",
    "            index=np.arange(\n",
    "                df['visitors_per_date_b'].sum() - len(orders_by_users_b['orders'])\n",
    "            ),\n",
    "            name='orders',\n",
    "        ),\n",
    "    ],\n",
    "    axis=0,\n",
    ")"
   ]
  },
  {
   "cell_type": "markdown",
   "id": "152f741d",
   "metadata": {},
   "source": [
    "**Сформулируем нулевую и альтернативную гипотезы:**\n",
    "\n",
    "H0: Конверсия группы **А** равна конверсии группы **B**.\n",
    "\n",
    "H1: Конверсия группы **А** не равна конверсии группы **B**.\n",
    "\n",
    "\n",
    "Применим тест Манна-Уитни, чтобы посчитать статистическую значимость различия конверсии по результатам теста."
   ]
  },
  {
   "cell_type": "code",
   "execution_count": 33,
   "id": "320462c4",
   "metadata": {},
   "outputs": [
    {
     "name": "stdout",
     "output_type": "stream",
     "text": [
      "0.006\n",
      "0.160\n"
     ]
    }
   ],
   "source": [
    "print(\"{0:.3f}\".format(stats.mannwhitneyu(sample_a, sample_b)[1]))\n",
    "\n",
    "print(\"{0:.3f}\".format(sample_b.mean() / sample_a.mean() - 1))"
   ]
  },
  {
   "cell_type": "markdown",
   "id": "76f2dac8",
   "metadata": {},
   "source": [
    "**Промежуточные выводы:**\n",
    "\n",
    "- p-value значительно меньше 0.05, это означает что мы отвергаем нулевую гипотезу. В конверсии между группами есть статистически значимые различия;\n",
    "- относительный прирост конверсии группы **B** к конверсии **A** равен **16%**."
   ]
  },
  {
   "cell_type": "markdown",
   "id": "4eba4c70",
   "metadata": {},
   "source": [
    "Далее найдем относительные различия в среднем чеке между группами.\n",
    "\n",
    "\n",
    "**Сформулируем нулевую и альтернативную гипотезы:**\n",
    "\n",
    "H0: Средний чек группы **А** равен среднему чеку группы **B**.\n",
    "\n",
    "H1: Средний чек группы **А** не равен среднему чеку группы **B**."
   ]
  },
  {
   "cell_type": "code",
   "execution_count": 34,
   "id": "69db6562",
   "metadata": {},
   "outputs": [
    {
     "name": "stdout",
     "output_type": "stream",
     "text": [
      "0.415\n",
      "0.287\n"
     ]
    }
   ],
   "source": [
    "print('{0:.3f}'.format(stats.mannwhitneyu(orders[orders['group']=='A']['revenue'], orders[orders['group']=='B']['revenue'])[1]))\n",
    "\n",
    "print('{0:.3f}'.format(orders[orders['group']=='B']['revenue'].mean()/orders[orders['group']=='A']['revenue'].mean()-1))"
   ]
  },
  {
   "cell_type": "markdown",
   "id": "f0dbe69f",
   "metadata": {},
   "source": [
    "**Промежуточные выводы:**\n",
    "\n",
    "- p-value значительно больше 0.05. Значит, нулевую гипотезу о том, что статистически значимых различий в среднем чеке между группами нет, не отвергаем;\n",
    "- впрочем, средний чек группы B значительно выше среднего чека группы A (на **28,7%**)."
   ]
  },
  {
   "cell_type": "markdown",
   "id": "c3d0b8ba",
   "metadata": {},
   "source": [
    "Примем за аномальных пользователей тех, кто совершил более **2** заказов или совершил заказ дороже **42 353**. Сделаем срезы пользователей с числом заказов больше **2** — **users_with_many_orders** и пользователей, совершивших заказы дороже **42 353** — **users_with_expensive_orders**. Объединим их в таблице **abnormal_users**."
   ]
  },
  {
   "cell_type": "code",
   "execution_count": 35,
   "id": "919ce23e",
   "metadata": {},
   "outputs": [
    {
     "data": {
      "text/plain": [
       "(28,)"
      ]
     },
     "execution_count": 35,
     "metadata": {},
     "output_type": "execute_result"
    }
   ],
   "source": [
    "users_with_many_orders = pd.concat(\n",
    "    [\n",
    "        orders_by_users_a[orders_by_users_a['orders'] > 2]['user_id'],\n",
    "        orders_by_users_b[orders_by_users_b['orders'] > 2]['user_id'],\n",
    "    ],\n",
    "    axis=0,\n",
    ") # выделим пользователей более чем с двумя заказами\n",
    "\n",
    "users_with_expensive_orders = orders[orders['revenue'] > 42353]['visitorid']\n",
    "# выделим пользователей с заказами больше чем 42 353\n",
    "\n",
    "abnormal_users = (\n",
    "    pd.concat([users_with_many_orders, users_with_expensive_orders], axis=0)\n",
    "    .drop_duplicates()\n",
    "    .sort_values()\n",
    ") # объединим таблицы\n",
    "\n",
    "\n",
    "abnormal_users.shape # посмотрим количество"
   ]
  },
  {
   "cell_type": "markdown",
   "id": "0840c5ac",
   "metadata": {},
   "source": [
    "**28** аномальных пользователей. Узнаем, как их действия повлияли на результаты теста. Посчитаем статистическую значимость различий в конверсии между группами теста по очищенным данным. Сначала подготовим выборки количества заказов по пользователям по группам теста."
   ]
  },
  {
   "cell_type": "code",
   "execution_count": 36,
   "id": "4b6c982d",
   "metadata": {},
   "outputs": [],
   "source": [
    "sample_a_filtered = pd.concat(\n",
    "    [\n",
    "        orders_by_users_a[\n",
    "            np.logical_not(orders_by_users_a['user_id'].isin(abnormal_users))\n",
    "        ]['orders'],\n",
    "        pd.Series(\n",
    "            0,\n",
    "            index=np.arange(\n",
    "                df['visitors_per_date_a'].sum() - len(orders_by_users_a['orders'])\n",
    "            ),\n",
    "            name='orders',\n",
    "        ),\n",
    "    ],\n",
    "    axis=0,\n",
    ")\n",
    "\n",
    "sample_b_filtered = pd.concat(\n",
    "    [\n",
    "        orders_by_users_b[\n",
    "            np.logical_not(orders_by_users_b['user_id'].isin(abnormal_users))\n",
    "        ]['orders'],\n",
    "        pd.Series(\n",
    "            0,\n",
    "            index=np.arange(\n",
    "                df['visitors_per_date_b'].sum() - len(orders_by_users_b['orders'])\n",
    "            ),\n",
    "            name='orders',\n",
    "        ),\n",
    "    ],\n",
    "    axis=0,\n",
    ")"
   ]
  },
  {
   "cell_type": "markdown",
   "id": "de566f64",
   "metadata": {},
   "source": [
    "**Сформулируем нулевую и альтернативную гипотезы:**\n",
    "\n",
    "H0: Конверсия по \"очищенным\" данным группы **А** равна конверсии по \"очищенным\" данным группы **B**.\n",
    "\n",
    "H1: Конверсия по \"очищенным\" данным группы **А** не равна конверсии по \"очищенным\" данным группы **B**.\n",
    "\n",
    "Применим статистический критерий Манна-Уитни к полученным выборкам."
   ]
  },
  {
   "cell_type": "code",
   "execution_count": 37,
   "id": "15b76e1e",
   "metadata": {},
   "outputs": [
    {
     "name": "stdout",
     "output_type": "stream",
     "text": [
      "0.002\n",
      "0.209\n"
     ]
    }
   ],
   "source": [
    "print('{0:.3f}'.format(stats.mannwhitneyu(sample_a_filtered, sample_b_filtered)[1]))\n",
    "\n",
    "print('{0:.3f}'.format(sample_b_filtered.mean()/sample_a_filtered.mean()-1)) "
   ]
  },
  {
   "cell_type": "markdown",
   "id": "2936cd0e",
   "metadata": {},
   "source": [
    "**Промежуточные выводы:**\n",
    "\n",
    "- p-value практически не изменилось, отвергаем нулевую гипотезу;\n",
    "- разница между сегментами увеличилась с **16%** до **20,9%**."
   ]
  },
  {
   "cell_type": "markdown",
   "id": "cb38b888",
   "metadata": {},
   "source": [
    "Результаты по конверсии практически не изменились. Узнаем, произошло ли что-нибудь с результатами по среднему чеку."
   ]
  },
  {
   "cell_type": "markdown",
   "id": "a28462a3",
   "metadata": {},
   "source": [
    "**Сформулируем нулевую и альтернативную гипотезы:**\n",
    "\n",
    "H0: Средний чек по \"очищенным\" данным группы **А** равен среднему чеку по \"очищенным\" данным группы **B**.\n",
    "\n",
    "H1: Средний чек по \"очищенным\" данным группы **А** не равен среднему чеку по \"очищенным\" данным группы **B**."
   ]
  },
  {
   "cell_type": "code",
   "execution_count": 38,
   "id": "71d3dfdd",
   "metadata": {},
   "outputs": [
    {
     "name": "stdout",
     "output_type": "stream",
     "text": [
      "0.429\n",
      "0.079\n"
     ]
    }
   ],
   "source": [
    "print(\n",
    "    '{0:.3f}'.format(\n",
    "        stats.mannwhitneyu(\n",
    "            orders[\n",
    "                np.logical_and(\n",
    "                    orders['group'] == 'A',\n",
    "                    np.logical_not(orders['visitorid'].isin(abnormal_users)),\n",
    "                )\n",
    "            ]['revenue'],\n",
    "            orders[\n",
    "                np.logical_and(\n",
    "                    orders['group'] == 'B',\n",
    "                    np.logical_not(orders['visitorid'].isin(abnormal_users)),\n",
    "                )\n",
    "            ]['revenue'],\n",
    "        )[1]\n",
    "    )\n",
    ")\n",
    "\n",
    "print(\n",
    "    \"{0:.3f}\".format(\n",
    "        orders[\n",
    "            np.logical_and(\n",
    "                orders['group'] == 'B',\n",
    "                np.logical_not(orders['visitorid'].isin(abnormal_users)),\n",
    "            )\n",
    "        ]['revenue'].mean()\n",
    "        / orders[\n",
    "            np.logical_and(\n",
    "                orders['group'] == 'A',\n",
    "                np.logical_not(orders['visitorid'].isin(abnormal_users)),\n",
    "            )\n",
    "        ]['revenue'].mean()\n",
    "        - 1\n",
    "    )\n",
    ")"
   ]
  },
  {
   "cell_type": "markdown",
   "id": "c54d87d6",
   "metadata": {},
   "source": [
    "**Промежуточные выводы:**\n",
    "\n",
    "- p-value практически не изменилось, не можем отвергнуть нулевую гипотезу;\n",
    "- разница между сегментами сократилась с **28,7%** до **7,9%**."
   ]
  },
  {
   "cell_type": "markdown",
   "id": "25175e5b",
   "metadata": {},
   "source": [
    "## Принятие решений по результатам теста"
   ]
  },
  {
   "cell_type": "markdown",
   "id": "d8ba4f74",
   "metadata": {},
   "source": [
    "- Есть статистически значимое различие по конверсии между группами как по сырым данным, так и после фильтрации аномалий.\n",
    "- По среднему чеку нет статистически значимого различия как по сырым данным, так и после фильтрации аномалий.\n",
    "- График различия конверсии между группами показал, что результаты группы **B** лучше группы **A**: имеют тенденцию к росту, либо зафиксировались около среднего значения.\n",
    "- График различия среднего чека сообщает, что результат группы **В** лучше группы **А**, при этом он колеблется, что позволило нам найти аномалии.\n",
    "\n",
    "**Необходимо остановить тест, зафиксировать победу группы В.**\n",
    "\n",
    "Группа **В** статистически значимо лучше группы **А** по одной метрике и график конверсии говорит о фиксации результата."
   ]
  }
 ],
 "metadata": {
  "ExecuteTimeLog": [
   {
    "duration": 1180,
    "start_time": "2022-02-18T05:31:50.581Z"
   },
   {
    "duration": 26,
    "start_time": "2022-02-18T05:31:51.763Z"
   },
   {
    "duration": 7,
    "start_time": "2022-02-18T05:31:51.792Z"
   },
   {
    "duration": 15,
    "start_time": "2022-02-18T05:31:51.802Z"
   },
   {
    "duration": 11,
    "start_time": "2022-02-18T05:31:51.819Z"
   },
   {
    "duration": 54,
    "start_time": "2022-02-18T05:31:51.832Z"
   },
   {
    "duration": 25,
    "start_time": "2022-02-18T05:31:51.888Z"
   },
   {
    "duration": 27,
    "start_time": "2022-02-18T05:31:51.916Z"
   },
   {
    "duration": 377,
    "start_time": "2022-02-18T05:31:51.945Z"
   },
   {
    "duration": 7,
    "start_time": "2022-02-18T05:31:52.324Z"
   },
   {
    "duration": 712,
    "start_time": "2022-02-18T05:31:52.333Z"
   },
   {
    "duration": 650,
    "start_time": "2022-02-18T05:31:53.046Z"
   },
   {
    "duration": 6,
    "start_time": "2022-02-18T05:31:53.698Z"
   },
   {
    "duration": 726,
    "start_time": "2022-02-18T05:31:53.706Z"
   },
   {
    "duration": 6,
    "start_time": "2022-02-18T05:31:54.434Z"
   },
   {
    "duration": 667,
    "start_time": "2022-02-18T05:31:54.442Z"
   },
   {
    "duration": 9,
    "start_time": "2022-02-18T05:31:55.111Z"
   },
   {
    "duration": 704,
    "start_time": "2022-02-18T05:31:55.122Z"
   },
   {
    "duration": 174,
    "start_time": "2022-02-18T05:31:55.828Z"
   },
   {
    "duration": 721,
    "start_time": "2022-02-18T05:31:56.003Z"
   },
   {
    "duration": 769,
    "start_time": "2022-02-18T05:31:56.726Z"
   },
   {
    "duration": 4,
    "start_time": "2022-02-18T05:31:57.497Z"
   },
   {
    "duration": 6,
    "start_time": "2022-02-18T05:31:57.505Z"
   },
   {
    "duration": 144,
    "start_time": "2022-02-18T05:31:57.513Z"
   },
   {
    "duration": 169,
    "start_time": "2022-02-18T05:31:57.668Z"
   },
   {
    "duration": 46,
    "start_time": "2022-02-18T05:31:57.839Z"
   },
   {
    "duration": 165,
    "start_time": "2022-02-18T05:31:57.886Z"
   },
   {
    "duration": 20,
    "start_time": "2022-02-18T05:31:58.053Z"
   },
   {
    "duration": 9,
    "start_time": "2022-02-18T05:31:58.075Z"
   },
   {
    "duration": 12,
    "start_time": "2022-02-18T05:31:58.086Z"
   },
   {
    "duration": 16,
    "start_time": "2022-02-18T05:31:58.100Z"
   },
   {
    "duration": 12,
    "start_time": "2022-02-18T05:31:58.118Z"
   },
   {
    "duration": 40,
    "start_time": "2022-02-18T05:31:58.132Z"
   },
   {
    "duration": 15,
    "start_time": "2022-02-18T05:31:58.175Z"
   },
   {
    "duration": 1533,
    "start_time": "2022-02-19T04:03:06.400Z"
   },
   {
    "duration": 35,
    "start_time": "2022-02-19T04:03:07.936Z"
   },
   {
    "duration": 8,
    "start_time": "2022-02-19T04:03:07.975Z"
   },
   {
    "duration": 20,
    "start_time": "2022-02-19T04:03:07.986Z"
   },
   {
    "duration": 17,
    "start_time": "2022-02-19T04:03:08.027Z"
   },
   {
    "duration": 44,
    "start_time": "2022-02-19T04:03:08.047Z"
   },
   {
    "duration": 33,
    "start_time": "2022-02-19T04:03:08.093Z"
   },
   {
    "duration": 30,
    "start_time": "2022-02-19T04:03:08.131Z"
   },
   {
    "duration": 10,
    "start_time": "2022-02-19T04:03:08.164Z"
   },
   {
    "duration": 7,
    "start_time": "2022-02-19T04:03:08.177Z"
   },
   {
    "duration": 47,
    "start_time": "2022-02-19T04:03:08.186Z"
   },
   {
    "duration": 13,
    "start_time": "2022-02-19T04:03:08.236Z"
   },
   {
    "duration": 19,
    "start_time": "2022-02-19T04:03:08.252Z"
   },
   {
    "duration": 622,
    "start_time": "2022-02-19T04:03:08.274Z"
   },
   {
    "duration": 10,
    "start_time": "2022-02-19T04:03:08.898Z"
   },
   {
    "duration": 1033,
    "start_time": "2022-02-19T04:03:08.927Z"
   },
   {
    "duration": 1100,
    "start_time": "2022-02-19T04:03:09.963Z"
   },
   {
    "duration": 10,
    "start_time": "2022-02-19T04:03:11.066Z"
   },
   {
    "duration": 1094,
    "start_time": "2022-02-19T04:03:11.078Z"
   },
   {
    "duration": 10,
    "start_time": "2022-02-19T04:03:12.174Z"
   },
   {
    "duration": 975,
    "start_time": "2022-02-19T04:03:12.187Z"
   },
   {
    "duration": 12,
    "start_time": "2022-02-19T04:03:13.165Z"
   },
   {
    "duration": 1068,
    "start_time": "2022-02-19T04:03:13.183Z"
   },
   {
    "duration": 202,
    "start_time": "2022-02-19T04:03:14.254Z"
   },
   {
    "duration": 1039,
    "start_time": "2022-02-19T04:03:14.459Z"
   },
   {
    "duration": 1082,
    "start_time": "2022-02-19T04:03:15.501Z"
   },
   {
    "duration": 5,
    "start_time": "2022-02-19T04:03:16.586Z"
   },
   {
    "duration": 11,
    "start_time": "2022-02-19T04:03:16.594Z"
   },
   {
    "duration": 216,
    "start_time": "2022-02-19T04:03:16.627Z"
   },
   {
    "duration": 241,
    "start_time": "2022-02-19T04:03:16.845Z"
   },
   {
    "duration": 65,
    "start_time": "2022-02-19T04:03:17.088Z"
   },
   {
    "duration": 223,
    "start_time": "2022-02-19T04:03:17.155Z"
   },
   {
    "duration": 9,
    "start_time": "2022-02-19T04:03:17.380Z"
   },
   {
    "duration": 12,
    "start_time": "2022-02-19T04:03:17.391Z"
   },
   {
    "duration": 33,
    "start_time": "2022-02-19T04:03:17.405Z"
   },
   {
    "duration": 14,
    "start_time": "2022-02-19T04:03:17.440Z"
   },
   {
    "duration": 13,
    "start_time": "2022-02-19T04:03:17.457Z"
   },
   {
    "duration": 9,
    "start_time": "2022-02-19T04:03:17.473Z"
   },
   {
    "duration": 21,
    "start_time": "2022-02-19T04:03:17.526Z"
   }
  ],
  "kernelspec": {
   "display_name": "Python 3",
   "language": "python",
   "name": "python3"
  },
  "language_info": {
   "codemirror_mode": {
    "name": "ipython",
    "version": 3
   },
   "file_extension": ".py",
   "mimetype": "text/x-python",
   "name": "python",
   "nbconvert_exporter": "python",
   "pygments_lexer": "ipython3",
   "version": "3.7.10"
  },
  "toc": {
   "base_numbering": 1,
   "nav_menu": {},
   "number_sections": true,
   "sideBar": true,
   "skip_h1_title": true,
   "title_cell": "Содержание",
   "title_sidebar": "Contents",
   "toc_cell": true,
   "toc_position": {
    "height": "calc(100% - 180px)",
    "left": "10px",
    "top": "150px",
    "width": "307.2px"
   },
   "toc_section_display": true,
   "toc_window_display": true
  }
 },
 "nbformat": 4,
 "nbformat_minor": 5
}
